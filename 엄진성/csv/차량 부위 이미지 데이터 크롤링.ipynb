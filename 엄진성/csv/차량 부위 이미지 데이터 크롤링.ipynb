{
 "cells": [
  {
   "cell_type": "code",
   "execution_count": 4,
   "id": "81ed4937",
   "metadata": {},
   "outputs": [],
   "source": [
    "from selenium import webdriver\n",
    "from selenium.webdriver.common.by import By\n",
    "from selenium.webdriver.common.keys import Keys\n",
    "from webdriver_manager.chrome import ChromeDriverManager    # 매 번 크롬 드라이버를 설치할 필요없이 자동으로\n",
    "from selenium.webdriver.chrome.service import Service\n",
    "from selenium.webdriver.support.ui import WebDriverWait\n",
    "from selenium.webdriver.support import expected_conditions as EC\n",
    "from selenium.webdriver.common.alert import Alert\n",
    "\n",
    "import requests\n",
    "import urllib.request as req\n",
    "\n",
    "import time"
   ]
  },
  {
   "cell_type": "markdown",
   "id": "130925cc",
   "metadata": {},
   "source": [
    "# 셀레니움을 이용한 이미지 크롤링"
   ]
  },
  {
   "cell_type": "markdown",
   "id": "d087ccde",
   "metadata": {},
   "source": [
    "## 이 부분에서는 검색 키워드만 바꿔주시면 됩니다."
   ]
  },
  {
   "cell_type": "code",
   "execution_count": 77,
   "id": "331bc0fb",
   "metadata": {},
   "outputs": [],
   "source": [
    "driver = webdriver.Chrome(\"chromedriver\") \n",
    "driver.get(\"https://www.google.com\") \n",
    "\n",
    "element = driver.find_element(By.CLASS_NAME, \"gLFyf\")\n",
    "element.send_keys(\"자동차 뒤휀다\")                     # 검색할 키워드 여기에 넣으시면 됩니다.\n",
    "\n",
    "element.send_keys(Keys.ENTER) \n",
    "\n",
    "driver.find_element(By.CLASS_NAME, \"zItAnd \").click()  # 이미지 클릭"
   ]
  },
  {
   "cell_type": "code",
   "execution_count": 78,
   "id": "d0e59cab",
   "metadata": {},
   "outputs": [],
   "source": [
    "# 스크롤 다 내렸을 때의 위치\n",
    "bottom = driver.execute_script(\"return document.body.scrollHeight\")\n",
    "\n",
    "while True:\n",
    "    # 맨 아래로 스크롤 \n",
    "    driver.execute_script(\"window.scrollTo(0, document.body.scrollHeight);\")\n",
    "\n",
    "    # 화면을 맨 밑으로 내렸을 때, 이미지가 다 로드 될 수 있게 기다려주기\n",
    "    time.sleep(3)       \n",
    "    \n",
    "    # 맨 위가 되었다면, 다시 스크롤을 맨 밑으로 내려주는 과정을 반복해주어야 함.\n",
    "    new_bottom = driver.execute_script(\"return document.body.scrollHeight\")\n",
    "    if new_bottom == bottom:    # 더 이상 내릴 부분이 없으면\n",
    "        try:\n",
    "            driver.find_element_by_css_selector(\".mye4qd\").click()  # 검색어 더 찾아보기 1번 클릭\n",
    "        \n",
    "        except:\n",
    "            break      \n",
    "            \n",
    "    bottom = new_bottom   # 스크롤을 맨 밑으로 내렸을 때, 로딩이 끝나면 그 부분이 다시 가장 맨 위가 됨."
   ]
  },
  {
   "cell_type": "markdown",
   "id": "db00e96f",
   "metadata": {},
   "source": [
    "# 이 부분에서는 폴더 경로 부분만 건드려주시면 될 것 같습니다."
   ]
  },
  {
   "cell_type": "code",
   "execution_count": 79,
   "id": "1cc79ab8",
   "metadata": {
    "scrolled": false
   },
   "outputs": [],
   "source": [
    "# 이미지의 클래스가 rg_i로 모두 동일함.\n",
    "images = driver.find_elements(By.CLASS_NAME, \"rg_i\")\n",
    "\n",
    "print(len(images))\n",
    "\n",
    "count = 1\n",
    "for i in range(len(images)):\n",
    "    src = images[i].get_attribute('src')\n",
    "    if src is not None:\n",
    "        req.urlretrieve(src, \"C:/js_acorn/Database/pythonwork/AI/rear fender/rear_fender_{}.jpeg\".format(count)) # 경로, 이미지 파일명\n",
    "        # ex) 경로는 본인에게 맞게 조정, AI/____/____ 이 부분은 본인의 검색 키워드에 맞게 설정해줄 것.\n",
    "        count += 1\n",
    "    else:\n",
    "        # 이미지 URL이 없는 경우가 존재 -> 이럴 땐 무시하고, 다음 사진으로 넘어가는 코드\n",
    "        continue    "
   ]
  },
  {
   "cell_type": "markdown",
   "id": "4b64c6f1",
   "metadata": {},
   "source": [
    "# 이렇게 했음에도 500장이 모이지 않았다면 나머지는 추가 검색"
   ]
  },
  {
   "cell_type": "markdown",
   "id": "e07de506",
   "metadata": {},
   "source": [
    "## 마찬가지로 여기도 검색할 키워드만 바꿔주세요"
   ]
  },
  {
   "cell_type": "code",
   "execution_count": 9,
   "id": "4d7938e1",
   "metadata": {},
   "outputs": [],
   "source": [
    "driver = webdriver.Chrome(\"chromedriver\") \n",
    "driver.get(\"https://www.naver.com\")                    # 이번에는 네이버에서\n",
    "\n",
    "element = driver.find_element(By.ID, \"query\")\n",
    "element.send_keys(\"사이드미러 긁힘\")                     # 검색할 키워드 여기에 넣으시면 됩니다.\n",
    "\n",
    "element.send_keys(Keys.ENTER) \n",
    "\n",
    "driver.find_element(By.XPATH, \"/html/body/div[3]/div[1]/div/div[2]/div[1]/div/ul/li[2]/a\").click()  # 이미지 클릭"
   ]
  },
  {
   "cell_type": "code",
   "execution_count": 10,
   "id": "152c41ba",
   "metadata": {},
   "outputs": [],
   "source": [
    "bottom = driver.execute_script(\"return document.body.scrollHeight\")\n",
    "\n",
    "while True:\n",
    "    # 맨 아래로 스크롤 \n",
    "    driver.execute_script(\"window.scrollTo(0, document.body.scrollHeight);\")\n",
    "\n",
    "    # 화면을 맨 밑으로 내렸을 때, 이미지가 다 로드 될 수 있게 기다려주기\n",
    "    time.sleep(3)       \n",
    "    \n",
    "    # 맨 위가 되었다면, 다시 스크롤을 맨 밑으로 내려주는 과정을 반복해주어야 함.\n",
    "    new_bottom = driver.execute_script(\"return document.body.scrollHeight\")\n",
    "    if new_bottom == bottom:    # 더 이상 내릴 부분이 없으면\n",
    "        break      \n",
    "            \n",
    "    bottom = new_bottom   # 스크롤을 맨 밑으로 내렸을 때, 로딩이 끝나면 그 부분이 다시 가장 맨 위가 됨."
   ]
  },
  {
   "cell_type": "markdown",
   "id": "6453ef68",
   "metadata": {},
   "source": [
    "## 여기서도 마찬가지로 폴더 경로만"
   ]
  },
  {
   "cell_type": "code",
   "execution_count": 11,
   "id": "aa8a8842",
   "metadata": {
    "scrolled": false
   },
   "outputs": [
    {
     "name": "stdout",
     "output_type": "stream",
     "text": [
      "493\n"
     ]
    }
   ],
   "source": [
    "# 네이버는 이미지의 클래스가 _image로 모두 동일함.\n",
    "images = driver.find_elements(By.CLASS_NAME, \"_image\")\n",
    "\n",
    "print(len(images))\n",
    "\n",
    "count = 1\n",
    "for i in range(len(images)):\n",
    "    src = images[i].get_attribute('src')\n",
    "    if src is not None:\n",
    "        req.urlretrieve(src, \"C:/js_acorn/Database/pythonwork/AI/side mirror/side_mirror_s{}.jpeg\".format(count)) # 경로, 이미지 파일명\n",
    "        # ex) 경로는 본인에게 맞게 조정, AI/____/____ 이 부분은 본인의 검색 키워드에 맞게 설정해줄 것.\n",
    "        count += 1\n",
    "    else:\n",
    "        # 이미지 URL이 없는 경우가 존재 -> 이럴 땐 무시하고, 다음 사진으로 넘어가는 코드\n",
    "        continue    "
   ]
  },
  {
   "cell_type": "markdown",
   "id": "a9b14ef9",
   "metadata": {},
   "source": [
    "## 500장 이상의 파일이 수집 되었다면, 사진 검수 후 파일들의 이름 format 맞춰주기\n",
    "\n",
    "- 수집이 끝났으나, 이미지를 확인해 본 결과 불순한 이미지가 섞여 있음\n",
    "- 불순한 이미지를 삭제해주면 ex) 1,2,3,4,5,7,9,10,11 와 같이 연속성이 사라지기 때문에, 다시한번 이름을 맞춰준다."
   ]
  },
  {
   "cell_type": "code",
   "execution_count": 13,
   "id": "43ab9097",
   "metadata": {},
   "outputs": [],
   "source": [
    "import os\n",
    "\n",
    "folder_path = \"C:/js_acorn/Database/pythonwork/AI/side mirror/\"  # 대상 폴더 경로\n",
    "common_file_name  = \"sidemirror_\"    # 변경된 파일명의 공통 부분  -> rearfender_1 , rearfender_2 에서 rearfender 공통\n",
    "\n",
    "file_list = os.listdir(folder_path)  # 폴더 내의 모든 파일 목록을 가져옴\n",
    "file_list.sort()                     # 파일 목록을 오름차순으로 정렬\n",
    "\n",
    "for i, filename in enumerate(file_list, start=1):\n",
    "    new_filename = \"{}_{}.jpeg\".format(common_file_name,i)     # 새로운 파일명의 형태\n",
    "    old_filepath = os.path.join(folder_path, filename)         # 원래 이름\n",
    "    new_filepath = os.path.join(folder_path, new_filename)     # 바꿀 이름\n",
    "\n",
    "    os.rename(old_filepath, new_filepath)  # 파일 이름 변경"
   ]
  },
  {
   "cell_type": "code",
   "execution_count": null,
   "id": "cb0152a5",
   "metadata": {},
   "outputs": [],
   "source": []
  }
 ],
 "metadata": {
  "kernelspec": {
   "display_name": "Python 3 (ipykernel)",
   "language": "python",
   "name": "python3"
  },
  "language_info": {
   "codemirror_mode": {
    "name": "ipython",
    "version": 3
   },
   "file_extension": ".py",
   "mimetype": "text/x-python",
   "name": "python",
   "nbconvert_exporter": "python",
   "pygments_lexer": "ipython3",
   "version": "3.8.16"
  }
 },
 "nbformat": 4,
 "nbformat_minor": 5
}
