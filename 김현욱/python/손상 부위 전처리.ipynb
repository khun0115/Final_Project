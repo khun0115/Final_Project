{
 "cells": [
  {
   "cell_type": "code",
   "execution_count": 1,
   "id": "f73ca9b8",
   "metadata": {},
   "outputs": [],
   "source": [
    "import numpy as np\n",
    "import pandas as pd\n",
    "import matplotlib.pyplot as plt\n",
    "import seaborn as sns\n",
    "import matplotlib.font_manager as fm\n",
    "font_name = fm.FontProperties(fname=\"C:\\Windows\\Fonts\\\\malgun.ttf\").get_name()\n",
    "plt.rc(\"font\", family=font_name)\n",
    "import matplotlib as mlp\n",
    "mlp.rcParams[\"axes.unicode_minus\"] = False\n",
    "\n",
    "from datetime import datetime\n",
    "import cv2\n",
    "import zipfile\n",
    "import shutil\n",
    "import os\n",
    "import glob\n",
    "import json\n",
    "from tqdm.notebook import tqdm"
   ]
  },
  {
   "cell_type": "markdown",
   "id": "5423bf1a",
   "metadata": {},
   "source": [
    "# 💥손상 부위 전처리💥"
   ]
  },
  {
   "cell_type": "markdown",
   "id": "42314c23",
   "metadata": {},
   "source": [
    "## 1. 사고 유형 정보 전처리"
   ]
  },
  {
   "cell_type": "markdown",
   "id": "46cf6519",
   "metadata": {},
   "source": [
    "### 1) 사고 유형 json 가져오기"
   ]
  },
  {
   "cell_type": "code",
   "execution_count": 2,
   "id": "9a26c589",
   "metadata": {},
   "outputs": [],
   "source": [
    "car_repair1 = pd.read_csv(\"C:\\\\Users\\\\owner\\\\PythonWork\\\\Final_project\\\\car_repair1.csv\")\n",
    "car_repair2 = pd.read_csv(\"C:\\\\Users\\\\owner\\\\PythonWork\\\\Final_project\\\\car_repair2.csv\")\n",
    "car_repair3 = pd.read_csv(\"C:\\\\Users\\\\owner\\\\PythonWork\\\\Final_project\\\\car_repair3.csv\")"
   ]
  },
  {
   "cell_type": "code",
   "execution_count": 3,
   "id": "f8ab1ffc",
   "metadata": {
    "scrolled": true
   },
   "outputs": [
    {
     "name": "stdout",
     "output_type": "stream",
     "text": [
      "600000\n",
      "637503\n",
      "562713\n"
     ]
    }
   ],
   "source": [
    "print(len(car_repair1))\n",
    "print(len(car_repair2))\n",
    "print(len(car_repair3))"
   ]
  },
  {
   "cell_type": "code",
   "execution_count": 4,
   "id": "7cbcb9fc",
   "metadata": {},
   "outputs": [
    {
     "data": {
      "text/html": [
       "<div>\n",
       "<style scoped>\n",
       "    .dataframe tbody tr th:only-of-type {\n",
       "        vertical-align: middle;\n",
       "    }\n",
       "\n",
       "    .dataframe tbody tr th {\n",
       "        vertical-align: top;\n",
       "    }\n",
       "\n",
       "    .dataframe thead th {\n",
       "        text-align: right;\n",
       "    }\n",
       "</style>\n",
       "<table border=\"1\" class=\"dataframe\">\n",
       "  <thead>\n",
       "    <tr style=\"text-align: right;\">\n",
       "      <th></th>\n",
       "      <th>image_id</th>\n",
       "      <th>category_id</th>\n",
       "      <th>segmentation</th>\n",
       "      <th>area</th>\n",
       "      <th>bbox</th>\n",
       "      <th>damage</th>\n",
       "      <th>year</th>\n",
       "      <th>color</th>\n",
       "      <th>repair</th>\n",
       "      <th>supercategory_name</th>\n",
       "    </tr>\n",
       "  </thead>\n",
       "  <tbody>\n",
       "    <tr>\n",
       "      <th>0</th>\n",
       "      <td>2</td>\n",
       "      <td>as-0036229</td>\n",
       "      <td>[[[[438, 504], [440, 443], [436, 419], [439, 4...</td>\n",
       "      <td>14977.0</td>\n",
       "      <td>[336, 159, 198, 345]</td>\n",
       "      <td>Breakage</td>\n",
       "      <td>2020</td>\n",
       "      <td>Black</td>\n",
       "      <td>['Rear bumper:coating,exchange']</td>\n",
       "      <td>Full-size car</td>\n",
       "    </tr>\n",
       "    <tr>\n",
       "      <th>1</th>\n",
       "      <td>3</td>\n",
       "      <td>as-0036229</td>\n",
       "      <td>[[[[469, 497], [448, 479], [458, 437], [461, 4...</td>\n",
       "      <td>7186.5</td>\n",
       "      <td>[378, 209, 154, 288]</td>\n",
       "      <td>Breakage</td>\n",
       "      <td>2020</td>\n",
       "      <td>Black</td>\n",
       "      <td>['Rear bumper:coating,exchange']</td>\n",
       "      <td>Full-size car</td>\n",
       "    </tr>\n",
       "    <tr>\n",
       "      <th>2</th>\n",
       "      <td>4</td>\n",
       "      <td>as-0036229</td>\n",
       "      <td>[[[[73, 596], [69, 588], [67, 582], [65, 575],...</td>\n",
       "      <td>749.5</td>\n",
       "      <td>[53, 543, 31, 53]</td>\n",
       "      <td>Breakage</td>\n",
       "      <td>2020</td>\n",
       "      <td>Black</td>\n",
       "      <td>['Rear bumper:coating,exchange']</td>\n",
       "      <td>Full-size car</td>\n",
       "    </tr>\n",
       "    <tr>\n",
       "      <th>3</th>\n",
       "      <td>4</td>\n",
       "      <td>as-0036229</td>\n",
       "      <td>[[[[107, 371], [108, 362], [445, 361], [795, 3...</td>\n",
       "      <td>13872.5</td>\n",
       "      <td>[107, 356, 688, 29]</td>\n",
       "      <td>Scratched</td>\n",
       "      <td>2020</td>\n",
       "      <td>Black</td>\n",
       "      <td>['Rear bumper:coating,exchange']</td>\n",
       "      <td>Full-size car</td>\n",
       "    </tr>\n",
       "    <tr>\n",
       "      <th>4</th>\n",
       "      <td>5</td>\n",
       "      <td>as-0036229</td>\n",
       "      <td>[[[[77, 390], [87, 375], [452, 351], [560, 356...</td>\n",
       "      <td>22816.0</td>\n",
       "      <td>[77, 351, 690, 52]</td>\n",
       "      <td>Scratched</td>\n",
       "      <td>2020</td>\n",
       "      <td>Black</td>\n",
       "      <td>['Rear bumper:coating,exchange']</td>\n",
       "      <td>Full-size car</td>\n",
       "    </tr>\n",
       "  </tbody>\n",
       "</table>\n",
       "</div>"
      ],
      "text/plain": [
       "   image_id category_id                                       segmentation  \\\n",
       "0         2  as-0036229  [[[[438, 504], [440, 443], [436, 419], [439, 4...   \n",
       "1         3  as-0036229  [[[[469, 497], [448, 479], [458, 437], [461, 4...   \n",
       "2         4  as-0036229  [[[[73, 596], [69, 588], [67, 582], [65, 575],...   \n",
       "3         4  as-0036229  [[[[107, 371], [108, 362], [445, 361], [795, 3...   \n",
       "4         5  as-0036229  [[[[77, 390], [87, 375], [452, 351], [560, 356...   \n",
       "\n",
       "      area                  bbox     damage  year  color  \\\n",
       "0  14977.0  [336, 159, 198, 345]   Breakage  2020  Black   \n",
       "1   7186.5  [378, 209, 154, 288]   Breakage  2020  Black   \n",
       "2    749.5     [53, 543, 31, 53]   Breakage  2020  Black   \n",
       "3  13872.5   [107, 356, 688, 29]  Scratched  2020  Black   \n",
       "4  22816.0    [77, 351, 690, 52]  Scratched  2020  Black   \n",
       "\n",
       "                             repair supercategory_name  \n",
       "0  ['Rear bumper:coating,exchange']      Full-size car  \n",
       "1  ['Rear bumper:coating,exchange']      Full-size car  \n",
       "2  ['Rear bumper:coating,exchange']      Full-size car  \n",
       "3  ['Rear bumper:coating,exchange']      Full-size car  \n",
       "4  ['Rear bumper:coating,exchange']      Full-size car  "
      ]
     },
     "execution_count": 4,
     "metadata": {},
     "output_type": "execute_result"
    }
   ],
   "source": [
    "all_data = pd.concat([car_repair1, car_repair2, car_repair3], ignore_index=True)\n",
    "all_data.sort_values(\"category_id\")\n",
    "all_data.head()"
   ]
  },
  {
   "cell_type": "code",
   "execution_count": 5,
   "id": "f5da11ec",
   "metadata": {},
   "outputs": [
    {
     "data": {
      "text/plain": [
       "1800216"
      ]
     },
     "execution_count": 5,
     "metadata": {},
     "output_type": "execute_result"
    }
   ],
   "source": [
    "len(all_data)"
   ]
  },
  {
   "cell_type": "markdown",
   "id": "df11117c",
   "metadata": {},
   "source": [
    "### 2) 외제차 제외하기"
   ]
  },
  {
   "cell_type": "code",
   "execution_count": 6,
   "id": "d32863c9",
   "metadata": {},
   "outputs": [],
   "source": [
    "kor_index = pd.read_csv(\"C:\\\\Users\\\\owner\\\\PythonWork\\\\Final_project\\\\kor_car.csv\")\n",
    "kor_index.rename(columns = {\"file_name\" : 'category_id'}, inplace = True)"
   ]
  },
  {
   "cell_type": "code",
   "execution_count": 7,
   "id": "d1c9fd8b",
   "metadata": {},
   "outputs": [],
   "source": [
    "merge_car = pd.merge(all_data, kor_index, how='inner',on='category_id')"
   ]
  },
  {
   "cell_type": "code",
   "execution_count": 8,
   "id": "fafae8c8",
   "metadata": {},
   "outputs": [
    {
     "data": {
      "text/plain": [
       "1393019"
      ]
     },
     "execution_count": 8,
     "metadata": {},
     "output_type": "execute_result"
    }
   ],
   "source": [
    "len(merge_car)"
   ]
  },
  {
   "cell_type": "code",
   "execution_count": 9,
   "id": "9f67f1e8",
   "metadata": {},
   "outputs": [
    {
     "data": {
      "text/html": [
       "<div>\n",
       "<style scoped>\n",
       "    .dataframe tbody tr th:only-of-type {\n",
       "        vertical-align: middle;\n",
       "    }\n",
       "\n",
       "    .dataframe tbody tr th {\n",
       "        vertical-align: top;\n",
       "    }\n",
       "\n",
       "    .dataframe thead th {\n",
       "        text-align: right;\n",
       "    }\n",
       "</style>\n",
       "<table border=\"1\" class=\"dataframe\">\n",
       "  <thead>\n",
       "    <tr style=\"text-align: right;\">\n",
       "      <th></th>\n",
       "      <th>image_id</th>\n",
       "      <th>category_id</th>\n",
       "      <th>segmentation</th>\n",
       "      <th>area</th>\n",
       "      <th>bbox</th>\n",
       "      <th>damage</th>\n",
       "      <th>year</th>\n",
       "      <th>color</th>\n",
       "      <th>repair</th>\n",
       "      <th>supercategory_name</th>\n",
       "    </tr>\n",
       "  </thead>\n",
       "  <tbody>\n",
       "    <tr>\n",
       "      <th>0</th>\n",
       "      <td>2</td>\n",
       "      <td>as-0036229</td>\n",
       "      <td>[[[[438, 504], [440, 443], [436, 419], [439, 4...</td>\n",
       "      <td>14977.0</td>\n",
       "      <td>[336, 159, 198, 345]</td>\n",
       "      <td>Breakage</td>\n",
       "      <td>2020</td>\n",
       "      <td>Black</td>\n",
       "      <td>['Rear bumper:coating,exchange']</td>\n",
       "      <td>Full-size car</td>\n",
       "    </tr>\n",
       "    <tr>\n",
       "      <th>1</th>\n",
       "      <td>3</td>\n",
       "      <td>as-0036229</td>\n",
       "      <td>[[[[469, 497], [448, 479], [458, 437], [461, 4...</td>\n",
       "      <td>7186.5</td>\n",
       "      <td>[378, 209, 154, 288]</td>\n",
       "      <td>Breakage</td>\n",
       "      <td>2020</td>\n",
       "      <td>Black</td>\n",
       "      <td>['Rear bumper:coating,exchange']</td>\n",
       "      <td>Full-size car</td>\n",
       "    </tr>\n",
       "    <tr>\n",
       "      <th>2</th>\n",
       "      <td>4</td>\n",
       "      <td>as-0036229</td>\n",
       "      <td>[[[[73, 596], [69, 588], [67, 582], [65, 575],...</td>\n",
       "      <td>749.5</td>\n",
       "      <td>[53, 543, 31, 53]</td>\n",
       "      <td>Breakage</td>\n",
       "      <td>2020</td>\n",
       "      <td>Black</td>\n",
       "      <td>['Rear bumper:coating,exchange']</td>\n",
       "      <td>Full-size car</td>\n",
       "    </tr>\n",
       "    <tr>\n",
       "      <th>3</th>\n",
       "      <td>4</td>\n",
       "      <td>as-0036229</td>\n",
       "      <td>[[[[107, 371], [108, 362], [445, 361], [795, 3...</td>\n",
       "      <td>13872.5</td>\n",
       "      <td>[107, 356, 688, 29]</td>\n",
       "      <td>Scratched</td>\n",
       "      <td>2020</td>\n",
       "      <td>Black</td>\n",
       "      <td>['Rear bumper:coating,exchange']</td>\n",
       "      <td>Full-size car</td>\n",
       "    </tr>\n",
       "    <tr>\n",
       "      <th>4</th>\n",
       "      <td>5</td>\n",
       "      <td>as-0036229</td>\n",
       "      <td>[[[[77, 390], [87, 375], [452, 351], [560, 356...</td>\n",
       "      <td>22816.0</td>\n",
       "      <td>[77, 351, 690, 52]</td>\n",
       "      <td>Scratched</td>\n",
       "      <td>2020</td>\n",
       "      <td>Black</td>\n",
       "      <td>['Rear bumper:coating,exchange']</td>\n",
       "      <td>Full-size car</td>\n",
       "    </tr>\n",
       "  </tbody>\n",
       "</table>\n",
       "</div>"
      ],
      "text/plain": [
       "   image_id category_id                                       segmentation  \\\n",
       "0         2  as-0036229  [[[[438, 504], [440, 443], [436, 419], [439, 4...   \n",
       "1         3  as-0036229  [[[[469, 497], [448, 479], [458, 437], [461, 4...   \n",
       "2         4  as-0036229  [[[[73, 596], [69, 588], [67, 582], [65, 575],...   \n",
       "3         4  as-0036229  [[[[107, 371], [108, 362], [445, 361], [795, 3...   \n",
       "4         5  as-0036229  [[[[77, 390], [87, 375], [452, 351], [560, 356...   \n",
       "\n",
       "      area                  bbox     damage  year  color  \\\n",
       "0  14977.0  [336, 159, 198, 345]   Breakage  2020  Black   \n",
       "1   7186.5  [378, 209, 154, 288]   Breakage  2020  Black   \n",
       "2    749.5     [53, 543, 31, 53]   Breakage  2020  Black   \n",
       "3  13872.5   [107, 356, 688, 29]  Scratched  2020  Black   \n",
       "4  22816.0    [77, 351, 690, 52]  Scratched  2020  Black   \n",
       "\n",
       "                             repair supercategory_name  \n",
       "0  ['Rear bumper:coating,exchange']      Full-size car  \n",
       "1  ['Rear bumper:coating,exchange']      Full-size car  \n",
       "2  ['Rear bumper:coating,exchange']      Full-size car  \n",
       "3  ['Rear bumper:coating,exchange']      Full-size car  \n",
       "4  ['Rear bumper:coating,exchange']      Full-size car  "
      ]
     },
     "execution_count": 9,
     "metadata": {},
     "output_type": "execute_result"
    }
   ],
   "source": [
    "merge_car.head()"
   ]
  },
  {
   "cell_type": "markdown",
   "id": "5398aa0f",
   "metadata": {},
   "source": [
    "### 3) 필요한 컬럼만 추출"
   ]
  },
  {
   "cell_type": "code",
   "execution_count": 10,
   "id": "e732ee96",
   "metadata": {},
   "outputs": [
    {
     "data": {
      "text/html": [
       "<div>\n",
       "<style scoped>\n",
       "    .dataframe tbody tr th:only-of-type {\n",
       "        vertical-align: middle;\n",
       "    }\n",
       "\n",
       "    .dataframe tbody tr th {\n",
       "        vertical-align: top;\n",
       "    }\n",
       "\n",
       "    .dataframe thead th {\n",
       "        text-align: right;\n",
       "    }\n",
       "</style>\n",
       "<table border=\"1\" class=\"dataframe\">\n",
       "  <thead>\n",
       "    <tr style=\"text-align: right;\">\n",
       "      <th></th>\n",
       "      <th>category_id</th>\n",
       "      <th>repair</th>\n",
       "      <th>supercategory_name</th>\n",
       "      <th>damage</th>\n",
       "      <th>color</th>\n",
       "      <th>year</th>\n",
       "    </tr>\n",
       "  </thead>\n",
       "  <tbody>\n",
       "    <tr>\n",
       "      <th>0</th>\n",
       "      <td>as-0036229</td>\n",
       "      <td>['Rear bumper:coating,exchange']</td>\n",
       "      <td>Full-size car</td>\n",
       "      <td>Breakage</td>\n",
       "      <td>Black</td>\n",
       "      <td>2020</td>\n",
       "    </tr>\n",
       "    <tr>\n",
       "      <th>1</th>\n",
       "      <td>as-0036229</td>\n",
       "      <td>['Rear bumper:coating,exchange']</td>\n",
       "      <td>Full-size car</td>\n",
       "      <td>Breakage</td>\n",
       "      <td>Black</td>\n",
       "      <td>2020</td>\n",
       "    </tr>\n",
       "    <tr>\n",
       "      <th>2</th>\n",
       "      <td>as-0036229</td>\n",
       "      <td>['Rear bumper:coating,exchange']</td>\n",
       "      <td>Full-size car</td>\n",
       "      <td>Breakage</td>\n",
       "      <td>Black</td>\n",
       "      <td>2020</td>\n",
       "    </tr>\n",
       "    <tr>\n",
       "      <th>3</th>\n",
       "      <td>as-0036229</td>\n",
       "      <td>['Rear bumper:coating,exchange']</td>\n",
       "      <td>Full-size car</td>\n",
       "      <td>Scratched</td>\n",
       "      <td>Black</td>\n",
       "      <td>2020</td>\n",
       "    </tr>\n",
       "    <tr>\n",
       "      <th>4</th>\n",
       "      <td>as-0036229</td>\n",
       "      <td>['Rear bumper:coating,exchange']</td>\n",
       "      <td>Full-size car</td>\n",
       "      <td>Scratched</td>\n",
       "      <td>Black</td>\n",
       "      <td>2020</td>\n",
       "    </tr>\n",
       "  </tbody>\n",
       "</table>\n",
       "</div>"
      ],
      "text/plain": [
       "  category_id                            repair supercategory_name     damage  \\\n",
       "0  as-0036229  ['Rear bumper:coating,exchange']      Full-size car   Breakage   \n",
       "1  as-0036229  ['Rear bumper:coating,exchange']      Full-size car   Breakage   \n",
       "2  as-0036229  ['Rear bumper:coating,exchange']      Full-size car   Breakage   \n",
       "3  as-0036229  ['Rear bumper:coating,exchange']      Full-size car  Scratched   \n",
       "4  as-0036229  ['Rear bumper:coating,exchange']      Full-size car  Scratched   \n",
       "\n",
       "   color  year  \n",
       "0  Black  2020  \n",
       "1  Black  2020  \n",
       "2  Black  2020  \n",
       "3  Black  2020  \n",
       "4  Black  2020  "
      ]
     },
     "execution_count": 10,
     "metadata": {},
     "output_type": "execute_result"
    }
   ],
   "source": [
    "merge_car = merge_car[[\"category_id\", \"repair\", \"supercategory_name\", \"damage\", \"color\", \"year\"]]\n",
    "merge_car.head()"
   ]
  },
  {
   "cell_type": "code",
   "execution_count": 11,
   "id": "544af02f",
   "metadata": {},
   "outputs": [],
   "source": [
    "null_list = merge_car[merge_car[\"repair\"]==\"[]\"].index"
   ]
  },
  {
   "cell_type": "code",
   "execution_count": 12,
   "id": "25af3f2b",
   "metadata": {},
   "outputs": [
    {
     "data": {
      "text/html": [
       "<div>\n",
       "<style scoped>\n",
       "    .dataframe tbody tr th:only-of-type {\n",
       "        vertical-align: middle;\n",
       "    }\n",
       "\n",
       "    .dataframe tbody tr th {\n",
       "        vertical-align: top;\n",
       "    }\n",
       "\n",
       "    .dataframe thead th {\n",
       "        text-align: right;\n",
       "    }\n",
       "</style>\n",
       "<table border=\"1\" class=\"dataframe\">\n",
       "  <thead>\n",
       "    <tr style=\"text-align: right;\">\n",
       "      <th></th>\n",
       "      <th>category_id</th>\n",
       "      <th>repair</th>\n",
       "      <th>supercategory_name</th>\n",
       "      <th>damage</th>\n",
       "      <th>color</th>\n",
       "      <th>year</th>\n",
       "    </tr>\n",
       "  </thead>\n",
       "  <tbody>\n",
       "    <tr>\n",
       "      <th>0</th>\n",
       "      <td>as-0036229</td>\n",
       "      <td>['Rear bumper:coating,exchange']</td>\n",
       "      <td>Full-size car</td>\n",
       "      <td>Breakage</td>\n",
       "      <td>Black</td>\n",
       "      <td>2020</td>\n",
       "    </tr>\n",
       "    <tr>\n",
       "      <th>1</th>\n",
       "      <td>as-0036229</td>\n",
       "      <td>['Rear bumper:coating,exchange']</td>\n",
       "      <td>Full-size car</td>\n",
       "      <td>Breakage</td>\n",
       "      <td>Black</td>\n",
       "      <td>2020</td>\n",
       "    </tr>\n",
       "    <tr>\n",
       "      <th>2</th>\n",
       "      <td>as-0036229</td>\n",
       "      <td>['Rear bumper:coating,exchange']</td>\n",
       "      <td>Full-size car</td>\n",
       "      <td>Breakage</td>\n",
       "      <td>Black</td>\n",
       "      <td>2020</td>\n",
       "    </tr>\n",
       "    <tr>\n",
       "      <th>3</th>\n",
       "      <td>as-0036229</td>\n",
       "      <td>['Rear bumper:coating,exchange']</td>\n",
       "      <td>Full-size car</td>\n",
       "      <td>Scratched</td>\n",
       "      <td>Black</td>\n",
       "      <td>2020</td>\n",
       "    </tr>\n",
       "    <tr>\n",
       "      <th>4</th>\n",
       "      <td>as-0036229</td>\n",
       "      <td>['Rear bumper:coating,exchange']</td>\n",
       "      <td>Full-size car</td>\n",
       "      <td>Scratched</td>\n",
       "      <td>Black</td>\n",
       "      <td>2020</td>\n",
       "    </tr>\n",
       "  </tbody>\n",
       "</table>\n",
       "</div>"
      ],
      "text/plain": [
       "  category_id                            repair supercategory_name     damage  \\\n",
       "0  as-0036229  ['Rear bumper:coating,exchange']      Full-size car   Breakage   \n",
       "1  as-0036229  ['Rear bumper:coating,exchange']      Full-size car   Breakage   \n",
       "2  as-0036229  ['Rear bumper:coating,exchange']      Full-size car   Breakage   \n",
       "3  as-0036229  ['Rear bumper:coating,exchange']      Full-size car  Scratched   \n",
       "4  as-0036229  ['Rear bumper:coating,exchange']      Full-size car  Scratched   \n",
       "\n",
       "   color  year  \n",
       "0  Black  2020  \n",
       "1  Black  2020  \n",
       "2  Black  2020  \n",
       "3  Black  2020  \n",
       "4  Black  2020  "
      ]
     },
     "execution_count": 12,
     "metadata": {},
     "output_type": "execute_result"
    }
   ],
   "source": [
    "car_data = merge_car.drop(null_list, axis=0)\n",
    "car_data.head()"
   ]
  },
  {
   "cell_type": "markdown",
   "id": "24fbe5d9",
   "metadata": {},
   "source": [
    "### 4) 중복된 행 제거"
   ]
  },
  {
   "cell_type": "code",
   "execution_count": 13,
   "id": "cac9a6ba",
   "metadata": {},
   "outputs": [],
   "source": [
    "car_data = car_data.drop_duplicates(keep = 'first', ignore_index=True)"
   ]
  },
  {
   "cell_type": "code",
   "execution_count": 14,
   "id": "1e1439b4",
   "metadata": {
    "scrolled": false
   },
   "outputs": [
    {
     "data": {
      "text/html": [
       "<div>\n",
       "<style scoped>\n",
       "    .dataframe tbody tr th:only-of-type {\n",
       "        vertical-align: middle;\n",
       "    }\n",
       "\n",
       "    .dataframe tbody tr th {\n",
       "        vertical-align: top;\n",
       "    }\n",
       "\n",
       "    .dataframe thead th {\n",
       "        text-align: right;\n",
       "    }\n",
       "</style>\n",
       "<table border=\"1\" class=\"dataframe\">\n",
       "  <thead>\n",
       "    <tr style=\"text-align: right;\">\n",
       "      <th></th>\n",
       "      <th>category_id</th>\n",
       "      <th>repair</th>\n",
       "      <th>supercategory_name</th>\n",
       "      <th>damage</th>\n",
       "      <th>color</th>\n",
       "      <th>year</th>\n",
       "    </tr>\n",
       "  </thead>\n",
       "  <tbody>\n",
       "    <tr>\n",
       "      <th>190134</th>\n",
       "      <td>as-0000025</td>\n",
       "      <td>['Front door(R):sheet_metal,coating', 'Rear fe...</td>\n",
       "      <td>Full-size car</td>\n",
       "      <td>Separated</td>\n",
       "      <td>White</td>\n",
       "      <td>2016</td>\n",
       "    </tr>\n",
       "    <tr>\n",
       "      <th>190135</th>\n",
       "      <td>as-0000025</td>\n",
       "      <td>['Front door(R):sheet_metal,coating', 'Rear fe...</td>\n",
       "      <td>Full-size car</td>\n",
       "      <td>Scratched</td>\n",
       "      <td>White</td>\n",
       "      <td>2016</td>\n",
       "    </tr>\n",
       "    <tr>\n",
       "      <th>190136</th>\n",
       "      <td>as-0000025</td>\n",
       "      <td>['Front door(R):sheet_metal,coating', 'Rear fe...</td>\n",
       "      <td>Full-size car</td>\n",
       "      <td>Crushed</td>\n",
       "      <td>White</td>\n",
       "      <td>2016</td>\n",
       "    </tr>\n",
       "    <tr>\n",
       "      <th>190137</th>\n",
       "      <td>as-0000025</td>\n",
       "      <td>['Front door(R):sheet_metal,coating', 'Rear fe...</td>\n",
       "      <td>Full-size car</td>\n",
       "      <td>NaN</td>\n",
       "      <td>White</td>\n",
       "      <td>2016</td>\n",
       "    </tr>\n",
       "  </tbody>\n",
       "</table>\n",
       "</div>"
      ],
      "text/plain": [
       "       category_id                                             repair  \\\n",
       "190134  as-0000025  ['Front door(R):sheet_metal,coating', 'Rear fe...   \n",
       "190135  as-0000025  ['Front door(R):sheet_metal,coating', 'Rear fe...   \n",
       "190136  as-0000025  ['Front door(R):sheet_metal,coating', 'Rear fe...   \n",
       "190137  as-0000025  ['Front door(R):sheet_metal,coating', 'Rear fe...   \n",
       "\n",
       "       supercategory_name     damage  color  year  \n",
       "190134      Full-size car  Separated  White  2016  \n",
       "190135      Full-size car  Scratched  White  2016  \n",
       "190136      Full-size car    Crushed  White  2016  \n",
       "190137      Full-size car        NaN  White  2016  "
      ]
     },
     "execution_count": 14,
     "metadata": {},
     "output_type": "execute_result"
    }
   ],
   "source": [
    "#### Before ####\n",
    "car_data[car_data[\"category_id\"]==\"as-0000025\"]"
   ]
  },
  {
   "cell_type": "code",
   "execution_count": 15,
   "id": "6787d826",
   "metadata": {
    "scrolled": true
   },
   "outputs": [
    {
     "data": {
      "text/html": [
       "<div>\n",
       "<style scoped>\n",
       "    .dataframe tbody tr th:only-of-type {\n",
       "        vertical-align: middle;\n",
       "    }\n",
       "\n",
       "    .dataframe tbody tr th {\n",
       "        vertical-align: top;\n",
       "    }\n",
       "\n",
       "    .dataframe thead th {\n",
       "        text-align: right;\n",
       "    }\n",
       "</style>\n",
       "<table border=\"1\" class=\"dataframe\">\n",
       "  <thead>\n",
       "    <tr style=\"text-align: right;\">\n",
       "      <th></th>\n",
       "      <th>category_id</th>\n",
       "      <th>repair</th>\n",
       "      <th>supercategory_name</th>\n",
       "      <th>damage</th>\n",
       "      <th>color</th>\n",
       "      <th>year</th>\n",
       "    </tr>\n",
       "  </thead>\n",
       "  <tbody>\n",
       "    <tr>\n",
       "      <th>190134</th>\n",
       "      <td>as-0000025</td>\n",
       "      <td>['Front door(R):sheet_metal,coating', 'Rear fe...</td>\n",
       "      <td>Full-size car</td>\n",
       "      <td>Separated</td>\n",
       "      <td>White</td>\n",
       "      <td>2016</td>\n",
       "    </tr>\n",
       "    <tr>\n",
       "      <th>190135</th>\n",
       "      <td>as-0000025</td>\n",
       "      <td>['Front door(R):sheet_metal,coating', 'Rear fe...</td>\n",
       "      <td>Full-size car</td>\n",
       "      <td>Scratched</td>\n",
       "      <td>White</td>\n",
       "      <td>2016</td>\n",
       "    </tr>\n",
       "    <tr>\n",
       "      <th>190136</th>\n",
       "      <td>as-0000025</td>\n",
       "      <td>['Front door(R):sheet_metal,coating', 'Rear fe...</td>\n",
       "      <td>Full-size car</td>\n",
       "      <td>Crushed</td>\n",
       "      <td>White</td>\n",
       "      <td>2016</td>\n",
       "    </tr>\n",
       "    <tr>\n",
       "      <th>190137</th>\n",
       "      <td>as-0000025</td>\n",
       "      <td>['Front door(R):sheet_metal,coating', 'Rear fe...</td>\n",
       "      <td>Full-size car</td>\n",
       "      <td>NaN</td>\n",
       "      <td>White</td>\n",
       "      <td>2016</td>\n",
       "    </tr>\n",
       "  </tbody>\n",
       "</table>\n",
       "</div>"
      ],
      "text/plain": [
       "       category_id                                             repair  \\\n",
       "190134  as-0000025  ['Front door(R):sheet_metal,coating', 'Rear fe...   \n",
       "190135  as-0000025  ['Front door(R):sheet_metal,coating', 'Rear fe...   \n",
       "190136  as-0000025  ['Front door(R):sheet_metal,coating', 'Rear fe...   \n",
       "190137  as-0000025  ['Front door(R):sheet_metal,coating', 'Rear fe...   \n",
       "\n",
       "       supercategory_name     damage  color  year  \n",
       "190134      Full-size car  Separated  White  2016  \n",
       "190135      Full-size car  Scratched  White  2016  \n",
       "190136      Full-size car    Crushed  White  2016  \n",
       "190137      Full-size car        NaN  White  2016  "
      ]
     },
     "execution_count": 15,
     "metadata": {},
     "output_type": "execute_result"
    }
   ],
   "source": [
    "#### After ####\n",
    "car_data[car_data[\"category_id\"]==\"as-0000025\"]"
   ]
  },
  {
   "cell_type": "markdown",
   "id": "bf4ae36d",
   "metadata": {},
   "source": [
    "### 5) damage가 null인 행 제거"
   ]
  },
  {
   "cell_type": "code",
   "execution_count": 16,
   "id": "26fbd901",
   "metadata": {
    "scrolled": false
   },
   "outputs": [
    {
     "data": {
      "text/plain": [
       "296259"
      ]
     },
     "execution_count": 16,
     "metadata": {},
     "output_type": "execute_result"
    }
   ],
   "source": [
    "len(car_data)"
   ]
  },
  {
   "cell_type": "code",
   "execution_count": 17,
   "id": "bc6698ab",
   "metadata": {},
   "outputs": [
    {
     "data": {
      "text/plain": [
       "232724"
      ]
     },
     "execution_count": 17,
     "metadata": {},
     "output_type": "execute_result"
    }
   ],
   "source": [
    "damage_null_list = car_data[car_data[\"damage\"].isnull()].index\n",
    "\n",
    "car_data = car_data.drop(damage_null_list, axis=0)\n",
    "len(car_data)"
   ]
  },
  {
   "cell_type": "code",
   "execution_count": 18,
   "id": "a74b2806",
   "metadata": {},
   "outputs": [
    {
     "data": {
      "text/plain": [
       "0         Full-size car\n",
       "1         Full-size car\n",
       "2         Full-size car\n",
       "4          Mid-size car\n",
       "5          Mid-size car\n",
       "              ...      \n",
       "296251    Full-size car\n",
       "296252     Mid-size car\n",
       "296253     Mid-size car\n",
       "296255      Compact car\n",
       "296257     Mid-size car\n",
       "Name: supercategory_name, Length: 232724, dtype: object"
      ]
     },
     "execution_count": 18,
     "metadata": {},
     "output_type": "execute_result"
    }
   ],
   "source": [
    "car_size = car_data[\"supercategory_name\"]\n",
    "car_size"
   ]
  },
  {
   "cell_type": "code",
   "execution_count": 19,
   "id": "ac9e6d24",
   "metadata": {},
   "outputs": [
    {
     "data": {
      "text/html": [
       "<div>\n",
       "<style scoped>\n",
       "    .dataframe tbody tr th:only-of-type {\n",
       "        vertical-align: middle;\n",
       "    }\n",
       "\n",
       "    .dataframe tbody tr th {\n",
       "        vertical-align: top;\n",
       "    }\n",
       "\n",
       "    .dataframe thead th {\n",
       "        text-align: right;\n",
       "    }\n",
       "</style>\n",
       "<table border=\"1\" class=\"dataframe\">\n",
       "  <thead>\n",
       "    <tr style=\"text-align: right;\">\n",
       "      <th></th>\n",
       "      <th>category_id</th>\n",
       "      <th>repair</th>\n",
       "      <th>damage</th>\n",
       "      <th>color</th>\n",
       "      <th>year</th>\n",
       "    </tr>\n",
       "    <tr>\n",
       "      <th>supercategory_name</th>\n",
       "      <th></th>\n",
       "      <th></th>\n",
       "      <th></th>\n",
       "      <th></th>\n",
       "      <th></th>\n",
       "    </tr>\n",
       "  </thead>\n",
       "  <tbody>\n",
       "    <tr>\n",
       "      <th>CityCar</th>\n",
       "      <td>40100</td>\n",
       "      <td>40100</td>\n",
       "      <td>40100</td>\n",
       "      <td>40100</td>\n",
       "      <td>40100</td>\n",
       "    </tr>\n",
       "    <tr>\n",
       "      <th>Compact car</th>\n",
       "      <td>24004</td>\n",
       "      <td>24004</td>\n",
       "      <td>24004</td>\n",
       "      <td>24004</td>\n",
       "      <td>24004</td>\n",
       "    </tr>\n",
       "    <tr>\n",
       "      <th>Full-size car</th>\n",
       "      <td>45113</td>\n",
       "      <td>45113</td>\n",
       "      <td>45113</td>\n",
       "      <td>45113</td>\n",
       "      <td>45113</td>\n",
       "    </tr>\n",
       "    <tr>\n",
       "      <th>Mid-size car</th>\n",
       "      <td>123507</td>\n",
       "      <td>123507</td>\n",
       "      <td>123507</td>\n",
       "      <td>123507</td>\n",
       "      <td>123507</td>\n",
       "    </tr>\n",
       "  </tbody>\n",
       "</table>\n",
       "</div>"
      ],
      "text/plain": [
       "                    category_id  repair  damage   color    year\n",
       "supercategory_name                                             \n",
       "CityCar                   40100   40100   40100   40100   40100\n",
       "Compact car               24004   24004   24004   24004   24004\n",
       "Full-size car             45113   45113   45113   45113   45113\n",
       "Mid-size car             123507  123507  123507  123507  123507"
      ]
     },
     "execution_count": 19,
     "metadata": {},
     "output_type": "execute_result"
    }
   ],
   "source": [
    "car_data.groupby('supercategory_name').count()"
   ]
  },
  {
   "cell_type": "markdown",
   "id": "4bd15ade",
   "metadata": {},
   "source": [
    "### 차량 색상 갯수"
   ]
  },
  {
   "cell_type": "code",
   "execution_count": 20,
   "id": "247dcade",
   "metadata": {},
   "outputs": [
    {
     "data": {
      "text/plain": [
       "array(['Black', 'White', 'Gray tone', 'Others', 'Red tone', 'Blue tone'],\n",
       "      dtype=object)"
      ]
     },
     "execution_count": 20,
     "metadata": {},
     "output_type": "execute_result"
    }
   ],
   "source": [
    "car_data[\"color\"].unique()\n",
    "# 'Black', 'White', 'Gray tone', 'Others', 'Red tone', 'Blue tone'"
   ]
  },
  {
   "cell_type": "markdown",
   "id": "5f3832fd",
   "metadata": {},
   "source": [
    "### 차량 크기 갯수"
   ]
  },
  {
   "cell_type": "code",
   "execution_count": 21,
   "id": "a037ebe0",
   "metadata": {},
   "outputs": [
    {
     "data": {
      "text/plain": [
       "array(['Full-size car', 'Mid-size car', 'CityCar', 'Compact car'],\n",
       "      dtype=object)"
      ]
     },
     "execution_count": 21,
     "metadata": {},
     "output_type": "execute_result"
    }
   ],
   "source": [
    "car_data[\"supercategory_name\"].unique()\n",
    "# 'Full-size car', 'Mid-size car', 'CityCar', 'Compact car'"
   ]
  },
  {
   "cell_type": "code",
   "execution_count": 22,
   "id": "d4fc2e4d",
   "metadata": {},
   "outputs": [
    {
     "data": {
      "text/plain": [
       "array(['Breakage', 'Scratched', 'Separated', 'Crushed'], dtype=object)"
      ]
     },
     "execution_count": 22,
     "metadata": {},
     "output_type": "execute_result"
    }
   ],
   "source": [
    "car_data[\"damage\"].unique()\n",
    "# Breakage', 'Scratched', 'Separated', 'Crushed'"
   ]
  },
  {
   "cell_type": "code",
   "execution_count": 23,
   "id": "b0d79a4f",
   "metadata": {},
   "outputs": [],
   "source": [
    "## 색상\n",
    "# 'Black', 'White', 'Gray tone', 'Others', 'Red tone', 'Blue tone' : 6\n",
    "\n",
    "## 크기\n",
    "# Full-size car', 'Mid-size car', 'CityCar', 'Compact car' : 3\n",
    "\n",
    "## 유형\n",
    "# 'Breakage', 'Scratched', 'Separated', 'Crushed' : 4"
   ]
  },
  {
   "cell_type": "code",
   "execution_count": 24,
   "id": "5a752b3b",
   "metadata": {},
   "outputs": [],
   "source": [
    "car_color = pd.DataFrame(car_data[[\"category_id\", \"color\", \"year\"]])"
   ]
  },
  {
   "cell_type": "code",
   "execution_count": 25,
   "id": "5122a0e7",
   "metadata": {},
   "outputs": [
    {
     "data": {
      "text/html": [
       "<div>\n",
       "<style scoped>\n",
       "    .dataframe tbody tr th:only-of-type {\n",
       "        vertical-align: middle;\n",
       "    }\n",
       "\n",
       "    .dataframe tbody tr th {\n",
       "        vertical-align: top;\n",
       "    }\n",
       "\n",
       "    .dataframe thead th {\n",
       "        text-align: right;\n",
       "    }\n",
       "</style>\n",
       "<table border=\"1\" class=\"dataframe\">\n",
       "  <thead>\n",
       "    <tr style=\"text-align: right;\">\n",
       "      <th></th>\n",
       "      <th>category_id</th>\n",
       "      <th>color</th>\n",
       "      <th>year</th>\n",
       "    </tr>\n",
       "  </thead>\n",
       "  <tbody>\n",
       "    <tr>\n",
       "      <th>0</th>\n",
       "      <td>as-0036229</td>\n",
       "      <td>Black</td>\n",
       "      <td>2020</td>\n",
       "    </tr>\n",
       "    <tr>\n",
       "      <th>1</th>\n",
       "      <td>as-0036229</td>\n",
       "      <td>Black</td>\n",
       "      <td>2020</td>\n",
       "    </tr>\n",
       "    <tr>\n",
       "      <th>2</th>\n",
       "      <td>as-0036229</td>\n",
       "      <td>Black</td>\n",
       "      <td>2020</td>\n",
       "    </tr>\n",
       "    <tr>\n",
       "      <th>4</th>\n",
       "      <td>sc-186320</td>\n",
       "      <td>White</td>\n",
       "      <td>2016</td>\n",
       "    </tr>\n",
       "    <tr>\n",
       "      <th>5</th>\n",
       "      <td>sc-186320</td>\n",
       "      <td>White</td>\n",
       "      <td>2016</td>\n",
       "    </tr>\n",
       "    <tr>\n",
       "      <th>...</th>\n",
       "      <td>...</td>\n",
       "      <td>...</td>\n",
       "      <td>...</td>\n",
       "    </tr>\n",
       "    <tr>\n",
       "      <th>296251</th>\n",
       "      <td>as-0080160</td>\n",
       "      <td>Black</td>\n",
       "      <td>2013</td>\n",
       "    </tr>\n",
       "    <tr>\n",
       "      <th>296252</th>\n",
       "      <td>sc-182232</td>\n",
       "      <td>White</td>\n",
       "      <td>2016</td>\n",
       "    </tr>\n",
       "    <tr>\n",
       "      <th>296253</th>\n",
       "      <td>sc-182232</td>\n",
       "      <td>White</td>\n",
       "      <td>2016</td>\n",
       "    </tr>\n",
       "    <tr>\n",
       "      <th>296255</th>\n",
       "      <td>sc-1038746</td>\n",
       "      <td>White</td>\n",
       "      <td>2017</td>\n",
       "    </tr>\n",
       "    <tr>\n",
       "      <th>296257</th>\n",
       "      <td>sc-185353</td>\n",
       "      <td>White</td>\n",
       "      <td>2019</td>\n",
       "    </tr>\n",
       "  </tbody>\n",
       "</table>\n",
       "<p>232724 rows × 3 columns</p>\n",
       "</div>"
      ],
      "text/plain": [
       "       category_id  color  year\n",
       "0       as-0036229  Black  2020\n",
       "1       as-0036229  Black  2020\n",
       "2       as-0036229  Black  2020\n",
       "4        sc-186320  White  2016\n",
       "5        sc-186320  White  2016\n",
       "...            ...    ...   ...\n",
       "296251  as-0080160  Black  2013\n",
       "296252   sc-182232  White  2016\n",
       "296253   sc-182232  White  2016\n",
       "296255  sc-1038746  White  2017\n",
       "296257   sc-185353  White  2019\n",
       "\n",
       "[232724 rows x 3 columns]"
      ]
     },
     "execution_count": 25,
     "metadata": {},
     "output_type": "execute_result"
    }
   ],
   "source": [
    "car_color"
   ]
  },
  {
   "cell_type": "code",
   "execution_count": 51,
   "id": "c99af5a6",
   "metadata": {},
   "outputs": [],
   "source": [
    "car_repair2=pd.read_csv(\"C:\\\\Users\\\\owner\\\\PythonWork\\\\Final_project\\\\repair_price2.csv\")\n",
    "car_repair1=pd.read_csv(\"C:\\\\Users\\\\owner\\\\PythonWork\\\\Final_project\\\\repair_price2.csv\")\n",
    "  "
   ]
  },
  {
   "cell_type": "code",
   "execution_count": 53,
   "id": "c77c7f72",
   "metadata": {},
   "outputs": [
    {
     "data": {
      "text/html": [
       "<div>\n",
       "<style scoped>\n",
       "    .dataframe tbody tr th:only-of-type {\n",
       "        vertical-align: middle;\n",
       "    }\n",
       "\n",
       "    .dataframe tbody tr th {\n",
       "        vertical-align: top;\n",
       "    }\n",
       "\n",
       "    .dataframe thead th {\n",
       "        text-align: right;\n",
       "    }\n",
       "</style>\n",
       "<table border=\"1\" class=\"dataframe\">\n",
       "  <thead>\n",
       "    <tr style=\"text-align: right;\">\n",
       "      <th></th>\n",
       "      <th>category_id</th>\n",
       "      <th>coating</th>\n",
       "      <th>sheet_metal</th>\n",
       "      <th>exchange</th>\n",
       "      <th>total</th>\n",
       "      <th>repair</th>\n",
       "      <th>supercategory_name</th>\n",
       "      <th>damage</th>\n",
       "    </tr>\n",
       "  </thead>\n",
       "  <tbody>\n",
       "    <tr>\n",
       "      <th>0</th>\n",
       "      <td>as-0000025</td>\n",
       "      <td>488500</td>\n",
       "      <td>175000</td>\n",
       "      <td>145750</td>\n",
       "      <td>1121128</td>\n",
       "      <td>['Front door', 'Rear fender', 'Front bumper', ...</td>\n",
       "      <td>Full-size car</td>\n",
       "      <td>Separated</td>\n",
       "    </tr>\n",
       "    <tr>\n",
       "      <th>1</th>\n",
       "      <td>as-0000025</td>\n",
       "      <td>488500</td>\n",
       "      <td>175000</td>\n",
       "      <td>145750</td>\n",
       "      <td>1121128</td>\n",
       "      <td>['Front door', 'Rear fender', 'Front bumper', ...</td>\n",
       "      <td>Full-size car</td>\n",
       "      <td>Scratched</td>\n",
       "    </tr>\n",
       "    <tr>\n",
       "      <th>2</th>\n",
       "      <td>as-0000025</td>\n",
       "      <td>488500</td>\n",
       "      <td>175000</td>\n",
       "      <td>145750</td>\n",
       "      <td>1121128</td>\n",
       "      <td>['Front door', 'Rear fender', 'Front bumper', ...</td>\n",
       "      <td>Full-size car</td>\n",
       "      <td>Crushed</td>\n",
       "    </tr>\n",
       "    <tr>\n",
       "      <th>3</th>\n",
       "      <td>as-0000027</td>\n",
       "      <td>496500</td>\n",
       "      <td>262500</td>\n",
       "      <td>267750</td>\n",
       "      <td>1293228</td>\n",
       "      <td>['Front door', 'Rear fender', 'Rear door', 'Re...</td>\n",
       "      <td>Mid-size car</td>\n",
       "      <td>Breakage</td>\n",
       "    </tr>\n",
       "    <tr>\n",
       "      <th>4</th>\n",
       "      <td>as-0000027</td>\n",
       "      <td>496500</td>\n",
       "      <td>262500</td>\n",
       "      <td>267750</td>\n",
       "      <td>1293228</td>\n",
       "      <td>['Front door', 'Rear fender', 'Rear door', 'Re...</td>\n",
       "      <td>Mid-size car</td>\n",
       "      <td>Scratched</td>\n",
       "    </tr>\n",
       "    <tr>\n",
       "      <th>...</th>\n",
       "      <td>...</td>\n",
       "      <td>...</td>\n",
       "      <td>...</td>\n",
       "      <td>...</td>\n",
       "      <td>...</td>\n",
       "      <td>...</td>\n",
       "      <td>...</td>\n",
       "      <td>...</td>\n",
       "    </tr>\n",
       "    <tr>\n",
       "      <th>232709</th>\n",
       "      <td>sc-230540</td>\n",
       "      <td>65760</td>\n",
       "      <td>0</td>\n",
       "      <td>73200</td>\n",
       "      <td>181438</td>\n",
       "      <td>['Rear bumper']</td>\n",
       "      <td>Compact car</td>\n",
       "      <td>Breakage</td>\n",
       "    </tr>\n",
       "    <tr>\n",
       "      <th>232710</th>\n",
       "      <td>sc-230540</td>\n",
       "      <td>65760</td>\n",
       "      <td>0</td>\n",
       "      <td>73200</td>\n",
       "      <td>181438</td>\n",
       "      <td>['Rear bumper']</td>\n",
       "      <td>Compact car</td>\n",
       "      <td>Crushed</td>\n",
       "    </tr>\n",
       "    <tr>\n",
       "      <th>232711</th>\n",
       "      <td>sc-230540</td>\n",
       "      <td>65760</td>\n",
       "      <td>0</td>\n",
       "      <td>73200</td>\n",
       "      <td>181438</td>\n",
       "      <td>['Rear bumper']</td>\n",
       "      <td>Compact car</td>\n",
       "      <td>Separated</td>\n",
       "    </tr>\n",
       "    <tr>\n",
       "      <th>232712</th>\n",
       "      <td>sc-230558</td>\n",
       "      <td>0</td>\n",
       "      <td>0</td>\n",
       "      <td>14440</td>\n",
       "      <td>126258</td>\n",
       "      <td>['Front bumper']</td>\n",
       "      <td>Compact car</td>\n",
       "      <td>Breakage</td>\n",
       "    </tr>\n",
       "    <tr>\n",
       "      <th>232713</th>\n",
       "      <td>sc-230558</td>\n",
       "      <td>0</td>\n",
       "      <td>0</td>\n",
       "      <td>14440</td>\n",
       "      <td>126258</td>\n",
       "      <td>['Front bumper']</td>\n",
       "      <td>Compact car</td>\n",
       "      <td>Scratched</td>\n",
       "    </tr>\n",
       "  </tbody>\n",
       "</table>\n",
       "<p>232714 rows × 8 columns</p>\n",
       "</div>"
      ],
      "text/plain": [
       "       category_id  coating  sheet_metal  exchange    total  \\\n",
       "0       as-0000025   488500       175000    145750  1121128   \n",
       "1       as-0000025   488500       175000    145750  1121128   \n",
       "2       as-0000025   488500       175000    145750  1121128   \n",
       "3       as-0000027   496500       262500    267750  1293228   \n",
       "4       as-0000027   496500       262500    267750  1293228   \n",
       "...            ...      ...          ...       ...      ...   \n",
       "232709   sc-230540    65760            0     73200   181438   \n",
       "232710   sc-230540    65760            0     73200   181438   \n",
       "232711   sc-230540    65760            0     73200   181438   \n",
       "232712   sc-230558        0            0     14440   126258   \n",
       "232713   sc-230558        0            0     14440   126258   \n",
       "\n",
       "                                                   repair supercategory_name  \\\n",
       "0       ['Front door', 'Rear fender', 'Front bumper', ...      Full-size car   \n",
       "1       ['Front door', 'Rear fender', 'Front bumper', ...      Full-size car   \n",
       "2       ['Front door', 'Rear fender', 'Front bumper', ...      Full-size car   \n",
       "3       ['Front door', 'Rear fender', 'Rear door', 'Re...       Mid-size car   \n",
       "4       ['Front door', 'Rear fender', 'Rear door', 'Re...       Mid-size car   \n",
       "...                                                   ...                ...   \n",
       "232709                                    ['Rear bumper']        Compact car   \n",
       "232710                                    ['Rear bumper']        Compact car   \n",
       "232711                                    ['Rear bumper']        Compact car   \n",
       "232712                                   ['Front bumper']        Compact car   \n",
       "232713                                   ['Front bumper']        Compact car   \n",
       "\n",
       "           damage  \n",
       "0       Separated  \n",
       "1       Scratched  \n",
       "2         Crushed  \n",
       "3        Breakage  \n",
       "4       Scratched  \n",
       "...           ...  \n",
       "232709   Breakage  \n",
       "232710    Crushed  \n",
       "232711  Separated  \n",
       "232712   Breakage  \n",
       "232713  Scratched  \n",
       "\n",
       "[232714 rows x 8 columns]"
      ]
     },
     "execution_count": 53,
     "metadata": {},
     "output_type": "execute_result"
    }
   ],
   "source": [
    "car_repair"
   ]
  },
  {
   "cell_type": "code",
   "execution_count": 54,
   "id": "20f2e47e",
   "metadata": {},
   "outputs": [
    {
     "data": {
      "text/html": [
       "<div>\n",
       "<style scoped>\n",
       "    .dataframe tbody tr th:only-of-type {\n",
       "        vertical-align: middle;\n",
       "    }\n",
       "\n",
       "    .dataframe tbody tr th {\n",
       "        vertical-align: top;\n",
       "    }\n",
       "\n",
       "    .dataframe thead th {\n",
       "        text-align: right;\n",
       "    }\n",
       "</style>\n",
       "<table border=\"1\" class=\"dataframe\">\n",
       "  <thead>\n",
       "    <tr style=\"text-align: right;\">\n",
       "      <th></th>\n",
       "      <th>category_id</th>\n",
       "      <th>coating</th>\n",
       "      <th>sheet_metal</th>\n",
       "      <th>exchange</th>\n",
       "      <th>total</th>\n",
       "      <th>repair</th>\n",
       "      <th>supercategory_name</th>\n",
       "      <th>damage</th>\n",
       "    </tr>\n",
       "  </thead>\n",
       "  <tbody>\n",
       "    <tr>\n",
       "      <th>0</th>\n",
       "      <td>as-0000025</td>\n",
       "      <td>488500</td>\n",
       "      <td>175000</td>\n",
       "      <td>145750</td>\n",
       "      <td>1121128</td>\n",
       "      <td>['Front door', 'Rear fender', 'Front bumper', ...</td>\n",
       "      <td>Full-size car</td>\n",
       "      <td>Separated</td>\n",
       "    </tr>\n",
       "    <tr>\n",
       "      <th>1</th>\n",
       "      <td>as-0000025</td>\n",
       "      <td>488500</td>\n",
       "      <td>175000</td>\n",
       "      <td>145750</td>\n",
       "      <td>1121128</td>\n",
       "      <td>['Front door', 'Rear fender', 'Front bumper', ...</td>\n",
       "      <td>Full-size car</td>\n",
       "      <td>Scratched</td>\n",
       "    </tr>\n",
       "    <tr>\n",
       "      <th>2</th>\n",
       "      <td>as-0000025</td>\n",
       "      <td>488500</td>\n",
       "      <td>175000</td>\n",
       "      <td>145750</td>\n",
       "      <td>1121128</td>\n",
       "      <td>['Front door', 'Rear fender', 'Front bumper', ...</td>\n",
       "      <td>Full-size car</td>\n",
       "      <td>Crushed</td>\n",
       "    </tr>\n",
       "    <tr>\n",
       "      <th>3</th>\n",
       "      <td>as-0000027</td>\n",
       "      <td>496500</td>\n",
       "      <td>262500</td>\n",
       "      <td>267750</td>\n",
       "      <td>1293228</td>\n",
       "      <td>['Front door', 'Rear fender', 'Rear door', 'Re...</td>\n",
       "      <td>Mid-size car</td>\n",
       "      <td>Breakage</td>\n",
       "    </tr>\n",
       "    <tr>\n",
       "      <th>4</th>\n",
       "      <td>as-0000027</td>\n",
       "      <td>496500</td>\n",
       "      <td>262500</td>\n",
       "      <td>267750</td>\n",
       "      <td>1293228</td>\n",
       "      <td>['Front door', 'Rear fender', 'Rear door', 'Re...</td>\n",
       "      <td>Mid-size car</td>\n",
       "      <td>Scratched</td>\n",
       "    </tr>\n",
       "    <tr>\n",
       "      <th>...</th>\n",
       "      <td>...</td>\n",
       "      <td>...</td>\n",
       "      <td>...</td>\n",
       "      <td>...</td>\n",
       "      <td>...</td>\n",
       "      <td>...</td>\n",
       "      <td>...</td>\n",
       "      <td>...</td>\n",
       "    </tr>\n",
       "    <tr>\n",
       "      <th>232709</th>\n",
       "      <td>sc-230540</td>\n",
       "      <td>65760</td>\n",
       "      <td>0</td>\n",
       "      <td>73200</td>\n",
       "      <td>181438</td>\n",
       "      <td>['Rear bumper']</td>\n",
       "      <td>Compact car</td>\n",
       "      <td>Breakage</td>\n",
       "    </tr>\n",
       "    <tr>\n",
       "      <th>232710</th>\n",
       "      <td>sc-230540</td>\n",
       "      <td>65760</td>\n",
       "      <td>0</td>\n",
       "      <td>73200</td>\n",
       "      <td>181438</td>\n",
       "      <td>['Rear bumper']</td>\n",
       "      <td>Compact car</td>\n",
       "      <td>Crushed</td>\n",
       "    </tr>\n",
       "    <tr>\n",
       "      <th>232711</th>\n",
       "      <td>sc-230540</td>\n",
       "      <td>65760</td>\n",
       "      <td>0</td>\n",
       "      <td>73200</td>\n",
       "      <td>181438</td>\n",
       "      <td>['Rear bumper']</td>\n",
       "      <td>Compact car</td>\n",
       "      <td>Separated</td>\n",
       "    </tr>\n",
       "    <tr>\n",
       "      <th>232712</th>\n",
       "      <td>sc-230558</td>\n",
       "      <td>0</td>\n",
       "      <td>0</td>\n",
       "      <td>14440</td>\n",
       "      <td>126258</td>\n",
       "      <td>['Front bumper']</td>\n",
       "      <td>Compact car</td>\n",
       "      <td>Breakage</td>\n",
       "    </tr>\n",
       "    <tr>\n",
       "      <th>232713</th>\n",
       "      <td>sc-230558</td>\n",
       "      <td>0</td>\n",
       "      <td>0</td>\n",
       "      <td>14440</td>\n",
       "      <td>126258</td>\n",
       "      <td>['Front bumper']</td>\n",
       "      <td>Compact car</td>\n",
       "      <td>Scratched</td>\n",
       "    </tr>\n",
       "  </tbody>\n",
       "</table>\n",
       "<p>232714 rows × 8 columns</p>\n",
       "</div>"
      ],
      "text/plain": [
       "       category_id  coating  sheet_metal  exchange    total  \\\n",
       "0       as-0000025   488500       175000    145750  1121128   \n",
       "1       as-0000025   488500       175000    145750  1121128   \n",
       "2       as-0000025   488500       175000    145750  1121128   \n",
       "3       as-0000027   496500       262500    267750  1293228   \n",
       "4       as-0000027   496500       262500    267750  1293228   \n",
       "...            ...      ...          ...       ...      ...   \n",
       "232709   sc-230540    65760            0     73200   181438   \n",
       "232710   sc-230540    65760            0     73200   181438   \n",
       "232711   sc-230540    65760            0     73200   181438   \n",
       "232712   sc-230558        0            0     14440   126258   \n",
       "232713   sc-230558        0            0     14440   126258   \n",
       "\n",
       "                                                   repair supercategory_name  \\\n",
       "0       ['Front door', 'Rear fender', 'Front bumper', ...      Full-size car   \n",
       "1       ['Front door', 'Rear fender', 'Front bumper', ...      Full-size car   \n",
       "2       ['Front door', 'Rear fender', 'Front bumper', ...      Full-size car   \n",
       "3       ['Front door', 'Rear fender', 'Rear door', 'Re...       Mid-size car   \n",
       "4       ['Front door', 'Rear fender', 'Rear door', 'Re...       Mid-size car   \n",
       "...                                                   ...                ...   \n",
       "232709                                    ['Rear bumper']        Compact car   \n",
       "232710                                    ['Rear bumper']        Compact car   \n",
       "232711                                    ['Rear bumper']        Compact car   \n",
       "232712                                   ['Front bumper']        Compact car   \n",
       "232713                                   ['Front bumper']        Compact car   \n",
       "\n",
       "           damage  \n",
       "0       Separated  \n",
       "1       Scratched  \n",
       "2         Crushed  \n",
       "3        Breakage  \n",
       "4       Scratched  \n",
       "...           ...  \n",
       "232709   Breakage  \n",
       "232710    Crushed  \n",
       "232711  Separated  \n",
       "232712   Breakage  \n",
       "232713  Scratched  \n",
       "\n",
       "[232714 rows x 8 columns]"
      ]
     },
     "execution_count": 54,
     "metadata": {},
     "output_type": "execute_result"
    }
   ],
   "source": [
    "car_repair2"
   ]
  },
  {
   "cell_type": "code",
   "execution_count": null,
   "id": "4137b5c0",
   "metadata": {},
   "outputs": [],
   "source": [
    "car_"
   ]
  },
  {
   "cell_type": "code",
   "execution_count": null,
   "id": "d9aaa2fa",
   "metadata": {},
   "outputs": [],
   "source": []
  },
  {
   "cell_type": "code",
   "execution_count": null,
   "id": "2452016e",
   "metadata": {},
   "outputs": [],
   "source": []
  },
  {
   "cell_type": "code",
   "execution_count": null,
   "id": "bc3185b8",
   "metadata": {},
   "outputs": [],
   "source": []
  },
  {
   "cell_type": "code",
   "execution_count": null,
   "id": "a2417fd5",
   "metadata": {},
   "outputs": [],
   "source": []
  },
  {
   "cell_type": "code",
   "execution_count": null,
   "id": "a7b03f1b",
   "metadata": {},
   "outputs": [],
   "source": []
  },
  {
   "cell_type": "markdown",
   "id": "b234561b",
   "metadata": {},
   "source": [
    "## 2. 견적서 파일에서 공임항목 가져오기\n",
    "\n",
    "- 도장 coating -> 도장공임\n",
    "- 판금 sheet_metal -> 판금수리\n",
    "- 교환 exchange -> 탈착교환\n",
    "- 수리 repair -> ?"
   ]
  },
  {
   "cell_type": "code",
   "execution_count": 38,
   "id": "431be144",
   "metadata": {
    "scrolled": true
   },
   "outputs": [
    {
     "name": "stdout",
     "output_type": "stream",
     "text": [
      "125006\n"
     ]
    }
   ],
   "source": [
    "label_list = glob.glob(\"C:\\\\eun01\\\\car_repair\\\\training\\\\as_labeling_data\\\\*\")\n",
    "print(len(label_list))"
   ]
  },
  {
   "cell_type": "code",
   "execution_count": 39,
   "id": "2d3f8cce",
   "metadata": {},
   "outputs": [
    {
     "data": {
      "application/vnd.jupyter.widget-view+json": {
       "model_id": "afde1ba7bf8948fd96b4177d17fe8961",
       "version_major": 2,
       "version_minor": 0
      },
      "text/plain": [
       "  0%|          | 0/125006 [00:00<?, ?it/s]"
      ]
     },
     "metadata": {},
     "output_type": "display_data"
    }
   ],
   "source": [
    "category_id=[]\n",
    "coating=[]\n",
    "sheet_metal=[]\n",
    "exchange=[]\n",
    "total = []\n",
    "\n",
    "for file_name in tqdm(label_list):\n",
    "    with open(file_name,'rt', encoding='UTF8') as file:\n",
    "        contents=json.loads(file.read())\n",
    "\n",
    "    category_id.append(file_name.split(\"\\\\\")[-1].split(\".\")[0])\n",
    "    coating.append(contents[\"수리비 정산정보\"][\"공임\"][\"도장공임\"])\n",
    "    sheet_metal.append(contents[\"수리비 정산정보\"][\"공임\"][\"판금수리\"])\n",
    "    exchange.append(contents[\"수리비 정산정보\"][\"공임\"][\"탈착교환\"])\n",
    "    total.append(contents[\"수리비 정산정보\"][\"공임\"][\"공임소계\"])\n",
    "\n",
    "repair_data = pd.DataFrame({\"category_id\" : category_id, \"coating\" : coating, \"sheet_metal\" : sheet_metal,\n",
    "                            \"exchange\" : exchange, \"total\" : total})"
   ]
  },
  {
   "cell_type": "code",
   "execution_count": 29,
   "id": "16919986",
   "metadata": {},
   "outputs": [
    {
     "data": {
      "text/html": [
       "<div>\n",
       "<style scoped>\n",
       "    .dataframe tbody tr th:only-of-type {\n",
       "        vertical-align: middle;\n",
       "    }\n",
       "\n",
       "    .dataframe tbody tr th {\n",
       "        vertical-align: top;\n",
       "    }\n",
       "\n",
       "    .dataframe thead th {\n",
       "        text-align: right;\n",
       "    }\n",
       "</style>\n",
       "<table border=\"1\" class=\"dataframe\">\n",
       "  <thead>\n",
       "    <tr style=\"text-align: right;\">\n",
       "      <th></th>\n",
       "      <th>category_id</th>\n",
       "      <th>coating</th>\n",
       "      <th>sheet_metal</th>\n",
       "      <th>exchange</th>\n",
       "      <th>total</th>\n",
       "    </tr>\n",
       "  </thead>\n",
       "  <tbody>\n",
       "    <tr>\n",
       "      <th>0</th>\n",
       "      <td>as-0000002</td>\n",
       "      <td>851,000</td>\n",
       "      <td>363,000</td>\n",
       "      <td>227,370</td>\n",
       "      <td>1,441,370</td>\n",
       "    </tr>\n",
       "    <tr>\n",
       "      <th>1</th>\n",
       "      <td>as-0000004</td>\n",
       "      <td>792,000</td>\n",
       "      <td>570,900</td>\n",
       "      <td>152,460</td>\n",
       "      <td>1,515,360</td>\n",
       "    </tr>\n",
       "    <tr>\n",
       "      <th>2</th>\n",
       "      <td>as-0000005</td>\n",
       "      <td>1,687,000</td>\n",
       "      <td>650,100</td>\n",
       "      <td>490,710</td>\n",
       "      <td>2,827,810</td>\n",
       "    </tr>\n",
       "    <tr>\n",
       "      <th>3</th>\n",
       "      <td>as-0000009</td>\n",
       "      <td>760,000</td>\n",
       "      <td>1,664,000</td>\n",
       "      <td>165,760</td>\n",
       "      <td>2,589,760</td>\n",
       "    </tr>\n",
       "    <tr>\n",
       "      <th>4</th>\n",
       "      <td>as-0000011</td>\n",
       "      <td>1,140,000</td>\n",
       "      <td>2,563,520</td>\n",
       "      <td>241,600</td>\n",
       "      <td>3,945,120</td>\n",
       "    </tr>\n",
       "  </tbody>\n",
       "</table>\n",
       "</div>"
      ],
      "text/plain": [
       "  category_id    coating sheet_metal exchange      total\n",
       "0  as-0000002    851,000     363,000  227,370  1,441,370\n",
       "1  as-0000004    792,000     570,900  152,460  1,515,360\n",
       "2  as-0000005  1,687,000     650,100  490,710  2,827,810\n",
       "3  as-0000009    760,000   1,664,000  165,760  2,589,760\n",
       "4  as-0000011  1,140,000   2,563,520  241,600  3,945,120"
      ]
     },
     "execution_count": 29,
     "metadata": {},
     "output_type": "execute_result"
    }
   ],
   "source": [
    "repair_data.head()"
   ]
  },
  {
   "cell_type": "markdown",
   "id": "055028bd",
   "metadata": {},
   "source": [
    "## 3. 최종파일 생성"
   ]
  },
  {
   "cell_type": "code",
   "execution_count": 40,
   "id": "e2f6fa46",
   "metadata": {},
   "outputs": [
    {
     "data": {
      "text/html": [
       "<div>\n",
       "<style scoped>\n",
       "    .dataframe tbody tr th:only-of-type {\n",
       "        vertical-align: middle;\n",
       "    }\n",
       "\n",
       "    .dataframe tbody tr th {\n",
       "        vertical-align: top;\n",
       "    }\n",
       "\n",
       "    .dataframe thead th {\n",
       "        text-align: right;\n",
       "    }\n",
       "</style>\n",
       "<table border=\"1\" class=\"dataframe\">\n",
       "  <thead>\n",
       "    <tr style=\"text-align: right;\">\n",
       "      <th></th>\n",
       "      <th>category_id</th>\n",
       "      <th>coating</th>\n",
       "      <th>sheet_metal</th>\n",
       "      <th>exchange</th>\n",
       "      <th>total</th>\n",
       "    </tr>\n",
       "  </thead>\n",
       "  <tbody>\n",
       "    <tr>\n",
       "      <th>0</th>\n",
       "      <td>as-0000002</td>\n",
       "      <td>851,000</td>\n",
       "      <td>363,000</td>\n",
       "      <td>227,370</td>\n",
       "      <td>1,441,370</td>\n",
       "    </tr>\n",
       "    <tr>\n",
       "      <th>1</th>\n",
       "      <td>as-0000004</td>\n",
       "      <td>792,000</td>\n",
       "      <td>570,900</td>\n",
       "      <td>152,460</td>\n",
       "      <td>1,515,360</td>\n",
       "    </tr>\n",
       "    <tr>\n",
       "      <th>2</th>\n",
       "      <td>as-0000005</td>\n",
       "      <td>1,687,000</td>\n",
       "      <td>650,100</td>\n",
       "      <td>490,710</td>\n",
       "      <td>2,827,810</td>\n",
       "    </tr>\n",
       "    <tr>\n",
       "      <th>3</th>\n",
       "      <td>as-0000009</td>\n",
       "      <td>760,000</td>\n",
       "      <td>1,664,000</td>\n",
       "      <td>165,760</td>\n",
       "      <td>2,589,760</td>\n",
       "    </tr>\n",
       "    <tr>\n",
       "      <th>4</th>\n",
       "      <td>as-0000011</td>\n",
       "      <td>1,140,000</td>\n",
       "      <td>2,563,520</td>\n",
       "      <td>241,600</td>\n",
       "      <td>3,945,120</td>\n",
       "    </tr>\n",
       "  </tbody>\n",
       "</table>\n",
       "</div>"
      ],
      "text/plain": [
       "  category_id    coating sheet_metal exchange      total\n",
       "0  as-0000002    851,000     363,000  227,370  1,441,370\n",
       "1  as-0000004    792,000     570,900  152,460  1,515,360\n",
       "2  as-0000005  1,687,000     650,100  490,710  2,827,810\n",
       "3  as-0000009    760,000   1,664,000  165,760  2,589,760\n",
       "4  as-0000011  1,140,000   2,563,520  241,600  3,945,120"
      ]
     },
     "execution_count": 40,
     "metadata": {},
     "output_type": "execute_result"
    }
   ],
   "source": [
    "repair_data = pd.read_csv(\"repair_data.csv\")\n",
    "repair_data.head()"
   ]
  },
  {
   "cell_type": "markdown",
   "id": "ccaa755f",
   "metadata": {},
   "source": [
    "### 1) 견적서와 사고 정보 병합"
   ]
  },
  {
   "cell_type": "code",
   "execution_count": 41,
   "id": "7ee6c083",
   "metadata": {},
   "outputs": [
    {
     "data": {
      "text/html": [
       "<div>\n",
       "<style scoped>\n",
       "    .dataframe tbody tr th:only-of-type {\n",
       "        vertical-align: middle;\n",
       "    }\n",
       "\n",
       "    .dataframe tbody tr th {\n",
       "        vertical-align: top;\n",
       "    }\n",
       "\n",
       "    .dataframe thead th {\n",
       "        text-align: right;\n",
       "    }\n",
       "</style>\n",
       "<table border=\"1\" class=\"dataframe\">\n",
       "  <thead>\n",
       "    <tr style=\"text-align: right;\">\n",
       "      <th></th>\n",
       "      <th>category_id</th>\n",
       "      <th>coating</th>\n",
       "      <th>sheet_metal</th>\n",
       "      <th>exchange</th>\n",
       "      <th>total</th>\n",
       "      <th>repair</th>\n",
       "      <th>supercategory_name</th>\n",
       "      <th>damage</th>\n",
       "    </tr>\n",
       "  </thead>\n",
       "  <tbody>\n",
       "    <tr>\n",
       "      <th>0</th>\n",
       "      <td>as-0000025</td>\n",
       "      <td>488,500</td>\n",
       "      <td>175,000</td>\n",
       "      <td>145,750</td>\n",
       "      <td>1,121,128</td>\n",
       "      <td>['Front door(R):sheet_metal,coating', 'Rear fe...</td>\n",
       "      <td>Full-size car</td>\n",
       "      <td>Separated</td>\n",
       "    </tr>\n",
       "    <tr>\n",
       "      <th>1</th>\n",
       "      <td>as-0000025</td>\n",
       "      <td>488,500</td>\n",
       "      <td>175,000</td>\n",
       "      <td>145,750</td>\n",
       "      <td>1,121,128</td>\n",
       "      <td>['Front door(R):sheet_metal,coating', 'Rear fe...</td>\n",
       "      <td>Full-size car</td>\n",
       "      <td>Scratched</td>\n",
       "    </tr>\n",
       "    <tr>\n",
       "      <th>2</th>\n",
       "      <td>as-0000025</td>\n",
       "      <td>488,500</td>\n",
       "      <td>175,000</td>\n",
       "      <td>145,750</td>\n",
       "      <td>1,121,128</td>\n",
       "      <td>['Front door(R):sheet_metal,coating', 'Rear fe...</td>\n",
       "      <td>Full-size car</td>\n",
       "      <td>Crushed</td>\n",
       "    </tr>\n",
       "    <tr>\n",
       "      <th>3</th>\n",
       "      <td>as-0000027</td>\n",
       "      <td>496,500</td>\n",
       "      <td>262,500</td>\n",
       "      <td>267,750</td>\n",
       "      <td>1,293,228</td>\n",
       "      <td>['Front door(R):sheet_metal,coating', 'Rear fe...</td>\n",
       "      <td>Mid-size car</td>\n",
       "      <td>Breakage</td>\n",
       "    </tr>\n",
       "    <tr>\n",
       "      <th>4</th>\n",
       "      <td>as-0000027</td>\n",
       "      <td>496,500</td>\n",
       "      <td>262,500</td>\n",
       "      <td>267,750</td>\n",
       "      <td>1,293,228</td>\n",
       "      <td>['Front door(R):sheet_metal,coating', 'Rear fe...</td>\n",
       "      <td>Mid-size car</td>\n",
       "      <td>Scratched</td>\n",
       "    </tr>\n",
       "  </tbody>\n",
       "</table>\n",
       "</div>"
      ],
      "text/plain": [
       "  category_id  coating sheet_metal exchange      total  \\\n",
       "0  as-0000025  488,500     175,000  145,750  1,121,128   \n",
       "1  as-0000025  488,500     175,000  145,750  1,121,128   \n",
       "2  as-0000025  488,500     175,000  145,750  1,121,128   \n",
       "3  as-0000027  496,500     262,500  267,750  1,293,228   \n",
       "4  as-0000027  496,500     262,500  267,750  1,293,228   \n",
       "\n",
       "                                              repair supercategory_name  \\\n",
       "0  ['Front door(R):sheet_metal,coating', 'Rear fe...      Full-size car   \n",
       "1  ['Front door(R):sheet_metal,coating', 'Rear fe...      Full-size car   \n",
       "2  ['Front door(R):sheet_metal,coating', 'Rear fe...      Full-size car   \n",
       "3  ['Front door(R):sheet_metal,coating', 'Rear fe...       Mid-size car   \n",
       "4  ['Front door(R):sheet_metal,coating', 'Rear fe...       Mid-size car   \n",
       "\n",
       "      damage  \n",
       "0  Separated  \n",
       "1  Scratched  \n",
       "2    Crushed  \n",
       "3   Breakage  \n",
       "4  Scratched  "
      ]
     },
     "execution_count": 41,
     "metadata": {},
     "output_type": "execute_result"
    }
   ],
   "source": [
    "repair_price = pd.merge(repair_data, car_data, how=\"inner\", on=\"category_id\")\n",
    "repair_price.head()"
   ]
  },
  {
   "cell_type": "markdown",
   "id": "bd41364b",
   "metadata": {},
   "source": [
    "### 1) 화폐단위로 저장된 숫자를 정수형으로 변환"
   ]
  },
  {
   "cell_type": "code",
   "execution_count": 56,
   "id": "888aefb3",
   "metadata": {},
   "outputs": [],
   "source": [
    "repair_price = repair_price.drop(repair_price[repair_price[\"total\"].isnull()].index, axis=0)"
   ]
  },
  {
   "cell_type": "code",
   "execution_count": 57,
   "id": "368919e8",
   "metadata": {},
   "outputs": [
    {
     "data": {
      "text/plain": [
       "232714"
      ]
     },
     "execution_count": 57,
     "metadata": {},
     "output_type": "execute_result"
    }
   ],
   "source": [
    "#### \"nan\"값인 행 제거 ####\n",
    "coating_null_list = repair_price[repair_price[\"coating\"]==\"nan\"].index\n",
    "repair_price = repair_price.drop(coating_null_list, axis=0)\n",
    "\n",
    "sheet_metal_null_list = repair_price[repair_price[\"sheet_metal\"]==\"nan\"].index\n",
    "repair_price = repair_price.drop(sheet_metal_null_list, axis=0)\n",
    "\n",
    "exchange_null_list = repair_price[repair_price[\"exchange\"]==\"nan\"].index\n",
    "repair_price = repair_price.drop(exchange_null_list, axis=0)\n",
    "\n",
    "total_null_list = repair_price[repair_price[\"total\"]==\"nan\"].index\n",
    "repair_price = repair_price.drop(total_null_list, axis=0)\n",
    "\n",
    "len(repair_price)"
   ]
  },
  {
   "cell_type": "code",
   "execution_count": 59,
   "id": "d500e86a",
   "metadata": {
    "collapsed": true
   },
   "outputs": [
    {
     "data": {
      "application/vnd.jupyter.widget-view+json": {
       "model_id": "1ec9413439c14146bba7a29466e6866a",
       "version_major": 2,
       "version_minor": 0
      },
      "text/plain": [
       "  0%|          | 0/232714 [00:00<?, ?it/s]"
      ]
     },
     "metadata": {},
     "output_type": "display_data"
    },
    {
     "ename": "KeyError",
     "evalue": "10673",
     "output_type": "error",
     "traceback": [
      "\u001b[1;31m---------------------------------------------------------------------------\u001b[0m",
      "\u001b[1;31mKeyError\u001b[0m                                  Traceback (most recent call last)",
      "\u001b[1;32m~\\anaconda3\\lib\\site-packages\\pandas\\core\\indexes\\base.py\u001b[0m in \u001b[0;36mget_loc\u001b[1;34m(self, key, method, tolerance)\u001b[0m\n\u001b[0;32m   3628\u001b[0m             \u001b[1;32mtry\u001b[0m\u001b[1;33m:\u001b[0m\u001b[1;33m\u001b[0m\u001b[1;33m\u001b[0m\u001b[0m\n\u001b[1;32m-> 3629\u001b[1;33m                 \u001b[1;32mreturn\u001b[0m \u001b[0mself\u001b[0m\u001b[1;33m.\u001b[0m\u001b[0m_engine\u001b[0m\u001b[1;33m.\u001b[0m\u001b[0mget_loc\u001b[0m\u001b[1;33m(\u001b[0m\u001b[0mcasted_key\u001b[0m\u001b[1;33m)\u001b[0m\u001b[1;33m\u001b[0m\u001b[1;33m\u001b[0m\u001b[0m\n\u001b[0m\u001b[0;32m   3630\u001b[0m             \u001b[1;32mexcept\u001b[0m \u001b[0mKeyError\u001b[0m \u001b[1;32mas\u001b[0m \u001b[0merr\u001b[0m\u001b[1;33m:\u001b[0m\u001b[1;33m\u001b[0m\u001b[1;33m\u001b[0m\u001b[0m\n",
      "\u001b[1;32m~\\anaconda3\\lib\\site-packages\\pandas\\_libs\\index.pyx\u001b[0m in \u001b[0;36mpandas._libs.index.IndexEngine.get_loc\u001b[1;34m()\u001b[0m\n",
      "\u001b[1;32m~\\anaconda3\\lib\\site-packages\\pandas\\_libs\\index.pyx\u001b[0m in \u001b[0;36mpandas._libs.index.IndexEngine.get_loc\u001b[1;34m()\u001b[0m\n",
      "\u001b[1;32mpandas\\_libs\\hashtable_class_helper.pxi\u001b[0m in \u001b[0;36mpandas._libs.hashtable.Int64HashTable.get_item\u001b[1;34m()\u001b[0m\n",
      "\u001b[1;32mpandas\\_libs\\hashtable_class_helper.pxi\u001b[0m in \u001b[0;36mpandas._libs.hashtable.Int64HashTable.get_item\u001b[1;34m()\u001b[0m\n",
      "\u001b[1;31mKeyError\u001b[0m: 10673",
      "\nThe above exception was the direct cause of the following exception:\n",
      "\u001b[1;31mKeyError\u001b[0m                                  Traceback (most recent call last)",
      "\u001b[1;32m~\\AppData\\Local\\Temp\\ipykernel_16760\\2949611001.py\u001b[0m in \u001b[0;36m<module>\u001b[1;34m\u001b[0m\n\u001b[0;32m      1\u001b[0m \u001b[1;32mfor\u001b[0m \u001b[0mi\u001b[0m \u001b[1;32min\u001b[0m \u001b[0mtqdm\u001b[0m\u001b[1;33m(\u001b[0m\u001b[0mrange\u001b[0m\u001b[1;33m(\u001b[0m\u001b[0mlen\u001b[0m\u001b[1;33m(\u001b[0m\u001b[0mrepair_price\u001b[0m\u001b[1;33m)\u001b[0m\u001b[1;33m)\u001b[0m\u001b[1;33m)\u001b[0m\u001b[1;33m:\u001b[0m\u001b[1;33m\u001b[0m\u001b[1;33m\u001b[0m\u001b[0m\n\u001b[1;32m----> 2\u001b[1;33m     \u001b[0mrepair_price\u001b[0m\u001b[1;33m[\u001b[0m\u001b[1;34m\"coating\"\u001b[0m\u001b[1;33m]\u001b[0m\u001b[1;33m[\u001b[0m\u001b[0mi\u001b[0m\u001b[1;33m]\u001b[0m \u001b[1;33m=\u001b[0m \u001b[0mint\u001b[0m\u001b[1;33m(\u001b[0m\u001b[0mstr\u001b[0m\u001b[1;33m(\u001b[0m\u001b[0mrepair_price\u001b[0m\u001b[1;33m[\u001b[0m\u001b[1;34m\"coating\"\u001b[0m\u001b[1;33m]\u001b[0m\u001b[1;33m[\u001b[0m\u001b[0mi\u001b[0m\u001b[1;33m]\u001b[0m\u001b[1;33m)\u001b[0m\u001b[1;33m.\u001b[0m\u001b[0mreplace\u001b[0m\u001b[1;33m(\u001b[0m\u001b[1;34m\",\"\u001b[0m\u001b[1;33m,\u001b[0m \u001b[1;34m\"\"\u001b[0m\u001b[1;33m)\u001b[0m\u001b[1;33m)\u001b[0m\u001b[1;33m\u001b[0m\u001b[1;33m\u001b[0m\u001b[0m\n\u001b[0m\u001b[0;32m      3\u001b[0m     \u001b[0mrepair_price\u001b[0m\u001b[1;33m[\u001b[0m\u001b[1;34m\"sheet_metal\"\u001b[0m\u001b[1;33m]\u001b[0m\u001b[1;33m[\u001b[0m\u001b[0mi\u001b[0m\u001b[1;33m]\u001b[0m \u001b[1;33m=\u001b[0m \u001b[0mint\u001b[0m\u001b[1;33m(\u001b[0m\u001b[0mstr\u001b[0m\u001b[1;33m(\u001b[0m\u001b[0mrepair_price\u001b[0m\u001b[1;33m[\u001b[0m\u001b[1;34m\"sheet_metal\"\u001b[0m\u001b[1;33m]\u001b[0m\u001b[1;33m[\u001b[0m\u001b[0mi\u001b[0m\u001b[1;33m]\u001b[0m\u001b[1;33m)\u001b[0m\u001b[1;33m.\u001b[0m\u001b[0mreplace\u001b[0m\u001b[1;33m(\u001b[0m\u001b[1;34m\",\"\u001b[0m\u001b[1;33m,\u001b[0m \u001b[1;34m\"\"\u001b[0m\u001b[1;33m)\u001b[0m\u001b[1;33m)\u001b[0m\u001b[1;33m\u001b[0m\u001b[1;33m\u001b[0m\u001b[0m\n\u001b[0;32m      4\u001b[0m     \u001b[0mrepair_price\u001b[0m\u001b[1;33m[\u001b[0m\u001b[1;34m\"exchange\"\u001b[0m\u001b[1;33m]\u001b[0m\u001b[1;33m[\u001b[0m\u001b[0mi\u001b[0m\u001b[1;33m]\u001b[0m \u001b[1;33m=\u001b[0m \u001b[0mint\u001b[0m\u001b[1;33m(\u001b[0m\u001b[0mstr\u001b[0m\u001b[1;33m(\u001b[0m\u001b[0mrepair_price\u001b[0m\u001b[1;33m[\u001b[0m\u001b[1;34m\"exchange\"\u001b[0m\u001b[1;33m]\u001b[0m\u001b[1;33m[\u001b[0m\u001b[0mi\u001b[0m\u001b[1;33m]\u001b[0m\u001b[1;33m)\u001b[0m\u001b[1;33m.\u001b[0m\u001b[0mreplace\u001b[0m\u001b[1;33m(\u001b[0m\u001b[1;34m\",\"\u001b[0m\u001b[1;33m,\u001b[0m \u001b[1;34m\"\"\u001b[0m\u001b[1;33m)\u001b[0m\u001b[1;33m)\u001b[0m\u001b[1;33m\u001b[0m\u001b[1;33m\u001b[0m\u001b[0m\n\u001b[0;32m      5\u001b[0m     \u001b[0mrepair_price\u001b[0m\u001b[1;33m[\u001b[0m\u001b[1;34m\"total\"\u001b[0m\u001b[1;33m]\u001b[0m\u001b[1;33m[\u001b[0m\u001b[0mi\u001b[0m\u001b[1;33m]\u001b[0m \u001b[1;33m=\u001b[0m \u001b[0mint\u001b[0m\u001b[1;33m(\u001b[0m\u001b[0mstr\u001b[0m\u001b[1;33m(\u001b[0m\u001b[0mrepair_price\u001b[0m\u001b[1;33m[\u001b[0m\u001b[1;34m\"total\"\u001b[0m\u001b[1;33m]\u001b[0m\u001b[1;33m[\u001b[0m\u001b[0mi\u001b[0m\u001b[1;33m]\u001b[0m\u001b[1;33m)\u001b[0m\u001b[1;33m.\u001b[0m\u001b[0mreplace\u001b[0m\u001b[1;33m(\u001b[0m\u001b[1;34m\",\"\u001b[0m\u001b[1;33m,\u001b[0m \u001b[1;34m\"\"\u001b[0m\u001b[1;33m)\u001b[0m\u001b[1;33m)\u001b[0m\u001b[1;33m\u001b[0m\u001b[1;33m\u001b[0m\u001b[0m\n",
      "\u001b[1;32m~\\anaconda3\\lib\\site-packages\\pandas\\core\\series.py\u001b[0m in \u001b[0;36m__getitem__\u001b[1;34m(self, key)\u001b[0m\n\u001b[0;32m    956\u001b[0m \u001b[1;33m\u001b[0m\u001b[0m\n\u001b[0;32m    957\u001b[0m         \u001b[1;32melif\u001b[0m \u001b[0mkey_is_scalar\u001b[0m\u001b[1;33m:\u001b[0m\u001b[1;33m\u001b[0m\u001b[1;33m\u001b[0m\u001b[0m\n\u001b[1;32m--> 958\u001b[1;33m             \u001b[1;32mreturn\u001b[0m \u001b[0mself\u001b[0m\u001b[1;33m.\u001b[0m\u001b[0m_get_value\u001b[0m\u001b[1;33m(\u001b[0m\u001b[0mkey\u001b[0m\u001b[1;33m)\u001b[0m\u001b[1;33m\u001b[0m\u001b[1;33m\u001b[0m\u001b[0m\n\u001b[0m\u001b[0;32m    959\u001b[0m \u001b[1;33m\u001b[0m\u001b[0m\n\u001b[0;32m    960\u001b[0m         \u001b[1;32mif\u001b[0m \u001b[0mis_hashable\u001b[0m\u001b[1;33m(\u001b[0m\u001b[0mkey\u001b[0m\u001b[1;33m)\u001b[0m\u001b[1;33m:\u001b[0m\u001b[1;33m\u001b[0m\u001b[1;33m\u001b[0m\u001b[0m\n",
      "\u001b[1;32m~\\anaconda3\\lib\\site-packages\\pandas\\core\\series.py\u001b[0m in \u001b[0;36m_get_value\u001b[1;34m(self, label, takeable)\u001b[0m\n\u001b[0;32m   1067\u001b[0m \u001b[1;33m\u001b[0m\u001b[0m\n\u001b[0;32m   1068\u001b[0m         \u001b[1;31m# Similar to Index.get_value, but we do not fall back to positional\u001b[0m\u001b[1;33m\u001b[0m\u001b[1;33m\u001b[0m\u001b[0m\n\u001b[1;32m-> 1069\u001b[1;33m         \u001b[0mloc\u001b[0m \u001b[1;33m=\u001b[0m \u001b[0mself\u001b[0m\u001b[1;33m.\u001b[0m\u001b[0mindex\u001b[0m\u001b[1;33m.\u001b[0m\u001b[0mget_loc\u001b[0m\u001b[1;33m(\u001b[0m\u001b[0mlabel\u001b[0m\u001b[1;33m)\u001b[0m\u001b[1;33m\u001b[0m\u001b[1;33m\u001b[0m\u001b[0m\n\u001b[0m\u001b[0;32m   1070\u001b[0m         \u001b[1;32mreturn\u001b[0m \u001b[0mself\u001b[0m\u001b[1;33m.\u001b[0m\u001b[0mindex\u001b[0m\u001b[1;33m.\u001b[0m\u001b[0m_get_values_for_loc\u001b[0m\u001b[1;33m(\u001b[0m\u001b[0mself\u001b[0m\u001b[1;33m,\u001b[0m \u001b[0mloc\u001b[0m\u001b[1;33m,\u001b[0m \u001b[0mlabel\u001b[0m\u001b[1;33m)\u001b[0m\u001b[1;33m\u001b[0m\u001b[1;33m\u001b[0m\u001b[0m\n\u001b[0;32m   1071\u001b[0m \u001b[1;33m\u001b[0m\u001b[0m\n",
      "\u001b[1;32m~\\anaconda3\\lib\\site-packages\\pandas\\core\\indexes\\base.py\u001b[0m in \u001b[0;36mget_loc\u001b[1;34m(self, key, method, tolerance)\u001b[0m\n\u001b[0;32m   3629\u001b[0m                 \u001b[1;32mreturn\u001b[0m \u001b[0mself\u001b[0m\u001b[1;33m.\u001b[0m\u001b[0m_engine\u001b[0m\u001b[1;33m.\u001b[0m\u001b[0mget_loc\u001b[0m\u001b[1;33m(\u001b[0m\u001b[0mcasted_key\u001b[0m\u001b[1;33m)\u001b[0m\u001b[1;33m\u001b[0m\u001b[1;33m\u001b[0m\u001b[0m\n\u001b[0;32m   3630\u001b[0m             \u001b[1;32mexcept\u001b[0m \u001b[0mKeyError\u001b[0m \u001b[1;32mas\u001b[0m \u001b[0merr\u001b[0m\u001b[1;33m:\u001b[0m\u001b[1;33m\u001b[0m\u001b[1;33m\u001b[0m\u001b[0m\n\u001b[1;32m-> 3631\u001b[1;33m                 \u001b[1;32mraise\u001b[0m \u001b[0mKeyError\u001b[0m\u001b[1;33m(\u001b[0m\u001b[0mkey\u001b[0m\u001b[1;33m)\u001b[0m \u001b[1;32mfrom\u001b[0m \u001b[0merr\u001b[0m\u001b[1;33m\u001b[0m\u001b[1;33m\u001b[0m\u001b[0m\n\u001b[0m\u001b[0;32m   3632\u001b[0m             \u001b[1;32mexcept\u001b[0m \u001b[0mTypeError\u001b[0m\u001b[1;33m:\u001b[0m\u001b[1;33m\u001b[0m\u001b[1;33m\u001b[0m\u001b[0m\n\u001b[0;32m   3633\u001b[0m                 \u001b[1;31m# If we have a listlike key, _check_indexing_error will raise\u001b[0m\u001b[1;33m\u001b[0m\u001b[1;33m\u001b[0m\u001b[0m\n",
      "\u001b[1;31mKeyError\u001b[0m: 10673"
     ]
    }
   ],
   "source": [
    "for i in tqdm(range(len(repair_price))):\n",
    "    repair_price[\"coating\"][i] = int(str(repair_price[\"coating\"][i]).replace(\",\", \"\"))\n",
    "    repair_price[\"sheet_metal\"][i] = int(str(repair_price[\"sheet_metal\"][i]).replace(\",\", \"\"))\n",
    "    repair_price[\"exchange\"][i] = int(str(repair_price[\"exchange\"][i]).replace(\",\", \"\"))\n",
    "    repair_price[\"total\"][i] = int(str(repair_price[\"total\"][i]).replace(\",\", \"\"))"
   ]
  },
  {
   "cell_type": "code",
   "execution_count": 93,
   "id": "8623b9dd",
   "metadata": {},
   "outputs": [],
   "source": [
    "repair_price.to_csv(\"repair_price.csv\", index=False)"
   ]
  },
  {
   "cell_type": "markdown",
   "id": "8d75d126",
   "metadata": {},
   "source": [
    "### 2) repair에서 필요한 파손 부위만 추출"
   ]
  },
  {
   "cell_type": "markdown",
   "id": "08878f43",
   "metadata": {},
   "source": [
    "        앞범퍼 : Front bumper\n",
    "        후드(본닛) : Bonnet\n",
    "        루프 : Roof\n",
    "        헤드램프 : Head lights\n",
    "        전도어 : Front door\n",
    "        리어도어 : Rear door\n",
    "        전휀다 : Front fender\n",
    "        사이드스테프 : Rocker panel\n",
    "        사이드미러 : Side mirror\n",
    "        뒷휀다 : Rear fender\n",
    "        트렁크리드 : Trunk lid\n",
    "        뒷범퍼 : Rear bumper\n",
    "        브레이크등 : Rear lamp\n",
    "        바퀴 : Wheel"
   ]
  },
  {
   "cell_type": "code",
   "execution_count": 60,
   "id": "c2b6fbb6",
   "metadata": {},
   "outputs": [
    {
     "data": {
      "text/html": [
       "<div>\n",
       "<style scoped>\n",
       "    .dataframe tbody tr th:only-of-type {\n",
       "        vertical-align: middle;\n",
       "    }\n",
       "\n",
       "    .dataframe tbody tr th {\n",
       "        vertical-align: top;\n",
       "    }\n",
       "\n",
       "    .dataframe thead th {\n",
       "        text-align: right;\n",
       "    }\n",
       "</style>\n",
       "<table border=\"1\" class=\"dataframe\">\n",
       "  <thead>\n",
       "    <tr style=\"text-align: right;\">\n",
       "      <th></th>\n",
       "      <th>category_id</th>\n",
       "      <th>coating</th>\n",
       "      <th>sheet_metal</th>\n",
       "      <th>exchange</th>\n",
       "      <th>total</th>\n",
       "      <th>repair</th>\n",
       "      <th>supercategory_name</th>\n",
       "      <th>damage</th>\n",
       "    </tr>\n",
       "  </thead>\n",
       "  <tbody>\n",
       "    <tr>\n",
       "      <th>0</th>\n",
       "      <td>as-0000025</td>\n",
       "      <td>488500</td>\n",
       "      <td>175000</td>\n",
       "      <td>145750</td>\n",
       "      <td>1121128</td>\n",
       "      <td>['Front door', 'Rear fender', 'Front bumper', ...</td>\n",
       "      <td>Full-size car</td>\n",
       "      <td>Separated</td>\n",
       "    </tr>\n",
       "    <tr>\n",
       "      <th>1</th>\n",
       "      <td>as-0000025</td>\n",
       "      <td>488500</td>\n",
       "      <td>175000</td>\n",
       "      <td>145750</td>\n",
       "      <td>1121128</td>\n",
       "      <td>['Front door', 'Rear fender', 'Front bumper', ...</td>\n",
       "      <td>Full-size car</td>\n",
       "      <td>Scratched</td>\n",
       "    </tr>\n",
       "    <tr>\n",
       "      <th>2</th>\n",
       "      <td>as-0000025</td>\n",
       "      <td>488500</td>\n",
       "      <td>175000</td>\n",
       "      <td>145750</td>\n",
       "      <td>1121128</td>\n",
       "      <td>['Front door', 'Rear fender', 'Front bumper', ...</td>\n",
       "      <td>Full-size car</td>\n",
       "      <td>Crushed</td>\n",
       "    </tr>\n",
       "    <tr>\n",
       "      <th>3</th>\n",
       "      <td>as-0000027</td>\n",
       "      <td>496500</td>\n",
       "      <td>262500</td>\n",
       "      <td>267750</td>\n",
       "      <td>1293228</td>\n",
       "      <td>['Front door', 'Rear fender', 'Rear door', 'Re...</td>\n",
       "      <td>Mid-size car</td>\n",
       "      <td>Breakage</td>\n",
       "    </tr>\n",
       "    <tr>\n",
       "      <th>4</th>\n",
       "      <td>as-0000027</td>\n",
       "      <td>496500</td>\n",
       "      <td>262500</td>\n",
       "      <td>267750</td>\n",
       "      <td>1293228</td>\n",
       "      <td>['Front door', 'Rear fender', 'Rear door', 'Re...</td>\n",
       "      <td>Mid-size car</td>\n",
       "      <td>Scratched</td>\n",
       "    </tr>\n",
       "  </tbody>\n",
       "</table>\n",
       "</div>"
      ],
      "text/plain": [
       "  category_id  coating  sheet_metal  exchange    total  \\\n",
       "0  as-0000025   488500       175000    145750  1121128   \n",
       "1  as-0000025   488500       175000    145750  1121128   \n",
       "2  as-0000025   488500       175000    145750  1121128   \n",
       "3  as-0000027   496500       262500    267750  1293228   \n",
       "4  as-0000027   496500       262500    267750  1293228   \n",
       "\n",
       "                                              repair supercategory_name  \\\n",
       "0  ['Front door', 'Rear fender', 'Front bumper', ...      Full-size car   \n",
       "1  ['Front door', 'Rear fender', 'Front bumper', ...      Full-size car   \n",
       "2  ['Front door', 'Rear fender', 'Front bumper', ...      Full-size car   \n",
       "3  ['Front door', 'Rear fender', 'Rear door', 'Re...       Mid-size car   \n",
       "4  ['Front door', 'Rear fender', 'Rear door', 'Re...       Mid-size car   \n",
       "\n",
       "      damage  \n",
       "0  Separated  \n",
       "1  Scratched  \n",
       "2    Crushed  \n",
       "3   Breakage  \n",
       "4  Scratched  "
      ]
     },
     "execution_count": 60,
     "metadata": {},
     "output_type": "execute_result"
    }
   ],
   "source": [
    "repair_price = pd.read_csv(\"repair_price.csv\")\n",
    "repair_price.head()"
   ]
  },
  {
   "cell_type": "code",
   "execution_count": 90,
   "id": "935526f1",
   "metadata": {},
   "outputs": [],
   "source": [
    "part_list = [\"Front bumper\", \"Bonnet\", \"Roof\", \"Head lights\", \"Front door\", \"Rear door\", \n",
    "             \"Front fender\", \"Rocker panel\", \"Side mirror\", \"Rear fender\", \"Trunk lid\", \n",
    "             \"Rear bumper\", \"Rear lamp\", \"Wheel\"]"
   ]
  },
  {
   "cell_type": "code",
   "execution_count": 163,
   "id": "7a852154",
   "metadata": {
    "scrolled": true
   },
   "outputs": [
    {
     "data": {
      "application/vnd.jupyter.widget-view+json": {
       "model_id": "0d9c106ce8b348469c1f32206eae9233",
       "version_major": 2,
       "version_minor": 0
      },
      "text/plain": [
       "  0%|          | 0/232714 [00:00<?, ?it/s]"
      ]
     },
     "metadata": {},
     "output_type": "display_data"
    }
   ],
   "source": [
    "#### 하나의 문자열로 이루어진 repair값에서 필요한 단어만 추출 ####\n",
    "ex_list = []\n",
    "\n",
    "for idx in tqdm(range(len(repair_price[\"repair\"]))):\n",
    "    repair_parts = repair_price[\"repair\"][idx][1:-2].split(\":\")\n",
    "    repair_parts = [ part.split(\"(\")[0] for part in repair_parts ]\n",
    "    repair_parts = [ part.split(\",\") for part in repair_parts ]\n",
    "    repair_parts = [ repair_parts[i][j].replace(\"'\", \"\").strip() for i in range(len(repair_parts)) \n",
    "                                                                    for j in range(len(repair_parts[i])) ]\n",
    "    ex = []\n",
    "    for i in range(len(repair_parts)):\n",
    "        if (repair_parts[i] in part_list) == True :\n",
    "            ex.append(repair_parts[i])\n",
    "    ex_list.append(ex)"
   ]
  },
  {
   "cell_type": "code",
   "execution_count": 166,
   "id": "dec8364a",
   "metadata": {},
   "outputs": [],
   "source": [
    "#### 합체 ####\n",
    "repair_price[\"repair\"] = ex_list"
   ]
  },
  {
   "cell_type": "markdown",
   "id": "c429f507",
   "metadata": {},
   "source": [
    "### 3) 저장"
   ]
  },
  {
   "cell_type": "code",
   "execution_count": 61,
   "id": "2644a841",
   "metadata": {
    "scrolled": true
   },
   "outputs": [
    {
     "data": {
      "text/html": [
       "<div>\n",
       "<style scoped>\n",
       "    .dataframe tbody tr th:only-of-type {\n",
       "        vertical-align: middle;\n",
       "    }\n",
       "\n",
       "    .dataframe tbody tr th {\n",
       "        vertical-align: top;\n",
       "    }\n",
       "\n",
       "    .dataframe thead th {\n",
       "        text-align: right;\n",
       "    }\n",
       "</style>\n",
       "<table border=\"1\" class=\"dataframe\">\n",
       "  <thead>\n",
       "    <tr style=\"text-align: right;\">\n",
       "      <th></th>\n",
       "      <th>category_id</th>\n",
       "      <th>coating</th>\n",
       "      <th>sheet_metal</th>\n",
       "      <th>exchange</th>\n",
       "      <th>total</th>\n",
       "      <th>repair</th>\n",
       "      <th>supercategory_name</th>\n",
       "      <th>damage</th>\n",
       "    </tr>\n",
       "  </thead>\n",
       "  <tbody>\n",
       "    <tr>\n",
       "      <th>0</th>\n",
       "      <td>as-0000025</td>\n",
       "      <td>488500</td>\n",
       "      <td>175000</td>\n",
       "      <td>145750</td>\n",
       "      <td>1121128</td>\n",
       "      <td>['Front door', 'Rear fender', 'Front bumper', ...</td>\n",
       "      <td>Full-size car</td>\n",
       "      <td>Separated</td>\n",
       "    </tr>\n",
       "    <tr>\n",
       "      <th>1</th>\n",
       "      <td>as-0000025</td>\n",
       "      <td>488500</td>\n",
       "      <td>175000</td>\n",
       "      <td>145750</td>\n",
       "      <td>1121128</td>\n",
       "      <td>['Front door', 'Rear fender', 'Front bumper', ...</td>\n",
       "      <td>Full-size car</td>\n",
       "      <td>Scratched</td>\n",
       "    </tr>\n",
       "    <tr>\n",
       "      <th>2</th>\n",
       "      <td>as-0000025</td>\n",
       "      <td>488500</td>\n",
       "      <td>175000</td>\n",
       "      <td>145750</td>\n",
       "      <td>1121128</td>\n",
       "      <td>['Front door', 'Rear fender', 'Front bumper', ...</td>\n",
       "      <td>Full-size car</td>\n",
       "      <td>Crushed</td>\n",
       "    </tr>\n",
       "    <tr>\n",
       "      <th>3</th>\n",
       "      <td>as-0000027</td>\n",
       "      <td>496500</td>\n",
       "      <td>262500</td>\n",
       "      <td>267750</td>\n",
       "      <td>1293228</td>\n",
       "      <td>['Front door', 'Rear fender', 'Rear door', 'Re...</td>\n",
       "      <td>Mid-size car</td>\n",
       "      <td>Breakage</td>\n",
       "    </tr>\n",
       "    <tr>\n",
       "      <th>4</th>\n",
       "      <td>as-0000027</td>\n",
       "      <td>496500</td>\n",
       "      <td>262500</td>\n",
       "      <td>267750</td>\n",
       "      <td>1293228</td>\n",
       "      <td>['Front door', 'Rear fender', 'Rear door', 'Re...</td>\n",
       "      <td>Mid-size car</td>\n",
       "      <td>Scratched</td>\n",
       "    </tr>\n",
       "  </tbody>\n",
       "</table>\n",
       "</div>"
      ],
      "text/plain": [
       "  category_id  coating  sheet_metal  exchange    total  \\\n",
       "0  as-0000025   488500       175000    145750  1121128   \n",
       "1  as-0000025   488500       175000    145750  1121128   \n",
       "2  as-0000025   488500       175000    145750  1121128   \n",
       "3  as-0000027   496500       262500    267750  1293228   \n",
       "4  as-0000027   496500       262500    267750  1293228   \n",
       "\n",
       "                                              repair supercategory_name  \\\n",
       "0  ['Front door', 'Rear fender', 'Front bumper', ...      Full-size car   \n",
       "1  ['Front door', 'Rear fender', 'Front bumper', ...      Full-size car   \n",
       "2  ['Front door', 'Rear fender', 'Front bumper', ...      Full-size car   \n",
       "3  ['Front door', 'Rear fender', 'Rear door', 'Re...       Mid-size car   \n",
       "4  ['Front door', 'Rear fender', 'Rear door', 'Re...       Mid-size car   \n",
       "\n",
       "      damage  \n",
       "0  Separated  \n",
       "1  Scratched  \n",
       "2    Crushed  \n",
       "3   Breakage  \n",
       "4  Scratched  "
      ]
     },
     "execution_count": 61,
     "metadata": {},
     "output_type": "execute_result"
    }
   ],
   "source": [
    "repair_price.head()"
   ]
  },
  {
   "cell_type": "code",
   "execution_count": 169,
   "id": "30e3607a",
   "metadata": {},
   "outputs": [],
   "source": [
    "repair_price.to_csv(\"repair_price.csv\", index=False)"
   ]
  },
  {
   "cell_type": "markdown",
   "id": "83cc3a7a",
   "metadata": {},
   "source": [
    "# 수리 방법도 따로 컬럼으로 가져와야한다!!"
   ]
  },
  {
   "cell_type": "code",
   "execution_count": 63,
   "id": "314f7949",
   "metadata": {
    "scrolled": false
   },
   "outputs": [
    {
     "data": {
      "text/html": [
       "<div>\n",
       "<style scoped>\n",
       "    .dataframe tbody tr th:only-of-type {\n",
       "        vertical-align: middle;\n",
       "    }\n",
       "\n",
       "    .dataframe tbody tr th {\n",
       "        vertical-align: top;\n",
       "    }\n",
       "\n",
       "    .dataframe thead th {\n",
       "        text-align: right;\n",
       "    }\n",
       "</style>\n",
       "<table border=\"1\" class=\"dataframe\">\n",
       "  <thead>\n",
       "    <tr style=\"text-align: right;\">\n",
       "      <th></th>\n",
       "      <th>category_id</th>\n",
       "      <th>coating</th>\n",
       "      <th>sheet_metal</th>\n",
       "      <th>exchange</th>\n",
       "      <th>total</th>\n",
       "      <th>repair</th>\n",
       "      <th>supercategory_name</th>\n",
       "      <th>damage</th>\n",
       "    </tr>\n",
       "  </thead>\n",
       "  <tbody>\n",
       "    <tr>\n",
       "      <th>0</th>\n",
       "      <td>as-0000025</td>\n",
       "      <td>488500</td>\n",
       "      <td>175000</td>\n",
       "      <td>145750</td>\n",
       "      <td>1121128</td>\n",
       "      <td>['Front door', 'Rear fender', 'Front bumper', ...</td>\n",
       "      <td>Full-size car</td>\n",
       "      <td>Separated</td>\n",
       "    </tr>\n",
       "    <tr>\n",
       "      <th>1</th>\n",
       "      <td>as-0000025</td>\n",
       "      <td>488500</td>\n",
       "      <td>175000</td>\n",
       "      <td>145750</td>\n",
       "      <td>1121128</td>\n",
       "      <td>['Front door', 'Rear fender', 'Front bumper', ...</td>\n",
       "      <td>Full-size car</td>\n",
       "      <td>Scratched</td>\n",
       "    </tr>\n",
       "    <tr>\n",
       "      <th>2</th>\n",
       "      <td>as-0000025</td>\n",
       "      <td>488500</td>\n",
       "      <td>175000</td>\n",
       "      <td>145750</td>\n",
       "      <td>1121128</td>\n",
       "      <td>['Front door', 'Rear fender', 'Front bumper', ...</td>\n",
       "      <td>Full-size car</td>\n",
       "      <td>Crushed</td>\n",
       "    </tr>\n",
       "    <tr>\n",
       "      <th>3</th>\n",
       "      <td>as-0000027</td>\n",
       "      <td>496500</td>\n",
       "      <td>262500</td>\n",
       "      <td>267750</td>\n",
       "      <td>1293228</td>\n",
       "      <td>['Front door', 'Rear fender', 'Rear door', 'Re...</td>\n",
       "      <td>Mid-size car</td>\n",
       "      <td>Breakage</td>\n",
       "    </tr>\n",
       "    <tr>\n",
       "      <th>4</th>\n",
       "      <td>as-0000027</td>\n",
       "      <td>496500</td>\n",
       "      <td>262500</td>\n",
       "      <td>267750</td>\n",
       "      <td>1293228</td>\n",
       "      <td>['Front door', 'Rear fender', 'Rear door', 'Re...</td>\n",
       "      <td>Mid-size car</td>\n",
       "      <td>Scratched</td>\n",
       "    </tr>\n",
       "  </tbody>\n",
       "</table>\n",
       "</div>"
      ],
      "text/plain": [
       "  category_id  coating  sheet_metal  exchange    total  \\\n",
       "0  as-0000025   488500       175000    145750  1121128   \n",
       "1  as-0000025   488500       175000    145750  1121128   \n",
       "2  as-0000025   488500       175000    145750  1121128   \n",
       "3  as-0000027   496500       262500    267750  1293228   \n",
       "4  as-0000027   496500       262500    267750  1293228   \n",
       "\n",
       "                                              repair supercategory_name  \\\n",
       "0  ['Front door', 'Rear fender', 'Front bumper', ...      Full-size car   \n",
       "1  ['Front door', 'Rear fender', 'Front bumper', ...      Full-size car   \n",
       "2  ['Front door', 'Rear fender', 'Front bumper', ...      Full-size car   \n",
       "3  ['Front door', 'Rear fender', 'Rear door', 'Re...       Mid-size car   \n",
       "4  ['Front door', 'Rear fender', 'Rear door', 'Re...       Mid-size car   \n",
       "\n",
       "      damage  \n",
       "0  Separated  \n",
       "1  Scratched  \n",
       "2    Crushed  \n",
       "3   Breakage  \n",
       "4  Scratched  "
      ]
     },
     "execution_count": 63,
     "metadata": {},
     "output_type": "execute_result"
    }
   ],
   "source": [
    "repair_price = pd.read_csv(\"repair_price.csv\")\n",
    "repair_price.head()"
   ]
  },
  {
   "cell_type": "code",
   "execution_count": 241,
   "id": "e7541859",
   "metadata": {},
   "outputs": [],
   "source": [
    "car_data = car_data.sort_values(\"category_id\", ignore_index=True)"
   ]
  },
  {
   "cell_type": "code",
   "execution_count": 244,
   "id": "e9ef5b21",
   "metadata": {},
   "outputs": [
    {
     "data": {
      "application/vnd.jupyter.widget-view+json": {
       "model_id": "f0266d68f3034b99a8da594decd64c86",
       "version_major": 2,
       "version_minor": 0
      },
      "text/plain": [
       "  0%|          | 0/232719 [00:00<?, ?it/s]"
      ]
     },
     "metadata": {},
     "output_type": "display_data"
    }
   ],
   "source": [
    "#### 하나의 문자열로 이루어진 repair값에서 필요한 단어만 추출 ####\n",
    "repair_list = [\"sheet_metal\", \"exchange\", \"coating\", \"repair\"]\n",
    "ex_list = []\n",
    "\n",
    "for idx in tqdm(range(0, len(car_data[\"repair\"]))):\n",
    "    repair_method = car_data[\"repair\"][idx][1:-1].replace(\"(R)\", \"\").replace(\"'\", \"\").split(\":\")\n",
    "    repair_method = [ method.split(\",\") for method in repair_method ]\n",
    "    repair_method = [ repair_method[i][j].replace(\"'\", \"\").strip() for i in range(len(repair_method)) \n",
    "                                                                    for j in range(len(repair_method[i])) ]\n",
    "    ex = []\n",
    "    for i in range(len(repair_method)):\n",
    "        if (repair_method[i] in repair_list) == True :\n",
    "            ex.append(repair_method[i])\n",
    "    ex_list.append(list(set(ex)))"
   ]
  },
  {
   "cell_type": "code",
   "execution_count": 273,
   "id": "a4bcf5e4",
   "metadata": {},
   "outputs": [],
   "source": [
    "for i in range(len(ex_list)):\n",
    "    ww[i].append(car_data[\"damage\"][i])"
   ]
  },
  {
   "cell_type": "code",
   "execution_count": 271,
   "id": "e49bd3b6",
   "metadata": {
    "scrolled": true
   },
   "outputs": [],
   "source": [
    "ww = ex_list"
   ]
  },
  {
   "cell_type": "code",
   "execution_count": 263,
   "id": "3516ec26",
   "metadata": {},
   "outputs": [],
   "source": [
    "dd_list = list(car_data[\"damage\"])"
   ]
  },
  {
   "cell_type": "code",
   "execution_count": 284,
   "id": "c18c01bc",
   "metadata": {},
   "outputs": [
    {
     "data": {
      "text/html": [
       "<div>\n",
       "<style scoped>\n",
       "    .dataframe tbody tr th:only-of-type {\n",
       "        vertical-align: middle;\n",
       "    }\n",
       "\n",
       "    .dataframe tbody tr th {\n",
       "        vertical-align: top;\n",
       "    }\n",
       "\n",
       "    .dataframe thead th {\n",
       "        text-align: right;\n",
       "    }\n",
       "</style>\n",
       "<table border=\"1\" class=\"dataframe\">\n",
       "  <thead>\n",
       "    <tr style=\"text-align: right;\">\n",
       "      <th></th>\n",
       "      <th>sheet_metal</th>\n",
       "      <th>exchange</th>\n",
       "      <th>coating</th>\n",
       "      <th>repair</th>\n",
       "    </tr>\n",
       "  </thead>\n",
       "  <tbody>\n",
       "    <tr>\n",
       "      <th>Scratched</th>\n",
       "      <td>0</td>\n",
       "      <td>0</td>\n",
       "      <td>0</td>\n",
       "      <td>0</td>\n",
       "    </tr>\n",
       "    <tr>\n",
       "      <th>Separated</th>\n",
       "      <td>0</td>\n",
       "      <td>0</td>\n",
       "      <td>0</td>\n",
       "      <td>0</td>\n",
       "    </tr>\n",
       "    <tr>\n",
       "      <th>Crushed</th>\n",
       "      <td>0</td>\n",
       "      <td>0</td>\n",
       "      <td>0</td>\n",
       "      <td>0</td>\n",
       "    </tr>\n",
       "    <tr>\n",
       "      <th>Breakage</th>\n",
       "      <td>0</td>\n",
       "      <td>0</td>\n",
       "      <td>0</td>\n",
       "      <td>0</td>\n",
       "    </tr>\n",
       "  </tbody>\n",
       "</table>\n",
       "</div>"
      ],
      "text/plain": [
       "           sheet_metal  exchange  coating  repair\n",
       "Scratched            0         0        0       0\n",
       "Separated            0         0        0       0\n",
       "Crushed              0         0        0       0\n",
       "Breakage             0         0        0       0"
      ]
     },
     "execution_count": 284,
     "metadata": {},
     "output_type": "execute_result"
    }
   ],
   "source": [
    "damage_list = [\"Scratched\", \"Separated\", \"Crushed\", \"Breakage\"]\n",
    "repair_list = [\"sheet_metal\", \"exchange\", \"coating\", \"repair\"]\n",
    "\n",
    "count = pd.DataFrame(index=damage_list, columns=repair_list, data=0)\n",
    "count"
   ]
  },
  {
   "cell_type": "code",
   "execution_count": 294,
   "id": "2b103405",
   "metadata": {},
   "outputs": [],
   "source": [
    "for i in range(len(ww)):\n",
    "    for j in range(len(ww[i][:-1])):\n",
    "        count.loc[ww[i][-1]][ww[i][j]] += 1"
   ]
  },
  {
   "cell_type": "code",
   "execution_count": 295,
   "id": "9b95408f",
   "metadata": {},
   "outputs": [
    {
     "data": {
      "text/html": [
       "<div>\n",
       "<style scoped>\n",
       "    .dataframe tbody tr th:only-of-type {\n",
       "        vertical-align: middle;\n",
       "    }\n",
       "\n",
       "    .dataframe tbody tr th {\n",
       "        vertical-align: top;\n",
       "    }\n",
       "\n",
       "    .dataframe thead th {\n",
       "        text-align: right;\n",
       "    }\n",
       "</style>\n",
       "<table border=\"1\" class=\"dataframe\">\n",
       "  <thead>\n",
       "    <tr style=\"text-align: right;\">\n",
       "      <th></th>\n",
       "      <th>sheet_metal</th>\n",
       "      <th>exchange</th>\n",
       "      <th>coating</th>\n",
       "      <th>repair</th>\n",
       "    </tr>\n",
       "  </thead>\n",
       "  <tbody>\n",
       "    <tr>\n",
       "      <th>Scratched</th>\n",
       "      <td>46824</td>\n",
       "      <td>64980</td>\n",
       "      <td>94497</td>\n",
       "      <td>37195</td>\n",
       "    </tr>\n",
       "    <tr>\n",
       "      <th>Separated</th>\n",
       "      <td>25616</td>\n",
       "      <td>41737</td>\n",
       "      <td>50657</td>\n",
       "      <td>15485</td>\n",
       "    </tr>\n",
       "    <tr>\n",
       "      <th>Crushed</th>\n",
       "      <td>26779</td>\n",
       "      <td>32826</td>\n",
       "      <td>42346</td>\n",
       "      <td>12451</td>\n",
       "    </tr>\n",
       "    <tr>\n",
       "      <th>Breakage</th>\n",
       "      <td>15643</td>\n",
       "      <td>33474</td>\n",
       "      <td>35022</td>\n",
       "      <td>7752</td>\n",
       "    </tr>\n",
       "  </tbody>\n",
       "</table>\n",
       "</div>"
      ],
      "text/plain": [
       "           sheet_metal  exchange  coating  repair\n",
       "Scratched        46824     64980    94497   37195\n",
       "Separated        25616     41737    50657   15485\n",
       "Crushed          26779     32826    42346   12451\n",
       "Breakage         15643     33474    35022    7752"
      ]
     },
     "execution_count": 295,
     "metadata": {},
     "output_type": "execute_result"
    }
   ],
   "source": [
    "count"
   ]
  },
  {
   "cell_type": "code",
   "execution_count": 39,
   "id": "412f118a",
   "metadata": {},
   "outputs": [],
   "source": [
    "count.to_csv(\"repair_count.csv\")"
   ]
  },
  {
   "cell_type": "markdown",
   "id": "a03ac942",
   "metadata": {},
   "source": [
    "---"
   ]
  },
  {
   "cell_type": "code",
   "execution_count": 50,
   "id": "5dcb9c20",
   "metadata": {},
   "outputs": [],
   "source": [
    "count = pd.read_csv(\"repair_count.csv\")\n",
    "count.rename(columns={'Unnamed: 0': 'acc'}, inplace=True)\n",
    "count.set_index(\"acc\", inplace=True)"
   ]
  },
  {
   "cell_type": "code",
   "execution_count": 57,
   "id": "1905b152",
   "metadata": {},
   "outputs": [
    {
     "data": {
      "text/html": [
       "<div>\n",
       "<style scoped>\n",
       "    .dataframe tbody tr th:only-of-type {\n",
       "        vertical-align: middle;\n",
       "    }\n",
       "\n",
       "    .dataframe tbody tr th {\n",
       "        vertical-align: top;\n",
       "    }\n",
       "\n",
       "    .dataframe thead th {\n",
       "        text-align: right;\n",
       "    }\n",
       "</style>\n",
       "<table border=\"1\" class=\"dataframe\">\n",
       "  <thead>\n",
       "    <tr style=\"text-align: right;\">\n",
       "      <th></th>\n",
       "      <th>sheet_metal</th>\n",
       "      <th>exchange</th>\n",
       "      <th>coating</th>\n",
       "      <th>repair</th>\n",
       "    </tr>\n",
       "    <tr>\n",
       "      <th>acc</th>\n",
       "      <th></th>\n",
       "      <th></th>\n",
       "      <th></th>\n",
       "      <th></th>\n",
       "    </tr>\n",
       "  </thead>\n",
       "  <tbody>\n",
       "    <tr>\n",
       "      <th>Scratched</th>\n",
       "      <td>46824</td>\n",
       "      <td>64980</td>\n",
       "      <td>94497</td>\n",
       "      <td>37195</td>\n",
       "    </tr>\n",
       "    <tr>\n",
       "      <th>Separated</th>\n",
       "      <td>25616</td>\n",
       "      <td>41737</td>\n",
       "      <td>50657</td>\n",
       "      <td>15485</td>\n",
       "    </tr>\n",
       "    <tr>\n",
       "      <th>Crushed</th>\n",
       "      <td>26779</td>\n",
       "      <td>32826</td>\n",
       "      <td>42346</td>\n",
       "      <td>12451</td>\n",
       "    </tr>\n",
       "    <tr>\n",
       "      <th>Breakage</th>\n",
       "      <td>15643</td>\n",
       "      <td>33474</td>\n",
       "      <td>35022</td>\n",
       "      <td>7752</td>\n",
       "    </tr>\n",
       "  </tbody>\n",
       "</table>\n",
       "</div>"
      ],
      "text/plain": [
       "           sheet_metal  exchange  coating  repair\n",
       "acc                                              \n",
       "Scratched        46824     64980    94497   37195\n",
       "Separated        25616     41737    50657   15485\n",
       "Crushed          26779     32826    42346   12451\n",
       "Breakage         15643     33474    35022    7752"
      ]
     },
     "execution_count": 57,
     "metadata": {},
     "output_type": "execute_result"
    }
   ],
   "source": [
    "count"
   ]
  },
  {
   "cell_type": "code",
   "execution_count": 59,
   "id": "818b3891",
   "metadata": {
    "scrolled": false
   },
   "outputs": [
    {
     "data": {
      "image/png": "[encoded data removed]",
      "text/plain": [
       "<Figure size 1000x600 with 1 Axes>"
      ]
     },
     "metadata": {},
     "output_type": "display_data"
    }
   ],
   "source": [
    "# 그림 사이즈, 바 굵기 조정\n",
    "plt.subplots(figsize=(10,6))\n",
    "bar_width = 0.15\n",
    "\n",
    "# 수리 방법이 4개이므로 0, 1, 2, 3 위치를 기준으로 삼음\n",
    "index = np.arange(4)\n",
    "\n",
    "# 각 연도별로 3개 샵의 bar를 순서대로 나타내는 과정, 각 그래프는 0.25의 간격을 두고 그려짐\n",
    "b1 = plt.bar(index, count['sheet_metal'], bar_width, alpha=0.4, color='red', label='sheet_metal')\n",
    "b2 = plt.bar(index + bar_width, count['exchange'], bar_width, alpha=0.4, color='yellow', label='exchange')\n",
    "b3 = plt.bar(index + 2 * bar_width, count['coating'], bar_width, alpha=0.4, color='green', label='coating')\n",
    "b4 = plt.bar(index + 3 * bar_width, count['repair'], bar_width, alpha=0.4, color='blue', label='repair')\n",
    "\n",
    "# x축 위치를 정 가운데로 조정하고 x축의 텍스트를 파손 정보와 매칭\n",
    "plt.xticks(np.arange(0.225, 4 + bar_width, 1), count.index)\n",
    "\n",
    "# x축, y축 이름 및 범례 설정\n",
    "plt.xlabel('파손 유형', size = 13)\n",
    "plt.ylabel('수리 방법', size = 13)\n",
    "\n",
    "plt.legend()\n",
    "plt.show()"
   ]
  },
  {
   "cell_type": "markdown",
   "id": "f4b3053a",
   "metadata": {},
   "source": [
    "----"
   ]
  },
  {
   "cell_type": "code",
   "execution_count": 2,
   "id": "c0d4b2bf",
   "metadata": {},
   "outputs": [
    {
     "data": {
      "text/html": [
       "<div>\n",
       "<style scoped>\n",
       "    .dataframe tbody tr th:only-of-type {\n",
       "        vertical-align: middle;\n",
       "    }\n",
       "\n",
       "    .dataframe tbody tr th {\n",
       "        vertical-align: top;\n",
       "    }\n",
       "\n",
       "    .dataframe thead th {\n",
       "        text-align: right;\n",
       "    }\n",
       "</style>\n",
       "<table border=\"1\" class=\"dataframe\">\n",
       "  <thead>\n",
       "    <tr style=\"text-align: right;\">\n",
       "      <th></th>\n",
       "      <th>category_id</th>\n",
       "      <th>coating</th>\n",
       "      <th>sheet_metal</th>\n",
       "      <th>exchange</th>\n",
       "      <th>total</th>\n",
       "      <th>repair</th>\n",
       "      <th>supercategory_name</th>\n",
       "      <th>damage</th>\n",
       "    </tr>\n",
       "  </thead>\n",
       "  <tbody>\n",
       "    <tr>\n",
       "      <th>0</th>\n",
       "      <td>as-0000025</td>\n",
       "      <td>488500</td>\n",
       "      <td>175000</td>\n",
       "      <td>145750</td>\n",
       "      <td>1121128</td>\n",
       "      <td>['Front door', 'Rear fender', 'Front bumper', ...</td>\n",
       "      <td>Full-size car</td>\n",
       "      <td>Separated</td>\n",
       "    </tr>\n",
       "    <tr>\n",
       "      <th>1</th>\n",
       "      <td>as-0000025</td>\n",
       "      <td>488500</td>\n",
       "      <td>175000</td>\n",
       "      <td>145750</td>\n",
       "      <td>1121128</td>\n",
       "      <td>['Front door', 'Rear fender', 'Front bumper', ...</td>\n",
       "      <td>Full-size car</td>\n",
       "      <td>Scratched</td>\n",
       "    </tr>\n",
       "    <tr>\n",
       "      <th>2</th>\n",
       "      <td>as-0000025</td>\n",
       "      <td>488500</td>\n",
       "      <td>175000</td>\n",
       "      <td>145750</td>\n",
       "      <td>1121128</td>\n",
       "      <td>['Front door', 'Rear fender', 'Front bumper', ...</td>\n",
       "      <td>Full-size car</td>\n",
       "      <td>Crushed</td>\n",
       "    </tr>\n",
       "    <tr>\n",
       "      <th>3</th>\n",
       "      <td>as-0000027</td>\n",
       "      <td>496500</td>\n",
       "      <td>262500</td>\n",
       "      <td>267750</td>\n",
       "      <td>1293228</td>\n",
       "      <td>['Front door', 'Rear fender', 'Rear door', 'Re...</td>\n",
       "      <td>Mid-size car</td>\n",
       "      <td>Breakage</td>\n",
       "    </tr>\n",
       "    <tr>\n",
       "      <th>4</th>\n",
       "      <td>as-0000027</td>\n",
       "      <td>496500</td>\n",
       "      <td>262500</td>\n",
       "      <td>267750</td>\n",
       "      <td>1293228</td>\n",
       "      <td>['Front door', 'Rear fender', 'Rear door', 'Re...</td>\n",
       "      <td>Mid-size car</td>\n",
       "      <td>Scratched</td>\n",
       "    </tr>\n",
       "  </tbody>\n",
       "</table>\n",
       "</div>"
      ],
      "text/plain": [
       "  category_id  coating  sheet_metal  exchange    total  \\\n",
       "0  as-0000025   488500       175000    145750  1121128   \n",
       "1  as-0000025   488500       175000    145750  1121128   \n",
       "2  as-0000025   488500       175000    145750  1121128   \n",
       "3  as-0000027   496500       262500    267750  1293228   \n",
       "4  as-0000027   496500       262500    267750  1293228   \n",
       "\n",
       "                                              repair supercategory_name  \\\n",
       "0  ['Front door', 'Rear fender', 'Front bumper', ...      Full-size car   \n",
       "1  ['Front door', 'Rear fender', 'Front bumper', ...      Full-size car   \n",
       "2  ['Front door', 'Rear fender', 'Front bumper', ...      Full-size car   \n",
       "3  ['Front door', 'Rear fender', 'Rear door', 'Re...       Mid-size car   \n",
       "4  ['Front door', 'Rear fender', 'Rear door', 'Re...       Mid-size car   \n",
       "\n",
       "      damage  \n",
       "0  Separated  \n",
       "1  Scratched  \n",
       "2    Crushed  \n",
       "3   Breakage  \n",
       "4  Scratched  "
      ]
     },
     "execution_count": 2,
     "metadata": {},
     "output_type": "execute_result"
    }
   ],
   "source": [
    "price = pd.read_csv(\"repair_price.csv\")\n",
    "price.head()"
   ]
  },
  {
   "cell_type": "code",
   "execution_count": 3,
   "id": "b4db747e",
   "metadata": {},
   "outputs": [
    {
     "data": {
      "text/plain": [
       "Int64Index([    49,     50,     51,     52,     98,    133,    134,    135,\n",
       "               161,    162,\n",
       "            ...\n",
       "            232660, 232661, 232662, 232663, 232672, 232686, 232687, 232690,\n",
       "            232691, 232692],\n",
       "           dtype='int64', length=40100)"
      ]
     },
     "execution_count": 3,
     "metadata": {},
     "output_type": "execute_result"
    }
   ],
   "source": [
    "price[price[\"supercategory_name\"]==\"CityCar\"].index"
   ]
  },
  {
   "cell_type": "code",
   "execution_count": 4,
   "id": "5e8270c7",
   "metadata": {},
   "outputs": [],
   "source": [
    "#### City car -> Compact car ####\n",
    "price.loc[price[price[\"supercategory_name\"]==\"CityCar\"].index, \"supercategory_name\"] = \"Compact car\""
   ]
  },
  {
   "cell_type": "code",
   "execution_count": 5,
   "id": "48c1e00a",
   "metadata": {
    "scrolled": true
   },
   "outputs": [
    {
     "data": {
      "text/html": [
       "<div>\n",
       "<style scoped>\n",
       "    .dataframe tbody tr th:only-of-type {\n",
       "        vertical-align: middle;\n",
       "    }\n",
       "\n",
       "    .dataframe tbody tr th {\n",
       "        vertical-align: top;\n",
       "    }\n",
       "\n",
       "    .dataframe thead th {\n",
       "        text-align: right;\n",
       "    }\n",
       "</style>\n",
       "<table border=\"1\" class=\"dataframe\">\n",
       "  <thead>\n",
       "    <tr style=\"text-align: right;\">\n",
       "      <th></th>\n",
       "      <th>coating</th>\n",
       "      <th>sheet_metal</th>\n",
       "      <th>exchange</th>\n",
       "      <th>total</th>\n",
       "    </tr>\n",
       "    <tr>\n",
       "      <th>supercategory_name</th>\n",
       "      <th></th>\n",
       "      <th></th>\n",
       "      <th></th>\n",
       "      <th></th>\n",
       "    </tr>\n",
       "  </thead>\n",
       "  <tbody>\n",
       "    <tr>\n",
       "      <th>Compact car</th>\n",
       "      <td>152423.0</td>\n",
       "      <td>60618.0</td>\n",
       "      <td>112087.0</td>\n",
       "      <td>436686.0</td>\n",
       "    </tr>\n",
       "    <tr>\n",
       "      <th>Full-size car</th>\n",
       "      <td>263665.0</td>\n",
       "      <td>97741.0</td>\n",
       "      <td>209844.0</td>\n",
       "      <td>715574.0</td>\n",
       "    </tr>\n",
       "    <tr>\n",
       "      <th>Mid-size car</th>\n",
       "      <td>192738.0</td>\n",
       "      <td>71341.0</td>\n",
       "      <td>151106.0</td>\n",
       "      <td>543426.0</td>\n",
       "    </tr>\n",
       "  </tbody>\n",
       "</table>\n",
       "</div>"
      ],
      "text/plain": [
       "                     coating  sheet_metal  exchange     total\n",
       "supercategory_name                                           \n",
       "Compact car         152423.0      60618.0  112087.0  436686.0\n",
       "Full-size car       263665.0      97741.0  209844.0  715574.0\n",
       "Mid-size car        192738.0      71341.0  151106.0  543426.0"
      ]
     },
     "execution_count": 5,
     "metadata": {},
     "output_type": "execute_result"
    }
   ],
   "source": [
    "price.groupby([\"supercategory_name\"])[[\"coating\", \"sheet_metal\", \"exchange\", \"total\"]].mean().round()"
   ]
  },
  {
   "cell_type": "code",
   "execution_count": 7,
   "id": "9e5b24ff",
   "metadata": {},
   "outputs": [],
   "source": [
    "price.to_csv(\"repair_price2.csv\", index=False)"
   ]
  },
  {
   "cell_type": "code",
   "execution_count": 94,
   "id": "4d864030",
   "metadata": {},
   "outputs": [
    {
     "data": {
      "text/html": [
       "<div>\n",
       "<style scoped>\n",
       "    .dataframe tbody tr th:only-of-type {\n",
       "        vertical-align: middle;\n",
       "    }\n",
       "\n",
       "    .dataframe tbody tr th {\n",
       "        vertical-align: top;\n",
       "    }\n",
       "\n",
       "    .dataframe thead th {\n",
       "        text-align: right;\n",
       "    }\n",
       "</style>\n",
       "<table border=\"1\" class=\"dataframe\">\n",
       "  <thead>\n",
       "    <tr style=\"text-align: right;\">\n",
       "      <th></th>\n",
       "      <th></th>\n",
       "      <th>coating</th>\n",
       "      <th>sheet_metal</th>\n",
       "      <th>exchange</th>\n",
       "      <th>total</th>\n",
       "    </tr>\n",
       "    <tr>\n",
       "      <th>supercategory_name</th>\n",
       "      <th>damage</th>\n",
       "      <th></th>\n",
       "      <th></th>\n",
       "      <th></th>\n",
       "      <th></th>\n",
       "    </tr>\n",
       "  </thead>\n",
       "  <tbody>\n",
       "    <tr>\n",
       "      <th rowspan=\"4\" valign=\"top\">Compact car</th>\n",
       "      <th>Breakage</th>\n",
       "      <td>141496.0</td>\n",
       "      <td>55732.0</td>\n",
       "      <td>135998.0</td>\n",
       "      <td>448344.0</td>\n",
       "    </tr>\n",
       "    <tr>\n",
       "      <th>Crushed</th>\n",
       "      <td>173471.0</td>\n",
       "      <td>73228.0</td>\n",
       "      <td>121328.0</td>\n",
       "      <td>490353.0</td>\n",
       "    </tr>\n",
       "    <tr>\n",
       "      <th>Scratched</th>\n",
       "      <td>145747.0</td>\n",
       "      <td>56640.0</td>\n",
       "      <td>94421.0</td>\n",
       "      <td>401302.0</td>\n",
       "    </tr>\n",
       "    <tr>\n",
       "      <th>Separated</th>\n",
       "      <td>153331.0</td>\n",
       "      <td>60038.0</td>\n",
       "      <td>119921.0</td>\n",
       "      <td>445828.0</td>\n",
       "    </tr>\n",
       "    <tr>\n",
       "      <th rowspan=\"4\" valign=\"top\">Full-size car</th>\n",
       "      <th>Breakage</th>\n",
       "      <td>255537.0</td>\n",
       "      <td>94535.0</td>\n",
       "      <td>248448.0</td>\n",
       "      <td>743792.0</td>\n",
       "    </tr>\n",
       "    <tr>\n",
       "      <th>Crushed</th>\n",
       "      <td>288792.0</td>\n",
       "      <td>113289.0</td>\n",
       "      <td>229170.0</td>\n",
       "      <td>791361.0</td>\n",
       "    </tr>\n",
       "    <tr>\n",
       "      <th>Scratched</th>\n",
       "      <td>251950.0</td>\n",
       "      <td>89635.0</td>\n",
       "      <td>176721.0</td>\n",
       "      <td>653062.0</td>\n",
       "    </tr>\n",
       "    <tr>\n",
       "      <th>Separated</th>\n",
       "      <td>271093.0</td>\n",
       "      <td>102714.0</td>\n",
       "      <td>230898.0</td>\n",
       "      <td>753660.0</td>\n",
       "    </tr>\n",
       "    <tr>\n",
       "      <th rowspan=\"4\" valign=\"top\">Mid-size car</th>\n",
       "      <th>Breakage</th>\n",
       "      <td>182951.0</td>\n",
       "      <td>64955.0</td>\n",
       "      <td>175416.0</td>\n",
       "      <td>551392.0</td>\n",
       "    </tr>\n",
       "    <tr>\n",
       "      <th>Crushed</th>\n",
       "      <td>226774.0</td>\n",
       "      <td>90430.0</td>\n",
       "      <td>169579.0</td>\n",
       "      <td>634034.0</td>\n",
       "    </tr>\n",
       "    <tr>\n",
       "      <th>Scratched</th>\n",
       "      <td>181850.0</td>\n",
       "      <td>65715.0</td>\n",
       "      <td>127552.0</td>\n",
       "      <td>494459.0</td>\n",
       "    </tr>\n",
       "    <tr>\n",
       "      <th>Separated</th>\n",
       "      <td>193322.0</td>\n",
       "      <td>71430.0</td>\n",
       "      <td>162684.0</td>\n",
       "      <td>557381.0</td>\n",
       "    </tr>\n",
       "  </tbody>\n",
       "</table>\n",
       "</div>"
      ],
      "text/plain": [
       "                               coating  sheet_metal  exchange     total\n",
       "supercategory_name damage                                              \n",
       "Compact car        Breakage   141496.0      55732.0  135998.0  448344.0\n",
       "                   Crushed    173471.0      73228.0  121328.0  490353.0\n",
       "                   Scratched  145747.0      56640.0   94421.0  401302.0\n",
       "                   Separated  153331.0      60038.0  119921.0  445828.0\n",
       "Full-size car      Breakage   255537.0      94535.0  248448.0  743792.0\n",
       "                   Crushed    288792.0     113289.0  229170.0  791361.0\n",
       "                   Scratched  251950.0      89635.0  176721.0  653062.0\n",
       "                   Separated  271093.0     102714.0  230898.0  753660.0\n",
       "Mid-size car       Breakage   182951.0      64955.0  175416.0  551392.0\n",
       "                   Crushed    226774.0      90430.0  169579.0  634034.0\n",
       "                   Scratched  181850.0      65715.0  127552.0  494459.0\n",
       "                   Separated  193322.0      71430.0  162684.0  557381.0"
      ]
     },
     "execution_count": 94,
     "metadata": {},
     "output_type": "execute_result"
    }
   ],
   "source": [
    "price.groupby([\"supercategory_name\", \"damage\"])[[\"coating\", \"sheet_metal\", \"exchange\", \"total\"]].mean().round()"
   ]
  },
  {
   "cell_type": "code",
   "execution_count": null,
   "id": "fd8c5271",
   "metadata": {},
   "outputs": [],
   "source": []
  },
  {
   "cell_type": "code",
   "execution_count": null,
   "id": "08fd0d26",
   "metadata": {},
   "outputs": [],
   "source": []
  },
  {
   "cell_type": "code",
   "execution_count": 63,
   "id": "2e54fa2d",
   "metadata": {},
   "outputs": [
    {
     "data": {
      "text/plain": [
       "232714"
      ]
     },
     "execution_count": 63,
     "metadata": {},
     "output_type": "execute_result"
    }
   ],
   "source": [
    "len(repair2)"
   ]
  },
  {
   "cell_type": "code",
   "execution_count": 26,
   "id": "e70c10b2",
   "metadata": {},
   "outputs": [],
   "source": [
    "repair2 = pd.read_csv(\"C:\\\\Users\\\\owner\\\\PythonWork\\\\Final_project\\\\repair_price2.csv\")"
   ]
  },
  {
   "cell_type": "code",
   "execution_count": 28,
   "id": "f18266ac",
   "metadata": {},
   "outputs": [],
   "source": [
    "car = pd.merge(repair2,car_color,how='inner',on='category_id')"
   ]
  },
  {
   "cell_type": "code",
   "execution_count": 29,
   "id": "c071a083",
   "metadata": {},
   "outputs": [],
   "source": [
    "car.to_csv(\"C:\\\\Users\\\\owner\\\\PythonWork\\\\Final_project\\\\car.csv\")"
   ]
  },
  {
   "cell_type": "code",
   "execution_count": 30,
   "id": "ab2a08b6",
   "metadata": {},
   "outputs": [
    {
     "data": {
      "text/plain": [
       "array(['White', 'Gray tone', 'Black', 'Blue tone', 'Others', 'Red tone'],\n",
       "      dtype=object)"
      ]
     },
     "execution_count": 30,
     "metadata": {},
     "output_type": "execute_result"
    }
   ],
   "source": [
    "car[\"color\"].unique()"
   ]
  },
  {
   "cell_type": "code",
   "execution_count": null,
   "id": "98dcc194",
   "metadata": {},
   "outputs": [],
   "source": []
  },
  {
   "cell_type": "code",
   "execution_count": null,
   "id": "6891786e",
   "metadata": {},
   "outputs": [],
   "source": []
  },
  {
   "cell_type": "code",
   "execution_count": null,
   "id": "651ca5e4",
   "metadata": {},
   "outputs": [],
   "source": []
  },
  {
   "cell_type": "code",
   "execution_count": null,
   "id": "8b544bca",
   "metadata": {},
   "outputs": [],
   "source": []
  },
  {
   "cell_type": "code",
   "execution_count": null,
   "id": "011defd3",
   "metadata": {},
   "outputs": [],
   "source": []
  }
 ],
 "metadata": {
  "kernelspec": {
   "display_name": "Python 3 (ipykernel)",
   "language": "python",
   "name": "python3"
  },
  "language_info": {
   "codemirror_mode": {
    "name": "ipython",
    "version": 3
   },
   "file_extension": ".py",
   "mimetype": "text/x-python",
   "name": "python",
   "nbconvert_exporter": "python",
   "pygments_lexer": "ipython3",
   "version": "3.10.9"
  }
 },
 "nbformat": 4,
 "nbformat_minor": 5
}
