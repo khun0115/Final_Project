{
 "cells": [
  {
   "cell_type": "markdown",
   "id": "43e75eb0",
   "metadata": {},
   "source": [
    "# 견적서 HQ"
   ]
  },
  {
   "cell_type": "code",
   "execution_count": 1,
   "id": "298796b8",
   "metadata": {},
   "outputs": [],
   "source": [
    "import numpy as np\n",
    "import pandas as pd\n",
    "import matplotlib.pyplot as plt\n",
    "import seaborn as sns\n",
    "import matplotlib.font_manager as fm\n",
    "font_name = fm.FontProperties(fname=\"C:\\Windows\\Fonts\\\\malgun.ttf\").get_name()\n",
    "plt.rc(\"font\", family=font_name)\n",
    "import matplotlib as mlp\n",
    "mlp.rcParams[\"axes.unicode_minus\"] = False\n",
    "\n",
    "from datetime import datetime\n",
    "import cv2\n",
    "import zipfile\n",
    "import shutil\n",
    "import os\n",
    "import glob\n",
    "import json\n",
    "from tqdm.notebook import tqdm"
   ]
  },
  {
   "cell_type": "markdown",
   "id": "3d3d15bc",
   "metadata": {},
   "source": [
    "## 1) 견적서 json 가져오기"
   ]
  },
  {
   "cell_type": "code",
   "execution_count": 2,
   "id": "09245b6b",
   "metadata": {},
   "outputs": [
    {
     "name": "stdout",
     "output_type": "stream",
     "text": [
      "125006\n"
     ]
    }
   ],
   "source": [
    "label_list = glob.glob(\"C:\\\\eun01\\\\car_repair\\\\training\\\\as_labeling_data\\\\*\")\n",
    "print(len(label_list))"
   ]
  },
  {
   "cell_type": "code",
   "execution_count": 3,
   "id": "f9506178",
   "metadata": {
    "scrolled": true
   },
   "outputs": [
    {
     "data": {
      "text/plain": [
       "'as-0000076'"
      ]
     },
     "execution_count": 3,
     "metadata": {},
     "output_type": "execute_result"
    }
   ],
   "source": [
    "label_list[40].split(\"\\\\\")[-1][:-5]"
   ]
  },
  {
   "cell_type": "code",
   "execution_count": 220,
   "id": "05f81092",
   "metadata": {},
   "outputs": [],
   "source": [
    "with open(label_list[6],'rt', encoding='UTF8') as file:\n",
    "    contents=json.loads(file.read())"
   ]
  },
  {
   "cell_type": "code",
   "execution_count": 14,
   "id": "c316c628",
   "metadata": {},
   "outputs": [
    {
     "data": {
      "text/plain": [
       "'BMW 2시리즈'"
      ]
     },
     "execution_count": 14,
     "metadata": {},
     "output_type": "execute_result"
    }
   ],
   "source": [
    "contents[\"차량정보\"][\"차량명칭\"]"
   ]
  },
  {
   "cell_type": "code",
   "execution_count": 16,
   "id": "8852c906",
   "metadata": {},
   "outputs": [
    {
     "data": {
      "text/plain": [
       "'BMW'"
      ]
     },
     "execution_count": 16,
     "metadata": {},
     "output_type": "execute_result"
    }
   ],
   "source": [
    "contents[\"차량정보\"][\"제작사/차종\"]"
   ]
  },
  {
   "cell_type": "code",
   "execution_count": 140,
   "id": "f0940e92",
   "metadata": {},
   "outputs": [
    {
     "data": {
      "application/vnd.jupyter.widget-view+json": {
       "model_id": "7a2ccecb381143eab57a894cbc9311aa",
       "version_major": 2,
       "version_minor": 0
      },
      "text/plain": [
       "  0%|          | 0/125006 [00:00<?, ?it/s]"
      ]
     },
     "metadata": {},
     "output_type": "display_data"
    }
   ],
   "source": [
    "category_id=[]\n",
    "made=[]\n",
    "model=[]\n",
    "\n",
    "for file_name in tqdm(label_list):\n",
    "    with open(file_name,'rt', encoding='UTF8') as file:\n",
    "        contents=json.loads(file.read())\n",
    "    category_id.append(file_name.split(\"\\\\\")[-1][:-5])\n",
    "    made.append(contents[\"차량정보\"][\"제작사/차종\"])\n",
    "    model.append(contents[\"차량정보\"][\"차량명칭\"])\n",
    "\n",
    "\n",
    "data = pd.DataFrame({\"category_id\" : category_id, \"made\" : made, \"model\" : model})"
   ]
  },
  {
   "cell_type": "code",
   "execution_count": 141,
   "id": "cd612aa0",
   "metadata": {
    "scrolled": true
   },
   "outputs": [
    {
     "data": {
      "text/html": [
       "<div>\n",
       "<style scoped>\n",
       "    .dataframe tbody tr th:only-of-type {\n",
       "        vertical-align: middle;\n",
       "    }\n",
       "\n",
       "    .dataframe tbody tr th {\n",
       "        vertical-align: top;\n",
       "    }\n",
       "\n",
       "    .dataframe thead th {\n",
       "        text-align: right;\n",
       "    }\n",
       "</style>\n",
       "<table border=\"1\" class=\"dataframe\">\n",
       "  <thead>\n",
       "    <tr style=\"text-align: right;\">\n",
       "      <th></th>\n",
       "      <th>category_id</th>\n",
       "      <th>made</th>\n",
       "      <th>model</th>\n",
       "    </tr>\n",
       "  </thead>\n",
       "  <tbody>\n",
       "    <tr>\n",
       "      <th>0</th>\n",
       "      <td>as-0000002</td>\n",
       "      <td>FORD</td>\n",
       "      <td>포드</td>\n",
       "    </tr>\n",
       "    <tr>\n",
       "      <th>1</th>\n",
       "      <td>as-0000004</td>\n",
       "      <td>BMW</td>\n",
       "      <td>BMW 5시리즈</td>\n",
       "    </tr>\n",
       "    <tr>\n",
       "      <th>2</th>\n",
       "      <td>as-0000005</td>\n",
       "      <td>CITROEN</td>\n",
       "      <td>씨트로엥</td>\n",
       "    </tr>\n",
       "    <tr>\n",
       "      <th>3</th>\n",
       "      <td>as-0000009</td>\n",
       "      <td>BMW</td>\n",
       "      <td>BMW 520D</td>\n",
       "    </tr>\n",
       "    <tr>\n",
       "      <th>4</th>\n",
       "      <td>as-0000011</td>\n",
       "      <td>BMW</td>\n",
       "      <td>NEW BMW 740Li</td>\n",
       "    </tr>\n",
       "  </tbody>\n",
       "</table>\n",
       "</div>"
      ],
      "text/plain": [
       "  category_id     made          model\n",
       "0  as-0000002     FORD             포드\n",
       "1  as-0000004      BMW       BMW 5시리즈\n",
       "2  as-0000005  CITROEN           씨트로엥\n",
       "3  as-0000009      BMW       BMW 520D\n",
       "4  as-0000011      BMW  NEW BMW 740Li"
      ]
     },
     "execution_count": 141,
     "metadata": {},
     "output_type": "execute_result"
    }
   ],
   "source": [
    "data.head()"
   ]
  },
  {
   "cell_type": "markdown",
   "id": "1f0c453e",
   "metadata": {},
   "source": [
    "#### 외제차 제외"
   ]
  },
  {
   "cell_type": "code",
   "execution_count": 142,
   "id": "f4b72406",
   "metadata": {},
   "outputs": [],
   "source": [
    "kor_index = pd.read_csv(\"kor_car.csv\")\n",
    "kor_index.rename(columns = {\"file_name\" : 'category_id'}, inplace = True)"
   ]
  },
  {
   "cell_type": "code",
   "execution_count": 143,
   "id": "3da5c8d3",
   "metadata": {},
   "outputs": [],
   "source": [
    "data = pd.merge(data, kor_index, how='inner', on='category_id')"
   ]
  },
  {
   "cell_type": "code",
   "execution_count": 144,
   "id": "a4b2dd50",
   "metadata": {},
   "outputs": [
    {
     "data": {
      "text/plain": [
       "121709"
      ]
     },
     "execution_count": 144,
     "metadata": {},
     "output_type": "execute_result"
    }
   ],
   "source": [
    "len(data)"
   ]
  },
  {
   "cell_type": "markdown",
   "id": "c7e19d87",
   "metadata": {},
   "source": [
    "## 2) 차량 크기 추가"
   ]
  },
  {
   "cell_type": "code",
   "execution_count": 145,
   "id": "201cb923",
   "metadata": {},
   "outputs": [
    {
     "data": {
      "text/plain": [
       "array(['기아', '한국GM', '현대', '쌍용', '르노삼성', '현대 / RV', '현대 / 승용', '기아 / RV',\n",
       "       '기아 / 승용', '쌍용 / RV', '한국GM / 승용', '르노삼성 / 승용', '한국GM / RV',\n",
       "       '르노삼성 / RV', '기아 / 지프'], dtype=object)"
      ]
     },
     "execution_count": 145,
     "metadata": {},
     "output_type": "execute_result"
    }
   ],
   "source": [
    "data[\"made\"].unique()"
   ]
  },
  {
   "cell_type": "code",
   "execution_count": 118,
   "id": "fedca741",
   "metadata": {},
   "outputs": [],
   "source": [
    "car_repair1 = pd.read_csv(\"car_repair1.csv\")\n",
    "car_repair2 = pd.read_csv(\"car_repair2.csv\")\n",
    "car_repair3 = pd.read_csv(\"car_repair3.csv\")"
   ]
  },
  {
   "cell_type": "code",
   "execution_count": 146,
   "id": "2f86ea08",
   "metadata": {},
   "outputs": [
    {
     "data": {
      "text/html": [
       "<div>\n",
       "<style scoped>\n",
       "    .dataframe tbody tr th:only-of-type {\n",
       "        vertical-align: middle;\n",
       "    }\n",
       "\n",
       "    .dataframe tbody tr th {\n",
       "        vertical-align: top;\n",
       "    }\n",
       "\n",
       "    .dataframe thead th {\n",
       "        text-align: right;\n",
       "    }\n",
       "</style>\n",
       "<table border=\"1\" class=\"dataframe\">\n",
       "  <thead>\n",
       "    <tr style=\"text-align: right;\">\n",
       "      <th></th>\n",
       "      <th>image_id</th>\n",
       "      <th>category_id</th>\n",
       "      <th>segmentation</th>\n",
       "      <th>area</th>\n",
       "      <th>bbox</th>\n",
       "      <th>damage</th>\n",
       "      <th>year</th>\n",
       "      <th>color</th>\n",
       "      <th>repair</th>\n",
       "      <th>supercategory_name</th>\n",
       "    </tr>\n",
       "  </thead>\n",
       "  <tbody>\n",
       "    <tr>\n",
       "      <th>0</th>\n",
       "      <td>2</td>\n",
       "      <td>as-0036229</td>\n",
       "      <td>[[[[438, 504], [440, 443], [436, 419], [439, 4...</td>\n",
       "      <td>14977.0</td>\n",
       "      <td>[336, 159, 198, 345]</td>\n",
       "      <td>Breakage</td>\n",
       "      <td>2020</td>\n",
       "      <td>Black</td>\n",
       "      <td>['Rear bumper:coating,exchange']</td>\n",
       "      <td>Full-size car</td>\n",
       "    </tr>\n",
       "    <tr>\n",
       "      <th>1</th>\n",
       "      <td>3</td>\n",
       "      <td>as-0036229</td>\n",
       "      <td>[[[[469, 497], [448, 479], [458, 437], [461, 4...</td>\n",
       "      <td>7186.5</td>\n",
       "      <td>[378, 209, 154, 288]</td>\n",
       "      <td>Breakage</td>\n",
       "      <td>2020</td>\n",
       "      <td>Black</td>\n",
       "      <td>['Rear bumper:coating,exchange']</td>\n",
       "      <td>Full-size car</td>\n",
       "    </tr>\n",
       "    <tr>\n",
       "      <th>2</th>\n",
       "      <td>4</td>\n",
       "      <td>as-0036229</td>\n",
       "      <td>[[[[73, 596], [69, 588], [67, 582], [65, 575],...</td>\n",
       "      <td>749.5</td>\n",
       "      <td>[53, 543, 31, 53]</td>\n",
       "      <td>Breakage</td>\n",
       "      <td>2020</td>\n",
       "      <td>Black</td>\n",
       "      <td>['Rear bumper:coating,exchange']</td>\n",
       "      <td>Full-size car</td>\n",
       "    </tr>\n",
       "    <tr>\n",
       "      <th>3</th>\n",
       "      <td>4</td>\n",
       "      <td>as-0036229</td>\n",
       "      <td>[[[[107, 371], [108, 362], [445, 361], [795, 3...</td>\n",
       "      <td>13872.5</td>\n",
       "      <td>[107, 356, 688, 29]</td>\n",
       "      <td>Scratched</td>\n",
       "      <td>2020</td>\n",
       "      <td>Black</td>\n",
       "      <td>['Rear bumper:coating,exchange']</td>\n",
       "      <td>Full-size car</td>\n",
       "    </tr>\n",
       "    <tr>\n",
       "      <th>4</th>\n",
       "      <td>5</td>\n",
       "      <td>as-0036229</td>\n",
       "      <td>[[[[77, 390], [87, 375], [452, 351], [560, 356...</td>\n",
       "      <td>22816.0</td>\n",
       "      <td>[77, 351, 690, 52]</td>\n",
       "      <td>Scratched</td>\n",
       "      <td>2020</td>\n",
       "      <td>Black</td>\n",
       "      <td>['Rear bumper:coating,exchange']</td>\n",
       "      <td>Full-size car</td>\n",
       "    </tr>\n",
       "  </tbody>\n",
       "</table>\n",
       "</div>"
      ],
      "text/plain": [
       "   image_id category_id                                       segmentation  \\\n",
       "0         2  as-0036229  [[[[438, 504], [440, 443], [436, 419], [439, 4...   \n",
       "1         3  as-0036229  [[[[469, 497], [448, 479], [458, 437], [461, 4...   \n",
       "2         4  as-0036229  [[[[73, 596], [69, 588], [67, 582], [65, 575],...   \n",
       "3         4  as-0036229  [[[[107, 371], [108, 362], [445, 361], [795, 3...   \n",
       "4         5  as-0036229  [[[[77, 390], [87, 375], [452, 351], [560, 356...   \n",
       "\n",
       "      area                  bbox     damage  year  color  \\\n",
       "0  14977.0  [336, 159, 198, 345]   Breakage  2020  Black   \n",
       "1   7186.5  [378, 209, 154, 288]   Breakage  2020  Black   \n",
       "2    749.5     [53, 543, 31, 53]   Breakage  2020  Black   \n",
       "3  13872.5   [107, 356, 688, 29]  Scratched  2020  Black   \n",
       "4  22816.0    [77, 351, 690, 52]  Scratched  2020  Black   \n",
       "\n",
       "                             repair supercategory_name  \n",
       "0  ['Rear bumper:coating,exchange']      Full-size car  \n",
       "1  ['Rear bumper:coating,exchange']      Full-size car  \n",
       "2  ['Rear bumper:coating,exchange']      Full-size car  \n",
       "3  ['Rear bumper:coating,exchange']      Full-size car  \n",
       "4  ['Rear bumper:coating,exchange']      Full-size car  "
      ]
     },
     "execution_count": 146,
     "metadata": {},
     "output_type": "execute_result"
    }
   ],
   "source": [
    "all_data = pd.concat([car_repair1, car_repair2, car_repair3], ignore_index=True)\n",
    "all_data.sort_values(\"category_id\")\n",
    "all_data.head()"
   ]
  },
  {
   "cell_type": "code",
   "execution_count": 147,
   "id": "172f0a54",
   "metadata": {},
   "outputs": [
    {
     "data": {
      "text/html": [
       "<div>\n",
       "<style scoped>\n",
       "    .dataframe tbody tr th:only-of-type {\n",
       "        vertical-align: middle;\n",
       "    }\n",
       "\n",
       "    .dataframe tbody tr th {\n",
       "        vertical-align: top;\n",
       "    }\n",
       "\n",
       "    .dataframe thead th {\n",
       "        text-align: right;\n",
       "    }\n",
       "</style>\n",
       "<table border=\"1\" class=\"dataframe\">\n",
       "  <thead>\n",
       "    <tr style=\"text-align: right;\">\n",
       "      <th></th>\n",
       "      <th>category_id</th>\n",
       "      <th>supercategory_name</th>\n",
       "    </tr>\n",
       "  </thead>\n",
       "  <tbody>\n",
       "    <tr>\n",
       "      <th>0</th>\n",
       "      <td>as-0036229</td>\n",
       "      <td>Full-size car</td>\n",
       "    </tr>\n",
       "    <tr>\n",
       "      <th>1</th>\n",
       "      <td>as-0036229</td>\n",
       "      <td>Full-size car</td>\n",
       "    </tr>\n",
       "    <tr>\n",
       "      <th>2</th>\n",
       "      <td>as-0036229</td>\n",
       "      <td>Full-size car</td>\n",
       "    </tr>\n",
       "    <tr>\n",
       "      <th>3</th>\n",
       "      <td>as-0036229</td>\n",
       "      <td>Full-size car</td>\n",
       "    </tr>\n",
       "    <tr>\n",
       "      <th>4</th>\n",
       "      <td>as-0036229</td>\n",
       "      <td>Full-size car</td>\n",
       "    </tr>\n",
       "  </tbody>\n",
       "</table>\n",
       "</div>"
      ],
      "text/plain": [
       "  category_id supercategory_name\n",
       "0  as-0036229      Full-size car\n",
       "1  as-0036229      Full-size car\n",
       "2  as-0036229      Full-size car\n",
       "3  as-0036229      Full-size car\n",
       "4  as-0036229      Full-size car"
      ]
     },
     "execution_count": 147,
     "metadata": {},
     "output_type": "execute_result"
    }
   ],
   "source": [
    "# 외제차 분류 #\n",
    "merge_car = pd.merge(all_data[[\"category_id\",\"supercategory_name\"]], kor_index, how='inner',on='category_id')\n",
    "merge_car.head()"
   ]
  },
  {
   "cell_type": "code",
   "execution_count": 149,
   "id": "3821d7ca",
   "metadata": {},
   "outputs": [
    {
     "data": {
      "text/html": [
       "<div>\n",
       "<style scoped>\n",
       "    .dataframe tbody tr th:only-of-type {\n",
       "        vertical-align: middle;\n",
       "    }\n",
       "\n",
       "    .dataframe tbody tr th {\n",
       "        vertical-align: top;\n",
       "    }\n",
       "\n",
       "    .dataframe thead th {\n",
       "        text-align: right;\n",
       "    }\n",
       "</style>\n",
       "<table border=\"1\" class=\"dataframe\">\n",
       "  <thead>\n",
       "    <tr style=\"text-align: right;\">\n",
       "      <th></th>\n",
       "      <th>category_id</th>\n",
       "      <th>supercategory_name</th>\n",
       "    </tr>\n",
       "  </thead>\n",
       "  <tbody>\n",
       "    <tr>\n",
       "      <th>0</th>\n",
       "      <td>as-0000025</td>\n",
       "      <td>Full-size car</td>\n",
       "    </tr>\n",
       "    <tr>\n",
       "      <th>1</th>\n",
       "      <td>as-0000027</td>\n",
       "      <td>Mid-size car</td>\n",
       "    </tr>\n",
       "    <tr>\n",
       "      <th>2</th>\n",
       "      <td>as-0000029</td>\n",
       "      <td>Mid-size car</td>\n",
       "    </tr>\n",
       "    <tr>\n",
       "      <th>3</th>\n",
       "      <td>as-0000034</td>\n",
       "      <td>Mid-size car</td>\n",
       "    </tr>\n",
       "    <tr>\n",
       "      <th>4</th>\n",
       "      <td>as-0000037</td>\n",
       "      <td>Mid-size car</td>\n",
       "    </tr>\n",
       "  </tbody>\n",
       "</table>\n",
       "</div>"
      ],
      "text/plain": [
       "  category_id supercategory_name\n",
       "0  as-0000025      Full-size car\n",
       "1  as-0000027       Mid-size car\n",
       "2  as-0000029       Mid-size car\n",
       "3  as-0000034       Mid-size car\n",
       "4  as-0000037       Mid-size car"
      ]
     },
     "execution_count": 149,
     "metadata": {},
     "output_type": "execute_result"
    }
   ],
   "source": [
    "# 중복 없애주기 #\n",
    "merge_car = merge_car.drop_duplicates(keep = 'first', ignore_index=True)\n",
    "merge_car.sort_values(\"category_id\", inplace=True, ignore_index=True)\n",
    "merge_car.head()"
   ]
  },
  {
   "cell_type": "markdown",
   "id": "3d9f6e3a",
   "metadata": {},
   "source": [
    "### merge"
   ]
  },
  {
   "cell_type": "code",
   "execution_count": 150,
   "id": "85a3b1cf",
   "metadata": {
    "scrolled": false
   },
   "outputs": [
    {
     "data": {
      "text/html": [
       "<div>\n",
       "<style scoped>\n",
       "    .dataframe tbody tr th:only-of-type {\n",
       "        vertical-align: middle;\n",
       "    }\n",
       "\n",
       "    .dataframe tbody tr th {\n",
       "        vertical-align: top;\n",
       "    }\n",
       "\n",
       "    .dataframe thead th {\n",
       "        text-align: right;\n",
       "    }\n",
       "</style>\n",
       "<table border=\"1\" class=\"dataframe\">\n",
       "  <thead>\n",
       "    <tr style=\"text-align: right;\">\n",
       "      <th></th>\n",
       "      <th>category_id</th>\n",
       "      <th>made</th>\n",
       "      <th>model</th>\n",
       "      <th>supercategory_name</th>\n",
       "    </tr>\n",
       "  </thead>\n",
       "  <tbody>\n",
       "    <tr>\n",
       "      <th>0</th>\n",
       "      <td>as-0000025</td>\n",
       "      <td>기아</td>\n",
       "      <td>뉴카니발9인승(06)</td>\n",
       "      <td>Full-size car</td>\n",
       "    </tr>\n",
       "    <tr>\n",
       "      <th>1</th>\n",
       "      <td>as-0000027</td>\n",
       "      <td>한국GM</td>\n",
       "      <td>말리부</td>\n",
       "      <td>Mid-size car</td>\n",
       "    </tr>\n",
       "    <tr>\n",
       "      <th>2</th>\n",
       "      <td>as-0000029</td>\n",
       "      <td>현대</td>\n",
       "      <td>아반떼AD(16)</td>\n",
       "      <td>Mid-size car</td>\n",
       "    </tr>\n",
       "    <tr>\n",
       "      <th>3</th>\n",
       "      <td>as-0000034</td>\n",
       "      <td>기아</td>\n",
       "      <td>K5(18)</td>\n",
       "      <td>Mid-size car</td>\n",
       "    </tr>\n",
       "    <tr>\n",
       "      <th>4</th>\n",
       "      <td>as-0000037</td>\n",
       "      <td>기아</td>\n",
       "      <td>올뉴쏘렌토</td>\n",
       "      <td>Mid-size car</td>\n",
       "    </tr>\n",
       "  </tbody>\n",
       "</table>\n",
       "</div>"
      ],
      "text/plain": [
       "  category_id  made        model supercategory_name\n",
       "0  as-0000025    기아  뉴카니발9인승(06)      Full-size car\n",
       "1  as-0000027  한국GM          말리부       Mid-size car\n",
       "2  as-0000029    현대    아반떼AD(16)       Mid-size car\n",
       "3  as-0000034    기아       K5(18)       Mid-size car\n",
       "4  as-0000037    기아        올뉴쏘렌토       Mid-size car"
      ]
     },
     "execution_count": 150,
     "metadata": {},
     "output_type": "execute_result"
    }
   ],
   "source": [
    "merge_data = pd.merge(data, merge_car, how='inner',on='category_id')\n",
    "merge_data.head()"
   ]
  },
  {
   "cell_type": "code",
   "execution_count": 152,
   "id": "e4a00c14",
   "metadata": {},
   "outputs": [
    {
     "data": {
      "text/plain": [
       "106949"
      ]
     },
     "execution_count": 152,
     "metadata": {},
     "output_type": "execute_result"
    }
   ],
   "source": [
    "merge_data = merge_data[[\"made\", \"model\", \"supercategory_name\"]]\n",
    "len(merge_data)"
   ]
  },
  {
   "cell_type": "code",
   "execution_count": 153,
   "id": "63dc994f",
   "metadata": {},
   "outputs": [
    {
     "data": {
      "text/html": [
       "<div>\n",
       "<style scoped>\n",
       "    .dataframe tbody tr th:only-of-type {\n",
       "        vertical-align: middle;\n",
       "    }\n",
       "\n",
       "    .dataframe tbody tr th {\n",
       "        vertical-align: top;\n",
       "    }\n",
       "\n",
       "    .dataframe thead th {\n",
       "        text-align: right;\n",
       "    }\n",
       "</style>\n",
       "<table border=\"1\" class=\"dataframe\">\n",
       "  <thead>\n",
       "    <tr style=\"text-align: right;\">\n",
       "      <th></th>\n",
       "      <th>made</th>\n",
       "      <th>model</th>\n",
       "      <th>supercategory_name</th>\n",
       "    </tr>\n",
       "  </thead>\n",
       "  <tbody>\n",
       "    <tr>\n",
       "      <th>0</th>\n",
       "      <td>기아</td>\n",
       "      <td>뉴카니발9인승(06)</td>\n",
       "      <td>Full-size car</td>\n",
       "    </tr>\n",
       "    <tr>\n",
       "      <th>1</th>\n",
       "      <td>한국GM</td>\n",
       "      <td>말리부</td>\n",
       "      <td>Mid-size car</td>\n",
       "    </tr>\n",
       "    <tr>\n",
       "      <th>2</th>\n",
       "      <td>현대</td>\n",
       "      <td>아반떼AD(16)</td>\n",
       "      <td>Mid-size car</td>\n",
       "    </tr>\n",
       "    <tr>\n",
       "      <th>3</th>\n",
       "      <td>기아</td>\n",
       "      <td>K5(18)</td>\n",
       "      <td>Mid-size car</td>\n",
       "    </tr>\n",
       "    <tr>\n",
       "      <th>4</th>\n",
       "      <td>기아</td>\n",
       "      <td>올뉴쏘렌토</td>\n",
       "      <td>Mid-size car</td>\n",
       "    </tr>\n",
       "  </tbody>\n",
       "</table>\n",
       "</div>"
      ],
      "text/plain": [
       "   made        model supercategory_name\n",
       "0    기아  뉴카니발9인승(06)      Full-size car\n",
       "1  한국GM          말리부       Mid-size car\n",
       "2    현대    아반떼AD(16)       Mid-size car\n",
       "3    기아       K5(18)       Mid-size car\n",
       "4    기아        올뉴쏘렌토       Mid-size car"
      ]
     },
     "execution_count": 153,
     "metadata": {},
     "output_type": "execute_result"
    }
   ],
   "source": [
    "# 중복 없애주기 #\n",
    "merge_data = merge_data.drop_duplicates(keep = 'first', ignore_index=True)\n",
    "merge_data.head()"
   ]
  },
  {
   "cell_type": "code",
   "execution_count": 154,
   "id": "a8def5ce",
   "metadata": {},
   "outputs": [],
   "source": [
    "merge_data.drop(merge_data[merge_data[\"model\"]==\"\"].index, axis=0, inplace=True)"
   ]
  },
  {
   "cell_type": "code",
   "execution_count": 155,
   "id": "2d424150",
   "metadata": {
    "scrolled": true
   },
   "outputs": [
    {
     "data": {
      "text/plain": [
       "array(['기아', '한국GM', '현대', '쌍용', '르노삼성', '현대 / RV', '현대 / 승용', '기아 / RV',\n",
       "       '기아 / 승용', '쌍용 / RV', '한국GM / 승용', '르노삼성 / 승용', '한국GM / RV',\n",
       "       '르노삼성 / RV', '기아 / 지프'], dtype=object)"
      ]
     },
     "execution_count": 155,
     "metadata": {},
     "output_type": "execute_result"
    }
   ],
   "source": [
    "merge_data[\"made\"].unique()"
   ]
  },
  {
   "cell_type": "code",
   "execution_count": 156,
   "id": "f2629b4f",
   "metadata": {},
   "outputs": [],
   "source": [
    "name = ['한국GM', '한국GM / RV', '한국GM / 승용']\n",
    "\n",
    "for n in name:\n",
    "    idx = merge_data[merge_data[\"made\"] == n].index\n",
    "    merge_data[\"made\"][idx] = \"쉐보레\""
   ]
  },
  {
   "cell_type": "code",
   "execution_count": 157,
   "id": "8203ce6a",
   "metadata": {
    "scrolled": true
   },
   "outputs": [
    {
     "data": {
      "text/html": [
       "<div>\n",
       "<style scoped>\n",
       "    .dataframe tbody tr th:only-of-type {\n",
       "        vertical-align: middle;\n",
       "    }\n",
       "\n",
       "    .dataframe tbody tr th {\n",
       "        vertical-align: top;\n",
       "    }\n",
       "\n",
       "    .dataframe thead th {\n",
       "        text-align: right;\n",
       "    }\n",
       "</style>\n",
       "<table border=\"1\" class=\"dataframe\">\n",
       "  <thead>\n",
       "    <tr style=\"text-align: right;\">\n",
       "      <th></th>\n",
       "      <th>made</th>\n",
       "      <th>model</th>\n",
       "      <th>supercategory_name</th>\n",
       "    </tr>\n",
       "  </thead>\n",
       "  <tbody>\n",
       "    <tr>\n",
       "      <th>0</th>\n",
       "      <td>기아</td>\n",
       "      <td>뉴카니발9인승(06)</td>\n",
       "      <td>Full-size car</td>\n",
       "    </tr>\n",
       "    <tr>\n",
       "      <th>1</th>\n",
       "      <td>기아</td>\n",
       "      <td>스토닉</td>\n",
       "      <td>Mid-size car</td>\n",
       "    </tr>\n",
       "    <tr>\n",
       "      <th>2</th>\n",
       "      <td>기아</td>\n",
       "      <td>프라이드5DR(15)</td>\n",
       "      <td>Compact car</td>\n",
       "    </tr>\n",
       "    <tr>\n",
       "      <th>3</th>\n",
       "      <td>기아</td>\n",
       "      <td>K9(18)</td>\n",
       "      <td>Full-size car</td>\n",
       "    </tr>\n",
       "    <tr>\n",
       "      <th>4</th>\n",
       "      <td>기아</td>\n",
       "      <td>뉴쏘렌토R(13)</td>\n",
       "      <td>Mid-size car</td>\n",
       "    </tr>\n",
       "  </tbody>\n",
       "</table>\n",
       "</div>"
      ],
      "text/plain": [
       "  made        model supercategory_name\n",
       "0   기아  뉴카니발9인승(06)      Full-size car\n",
       "1   기아          스토닉       Mid-size car\n",
       "2   기아  프라이드5DR(15)        Compact car\n",
       "3   기아       K9(18)      Full-size car\n",
       "4   기아    뉴쏘렌토R(13)       Mid-size car"
      ]
     },
     "execution_count": 157,
     "metadata": {},
     "output_type": "execute_result"
    }
   ],
   "source": [
    "merge_data.sort_values(\"made\", inplace=True, ignore_index=True)\n",
    "merge_data.head()"
   ]
  },
  {
   "cell_type": "code",
   "execution_count": 158,
   "id": "774299cb",
   "metadata": {},
   "outputs": [],
   "source": [
    "# 회사명만 저장 #\n",
    "for i in range(len(merge_data)):\n",
    "    merge_data[\"made\"][i] = merge_data[\"made\"][i].split(\"/\")[0].strip()"
   ]
  },
  {
   "cell_type": "code",
   "execution_count": 159,
   "id": "91866924",
   "metadata": {},
   "outputs": [
    {
     "data": {
      "text/html": [
       "<div>\n",
       "<style scoped>\n",
       "    .dataframe tbody tr th:only-of-type {\n",
       "        vertical-align: middle;\n",
       "    }\n",
       "\n",
       "    .dataframe tbody tr th {\n",
       "        vertical-align: top;\n",
       "    }\n",
       "\n",
       "    .dataframe thead th {\n",
       "        text-align: right;\n",
       "    }\n",
       "</style>\n",
       "<table border=\"1\" class=\"dataframe\">\n",
       "  <thead>\n",
       "    <tr style=\"text-align: right;\">\n",
       "      <th></th>\n",
       "      <th>made</th>\n",
       "      <th>model</th>\n",
       "      <th>supercategory_name</th>\n",
       "    </tr>\n",
       "  </thead>\n",
       "  <tbody>\n",
       "    <tr>\n",
       "      <th>0</th>\n",
       "      <td>기아</td>\n",
       "      <td>뉴카니발9인승(06)</td>\n",
       "      <td>Full-size car</td>\n",
       "    </tr>\n",
       "    <tr>\n",
       "      <th>1</th>\n",
       "      <td>기아</td>\n",
       "      <td>스토닉</td>\n",
       "      <td>Mid-size car</td>\n",
       "    </tr>\n",
       "    <tr>\n",
       "      <th>2</th>\n",
       "      <td>기아</td>\n",
       "      <td>프라이드5DR(15)</td>\n",
       "      <td>Compact car</td>\n",
       "    </tr>\n",
       "    <tr>\n",
       "      <th>3</th>\n",
       "      <td>기아</td>\n",
       "      <td>K9(18)</td>\n",
       "      <td>Full-size car</td>\n",
       "    </tr>\n",
       "    <tr>\n",
       "      <th>4</th>\n",
       "      <td>기아</td>\n",
       "      <td>뉴쏘렌토R(13)</td>\n",
       "      <td>Mid-size car</td>\n",
       "    </tr>\n",
       "  </tbody>\n",
       "</table>\n",
       "</div>"
      ],
      "text/plain": [
       "  made        model supercategory_name\n",
       "0   기아  뉴카니발9인승(06)      Full-size car\n",
       "1   기아          스토닉       Mid-size car\n",
       "2   기아  프라이드5DR(15)        Compact car\n",
       "3   기아       K9(18)      Full-size car\n",
       "4   기아    뉴쏘렌토R(13)       Mid-size car"
      ]
     },
     "execution_count": 159,
     "metadata": {},
     "output_type": "execute_result"
    }
   ],
   "source": [
    "# 중복 없애주기 #\n",
    "merge_data = merge_data.drop_duplicates(keep = 'first', ignore_index=True)\n",
    "merge_data.head()"
   ]
  },
  {
   "cell_type": "code",
   "execution_count": 160,
   "id": "421828c4",
   "metadata": {
    "scrolled": true
   },
   "outputs": [
    {
     "data": {
      "text/plain": [
       "array(['기아', '르노삼성', '쉐보레', '쌍용', '현대'], dtype=object)"
      ]
     },
     "execution_count": 160,
     "metadata": {},
     "output_type": "execute_result"
    }
   ],
   "source": [
    "merge_data[\"made\"].unique()"
   ]
  },
  {
   "cell_type": "code",
   "execution_count": 163,
   "id": "535a984e",
   "metadata": {},
   "outputs": [],
   "source": [
    "merge_data.to_csv(\"car_model.csv\", index=False, encoding=\"euc-kr\")"
   ]
  },
  {
   "cell_type": "markdown",
   "id": "79fc3473",
   "metadata": {},
   "source": [
    "## 변경한 차량 크기 합치기"
   ]
  },
  {
   "cell_type": "code",
   "execution_count": 166,
   "id": "2f3a3a81",
   "metadata": {
    "scrolled": true
   },
   "outputs": [
    {
     "data": {
      "text/html": [
       "<div>\n",
       "<style scoped>\n",
       "    .dataframe tbody tr th:only-of-type {\n",
       "        vertical-align: middle;\n",
       "    }\n",
       "\n",
       "    .dataframe tbody tr th {\n",
       "        vertical-align: top;\n",
       "    }\n",
       "\n",
       "    .dataframe thead th {\n",
       "        text-align: right;\n",
       "    }\n",
       "</style>\n",
       "<table border=\"1\" class=\"dataframe\">\n",
       "  <thead>\n",
       "    <tr style=\"text-align: right;\">\n",
       "      <th></th>\n",
       "      <th>made</th>\n",
       "      <th>model</th>\n",
       "      <th>supercategory_name</th>\n",
       "      <th>Unnamed: 3</th>\n",
       "      <th>연식</th>\n",
       "    </tr>\n",
       "  </thead>\n",
       "  <tbody>\n",
       "    <tr>\n",
       "      <th>0</th>\n",
       "      <td>기아</td>\n",
       "      <td>뉴카니발9인승(06)</td>\n",
       "      <td>VAN</td>\n",
       "      <td>NaN</td>\n",
       "      <td>2006.0</td>\n",
       "    </tr>\n",
       "    <tr>\n",
       "      <th>1</th>\n",
       "      <td>기아</td>\n",
       "      <td>스팅어(17)</td>\n",
       "      <td>Mid-size car</td>\n",
       "      <td>NaN</td>\n",
       "      <td>2017.0</td>\n",
       "    </tr>\n",
       "    <tr>\n",
       "      <th>2</th>\n",
       "      <td>기아</td>\n",
       "      <td>스토닉</td>\n",
       "      <td>Mid-size car</td>\n",
       "      <td>NaN</td>\n",
       "      <td>NaN</td>\n",
       "    </tr>\n",
       "    <tr>\n",
       "      <th>3</th>\n",
       "      <td>기아</td>\n",
       "      <td>프라이드5DR(15)</td>\n",
       "      <td>City car</td>\n",
       "      <td>NaN</td>\n",
       "      <td>2015.0</td>\n",
       "    </tr>\n",
       "    <tr>\n",
       "      <th>4</th>\n",
       "      <td>기아</td>\n",
       "      <td>K9(18)</td>\n",
       "      <td>Full-size car</td>\n",
       "      <td>NaN</td>\n",
       "      <td>2018.0</td>\n",
       "    </tr>\n",
       "  </tbody>\n",
       "</table>\n",
       "</div>"
      ],
      "text/plain": [
       "  made        model supercategory_name  Unnamed: 3      연식\n",
       "0   기아  뉴카니발9인승(06)                VAN         NaN  2006.0\n",
       "1   기아      스팅어(17)       Mid-size car         NaN  2017.0\n",
       "2   기아          스토닉       Mid-size car         NaN     NaN\n",
       "3   기아  프라이드5DR(15)           City car         NaN  2015.0\n",
       "4   기아       K9(18)      Full-size car         NaN  2018.0"
      ]
     },
     "execution_count": 166,
     "metadata": {},
     "output_type": "execute_result"
    }
   ],
   "source": [
    "car_final = pd.read_excel(\"car_model_final.xlsx\")\n",
    "car_final.head()"
   ]
  },
  {
   "cell_type": "code",
   "execution_count": 168,
   "id": "3727b7c1",
   "metadata": {},
   "outputs": [],
   "source": [
    "car_final.drop(\"Unnamed: 3\", axis=1, inplace=True)"
   ]
  },
  {
   "cell_type": "code",
   "execution_count": 221,
   "id": "97c018ce",
   "metadata": {},
   "outputs": [
    {
     "data": {
      "text/html": [
       "<div>\n",
       "<style scoped>\n",
       "    .dataframe tbody tr th:only-of-type {\n",
       "        vertical-align: middle;\n",
       "    }\n",
       "\n",
       "    .dataframe tbody tr th {\n",
       "        vertical-align: top;\n",
       "    }\n",
       "\n",
       "    .dataframe thead th {\n",
       "        text-align: right;\n",
       "    }\n",
       "</style>\n",
       "<table border=\"1\" class=\"dataframe\">\n",
       "  <thead>\n",
       "    <tr style=\"text-align: right;\">\n",
       "      <th></th>\n",
       "      <th>made</th>\n",
       "      <th>model</th>\n",
       "      <th>supercategory_name</th>\n",
       "      <th>연식</th>\n",
       "    </tr>\n",
       "  </thead>\n",
       "  <tbody>\n",
       "    <tr>\n",
       "      <th>0</th>\n",
       "      <td>기아</td>\n",
       "      <td>뉴카니발9인승(06)</td>\n",
       "      <td>VAN</td>\n",
       "      <td>2006.0</td>\n",
       "    </tr>\n",
       "    <tr>\n",
       "      <th>1</th>\n",
       "      <td>기아</td>\n",
       "      <td>스팅어(17)</td>\n",
       "      <td>Mid-size car</td>\n",
       "      <td>2017.0</td>\n",
       "    </tr>\n",
       "    <tr>\n",
       "      <th>2</th>\n",
       "      <td>기아</td>\n",
       "      <td>스토닉</td>\n",
       "      <td>Mid-size car</td>\n",
       "      <td>NaN</td>\n",
       "    </tr>\n",
       "    <tr>\n",
       "      <th>3</th>\n",
       "      <td>기아</td>\n",
       "      <td>프라이드5DR(15)</td>\n",
       "      <td>City car</td>\n",
       "      <td>2015.0</td>\n",
       "    </tr>\n",
       "    <tr>\n",
       "      <th>4</th>\n",
       "      <td>기아</td>\n",
       "      <td>K9(18)</td>\n",
       "      <td>Full-size car</td>\n",
       "      <td>2018.0</td>\n",
       "    </tr>\n",
       "  </tbody>\n",
       "</table>\n",
       "</div>"
      ],
      "text/plain": [
       "  made        model supercategory_name      연식\n",
       "0   기아  뉴카니발9인승(06)                VAN  2006.0\n",
       "1   기아      스팅어(17)       Mid-size car  2017.0\n",
       "2   기아          스토닉       Mid-size car     NaN\n",
       "3   기아  프라이드5DR(15)           City car  2015.0\n",
       "4   기아       K9(18)      Full-size car  2018.0"
      ]
     },
     "execution_count": 221,
     "metadata": {},
     "output_type": "execute_result"
    }
   ],
   "source": [
    "car_final.head()"
   ]
  },
  {
   "cell_type": "code",
   "execution_count": 169,
   "id": "bdd9a415",
   "metadata": {},
   "outputs": [
    {
     "data": {
      "text/plain": [
       "array(['VAN', 'Mid-size car', 'City car', 'Full-size car', 'SUV',\n",
       "       'Compact car'], dtype=object)"
      ]
     },
     "execution_count": 169,
     "metadata": {},
     "output_type": "execute_result"
    }
   ],
   "source": [
    "car_final[\"supercategory_name\"].unique()"
   ]
  },
  {
   "cell_type": "code",
   "execution_count": 170,
   "id": "9dc9a172",
   "metadata": {},
   "outputs": [],
   "source": [
    "# HQ 가져오기 #\n",
    "repair1 = pd.read_csv(\"HQ_coating.csv\")\n",
    "repair2 = pd.read_csv(\"HQ_exchange.csv\")\n",
    "repair3 = pd.read_csv(\"HQ_sheet_metal.csv\")"
   ]
  },
  {
   "cell_type": "code",
   "execution_count": 171,
   "id": "d3285a8c",
   "metadata": {},
   "outputs": [
    {
     "data": {
      "text/html": [
       "<div>\n",
       "<style scoped>\n",
       "    .dataframe tbody tr th:only-of-type {\n",
       "        vertical-align: middle;\n",
       "    }\n",
       "\n",
       "    .dataframe tbody tr th {\n",
       "        vertical-align: top;\n",
       "    }\n",
       "\n",
       "    .dataframe thead th {\n",
       "        text-align: right;\n",
       "    }\n",
       "</style>\n",
       "<table border=\"1\" class=\"dataframe\">\n",
       "  <thead>\n",
       "    <tr style=\"text-align: right;\">\n",
       "      <th></th>\n",
       "      <th>category_id</th>\n",
       "      <th>part</th>\n",
       "      <th>damage</th>\n",
       "      <th>supercategory_name</th>\n",
       "      <th>repair</th>\n",
       "      <th>HQ</th>\n",
       "    </tr>\n",
       "  </thead>\n",
       "  <tbody>\n",
       "    <tr>\n",
       "      <th>0</th>\n",
       "      <td>as-0000025</td>\n",
       "      <td>Bumper</td>\n",
       "      <td>Crushed</td>\n",
       "      <td>Full-size car</td>\n",
       "      <td>coating</td>\n",
       "      <td>1.97</td>\n",
       "    </tr>\n",
       "    <tr>\n",
       "      <th>1</th>\n",
       "      <td>as-0000025</td>\n",
       "      <td>Fender</td>\n",
       "      <td>Scratched</td>\n",
       "      <td>Full-size car</td>\n",
       "      <td>coating</td>\n",
       "      <td>3.26</td>\n",
       "    </tr>\n",
       "    <tr>\n",
       "      <th>2</th>\n",
       "      <td>as-0000025</td>\n",
       "      <td>Fender</td>\n",
       "      <td>Crushed</td>\n",
       "      <td>Full-size car</td>\n",
       "      <td>coating</td>\n",
       "      <td>3.26</td>\n",
       "    </tr>\n",
       "    <tr>\n",
       "      <th>3</th>\n",
       "      <td>as-0000025</td>\n",
       "      <td>Door</td>\n",
       "      <td>Scratched</td>\n",
       "      <td>Full-size car</td>\n",
       "      <td>coating</td>\n",
       "      <td>4.56</td>\n",
       "    </tr>\n",
       "    <tr>\n",
       "      <th>4</th>\n",
       "      <td>as-0000025</td>\n",
       "      <td>Door</td>\n",
       "      <td>Separated</td>\n",
       "      <td>Full-size car</td>\n",
       "      <td>coating</td>\n",
       "      <td>4.56</td>\n",
       "    </tr>\n",
       "  </tbody>\n",
       "</table>\n",
       "</div>"
      ],
      "text/plain": [
       "  category_id    part     damage supercategory_name   repair    HQ\n",
       "0  as-0000025  Bumper    Crushed      Full-size car  coating  1.97\n",
       "1  as-0000025  Fender  Scratched      Full-size car  coating  3.26\n",
       "2  as-0000025  Fender    Crushed      Full-size car  coating  3.26\n",
       "3  as-0000025    Door  Scratched      Full-size car  coating  4.56\n",
       "4  as-0000025    Door  Separated      Full-size car  coating  4.56"
      ]
     },
     "execution_count": 171,
     "metadata": {},
     "output_type": "execute_result"
    }
   ],
   "source": [
    "all_data = pd.concat([repair1, repair2, repair3], ignore_index=True)\n",
    "all_data.sort_values(\"category_id\")\n",
    "all_data.head()"
   ]
  },
  {
   "cell_type": "code",
   "execution_count": 173,
   "id": "f8516bc5",
   "metadata": {
    "scrolled": false
   },
   "outputs": [
    {
     "data": {
      "text/html": [
       "<div>\n",
       "<style scoped>\n",
       "    .dataframe tbody tr th:only-of-type {\n",
       "        vertical-align: middle;\n",
       "    }\n",
       "\n",
       "    .dataframe tbody tr th {\n",
       "        vertical-align: top;\n",
       "    }\n",
       "\n",
       "    .dataframe thead th {\n",
       "        text-align: right;\n",
       "    }\n",
       "</style>\n",
       "<table border=\"1\" class=\"dataframe\">\n",
       "  <thead>\n",
       "    <tr style=\"text-align: right;\">\n",
       "      <th></th>\n",
       "      <th>category_id</th>\n",
       "      <th>made</th>\n",
       "      <th>model</th>\n",
       "    </tr>\n",
       "  </thead>\n",
       "  <tbody>\n",
       "    <tr>\n",
       "      <th>0</th>\n",
       "      <td>as-0000025</td>\n",
       "      <td>기아</td>\n",
       "      <td>뉴카니발9인승(06)</td>\n",
       "    </tr>\n",
       "    <tr>\n",
       "      <th>1</th>\n",
       "      <td>as-0000027</td>\n",
       "      <td>한국GM</td>\n",
       "      <td>말리부</td>\n",
       "    </tr>\n",
       "    <tr>\n",
       "      <th>2</th>\n",
       "      <td>as-0000029</td>\n",
       "      <td>현대</td>\n",
       "      <td>아반떼AD(16)</td>\n",
       "    </tr>\n",
       "    <tr>\n",
       "      <th>3</th>\n",
       "      <td>as-0000034</td>\n",
       "      <td>기아</td>\n",
       "      <td>K5(18)</td>\n",
       "    </tr>\n",
       "    <tr>\n",
       "      <th>4</th>\n",
       "      <td>as-0000037</td>\n",
       "      <td>기아</td>\n",
       "      <td>올뉴쏘렌토</td>\n",
       "    </tr>\n",
       "  </tbody>\n",
       "</table>\n",
       "</div>"
      ],
      "text/plain": [
       "  category_id  made        model\n",
       "0  as-0000025    기아  뉴카니발9인승(06)\n",
       "1  as-0000027  한국GM          말리부\n",
       "2  as-0000029    현대    아반떼AD(16)\n",
       "3  as-0000034    기아       K5(18)\n",
       "4  as-0000037    기아        올뉴쏘렌토"
      ]
     },
     "execution_count": 173,
     "metadata": {},
     "output_type": "execute_result"
    }
   ],
   "source": [
    "data.head()"
   ]
  },
  {
   "cell_type": "code",
   "execution_count": 175,
   "id": "7f17e001",
   "metadata": {},
   "outputs": [
    {
     "data": {
      "text/html": [
       "<div>\n",
       "<style scoped>\n",
       "    .dataframe tbody tr th:only-of-type {\n",
       "        vertical-align: middle;\n",
       "    }\n",
       "\n",
       "    .dataframe tbody tr th {\n",
       "        vertical-align: top;\n",
       "    }\n",
       "\n",
       "    .dataframe thead th {\n",
       "        text-align: right;\n",
       "    }\n",
       "</style>\n",
       "<table border=\"1\" class=\"dataframe\">\n",
       "  <thead>\n",
       "    <tr style=\"text-align: right;\">\n",
       "      <th></th>\n",
       "      <th>category_id</th>\n",
       "      <th>model</th>\n",
       "      <th>made</th>\n",
       "      <th>supercategory_name</th>\n",
       "      <th>연식</th>\n",
       "    </tr>\n",
       "  </thead>\n",
       "  <tbody>\n",
       "    <tr>\n",
       "      <th>0</th>\n",
       "      <td>as-0000025</td>\n",
       "      <td>뉴카니발9인승(06)</td>\n",
       "      <td>기아</td>\n",
       "      <td>VAN</td>\n",
       "      <td>2006.0</td>\n",
       "    </tr>\n",
       "    <tr>\n",
       "      <th>1</th>\n",
       "      <td>as-0005803</td>\n",
       "      <td>뉴카니발9인승(06)</td>\n",
       "      <td>기아</td>\n",
       "      <td>VAN</td>\n",
       "      <td>2006.0</td>\n",
       "    </tr>\n",
       "    <tr>\n",
       "      <th>2</th>\n",
       "      <td>as-0010405</td>\n",
       "      <td>뉴카니발9인승(06)</td>\n",
       "      <td>기아</td>\n",
       "      <td>VAN</td>\n",
       "      <td>2006.0</td>\n",
       "    </tr>\n",
       "    <tr>\n",
       "      <th>3</th>\n",
       "      <td>as-0011018</td>\n",
       "      <td>뉴카니발9인승(06)</td>\n",
       "      <td>기아</td>\n",
       "      <td>VAN</td>\n",
       "      <td>2006.0</td>\n",
       "    </tr>\n",
       "    <tr>\n",
       "      <th>4</th>\n",
       "      <td>as-0012163</td>\n",
       "      <td>뉴카니발9인승(06)</td>\n",
       "      <td>기아</td>\n",
       "      <td>VAN</td>\n",
       "      <td>2006.0</td>\n",
       "    </tr>\n",
       "  </tbody>\n",
       "</table>\n",
       "</div>"
      ],
      "text/plain": [
       "  category_id        model made supercategory_name      연식\n",
       "0  as-0000025  뉴카니발9인승(06)   기아                VAN  2006.0\n",
       "1  as-0005803  뉴카니발9인승(06)   기아                VAN  2006.0\n",
       "2  as-0010405  뉴카니발9인승(06)   기아                VAN  2006.0\n",
       "3  as-0011018  뉴카니발9인승(06)   기아                VAN  2006.0\n",
       "4  as-0012163  뉴카니발9인승(06)   기아                VAN  2006.0"
      ]
     },
     "execution_count": 175,
     "metadata": {},
     "output_type": "execute_result"
    }
   ],
   "source": [
    "merge_data = pd.merge(data[[\"category_id\", \"model\"]], car_final, how='inner',on='model')\n",
    "merge_data.head()"
   ]
  },
  {
   "cell_type": "code",
   "execution_count": 178,
   "id": "a12522b9",
   "metadata": {},
   "outputs": [
    {
     "data": {
      "text/html": [
       "<div>\n",
       "<style scoped>\n",
       "    .dataframe tbody tr th:only-of-type {\n",
       "        vertical-align: middle;\n",
       "    }\n",
       "\n",
       "    .dataframe tbody tr th {\n",
       "        vertical-align: top;\n",
       "    }\n",
       "\n",
       "    .dataframe thead th {\n",
       "        text-align: right;\n",
       "    }\n",
       "</style>\n",
       "<table border=\"1\" class=\"dataframe\">\n",
       "  <thead>\n",
       "    <tr style=\"text-align: right;\">\n",
       "      <th></th>\n",
       "      <th>category_id</th>\n",
       "      <th>model</th>\n",
       "      <th>made</th>\n",
       "      <th>supercategory_name</th>\n",
       "      <th>연식</th>\n",
       "    </tr>\n",
       "  </thead>\n",
       "  <tbody>\n",
       "    <tr>\n",
       "      <th>0</th>\n",
       "      <td>as-0000025</td>\n",
       "      <td>뉴카니발9인승(06)</td>\n",
       "      <td>기아</td>\n",
       "      <td>VAN</td>\n",
       "      <td>2006.0</td>\n",
       "    </tr>\n",
       "    <tr>\n",
       "      <th>1</th>\n",
       "      <td>as-0000027</td>\n",
       "      <td>말리부</td>\n",
       "      <td>쉐보레</td>\n",
       "      <td>Mid-size car</td>\n",
       "      <td>NaN</td>\n",
       "    </tr>\n",
       "    <tr>\n",
       "      <th>2</th>\n",
       "      <td>as-0000027</td>\n",
       "      <td>말리부</td>\n",
       "      <td>쉐보레</td>\n",
       "      <td>Mid-size car</td>\n",
       "      <td>NaN</td>\n",
       "    </tr>\n",
       "    <tr>\n",
       "      <th>3</th>\n",
       "      <td>as-0000029</td>\n",
       "      <td>아반떼AD(16)</td>\n",
       "      <td>현대</td>\n",
       "      <td>City car</td>\n",
       "      <td>NaN</td>\n",
       "    </tr>\n",
       "    <tr>\n",
       "      <th>4</th>\n",
       "      <td>as-0000029</td>\n",
       "      <td>아반떼AD(16)</td>\n",
       "      <td>현대</td>\n",
       "      <td>City car</td>\n",
       "      <td>NaN</td>\n",
       "    </tr>\n",
       "  </tbody>\n",
       "</table>\n",
       "</div>"
      ],
      "text/plain": [
       "  category_id        model made supercategory_name      연식\n",
       "0  as-0000025  뉴카니발9인승(06)   기아                VAN  2006.0\n",
       "1  as-0000027          말리부  쉐보레       Mid-size car     NaN\n",
       "2  as-0000027          말리부  쉐보레       Mid-size car     NaN\n",
       "3  as-0000029    아반떼AD(16)   현대           City car     NaN\n",
       "4  as-0000029    아반떼AD(16)   현대           City car     NaN"
      ]
     },
     "execution_count": 178,
     "metadata": {},
     "output_type": "execute_result"
    }
   ],
   "source": [
    "merge_data.sort_values(\"category_id\", inplace=True, ignore_index=True)\n",
    "merge_data.head()"
   ]
  },
  {
   "cell_type": "code",
   "execution_count": 180,
   "id": "d66c8859",
   "metadata": {},
   "outputs": [],
   "source": [
    "all_data.drop(\"supercategory_name\", axis=1, inplace=True)"
   ]
  },
  {
   "cell_type": "code",
   "execution_count": 183,
   "id": "bda74fba",
   "metadata": {},
   "outputs": [
    {
     "data": {
      "text/html": [
       "<div>\n",
       "<style scoped>\n",
       "    .dataframe tbody tr th:only-of-type {\n",
       "        vertical-align: middle;\n",
       "    }\n",
       "\n",
       "    .dataframe tbody tr th {\n",
       "        vertical-align: top;\n",
       "    }\n",
       "\n",
       "    .dataframe thead th {\n",
       "        text-align: right;\n",
       "    }\n",
       "</style>\n",
       "<table border=\"1\" class=\"dataframe\">\n",
       "  <thead>\n",
       "    <tr style=\"text-align: right;\">\n",
       "      <th></th>\n",
       "      <th>category_id</th>\n",
       "      <th>part</th>\n",
       "      <th>damage</th>\n",
       "      <th>repair</th>\n",
       "      <th>HQ</th>\n",
       "      <th>supercategory_name</th>\n",
       "    </tr>\n",
       "  </thead>\n",
       "  <tbody>\n",
       "    <tr>\n",
       "      <th>0</th>\n",
       "      <td>as-0000025</td>\n",
       "      <td>Bumper</td>\n",
       "      <td>Crushed</td>\n",
       "      <td>coating</td>\n",
       "      <td>1.97</td>\n",
       "      <td>VAN</td>\n",
       "    </tr>\n",
       "    <tr>\n",
       "      <th>1</th>\n",
       "      <td>as-0000025</td>\n",
       "      <td>Fender</td>\n",
       "      <td>Scratched</td>\n",
       "      <td>coating</td>\n",
       "      <td>3.26</td>\n",
       "      <td>VAN</td>\n",
       "    </tr>\n",
       "    <tr>\n",
       "      <th>2</th>\n",
       "      <td>as-0000025</td>\n",
       "      <td>Fender</td>\n",
       "      <td>Crushed</td>\n",
       "      <td>coating</td>\n",
       "      <td>3.26</td>\n",
       "      <td>VAN</td>\n",
       "    </tr>\n",
       "    <tr>\n",
       "      <th>3</th>\n",
       "      <td>as-0000025</td>\n",
       "      <td>Door</td>\n",
       "      <td>Scratched</td>\n",
       "      <td>coating</td>\n",
       "      <td>4.56</td>\n",
       "      <td>VAN</td>\n",
       "    </tr>\n",
       "    <tr>\n",
       "      <th>4</th>\n",
       "      <td>as-0000025</td>\n",
       "      <td>Door</td>\n",
       "      <td>Separated</td>\n",
       "      <td>coating</td>\n",
       "      <td>4.56</td>\n",
       "      <td>VAN</td>\n",
       "    </tr>\n",
       "  </tbody>\n",
       "</table>\n",
       "</div>"
      ],
      "text/plain": [
       "  category_id    part     damage   repair    HQ supercategory_name\n",
       "0  as-0000025  Bumper    Crushed  coating  1.97                VAN\n",
       "1  as-0000025  Fender  Scratched  coating  3.26                VAN\n",
       "2  as-0000025  Fender    Crushed  coating  3.26                VAN\n",
       "3  as-0000025    Door  Scratched  coating  4.56                VAN\n",
       "4  as-0000025    Door  Separated  coating  4.56                VAN"
      ]
     },
     "execution_count": 183,
     "metadata": {},
     "output_type": "execute_result"
    }
   ],
   "source": [
    "merge_data2 = pd.merge(all_data, merge_data[[\"category_id\", \"supercategory_name\"]], how='inner',on='category_id')\n",
    "merge_data2.head()"
   ]
  },
  {
   "cell_type": "code",
   "execution_count": 188,
   "id": "c30209df",
   "metadata": {
    "scrolled": true
   },
   "outputs": [
    {
     "data": {
      "text/html": [
       "<div>\n",
       "<style scoped>\n",
       "    .dataframe tbody tr th:only-of-type {\n",
       "        vertical-align: middle;\n",
       "    }\n",
       "\n",
       "    .dataframe tbody tr th {\n",
       "        vertical-align: top;\n",
       "    }\n",
       "\n",
       "    .dataframe thead th {\n",
       "        text-align: right;\n",
       "    }\n",
       "</style>\n",
       "<table border=\"1\" class=\"dataframe\">\n",
       "  <thead>\n",
       "    <tr style=\"text-align: right;\">\n",
       "      <th></th>\n",
       "      <th>category_id</th>\n",
       "      <th>part</th>\n",
       "      <th>damage</th>\n",
       "      <th>repair</th>\n",
       "      <th>supercategory_name</th>\n",
       "      <th>HQ</th>\n",
       "    </tr>\n",
       "  </thead>\n",
       "  <tbody>\n",
       "    <tr>\n",
       "      <th>0</th>\n",
       "      <td>as-0000025</td>\n",
       "      <td>Bumper</td>\n",
       "      <td>Crushed</td>\n",
       "      <td>coating</td>\n",
       "      <td>VAN</td>\n",
       "      <td>1.97</td>\n",
       "    </tr>\n",
       "    <tr>\n",
       "      <th>1</th>\n",
       "      <td>as-0000025</td>\n",
       "      <td>Fender</td>\n",
       "      <td>Scratched</td>\n",
       "      <td>coating</td>\n",
       "      <td>VAN</td>\n",
       "      <td>3.26</td>\n",
       "    </tr>\n",
       "    <tr>\n",
       "      <th>2</th>\n",
       "      <td>as-0000025</td>\n",
       "      <td>Fender</td>\n",
       "      <td>Crushed</td>\n",
       "      <td>coating</td>\n",
       "      <td>VAN</td>\n",
       "      <td>3.26</td>\n",
       "    </tr>\n",
       "    <tr>\n",
       "      <th>3</th>\n",
       "      <td>as-0000025</td>\n",
       "      <td>Door</td>\n",
       "      <td>Scratched</td>\n",
       "      <td>coating</td>\n",
       "      <td>VAN</td>\n",
       "      <td>4.56</td>\n",
       "    </tr>\n",
       "    <tr>\n",
       "      <th>4</th>\n",
       "      <td>as-0000025</td>\n",
       "      <td>Door</td>\n",
       "      <td>Separated</td>\n",
       "      <td>coating</td>\n",
       "      <td>VAN</td>\n",
       "      <td>4.56</td>\n",
       "    </tr>\n",
       "  </tbody>\n",
       "</table>\n",
       "</div>"
      ],
      "text/plain": [
       "  category_id    part     damage   repair supercategory_name    HQ\n",
       "0  as-0000025  Bumper    Crushed  coating                VAN  1.97\n",
       "1  as-0000025  Fender  Scratched  coating                VAN  3.26\n",
       "2  as-0000025  Fender    Crushed  coating                VAN  3.26\n",
       "3  as-0000025    Door  Scratched  coating                VAN  4.56\n",
       "4  as-0000025    Door  Separated  coating                VAN  4.56"
      ]
     },
     "execution_count": 188,
     "metadata": {},
     "output_type": "execute_result"
    }
   ],
   "source": [
    "merge = merge_data2[[\"category_id\", \"part\", \"damage\", \"repair\", \"supercategory_name\", \"HQ\"]]\n",
    "merge.head()"
   ]
  },
  {
   "cell_type": "code",
   "execution_count": 191,
   "id": "c537cd8d",
   "metadata": {},
   "outputs": [
    {
     "data": {
      "text/html": [
       "<div>\n",
       "<style scoped>\n",
       "    .dataframe tbody tr th:only-of-type {\n",
       "        vertical-align: middle;\n",
       "    }\n",
       "\n",
       "    .dataframe tbody tr th {\n",
       "        vertical-align: top;\n",
       "    }\n",
       "\n",
       "    .dataframe thead th {\n",
       "        text-align: right;\n",
       "    }\n",
       "</style>\n",
       "<table border=\"1\" class=\"dataframe\">\n",
       "  <thead>\n",
       "    <tr style=\"text-align: right;\">\n",
       "      <th></th>\n",
       "      <th>category_id</th>\n",
       "      <th>part</th>\n",
       "      <th>damage</th>\n",
       "      <th>repair</th>\n",
       "      <th>supercategory_name</th>\n",
       "      <th>HQ</th>\n",
       "    </tr>\n",
       "  </thead>\n",
       "  <tbody>\n",
       "    <tr>\n",
       "      <th>0</th>\n",
       "      <td>as-0000025</td>\n",
       "      <td>Bumper</td>\n",
       "      <td>Crushed</td>\n",
       "      <td>coating</td>\n",
       "      <td>VAN</td>\n",
       "      <td>1.97</td>\n",
       "    </tr>\n",
       "    <tr>\n",
       "      <th>1</th>\n",
       "      <td>as-0000025</td>\n",
       "      <td>Fender</td>\n",
       "      <td>Scratched</td>\n",
       "      <td>coating</td>\n",
       "      <td>VAN</td>\n",
       "      <td>3.26</td>\n",
       "    </tr>\n",
       "    <tr>\n",
       "      <th>2</th>\n",
       "      <td>as-0000025</td>\n",
       "      <td>Fender</td>\n",
       "      <td>Crushed</td>\n",
       "      <td>coating</td>\n",
       "      <td>VAN</td>\n",
       "      <td>3.26</td>\n",
       "    </tr>\n",
       "    <tr>\n",
       "      <th>3</th>\n",
       "      <td>as-0000025</td>\n",
       "      <td>Door</td>\n",
       "      <td>Scratched</td>\n",
       "      <td>coating</td>\n",
       "      <td>VAN</td>\n",
       "      <td>4.56</td>\n",
       "    </tr>\n",
       "    <tr>\n",
       "      <th>4</th>\n",
       "      <td>as-0000025</td>\n",
       "      <td>Door</td>\n",
       "      <td>Separated</td>\n",
       "      <td>coating</td>\n",
       "      <td>VAN</td>\n",
       "      <td>4.56</td>\n",
       "    </tr>\n",
       "  </tbody>\n",
       "</table>\n",
       "</div>"
      ],
      "text/plain": [
       "  category_id    part     damage   repair supercategory_name    HQ\n",
       "0  as-0000025  Bumper    Crushed  coating                VAN  1.97\n",
       "1  as-0000025  Fender  Scratched  coating                VAN  3.26\n",
       "2  as-0000025  Fender    Crushed  coating                VAN  3.26\n",
       "3  as-0000025    Door  Scratched  coating                VAN  4.56\n",
       "4  as-0000025    Door  Separated  coating                VAN  4.56"
      ]
     },
     "execution_count": 191,
     "metadata": {},
     "output_type": "execute_result"
    }
   ],
   "source": [
    "# 중복 없애주기 #\n",
    "merge = merge.drop_duplicates(keep = 'first', ignore_index=True)\n",
    "merge.head()"
   ]
  },
  {
   "cell_type": "code",
   "execution_count": 193,
   "id": "74399ca7",
   "metadata": {},
   "outputs": [
    {
     "name": "stdout",
     "output_type": "stream",
     "text": [
      "579612\n",
      "507070\n",
      "254823\n"
     ]
    }
   ],
   "source": [
    "exchange = merge[merge[\"repair\"]==\"exchange\"]\n",
    "exchange.sort_values(\"category_id\", inplace=True, ignore_index=True)\n",
    "\n",
    "coating = merge[merge[\"repair\"]==\"coating\"]\n",
    "coating.sort_values(\"category_id\", inplace=True, ignore_index=True)\n",
    "\n",
    "sheet_metal = merge[merge[\"repair\"]==\"sheet_metal\"]\n",
    "sheet_metal.sort_values(\"category_id\", inplace=True, ignore_index=True)\n",
    "\n",
    "print(len(exchange))\n",
    "print(len(coating))\n",
    "print(len(sheet_metal))"
   ]
  },
  {
   "cell_type": "code",
   "execution_count": 201,
   "id": "838a9d45",
   "metadata": {},
   "outputs": [],
   "source": [
    "exchange.to_csv(\"HQ_exchange2.csv\", index=False)\n",
    "coating.to_csv(\"HQ_coating2.csv\", index=False)\n",
    "sheet_metal.to_csv(\"HQ_sheet_metal2.csv\", index=False)"
   ]
  }
 ],
 "metadata": {
  "kernelspec": {
   "display_name": "Python 3 (ipykernel)",
   "language": "python",
   "name": "python3"
  },
  "language_info": {
   "codemirror_mode": {
    "name": "ipython",
    "version": 3
   },
   "file_extension": ".py",
   "mimetype": "text/x-python",
   "name": "python",
   "nbconvert_exporter": "python",
   "pygments_lexer": "ipython3",
   "version": "3.9.13"
  }
 },
 "nbformat": 4,
 "nbformat_minor": 5
}
