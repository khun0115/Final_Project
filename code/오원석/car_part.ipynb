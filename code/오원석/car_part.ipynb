{
  "nbformat": 4,
  "nbformat_minor": 0,
  "metadata": {
    "colab": {
      "provenance": [],
      "gpuType": "T4"
    },
    "kernelspec": {
      "name": "python3",
      "display_name": "Python 3"
    },
    "language_info": {
      "name": "python"
    },
    "accelerator": "GPU"
  },
  "cells": [
    {
      "cell_type": "code",
      "execution_count": null,
      "metadata": {
        "id": "8xxY5YxhrBrU"
      },
      "outputs": [],
      "source": [
        "import numpy as np\n",
        "import pandas as pd\n",
        "import matplotlib.pyplot as plt\n",
        "import seaborn as sns\n",
        "import os\n",
        "import shutil\n",
        "\n",
        "import tensorflow as tf\n",
        "\n",
        "from tensorflow.keras.models import Sequential, load_model, Model\n",
        "from tensorflow.keras.layers import Dense, Flatten, Input, concatenate\n",
        "from tensorflow.keras.layers import Conv2D, MaxPool2D, Dropout, MaxPooling2D\n",
        "from tensorflow.keras.optimizers import SGD, Adam, RMSprop\n",
        "from tensorflow.keras.layers import Dropout\n",
        "from keras.callbacks import EarlyStopping\n",
        "from tensorflow.keras.applications import MobileNetV2\n",
        "from tensorflow.keras.layers import GlobalAveragePooling2D\n",
        "from keras.regularizers import l2\n",
        "from tensorflow.keras import regularizers\n",
        "\n",
        "from sklearn.model_selection import train_test_split\n",
        "from sklearn.preprocessing import StandardScaler, MinMaxScaler\n",
        "from sklearn.metrics import accuracy_score\n",
        "from sklearn.preprocessing import LabelEncoder\n",
        "import tensorflow.keras.utils as utils\n",
        "\n",
        "from datetime import datetime\n",
        "\n",
        "from tensorflow.keras.preprocessing.image import ImageDataGenerator\n",
        "\n",
        "from google.colab import drive\n",
        "import zipfile"
      ]
    },
    {
      "cell_type": "code",
      "source": [
        "drive.mount('/content/drive')\n",
        "\n",
        "zip_path = '/content/drive/MyDrive/Colab Notebooks/car_part_1800.zip'\n",
        "\n",
        "re_path = '/content/car_part'\n",
        "\n",
        "with zipfile.ZipFile(zip_path, 'r') as target_file:\n",
        "    for file in target_file.namelist():\n",
        "        file_path = os.path.join(re_path, file)\n",
        "        if not os.path.exists(file_path):  # 이미 파일이 존재하는 경우 건너뛰기\n",
        "            target_file.extract(file, re_path)"
      ],
      "metadata": {
        "colab": {
          "base_uri": "https://localhost:8080/"
        },
        "id": "HkHnyNgCrFF8",
        "outputId": "84337b0b-cbc4-430e-8e1d-8bfb613c96c4"
      },
      "execution_count": null,
      "outputs": [
        {
          "output_type": "stream",
          "name": "stdout",
          "text": [
            "Drive already mounted at /content/drive; to attempt to forcibly remount, call drive.mount(\"/content/drive\", force_remount=True).\n"
          ]
        }
      ]
    },
    {
      "cell_type": "code",
      "source": [
        "# train_data = '/content/car_part/car_part/train'\n",
        "# test_data = '/content/car_part/car_part/test'\n",
        "\n",
        "# input_shape = (224,224)\n",
        "\n",
        "# # 데이터 전처리\n",
        "# train_gen = ImageDataGenerator(rescale=1./255, shear_range=0.2, zoom_range=0.2, horizontal_flip=True)\n",
        "# test_gen = ImageDataGenerator(rescale=1./255)\n",
        "\n",
        "# # 학습 및 테스트 데이터셋 로드\n",
        "# train_dataset = train_gen.flow_from_directory(train_data, target_size=input_shape, batch_size=32, class_mode='categorical')\n",
        "# test_dataset = test_gen.flow_from_directory(test_data, target_size=input_shape, batch_size=32, class_mode='categorical')"
      ],
      "metadata": {
        "colab": {
          "base_uri": "https://localhost:8080/"
        },
        "id": "lFZ4VirirUFU",
        "outputId": "16aad311-230e-4037-9cb2-0e38aaa64b51"
      },
      "execution_count": null,
      "outputs": [
        {
          "output_type": "stream",
          "name": "stdout",
          "text": [
            "Found 2058 images belonging to 12 classes.\n",
            "Found 618 images belonging to 12 classes.\n"
          ]
        }
      ]
    },
    {
      "cell_type": "code",
      "source": [
        "train_data_dir = '/content/car_part/car_part/train'\n",
        "test_data_dir = '/content/car_part/car_part/test'\n",
        "image_size = (224, 224)\n",
        "batch_size = 32\n",
        "\n",
        "train_datagen = tf.keras.preprocessing.image.ImageDataGenerator(rescale=1.0/255.0,\n",
        "                                                                rotation_range=45,\n",
        "                                                                width_shift_range=0.2,\n",
        "                                                                height_shift_range=0.2,\n",
        "                                                                zoom_range=0.2)\n",
        "train_generator = train_datagen.flow_from_directory(\n",
        "    train_data_dir,\n",
        "    target_size=image_size,\n",
        "    batch_size=batch_size,\n",
        "    class_mode='categorical'\n",
        ")\n",
        "\n",
        "test_datagen = tf.keras.preprocessing.image.ImageDataGenerator(rescale=1.0/255.0,\n",
        "                                                                rotation_range=45,\n",
        "                                                                width_shift_range=0.2,\n",
        "                                                                height_shift_range=0.2,\n",
        "                                                                zoom_range=0.2)\n",
        "test_generator = test_datagen.flow_from_directory(\n",
        "    test_data_dir,\n",
        "    target_size=image_size,\n",
        "    batch_size=batch_size,\n",
        "    class_mode='categorical'\n",
        ")"
      ],
      "metadata": {
        "colab": {
          "base_uri": "https://localhost:8080/"
        },
        "id": "diuwDC58tPFc",
        "outputId": "af23d545-deec-4200-a35b-88f626b4bd7f"
      },
      "execution_count": null,
      "outputs": [
        {
          "output_type": "stream",
          "name": "stdout",
          "text": [
            "Found 2058 images belonging to 12 classes.\n",
            "Found 618 images belonging to 12 classes.\n"
          ]
        }
      ]
    },
    {
      "cell_type": "code",
      "source": [
        "# 모델 구성\n",
        "model = Sequential()\n",
        "\n",
        "model.add(Conv2D(32, kernel_size=(3,3), activation='relu', input_shape=(input_shape[0], input_shape[1],3)))\n",
        "model.add(MaxPooling2D(pool_size=(2, 2)))\n",
        "model.add(Dropout(0.25))\n",
        "\n",
        "model.add(Conv2D(64, kernel_size=(3,3), activation='relu'))\n",
        "model.add(MaxPooling2D(pool_size=(2, 2)))\n",
        "model.add(Dropout(0.25))\n",
        "\n",
        "model.add(Conv2D(64, kernel_size=(3,3), activation='relu'))\n",
        "\n",
        "model.add(Flatten())\n",
        "\n",
        "model.add(Dense(64, activation='relu'))\n",
        "model.add(Dense(12, activation='softmax'))\n",
        "\n",
        "# 모델 컴파일\n",
        "model.compile(optimizer='adam', loss='categorical_crossentropy', metrics=['accuracy'])\n",
        "\n",
        "# EarlyStopping\n",
        "early_stopping = EarlyStopping(monitor='val_loss', patience=5, restore_best_weights=True)\n",
        "\n",
        "# 모델 학습\n",
        "start_time = datetime.now()\n",
        "\n",
        "result = model.fit(x=train_generator, epochs=20, validation_data=test_generator, callbacks=[early_stopping])\n",
        "\n",
        "end_time = datetime.now()\n",
        "\n",
        "print('걸린시간:', end_time - start_time)\n",
        "\n",
        "# 모델 평가\n",
        "test_loss, test_accuracy = model.evaluate(test_generator)\n",
        "print(f'Test Loss : {test_loss}')\n",
        "print(f'Test Accuracy : {test_accuracy}')"
      ],
      "metadata": {
        "colab": {
          "base_uri": "https://localhost:8080/"
        },
        "id": "XJ0x4VADsPws",
        "outputId": "149baf19-3763-4048-84c5-3c333a367627"
      },
      "execution_count": null,
      "outputs": [
        {
          "output_type": "stream",
          "name": "stdout",
          "text": [
            "Epoch 1/20\n",
            "65/65 [==============================] - 94s 1s/step - loss: 2.7994 - accuracy: 0.1842 - val_loss: 2.4416 - val_accuracy: 0.1812\n",
            "Epoch 2/20\n",
            "65/65 [==============================] - 86s 1s/step - loss: 2.2719 - accuracy: 0.2201 - val_loss: 2.2730 - val_accuracy: 0.2104\n",
            "Epoch 3/20\n",
            "65/65 [==============================] - 86s 1s/step - loss: 2.1015 - accuracy: 0.2877 - val_loss: 2.1055 - val_accuracy: 0.3204\n",
            "Epoch 4/20\n",
            "65/65 [==============================] - 89s 1s/step - loss: 1.9977 - accuracy: 0.3168 - val_loss: 1.9718 - val_accuracy: 0.3706\n",
            "Epoch 5/20\n",
            "65/65 [==============================] - 87s 1s/step - loss: 1.9194 - accuracy: 0.3479 - val_loss: 1.9651 - val_accuracy: 0.3689\n",
            "Epoch 6/20\n",
            "65/65 [==============================] - 87s 1s/step - loss: 1.8092 - accuracy: 0.3912 - val_loss: 1.7760 - val_accuracy: 0.4320\n",
            "Epoch 7/20\n",
            "65/65 [==============================] - 87s 1s/step - loss: 1.6753 - accuracy: 0.4354 - val_loss: 1.7055 - val_accuracy: 0.4466\n",
            "Epoch 8/20\n",
            "65/65 [==============================] - 90s 1s/step - loss: 1.5835 - accuracy: 0.4893 - val_loss: 1.5986 - val_accuracy: 0.4595\n",
            "Epoch 9/20\n",
            "65/65 [==============================] - 88s 1s/step - loss: 1.4635 - accuracy: 0.5131 - val_loss: 1.5262 - val_accuracy: 0.5000\n",
            "Epoch 10/20\n",
            "65/65 [==============================] - 88s 1s/step - loss: 1.4251 - accuracy: 0.5160 - val_loss: 1.4602 - val_accuracy: 0.5210\n",
            "Epoch 11/20\n",
            "65/65 [==============================] - 89s 1s/step - loss: 1.3538 - accuracy: 0.5418 - val_loss: 1.4326 - val_accuracy: 0.5291\n",
            "Epoch 12/20\n",
            "65/65 [==============================] - 88s 1s/step - loss: 1.3359 - accuracy: 0.5564 - val_loss: 1.4218 - val_accuracy: 0.5340\n",
            "Epoch 13/20\n",
            "65/65 [==============================] - 90s 1s/step - loss: 1.2974 - accuracy: 0.5666 - val_loss: 1.4651 - val_accuracy: 0.5194\n",
            "Epoch 14/20\n",
            "65/65 [==============================] - 87s 1s/step - loss: 1.2655 - accuracy: 0.5807 - val_loss: 1.4319 - val_accuracy: 0.5356\n",
            "Epoch 15/20\n",
            "65/65 [==============================] - 89s 1s/step - loss: 1.2142 - accuracy: 0.5962 - val_loss: 1.3976 - val_accuracy: 0.5324\n",
            "Epoch 16/20\n",
            "65/65 [==============================] - 87s 1s/step - loss: 1.1275 - accuracy: 0.6103 - val_loss: 1.3922 - val_accuracy: 0.5615\n",
            "Epoch 17/20\n",
            "65/65 [==============================] - 90s 1s/step - loss: 1.1195 - accuracy: 0.6181 - val_loss: 1.3986 - val_accuracy: 0.5583\n",
            "Epoch 18/20\n",
            "65/65 [==============================] - 86s 1s/step - loss: 1.0836 - accuracy: 0.6404 - val_loss: 1.3644 - val_accuracy: 0.5518\n",
            "Epoch 19/20\n",
            "21/65 [========>.....................] - ETA: 47s - loss: 1.0351 - accuracy: 0.6696"
          ]
        }
      ]
    },
    {
      "cell_type": "markdown",
      "source": [
        "## MobileNet"
      ],
      "metadata": {
        "id": "Zz7AArLYqyvD"
      }
    },
    {
      "cell_type": "code",
      "source": [
        "base_model = MobileNetV2(input_shape=(image_size[0], image_size[1], 3), include_top=False, weights='imagenet')\n",
        "\n",
        "model = Sequential()\n",
        "model.add(base_model)\n",
        "model.add(GlobalAveragePooling2D())\n",
        "model.add(Dense(128, activation='relu'))\n",
        "model.add(Dropout(0.5))\n",
        "model.add(Dense(4, activation='softmax'))\n",
        "\n",
        "model.compile(optimizer=Adam(learning_rate=1e-5), loss='categorical_crossentropy', metrics=['accuracy'])\n",
        "\n",
        "early_stopping = EarlyStopping(monitor='val_loss', patience=5, restore_best_weights=True)\n",
        "\n",
        "start_time = datetime.now()\n",
        "\n",
        "result = model.fit(x=train_generator, epochs=70, validation_data=test_generator, callbacks=[early_stopping])\n",
        "\n",
        "end_time = datetime.now()\n",
        "\n",
        "print('걸린 시간:', end_time - start_time)\n",
        "\n",
        "test_loss, test_accuracy = model.evaluate(test_generator)\n",
        "print(f'Test Loss: {test_loss}')\n",
        "print(f'Test Accuracy: {test_accuracy}')"
      ],
      "metadata": {
        "id": "lhQOO-0-sTfb",
        "colab": {
          "base_uri": "https://localhost:8080/",
          "height": 437
        },
        "outputId": "223797ba-0d82-4fb2-b2da-f6fbb7a61760"
      },
      "execution_count": null,
      "outputs": [
        {
          "output_type": "stream",
          "name": "stdout",
          "text": [
            "Epoch 1/70\n",
            "1917/5053 [==========>...................] - ETA: 39:26 - loss: 0.6420 - accuracy: 0.8171"
          ]
        },
        {
          "output_type": "error",
          "ename": "KeyboardInterrupt",
          "evalue": "ignored",
          "traceback": [
            "\u001b[0;31m---------------------------------------------------------------------------\u001b[0m",
            "\u001b[0;31mKeyboardInterrupt\u001b[0m                         Traceback (most recent call last)",
            "\u001b[0;32m<ipython-input-8-93e312e295e4>\u001b[0m in \u001b[0;36m<cell line: 16>\u001b[0;34m()\u001b[0m\n\u001b[1;32m     14\u001b[0m \u001b[0mstart_time\u001b[0m \u001b[0;34m=\u001b[0m \u001b[0mdatetime\u001b[0m\u001b[0;34m.\u001b[0m\u001b[0mnow\u001b[0m\u001b[0;34m(\u001b[0m\u001b[0;34m)\u001b[0m\u001b[0;34m\u001b[0m\u001b[0;34m\u001b[0m\u001b[0m\n\u001b[1;32m     15\u001b[0m \u001b[0;34m\u001b[0m\u001b[0m\n\u001b[0;32m---> 16\u001b[0;31m \u001b[0mresult\u001b[0m \u001b[0;34m=\u001b[0m \u001b[0mmodel\u001b[0m\u001b[0;34m.\u001b[0m\u001b[0mfit\u001b[0m\u001b[0;34m(\u001b[0m\u001b[0mx\u001b[0m\u001b[0;34m=\u001b[0m\u001b[0mtrain_generator\u001b[0m\u001b[0;34m,\u001b[0m \u001b[0mepochs\u001b[0m\u001b[0;34m=\u001b[0m\u001b[0;36m70\u001b[0m\u001b[0;34m,\u001b[0m \u001b[0mvalidation_data\u001b[0m\u001b[0;34m=\u001b[0m\u001b[0mtest_generator\u001b[0m\u001b[0;34m,\u001b[0m \u001b[0mcallbacks\u001b[0m\u001b[0;34m=\u001b[0m\u001b[0;34m[\u001b[0m\u001b[0mearly_stopping\u001b[0m\u001b[0;34m]\u001b[0m\u001b[0;34m)\u001b[0m\u001b[0;34m\u001b[0m\u001b[0;34m\u001b[0m\u001b[0m\n\u001b[0m\u001b[1;32m     17\u001b[0m \u001b[0;34m\u001b[0m\u001b[0m\n\u001b[1;32m     18\u001b[0m \u001b[0mend_time\u001b[0m \u001b[0;34m=\u001b[0m \u001b[0mdatetime\u001b[0m\u001b[0;34m.\u001b[0m\u001b[0mnow\u001b[0m\u001b[0;34m(\u001b[0m\u001b[0;34m)\u001b[0m\u001b[0;34m\u001b[0m\u001b[0;34m\u001b[0m\u001b[0m\n",
            "\u001b[0;32m/usr/local/lib/python3.10/dist-packages/keras/utils/traceback_utils.py\u001b[0m in \u001b[0;36merror_handler\u001b[0;34m(*args, **kwargs)\u001b[0m\n\u001b[1;32m     63\u001b[0m         \u001b[0mfiltered_tb\u001b[0m \u001b[0;34m=\u001b[0m \u001b[0;32mNone\u001b[0m\u001b[0;34m\u001b[0m\u001b[0;34m\u001b[0m\u001b[0m\n\u001b[1;32m     64\u001b[0m         \u001b[0;32mtry\u001b[0m\u001b[0;34m:\u001b[0m\u001b[0;34m\u001b[0m\u001b[0;34m\u001b[0m\u001b[0m\n\u001b[0;32m---> 65\u001b[0;31m             \u001b[0;32mreturn\u001b[0m \u001b[0mfn\u001b[0m\u001b[0;34m(\u001b[0m\u001b[0;34m*\u001b[0m\u001b[0margs\u001b[0m\u001b[0;34m,\u001b[0m \u001b[0;34m**\u001b[0m\u001b[0mkwargs\u001b[0m\u001b[0;34m)\u001b[0m\u001b[0;34m\u001b[0m\u001b[0;34m\u001b[0m\u001b[0m\n\u001b[0m\u001b[1;32m     66\u001b[0m         \u001b[0;32mexcept\u001b[0m \u001b[0mException\u001b[0m \u001b[0;32mas\u001b[0m \u001b[0me\u001b[0m\u001b[0;34m:\u001b[0m\u001b[0;34m\u001b[0m\u001b[0;34m\u001b[0m\u001b[0m\n\u001b[1;32m     67\u001b[0m             \u001b[0mfiltered_tb\u001b[0m \u001b[0;34m=\u001b[0m \u001b[0m_process_traceback_frames\u001b[0m\u001b[0;34m(\u001b[0m\u001b[0me\u001b[0m\u001b[0;34m.\u001b[0m\u001b[0m__traceback__\u001b[0m\u001b[0;34m)\u001b[0m\u001b[0;34m\u001b[0m\u001b[0;34m\u001b[0m\u001b[0m\n",
            "\u001b[0;32m/usr/local/lib/python3.10/dist-packages/keras/engine/training.py\u001b[0m in \u001b[0;36mfit\u001b[0;34m(self, x, y, batch_size, epochs, verbose, callbacks, validation_split, validation_data, shuffle, class_weight, sample_weight, initial_epoch, steps_per_epoch, validation_steps, validation_batch_size, validation_freq, max_queue_size, workers, use_multiprocessing)\u001b[0m\n\u001b[1;32m   1689\u001b[0m                             \u001b[0mlogs\u001b[0m \u001b[0;34m=\u001b[0m \u001b[0mtmp_logs\u001b[0m\u001b[0;34m\u001b[0m\u001b[0;34m\u001b[0m\u001b[0m\n\u001b[1;32m   1690\u001b[0m                             \u001b[0mend_step\u001b[0m \u001b[0;34m=\u001b[0m \u001b[0mstep\u001b[0m \u001b[0;34m+\u001b[0m \u001b[0mdata_handler\u001b[0m\u001b[0;34m.\u001b[0m\u001b[0mstep_increment\u001b[0m\u001b[0;34m\u001b[0m\u001b[0;34m\u001b[0m\u001b[0m\n\u001b[0;32m-> 1691\u001b[0;31m                             \u001b[0mcallbacks\u001b[0m\u001b[0;34m.\u001b[0m\u001b[0mon_train_batch_end\u001b[0m\u001b[0;34m(\u001b[0m\u001b[0mend_step\u001b[0m\u001b[0;34m,\u001b[0m \u001b[0mlogs\u001b[0m\u001b[0;34m)\u001b[0m\u001b[0;34m\u001b[0m\u001b[0;34m\u001b[0m\u001b[0m\n\u001b[0m\u001b[1;32m   1692\u001b[0m                             \u001b[0;32mif\u001b[0m \u001b[0mself\u001b[0m\u001b[0;34m.\u001b[0m\u001b[0mstop_training\u001b[0m\u001b[0;34m:\u001b[0m\u001b[0;34m\u001b[0m\u001b[0;34m\u001b[0m\u001b[0m\n\u001b[1;32m   1693\u001b[0m                                 \u001b[0;32mbreak\u001b[0m\u001b[0;34m\u001b[0m\u001b[0;34m\u001b[0m\u001b[0m\n",
            "\u001b[0;32m/usr/local/lib/python3.10/dist-packages/keras/callbacks.py\u001b[0m in \u001b[0;36mon_train_batch_end\u001b[0;34m(self, batch, logs)\u001b[0m\n\u001b[1;32m    473\u001b[0m         \"\"\"\n\u001b[1;32m    474\u001b[0m         \u001b[0;32mif\u001b[0m \u001b[0mself\u001b[0m\u001b[0;34m.\u001b[0m\u001b[0m_should_call_train_batch_hooks\u001b[0m\u001b[0;34m:\u001b[0m\u001b[0;34m\u001b[0m\u001b[0;34m\u001b[0m\u001b[0m\n\u001b[0;32m--> 475\u001b[0;31m             \u001b[0mself\u001b[0m\u001b[0;34m.\u001b[0m\u001b[0m_call_batch_hook\u001b[0m\u001b[0;34m(\u001b[0m\u001b[0mModeKeys\u001b[0m\u001b[0;34m.\u001b[0m\u001b[0mTRAIN\u001b[0m\u001b[0;34m,\u001b[0m \u001b[0;34m\"end\"\u001b[0m\u001b[0;34m,\u001b[0m \u001b[0mbatch\u001b[0m\u001b[0;34m,\u001b[0m \u001b[0mlogs\u001b[0m\u001b[0;34m=\u001b[0m\u001b[0mlogs\u001b[0m\u001b[0;34m)\u001b[0m\u001b[0;34m\u001b[0m\u001b[0;34m\u001b[0m\u001b[0m\n\u001b[0m\u001b[1;32m    476\u001b[0m \u001b[0;34m\u001b[0m\u001b[0m\n\u001b[1;32m    477\u001b[0m     \u001b[0;32mdef\u001b[0m \u001b[0mon_test_batch_begin\u001b[0m\u001b[0;34m(\u001b[0m\u001b[0mself\u001b[0m\u001b[0;34m,\u001b[0m \u001b[0mbatch\u001b[0m\u001b[0;34m,\u001b[0m \u001b[0mlogs\u001b[0m\u001b[0;34m=\u001b[0m\u001b[0;32mNone\u001b[0m\u001b[0;34m)\u001b[0m\u001b[0;34m:\u001b[0m\u001b[0;34m\u001b[0m\u001b[0;34m\u001b[0m\u001b[0m\n",
            "\u001b[0;32m/usr/local/lib/python3.10/dist-packages/keras/callbacks.py\u001b[0m in \u001b[0;36m_call_batch_hook\u001b[0;34m(self, mode, hook, batch, logs)\u001b[0m\n\u001b[1;32m    320\u001b[0m             \u001b[0mself\u001b[0m\u001b[0;34m.\u001b[0m\u001b[0m_call_batch_begin_hook\u001b[0m\u001b[0;34m(\u001b[0m\u001b[0mmode\u001b[0m\u001b[0;34m,\u001b[0m \u001b[0mbatch\u001b[0m\u001b[0;34m,\u001b[0m \u001b[0mlogs\u001b[0m\u001b[0;34m)\u001b[0m\u001b[0;34m\u001b[0m\u001b[0;34m\u001b[0m\u001b[0m\n\u001b[1;32m    321\u001b[0m         \u001b[0;32melif\u001b[0m \u001b[0mhook\u001b[0m \u001b[0;34m==\u001b[0m \u001b[0;34m\"end\"\u001b[0m\u001b[0;34m:\u001b[0m\u001b[0;34m\u001b[0m\u001b[0;34m\u001b[0m\u001b[0m\n\u001b[0;32m--> 322\u001b[0;31m             \u001b[0mself\u001b[0m\u001b[0;34m.\u001b[0m\u001b[0m_call_batch_end_hook\u001b[0m\u001b[0;34m(\u001b[0m\u001b[0mmode\u001b[0m\u001b[0;34m,\u001b[0m \u001b[0mbatch\u001b[0m\u001b[0;34m,\u001b[0m \u001b[0mlogs\u001b[0m\u001b[0;34m)\u001b[0m\u001b[0;34m\u001b[0m\u001b[0;34m\u001b[0m\u001b[0m\n\u001b[0m\u001b[1;32m    323\u001b[0m         \u001b[0;32melse\u001b[0m\u001b[0;34m:\u001b[0m\u001b[0;34m\u001b[0m\u001b[0;34m\u001b[0m\u001b[0m\n\u001b[1;32m    324\u001b[0m             raise ValueError(\n",
            "\u001b[0;32m/usr/local/lib/python3.10/dist-packages/keras/callbacks.py\u001b[0m in \u001b[0;36m_call_batch_end_hook\u001b[0;34m(self, mode, batch, logs)\u001b[0m\n\u001b[1;32m    343\u001b[0m             \u001b[0mself\u001b[0m\u001b[0;34m.\u001b[0m\u001b[0m_batch_times\u001b[0m\u001b[0;34m.\u001b[0m\u001b[0mappend\u001b[0m\u001b[0;34m(\u001b[0m\u001b[0mbatch_time\u001b[0m\u001b[0;34m)\u001b[0m\u001b[0;34m\u001b[0m\u001b[0;34m\u001b[0m\u001b[0m\n\u001b[1;32m    344\u001b[0m \u001b[0;34m\u001b[0m\u001b[0m\n\u001b[0;32m--> 345\u001b[0;31m         \u001b[0mself\u001b[0m\u001b[0;34m.\u001b[0m\u001b[0m_call_batch_hook_helper\u001b[0m\u001b[0;34m(\u001b[0m\u001b[0mhook_name\u001b[0m\u001b[0;34m,\u001b[0m \u001b[0mbatch\u001b[0m\u001b[0;34m,\u001b[0m \u001b[0mlogs\u001b[0m\u001b[0;34m)\u001b[0m\u001b[0;34m\u001b[0m\u001b[0;34m\u001b[0m\u001b[0m\n\u001b[0m\u001b[1;32m    346\u001b[0m \u001b[0;34m\u001b[0m\u001b[0m\n\u001b[1;32m    347\u001b[0m         \u001b[0;32mif\u001b[0m \u001b[0mlen\u001b[0m\u001b[0;34m(\u001b[0m\u001b[0mself\u001b[0m\u001b[0;34m.\u001b[0m\u001b[0m_batch_times\u001b[0m\u001b[0;34m)\u001b[0m \u001b[0;34m>=\u001b[0m \u001b[0mself\u001b[0m\u001b[0;34m.\u001b[0m\u001b[0m_num_batches_for_timing_check\u001b[0m\u001b[0;34m:\u001b[0m\u001b[0;34m\u001b[0m\u001b[0;34m\u001b[0m\u001b[0m\n",
            "\u001b[0;32m/usr/local/lib/python3.10/dist-packages/keras/callbacks.py\u001b[0m in \u001b[0;36m_call_batch_hook_helper\u001b[0;34m(self, hook_name, batch, logs)\u001b[0m\n\u001b[1;32m    391\u001b[0m         \u001b[0;32mfor\u001b[0m \u001b[0mcallback\u001b[0m \u001b[0;32min\u001b[0m \u001b[0mself\u001b[0m\u001b[0;34m.\u001b[0m\u001b[0mcallbacks\u001b[0m\u001b[0;34m:\u001b[0m\u001b[0;34m\u001b[0m\u001b[0;34m\u001b[0m\u001b[0m\n\u001b[1;32m    392\u001b[0m             \u001b[0mhook\u001b[0m \u001b[0;34m=\u001b[0m \u001b[0mgetattr\u001b[0m\u001b[0;34m(\u001b[0m\u001b[0mcallback\u001b[0m\u001b[0;34m,\u001b[0m \u001b[0mhook_name\u001b[0m\u001b[0;34m)\u001b[0m\u001b[0;34m\u001b[0m\u001b[0;34m\u001b[0m\u001b[0m\n\u001b[0;32m--> 393\u001b[0;31m             \u001b[0mhook\u001b[0m\u001b[0;34m(\u001b[0m\u001b[0mbatch\u001b[0m\u001b[0;34m,\u001b[0m \u001b[0mlogs\u001b[0m\u001b[0;34m)\u001b[0m\u001b[0;34m\u001b[0m\u001b[0;34m\u001b[0m\u001b[0m\n\u001b[0m\u001b[1;32m    394\u001b[0m \u001b[0;34m\u001b[0m\u001b[0m\n\u001b[1;32m    395\u001b[0m         \u001b[0;32mif\u001b[0m \u001b[0mself\u001b[0m\u001b[0;34m.\u001b[0m\u001b[0m_check_timing\u001b[0m\u001b[0;34m:\u001b[0m\u001b[0;34m\u001b[0m\u001b[0;34m\u001b[0m\u001b[0m\n",
            "\u001b[0;32m/usr/local/lib/python3.10/dist-packages/keras/callbacks.py\u001b[0m in \u001b[0;36mon_train_batch_end\u001b[0;34m(self, batch, logs)\u001b[0m\n\u001b[1;32m   1091\u001b[0m \u001b[0;34m\u001b[0m\u001b[0m\n\u001b[1;32m   1092\u001b[0m     \u001b[0;32mdef\u001b[0m \u001b[0mon_train_batch_end\u001b[0m\u001b[0;34m(\u001b[0m\u001b[0mself\u001b[0m\u001b[0;34m,\u001b[0m \u001b[0mbatch\u001b[0m\u001b[0;34m,\u001b[0m \u001b[0mlogs\u001b[0m\u001b[0;34m=\u001b[0m\u001b[0;32mNone\u001b[0m\u001b[0;34m)\u001b[0m\u001b[0;34m:\u001b[0m\u001b[0;34m\u001b[0m\u001b[0;34m\u001b[0m\u001b[0m\n\u001b[0;32m-> 1093\u001b[0;31m         \u001b[0mself\u001b[0m\u001b[0;34m.\u001b[0m\u001b[0m_batch_update_progbar\u001b[0m\u001b[0;34m(\u001b[0m\u001b[0mbatch\u001b[0m\u001b[0;34m,\u001b[0m \u001b[0mlogs\u001b[0m\u001b[0;34m)\u001b[0m\u001b[0;34m\u001b[0m\u001b[0;34m\u001b[0m\u001b[0m\n\u001b[0m\u001b[1;32m   1094\u001b[0m \u001b[0;34m\u001b[0m\u001b[0m\n\u001b[1;32m   1095\u001b[0m     \u001b[0;32mdef\u001b[0m \u001b[0mon_test_batch_end\u001b[0m\u001b[0;34m(\u001b[0m\u001b[0mself\u001b[0m\u001b[0;34m,\u001b[0m \u001b[0mbatch\u001b[0m\u001b[0;34m,\u001b[0m \u001b[0mlogs\u001b[0m\u001b[0;34m=\u001b[0m\u001b[0;32mNone\u001b[0m\u001b[0;34m)\u001b[0m\u001b[0;34m:\u001b[0m\u001b[0;34m\u001b[0m\u001b[0;34m\u001b[0m\u001b[0m\n",
            "\u001b[0;32m/usr/local/lib/python3.10/dist-packages/keras/callbacks.py\u001b[0m in \u001b[0;36m_batch_update_progbar\u001b[0;34m(self, batch, logs)\u001b[0m\n\u001b[1;32m   1167\u001b[0m         \u001b[0;32mif\u001b[0m \u001b[0mself\u001b[0m\u001b[0;34m.\u001b[0m\u001b[0mverbose\u001b[0m \u001b[0;34m==\u001b[0m \u001b[0;36m1\u001b[0m\u001b[0;34m:\u001b[0m\u001b[0;34m\u001b[0m\u001b[0;34m\u001b[0m\u001b[0m\n\u001b[1;32m   1168\u001b[0m             \u001b[0;31m# Only block async when verbose = 1.\u001b[0m\u001b[0;34m\u001b[0m\u001b[0;34m\u001b[0m\u001b[0m\n\u001b[0;32m-> 1169\u001b[0;31m             \u001b[0mlogs\u001b[0m \u001b[0;34m=\u001b[0m \u001b[0mtf_utils\u001b[0m\u001b[0;34m.\u001b[0m\u001b[0msync_to_numpy_or_python_type\u001b[0m\u001b[0;34m(\u001b[0m\u001b[0mlogs\u001b[0m\u001b[0;34m)\u001b[0m\u001b[0;34m\u001b[0m\u001b[0;34m\u001b[0m\u001b[0m\n\u001b[0m\u001b[1;32m   1170\u001b[0m             \u001b[0mself\u001b[0m\u001b[0;34m.\u001b[0m\u001b[0mprogbar\u001b[0m\u001b[0;34m.\u001b[0m\u001b[0mupdate\u001b[0m\u001b[0;34m(\u001b[0m\u001b[0mself\u001b[0m\u001b[0;34m.\u001b[0m\u001b[0mseen\u001b[0m\u001b[0;34m,\u001b[0m \u001b[0mlist\u001b[0m\u001b[0;34m(\u001b[0m\u001b[0mlogs\u001b[0m\u001b[0;34m.\u001b[0m\u001b[0mitems\u001b[0m\u001b[0;34m(\u001b[0m\u001b[0;34m)\u001b[0m\u001b[0;34m)\u001b[0m\u001b[0;34m,\u001b[0m \u001b[0mfinalize\u001b[0m\u001b[0;34m=\u001b[0m\u001b[0;32mFalse\u001b[0m\u001b[0;34m)\u001b[0m\u001b[0;34m\u001b[0m\u001b[0;34m\u001b[0m\u001b[0m\n\u001b[1;32m   1171\u001b[0m \u001b[0;34m\u001b[0m\u001b[0m\n",
            "\u001b[0;32m/usr/local/lib/python3.10/dist-packages/keras/utils/tf_utils.py\u001b[0m in \u001b[0;36msync_to_numpy_or_python_type\u001b[0;34m(tensors)\u001b[0m\n\u001b[1;32m    678\u001b[0m         \u001b[0;32mreturn\u001b[0m \u001b[0mt\u001b[0m\u001b[0;34m.\u001b[0m\u001b[0mitem\u001b[0m\u001b[0;34m(\u001b[0m\u001b[0;34m)\u001b[0m \u001b[0;32mif\u001b[0m \u001b[0mnp\u001b[0m\u001b[0;34m.\u001b[0m\u001b[0mndim\u001b[0m\u001b[0;34m(\u001b[0m\u001b[0mt\u001b[0m\u001b[0;34m)\u001b[0m \u001b[0;34m==\u001b[0m \u001b[0;36m0\u001b[0m \u001b[0;32melse\u001b[0m \u001b[0mt\u001b[0m\u001b[0;34m\u001b[0m\u001b[0;34m\u001b[0m\u001b[0m\n\u001b[1;32m    679\u001b[0m \u001b[0;34m\u001b[0m\u001b[0m\n\u001b[0;32m--> 680\u001b[0;31m     \u001b[0;32mreturn\u001b[0m \u001b[0mtf\u001b[0m\u001b[0;34m.\u001b[0m\u001b[0mnest\u001b[0m\u001b[0;34m.\u001b[0m\u001b[0mmap_structure\u001b[0m\u001b[0;34m(\u001b[0m\u001b[0m_to_single_numpy_or_python_type\u001b[0m\u001b[0;34m,\u001b[0m \u001b[0mtensors\u001b[0m\u001b[0;34m)\u001b[0m\u001b[0;34m\u001b[0m\u001b[0;34m\u001b[0m\u001b[0m\n\u001b[0m\u001b[1;32m    681\u001b[0m \u001b[0;34m\u001b[0m\u001b[0m\n\u001b[1;32m    682\u001b[0m \u001b[0;34m\u001b[0m\u001b[0m\n",
            "\u001b[0;32m/usr/local/lib/python3.10/dist-packages/tensorflow/python/util/nest.py\u001b[0m in \u001b[0;36mmap_structure\u001b[0;34m(func, *structure, **kwargs)\u001b[0m\n\u001b[1;32m    915\u001b[0m \u001b[0;34m\u001b[0m\u001b[0m\n\u001b[1;32m    916\u001b[0m   return pack_sequence_as(\n\u001b[0;32m--> 917\u001b[0;31m       \u001b[0mstructure\u001b[0m\u001b[0;34m[\u001b[0m\u001b[0;36m0\u001b[0m\u001b[0;34m]\u001b[0m\u001b[0;34m,\u001b[0m \u001b[0;34m[\u001b[0m\u001b[0mfunc\u001b[0m\u001b[0;34m(\u001b[0m\u001b[0;34m*\u001b[0m\u001b[0mx\u001b[0m\u001b[0;34m)\u001b[0m \u001b[0;32mfor\u001b[0m \u001b[0mx\u001b[0m \u001b[0;32min\u001b[0m \u001b[0mentries\u001b[0m\u001b[0;34m]\u001b[0m\u001b[0;34m,\u001b[0m\u001b[0;34m\u001b[0m\u001b[0;34m\u001b[0m\u001b[0m\n\u001b[0m\u001b[1;32m    918\u001b[0m       expand_composites=expand_composites)\n\u001b[1;32m    919\u001b[0m \u001b[0;34m\u001b[0m\u001b[0m\n",
            "\u001b[0;32m/usr/local/lib/python3.10/dist-packages/tensorflow/python/util/nest.py\u001b[0m in \u001b[0;36m<listcomp>\u001b[0;34m(.0)\u001b[0m\n\u001b[1;32m    915\u001b[0m \u001b[0;34m\u001b[0m\u001b[0m\n\u001b[1;32m    916\u001b[0m   return pack_sequence_as(\n\u001b[0;32m--> 917\u001b[0;31m       \u001b[0mstructure\u001b[0m\u001b[0;34m[\u001b[0m\u001b[0;36m0\u001b[0m\u001b[0;34m]\u001b[0m\u001b[0;34m,\u001b[0m \u001b[0;34m[\u001b[0m\u001b[0mfunc\u001b[0m\u001b[0;34m(\u001b[0m\u001b[0;34m*\u001b[0m\u001b[0mx\u001b[0m\u001b[0;34m)\u001b[0m \u001b[0;32mfor\u001b[0m \u001b[0mx\u001b[0m \u001b[0;32min\u001b[0m \u001b[0mentries\u001b[0m\u001b[0;34m]\u001b[0m\u001b[0;34m,\u001b[0m\u001b[0;34m\u001b[0m\u001b[0;34m\u001b[0m\u001b[0m\n\u001b[0m\u001b[1;32m    918\u001b[0m       expand_composites=expand_composites)\n\u001b[1;32m    919\u001b[0m \u001b[0;34m\u001b[0m\u001b[0m\n",
            "\u001b[0;32m/usr/local/lib/python3.10/dist-packages/keras/utils/tf_utils.py\u001b[0m in \u001b[0;36m_to_single_numpy_or_python_type\u001b[0;34m(t)\u001b[0m\n\u001b[1;32m    671\u001b[0m         \u001b[0;31m# Don't turn ragged or sparse tensors to NumPy.\u001b[0m\u001b[0;34m\u001b[0m\u001b[0;34m\u001b[0m\u001b[0m\n\u001b[1;32m    672\u001b[0m         \u001b[0;32mif\u001b[0m \u001b[0misinstance\u001b[0m\u001b[0;34m(\u001b[0m\u001b[0mt\u001b[0m\u001b[0;34m,\u001b[0m \u001b[0mtf\u001b[0m\u001b[0;34m.\u001b[0m\u001b[0mTensor\u001b[0m\u001b[0;34m)\u001b[0m\u001b[0;34m:\u001b[0m\u001b[0;34m\u001b[0m\u001b[0;34m\u001b[0m\u001b[0m\n\u001b[0;32m--> 673\u001b[0;31m             \u001b[0mt\u001b[0m \u001b[0;34m=\u001b[0m \u001b[0mt\u001b[0m\u001b[0;34m.\u001b[0m\u001b[0mnumpy\u001b[0m\u001b[0;34m(\u001b[0m\u001b[0;34m)\u001b[0m\u001b[0;34m\u001b[0m\u001b[0;34m\u001b[0m\u001b[0m\n\u001b[0m\u001b[1;32m    674\u001b[0m         \u001b[0;31m# Strings, ragged and sparse tensors don't have .item(). Return them\u001b[0m\u001b[0;34m\u001b[0m\u001b[0;34m\u001b[0m\u001b[0m\n\u001b[1;32m    675\u001b[0m         \u001b[0;31m# as-is.\u001b[0m\u001b[0;34m\u001b[0m\u001b[0;34m\u001b[0m\u001b[0m\n",
            "\u001b[0;32m/usr/local/lib/python3.10/dist-packages/tensorflow/python/framework/ops.py\u001b[0m in \u001b[0;36mnumpy\u001b[0;34m(self)\u001b[0m\n\u001b[1;32m   1158\u001b[0m     \"\"\"\n\u001b[1;32m   1159\u001b[0m     \u001b[0;31m# TODO(slebedev): Consider avoiding a copy for non-CPU or remote tensors.\u001b[0m\u001b[0;34m\u001b[0m\u001b[0;34m\u001b[0m\u001b[0m\n\u001b[0;32m-> 1160\u001b[0;31m     \u001b[0mmaybe_arr\u001b[0m \u001b[0;34m=\u001b[0m \u001b[0mself\u001b[0m\u001b[0;34m.\u001b[0m\u001b[0m_numpy\u001b[0m\u001b[0;34m(\u001b[0m\u001b[0;34m)\u001b[0m  \u001b[0;31m# pylint: disable=protected-access\u001b[0m\u001b[0;34m\u001b[0m\u001b[0;34m\u001b[0m\u001b[0m\n\u001b[0m\u001b[1;32m   1161\u001b[0m     \u001b[0;32mreturn\u001b[0m \u001b[0mmaybe_arr\u001b[0m\u001b[0;34m.\u001b[0m\u001b[0mcopy\u001b[0m\u001b[0;34m(\u001b[0m\u001b[0;34m)\u001b[0m \u001b[0;32mif\u001b[0m \u001b[0misinstance\u001b[0m\u001b[0;34m(\u001b[0m\u001b[0mmaybe_arr\u001b[0m\u001b[0;34m,\u001b[0m \u001b[0mnp\u001b[0m\u001b[0;34m.\u001b[0m\u001b[0mndarray\u001b[0m\u001b[0;34m)\u001b[0m \u001b[0;32melse\u001b[0m \u001b[0mmaybe_arr\u001b[0m\u001b[0;34m\u001b[0m\u001b[0;34m\u001b[0m\u001b[0m\n\u001b[1;32m   1162\u001b[0m \u001b[0;34m\u001b[0m\u001b[0m\n",
            "\u001b[0;32m/usr/local/lib/python3.10/dist-packages/tensorflow/python/framework/ops.py\u001b[0m in \u001b[0;36m_numpy\u001b[0;34m(self)\u001b[0m\n\u001b[1;32m   1124\u001b[0m   \u001b[0;32mdef\u001b[0m \u001b[0m_numpy\u001b[0m\u001b[0;34m(\u001b[0m\u001b[0mself\u001b[0m\u001b[0;34m)\u001b[0m\u001b[0;34m:\u001b[0m\u001b[0;34m\u001b[0m\u001b[0;34m\u001b[0m\u001b[0m\n\u001b[1;32m   1125\u001b[0m     \u001b[0;32mtry\u001b[0m\u001b[0;34m:\u001b[0m\u001b[0;34m\u001b[0m\u001b[0;34m\u001b[0m\u001b[0m\n\u001b[0;32m-> 1126\u001b[0;31m       \u001b[0;32mreturn\u001b[0m \u001b[0mself\u001b[0m\u001b[0;34m.\u001b[0m\u001b[0m_numpy_internal\u001b[0m\u001b[0;34m(\u001b[0m\u001b[0;34m)\u001b[0m\u001b[0;34m\u001b[0m\u001b[0;34m\u001b[0m\u001b[0m\n\u001b[0m\u001b[1;32m   1127\u001b[0m     \u001b[0;32mexcept\u001b[0m \u001b[0mcore\u001b[0m\u001b[0;34m.\u001b[0m\u001b[0m_NotOkStatusException\u001b[0m \u001b[0;32mas\u001b[0m \u001b[0me\u001b[0m\u001b[0;34m:\u001b[0m  \u001b[0;31m# pylint: disable=protected-access\u001b[0m\u001b[0;34m\u001b[0m\u001b[0;34m\u001b[0m\u001b[0m\n\u001b[1;32m   1128\u001b[0m       \u001b[0;32mraise\u001b[0m \u001b[0mcore\u001b[0m\u001b[0;34m.\u001b[0m\u001b[0m_status_to_exception\u001b[0m\u001b[0;34m(\u001b[0m\u001b[0me\u001b[0m\u001b[0;34m)\u001b[0m \u001b[0;32mfrom\u001b[0m \u001b[0;32mNone\u001b[0m  \u001b[0;31m# pylint: disable=protected-access\u001b[0m\u001b[0;34m\u001b[0m\u001b[0;34m\u001b[0m\u001b[0m\n",
            "\u001b[0;31mKeyboardInterrupt\u001b[0m: "
          ]
        }
      ]
    },
    {
      "cell_type": "code",
      "source": [
        "plt.figure(figsize=(8,4))\n",
        "plt.subplot(1,2,1)\n",
        "\n",
        "plt.title('LOSS')\n",
        "plt.xlabel('epochs')\n",
        "plt.ylabel('loss')\n",
        "plt.grid()\n",
        "\n",
        "plt.plot(result.history['loss'], label='train_loss')\n",
        "plt.plot(result.history['val_loss'], label= 'validation_loss')\n",
        "plt.legend(loc='best')\n",
        "\n",
        "plt.subplot(1,2,2)\n",
        "\n",
        "plt.title('ACCURACY')\n",
        "plt.xlabel('epochs')\n",
        "plt.ylabel('accuracy')\n",
        "plt.grid()\n",
        "\n",
        "plt.plot(result.history['accuracy'], label='train_accuracy')\n",
        "plt.plot(result.history['val_accuracy'], label= 'validationi_accuracy')\n",
        "plt.legend(loc='best')\n"
      ],
      "metadata": {
        "id": "SDqx2jgLq2JA",
        "colab": {
          "base_uri": "https://localhost:8080/",
          "height": 428
        },
        "outputId": "d6d1b0aa-9c18-43d5-c3c9-cabfdc2f488e"
      },
      "execution_count": null,
      "outputs": [
        {
          "output_type": "execute_result",
          "data": {
            "text/plain": [
              "<matplotlib.legend.Legend at 0x7fe5ea4f2cb0>"
            ]
          },
          "metadata": {},
          "execution_count": 9
        },
        {
          "output_type": "display_data",
          "data": {
            "text/plain": [
              "<Figure size 800x400 with 2 Axes>"
            ],
            "image/png": "[encoded data removed]"
          },
          "metadata": {}
        }
      ]
    },
    {
      "cell_type": "code",
      "source": [
        "base_model = MobileNetV2(input_shape=(image_size[0], image_size[1], 3), include_top=False, weights='imagenet')\n",
        "\n",
        "model = Sequential()\n",
        "model.add(base_model)\n",
        "model.add(GlobalAveragePooling2D())\n",
        "model.add(Dense(128, activation='relu', kernel_regularizer=regularizers.l2(0.01)))\n",
        "model.add(Dropout(0.5))\n",
        "model.add(Dense(12, activation='softmax'))\n",
        "\n",
        "model.compile(optimizer=Adam(learning_rate=1e-5), loss='categorical_crossentropy', metrics=['accuracy'])\n",
        "\n",
        "early_stopping = EarlyStopping(monitor='val_loss', patience=5, restore_best_weights=True)\n",
        "\n",
        "start_time = datetime.now()\n",
        "\n",
        "result = model.fit(x=train_generator, epochs=70, validation_data=test_generator, callbacks=[early_stopping])\n",
        "\n",
        "end_time = datetime.now()\n",
        "\n",
        "print('걸린 시간:', end_time - start_time)\n",
        "\n",
        "test_loss, test_accuracy = model.evaluate(test_generator)\n",
        "print(f'Test Loss: {test_loss}')\n",
        "print(f'Test Accuracy: {test_accuracy}')"
      ],
      "metadata": {
        "id": "P1ddjdeJ8VSH",
        "colab": {
          "base_uri": "https://localhost:8080/"
        },
        "outputId": "e6de3a73-3301-42a7-bdec-704f14301886"
      },
      "execution_count": null,
      "outputs": [
        {
          "output_type": "stream",
          "name": "stdout",
          "text": [
            "Epoch 1/70\n",
            "65/65 [==============================] - 133s 1s/step - loss: 5.1996 - accuracy: 0.0996 - val_loss: 5.0927 - val_accuracy: 0.1181\n",
            "Epoch 2/70\n",
            "65/65 [==============================] - 94s 1s/step - loss: 4.8185 - accuracy: 0.1662 - val_loss: 4.8214 - val_accuracy: 0.1472\n",
            "Epoch 3/70\n",
            "65/65 [==============================] - 94s 1s/step - loss: 4.5892 - accuracy: 0.2221 - val_loss: 4.6023 - val_accuracy: 0.1650\n",
            "Epoch 4/70\n",
            "65/65 [==============================] - 113s 2s/step - loss: 4.3891 - accuracy: 0.2983 - val_loss: 4.3831 - val_accuracy: 0.2508\n",
            "Epoch 5/70\n",
            "65/65 [==============================] - 96s 1s/step - loss: 4.2532 - accuracy: 0.3426 - val_loss: 4.2181 - val_accuracy: 0.3285\n",
            "Epoch 6/70\n",
            "65/65 [==============================] - 94s 1s/step - loss: 4.1236 - accuracy: 0.3936 - val_loss: 4.0779 - val_accuracy: 0.3754\n",
            "Epoch 7/70\n",
            "65/65 [==============================] - 95s 1s/step - loss: 3.9734 - accuracy: 0.4441 - val_loss: 3.9296 - val_accuracy: 0.4434\n",
            "Epoch 8/70\n",
            "65/65 [==============================] - 96s 1s/step - loss: 3.8481 - accuracy: 0.4898 - val_loss: 3.8339 - val_accuracy: 0.4951\n",
            "Epoch 9/70\n",
            "65/65 [==============================] - 113s 2s/step - loss: 3.7612 - accuracy: 0.5034 - val_loss: 3.6777 - val_accuracy: 0.5534\n",
            "Epoch 10/70\n",
            "65/65 [==============================] - 95s 1s/step - loss: 3.6501 - accuracy: 0.5539 - val_loss: 3.6040 - val_accuracy: 0.5647\n",
            "Epoch 11/70\n",
            "65/65 [==============================] - 112s 2s/step - loss: 3.5774 - accuracy: 0.5680 - val_loss: 3.5390 - val_accuracy: 0.5906\n",
            "Epoch 12/70\n",
            "65/65 [==============================] - 95s 1s/step - loss: 3.4912 - accuracy: 0.5952 - val_loss: 3.4618 - val_accuracy: 0.5955\n",
            "Epoch 13/70\n",
            "65/65 [==============================] - 95s 1s/step - loss: 3.4429 - accuracy: 0.5952 - val_loss: 3.3890 - val_accuracy: 0.6375\n",
            "Epoch 14/70\n",
            "65/65 [==============================] - 95s 1s/step - loss: 3.3541 - accuracy: 0.6312 - val_loss: 3.3117 - val_accuracy: 0.6586\n",
            "Epoch 15/70\n",
            "65/65 [==============================] - 95s 1s/step - loss: 3.3019 - accuracy: 0.6429 - val_loss: 3.2376 - val_accuracy: 0.6861\n",
            "Epoch 16/70\n",
            "65/65 [==============================] - 93s 1s/step - loss: 3.2656 - accuracy: 0.6594 - val_loss: 3.1771 - val_accuracy: 0.6731\n",
            "Epoch 17/70\n",
            "65/65 [==============================] - 93s 1s/step - loss: 3.2018 - accuracy: 0.6667 - val_loss: 3.1656 - val_accuracy: 0.6731\n",
            "Epoch 18/70\n",
            "65/65 [==============================] - 93s 1s/step - loss: 3.1668 - accuracy: 0.6730 - val_loss: 3.1150 - val_accuracy: 0.7006\n",
            "Epoch 19/70\n",
            "65/65 [==============================] - 95s 1s/step - loss: 3.1227 - accuracy: 0.6929 - val_loss: 3.1118 - val_accuracy: 0.7136\n",
            "Epoch 20/70\n",
            "65/65 [==============================] - 95s 1s/step - loss: 3.1152 - accuracy: 0.7080 - val_loss: 3.0538 - val_accuracy: 0.7120\n",
            "Epoch 21/70\n",
            "65/65 [==============================] - 97s 1s/step - loss: 3.0572 - accuracy: 0.7123 - val_loss: 3.0192 - val_accuracy: 0.7460\n",
            "Epoch 22/70\n",
            "65/65 [==============================] - 112s 2s/step - loss: 3.0262 - accuracy: 0.7128 - val_loss: 2.9778 - val_accuracy: 0.7427\n",
            "Epoch 23/70\n",
            "65/65 [==============================] - 94s 1s/step - loss: 2.9791 - accuracy: 0.7293 - val_loss: 2.9529 - val_accuracy: 0.7557\n",
            "Epoch 24/70\n",
            "65/65 [==============================] - 94s 1s/step - loss: 2.9858 - accuracy: 0.7396 - val_loss: 2.9244 - val_accuracy: 0.7362\n",
            "Epoch 25/70\n",
            "65/65 [==============================] - 95s 1s/step - loss: 2.9347 - accuracy: 0.7522 - val_loss: 2.9123 - val_accuracy: 0.7492\n",
            "Epoch 26/70\n",
            "65/65 [==============================] - 95s 1s/step - loss: 2.8947 - accuracy: 0.7444 - val_loss: 2.9041 - val_accuracy: 0.7621\n",
            "Epoch 27/70\n",
            "65/65 [==============================] - 95s 1s/step - loss: 2.8611 - accuracy: 0.7638 - val_loss: 2.8599 - val_accuracy: 0.7589\n",
            "Epoch 28/70\n",
            "65/65 [==============================] - 96s 1s/step - loss: 2.8509 - accuracy: 0.7624 - val_loss: 2.8098 - val_accuracy: 0.7783\n",
            "Epoch 29/70\n",
            "65/65 [==============================] - 97s 1s/step - loss: 2.8263 - accuracy: 0.7672 - val_loss: 2.7942 - val_accuracy: 0.7638\n",
            "Epoch 30/70\n",
            "65/65 [==============================] - 95s 1s/step - loss: 2.7841 - accuracy: 0.7760 - val_loss: 2.7652 - val_accuracy: 0.7929\n",
            "Epoch 31/70\n",
            "65/65 [==============================] - 95s 1s/step - loss: 2.7997 - accuracy: 0.7643 - val_loss: 2.7733 - val_accuracy: 0.7864\n",
            "Epoch 32/70\n",
            "65/65 [==============================] - 95s 1s/step - loss: 2.7697 - accuracy: 0.7799 - val_loss: 2.7677 - val_accuracy: 0.7864\n",
            "Epoch 33/70\n",
            "65/65 [==============================] - 96s 1s/step - loss: 2.7227 - accuracy: 0.7974 - val_loss: 2.7048 - val_accuracy: 0.8010\n",
            "Epoch 34/70\n",
            "65/65 [==============================] - 113s 2s/step - loss: 2.7339 - accuracy: 0.7969 - val_loss: 2.7191 - val_accuracy: 0.7977\n",
            "Epoch 35/70\n",
            "65/65 [==============================] - 95s 1s/step - loss: 2.6740 - accuracy: 0.8081 - val_loss: 2.6649 - val_accuracy: 0.7994\n",
            "Epoch 36/70\n",
            "65/65 [==============================] - 95s 1s/step - loss: 2.6593 - accuracy: 0.8056 - val_loss: 2.6551 - val_accuracy: 0.8026\n",
            "Epoch 37/70\n",
            "65/65 [==============================] - 95s 1s/step - loss: 2.6465 - accuracy: 0.8149 - val_loss: 2.6585 - val_accuracy: 0.8091\n",
            "Epoch 38/70\n",
            "65/65 [==============================] - 113s 2s/step - loss: 2.6189 - accuracy: 0.8178 - val_loss: 2.6303 - val_accuracy: 0.8172\n",
            "Epoch 39/70\n",
            "65/65 [==============================] - 95s 1s/step - loss: 2.6245 - accuracy: 0.8212 - val_loss: 2.6201 - val_accuracy: 0.8026\n",
            "Epoch 40/70\n",
            "65/65 [==============================] - 112s 2s/step - loss: 2.5846 - accuracy: 0.8149 - val_loss: 2.5967 - val_accuracy: 0.8220\n",
            "Epoch 41/70\n",
            "65/65 [==============================] - 94s 1s/step - loss: 2.5824 - accuracy: 0.8275 - val_loss: 2.5731 - val_accuracy: 0.8350\n",
            "Epoch 42/70\n",
            "65/65 [==============================] - 95s 1s/step - loss: 2.5610 - accuracy: 0.8314 - val_loss: 2.5380 - val_accuracy: 0.8301\n",
            "Epoch 43/70\n",
            "65/65 [==============================] - 112s 2s/step - loss: 2.5268 - accuracy: 0.8382 - val_loss: 2.5502 - val_accuracy: 0.8350\n",
            "Epoch 44/70\n",
            "65/65 [==============================] - 94s 1s/step - loss: 2.5176 - accuracy: 0.8440 - val_loss: 2.5180 - val_accuracy: 0.8576\n",
            "Epoch 45/70\n",
            "65/65 [==============================] - 95s 1s/step - loss: 2.4931 - accuracy: 0.8508 - val_loss: 2.5277 - val_accuracy: 0.8333\n",
            "Epoch 46/70\n",
            "65/65 [==============================] - 93s 1s/step - loss: 2.4720 - accuracy: 0.8625 - val_loss: 2.5221 - val_accuracy: 0.8220\n",
            "Epoch 47/70\n",
            "65/65 [==============================] - 93s 1s/step - loss: 2.4668 - accuracy: 0.8508 - val_loss: 2.4833 - val_accuracy: 0.8220\n",
            "Epoch 48/70\n",
            "65/65 [==============================] - 111s 2s/step - loss: 2.4436 - accuracy: 0.8489 - val_loss: 2.4686 - val_accuracy: 0.8301\n",
            "Epoch 49/70\n",
            "65/65 [==============================] - 110s 2s/step - loss: 2.4358 - accuracy: 0.8460 - val_loss: 2.4525 - val_accuracy: 0.8430\n",
            "Epoch 50/70\n",
            "65/65 [==============================] - 91s 1s/step - loss: 2.4008 - accuracy: 0.8547 - val_loss: 2.4345 - val_accuracy: 0.8463\n",
            "Epoch 51/70\n",
            "65/65 [==============================] - 91s 1s/step - loss: 2.3956 - accuracy: 0.8576 - val_loss: 2.4146 - val_accuracy: 0.8625\n",
            "Epoch 52/70\n",
            "65/65 [==============================] - 92s 1s/step - loss: 2.3805 - accuracy: 0.8610 - val_loss: 2.4386 - val_accuracy: 0.8317\n",
            "Epoch 53/70\n",
            "65/65 [==============================] - 93s 1s/step - loss: 2.3979 - accuracy: 0.8518 - val_loss: 2.4083 - val_accuracy: 0.8495\n",
            "Epoch 54/70\n",
            "65/65 [==============================] - 91s 1s/step - loss: 2.3491 - accuracy: 0.8654 - val_loss: 2.4241 - val_accuracy: 0.8366\n",
            "Epoch 55/70\n",
            "65/65 [==============================] - 93s 1s/step - loss: 2.3635 - accuracy: 0.8586 - val_loss: 2.3956 - val_accuracy: 0.8544\n",
            "Epoch 56/70\n",
            "65/65 [==============================] - 112s 2s/step - loss: 2.3202 - accuracy: 0.8693 - val_loss: 2.3737 - val_accuracy: 0.8560\n",
            "Epoch 57/70\n",
            "65/65 [==============================] - 92s 1s/step - loss: 2.2843 - accuracy: 0.8926 - val_loss: 2.3570 - val_accuracy: 0.8592\n",
            "Epoch 58/70\n",
            "65/65 [==============================] - 91s 1s/step - loss: 2.2899 - accuracy: 0.8790 - val_loss: 2.3677 - val_accuracy: 0.8414\n",
            "Epoch 59/70\n",
            "65/65 [==============================] - 92s 1s/step - loss: 2.2522 - accuracy: 0.8916 - val_loss: 2.3677 - val_accuracy: 0.8447\n",
            "Epoch 60/70\n",
            "65/65 [==============================] - 92s 1s/step - loss: 2.2608 - accuracy: 0.8776 - val_loss: 2.3190 - val_accuracy: 0.8657\n",
            "Epoch 61/70\n",
            "65/65 [==============================] - 91s 1s/step - loss: 2.2406 - accuracy: 0.8921 - val_loss: 2.3552 - val_accuracy: 0.8495\n",
            "Epoch 62/70\n",
            "65/65 [==============================] - 91s 1s/step - loss: 2.2107 - accuracy: 0.8921 - val_loss: 2.2921 - val_accuracy: 0.8592\n",
            "Epoch 63/70\n",
            "65/65 [==============================] - 91s 1s/step - loss: 2.2003 - accuracy: 0.9028 - val_loss: 2.3308 - val_accuracy: 0.8511\n",
            "Epoch 64/70\n",
            "65/65 [==============================] - 91s 1s/step - loss: 2.2233 - accuracy: 0.8878 - val_loss: 2.3164 - val_accuracy: 0.8625\n",
            "Epoch 65/70\n",
            "65/65 [==============================] - 111s 2s/step - loss: 2.1705 - accuracy: 0.9052 - val_loss: 2.2975 - val_accuracy: 0.8463\n",
            "Epoch 66/70\n",
            "65/65 [==============================] - 92s 1s/step - loss: 2.1347 - accuracy: 0.9057 - val_loss: 2.2823 - val_accuracy: 0.8608\n",
            "Epoch 67/70\n",
            "65/65 [==============================] - 112s 2s/step - loss: 2.1528 - accuracy: 0.8994 - val_loss: 2.2862 - val_accuracy: 0.8528\n",
            "Epoch 68/70\n",
            "65/65 [==============================] - 92s 1s/step - loss: 2.1432 - accuracy: 0.8984 - val_loss: 2.2672 - val_accuracy: 0.8560\n",
            "Epoch 69/70\n",
            "65/65 [==============================] - 91s 1s/step - loss: 2.1372 - accuracy: 0.9033 - val_loss: 2.2523 - val_accuracy: 0.8625\n",
            "Epoch 70/70\n",
            "65/65 [==============================] - 91s 1s/step - loss: 2.1062 - accuracy: 0.9048 - val_loss: 2.2558 - val_accuracy: 0.8560\n",
            "걸린 시간: 2:05:32.240412\n",
            "20/20 [==============================] - 22s 1s/step - loss: 2.2488 - accuracy: 0.8528\n",
            "Test Loss: 2.2488045692443848\n",
            "Test Accuracy: 0.852750837802887\n"
          ]
        }
      ]
    },
    {
      "cell_type": "code",
      "source": [
        "print(tf.__version__)"
      ],
      "metadata": {
        "id": "ZCbaZqin-WAi",
        "colab": {
          "base_uri": "https://localhost:8080/"
        },
        "outputId": "9bb33dee-46ba-4fd9-8196-ac2c9f0233cc"
      },
      "execution_count": null,
      "outputs": [
        {
          "output_type": "stream",
          "name": "stdout",
          "text": [
            "2.12.0\n"
          ]
        }
      ]
    },
    {
      "cell_type": "code",
      "source": [],
      "metadata": {
        "id": "iPOLYuYTMkoj"
      },
      "execution_count": null,
      "outputs": []
    }
  ]
}