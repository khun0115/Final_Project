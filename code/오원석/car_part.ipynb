{
  "nbformat": 4,
  "nbformat_minor": 0,
  "metadata": {
    "colab": {
      "provenance": [],
      "gpuType": "T4"
    },
    "kernelspec": {
      "name": "python3",
      "display_name": "Python 3"
    },
    "language_info": {
      "name": "python"
    },
    "accelerator": "GPU"
  },
  "cells": [
    {
      "cell_type": "code",
      "execution_count": null,
      "metadata": {
        "id": "8xxY5YxhrBrU"
      },
      "outputs": [],
      "source": [
        "import numpy as np\n",
        "import pandas as pd\n",
        "import matplotlib.pyplot as plt\n",
        "import seaborn as sns\n",
        "import os\n",
        "import shutil\n",
        "\n",
        "import tensorflow as tf\n",
        "\n",
        "from tensorflow.keras.models import Sequential, load_model, Model\n",
        "from tensorflow.keras.layers import Dense, Flatten, Input, concatenate\n",
        "from tensorflow.keras.layers import Conv2D, MaxPool2D, Dropout, MaxPooling2D\n",
        "from tensorflow.keras.optimizers import SGD, Adam, RMSprop\n",
        "from tensorflow.keras.layers import Dropout\n",
        "from keras.callbacks import EarlyStopping\n",
        "from tensorflow.keras.applications import MobileNetV2\n",
        "from tensorflow.keras.layers import GlobalAveragePooling2D\n",
        "from keras.regularizers import l2\n",
        "from tensorflow.keras import regularizers\n",
        "\n",
        "from sklearn.model_selection import train_test_split\n",
        "from sklearn.preprocessing import StandardScaler, MinMaxScaler\n",
        "from sklearn.metrics import accuracy_score\n",
        "from sklearn.preprocessing import LabelEncoder\n",
        "import tensorflow.keras.utils as utils\n",
        "\n",
        "from datetime import datetime\n",
        "\n",
        "from tensorflow.keras.preprocessing.image import ImageDataGenerator\n",
        "\n",
        "from google.colab import drive\n",
        "import zipfile"
      ]
    },
    {
      "cell_type": "code",
      "source": [
        "drive.mount('/content/drive')\n",
        "\n",
        "zip_path = '/content/drive/MyDrive/Colab Notebooks/car_part_1800.zip'\n",
        "\n",
        "re_path = '/content/car_part'\n",
        "\n",
        "with zipfile.ZipFile(zip_path, 'r') as target_file:\n",
        "    for file in target_file.namelist():\n",
        "        file_path = os.path.join(re_path, file)\n",
        "        if not os.path.exists(file_path):  # 이미 파일이 존재하는 경우 건너뛰기\n",
        "            target_file.extract(file, re_path)"
      ],
      "metadata": {
        "colab": {
          "base_uri": "https://localhost:8080/",
          "height": 390
        },
        "id": "HkHnyNgCrFF8",
        "outputId": "c304dff7-f12f-4c34-b8e4-546b61ccb9f3"
      },
      "execution_count": null,
      "outputs": [
        {
          "output_type": "stream",
          "name": "stdout",
          "text": [
            "Drive already mounted at /content/drive; to attempt to forcibly remount, call drive.mount(\"/content/drive\", force_remount=True).\n"
          ]
        },
        {
          "output_type": "error",
          "ename": "FileNotFoundError",
          "evalue": "ignored",
          "traceback": [
            "\u001b[0;31m---------------------------------------------------------------------------\u001b[0m",
            "\u001b[0;31mFileNotFoundError\u001b[0m                         Traceback (most recent call last)",
            "\u001b[0;32m<ipython-input-6-8a22db16160d>\u001b[0m in \u001b[0;36m<cell line: 7>\u001b[0;34m()\u001b[0m\n\u001b[1;32m      5\u001b[0m \u001b[0mre_path\u001b[0m \u001b[0;34m=\u001b[0m \u001b[0;34m'/content/car_part'\u001b[0m\u001b[0;34m\u001b[0m\u001b[0;34m\u001b[0m\u001b[0m\n\u001b[1;32m      6\u001b[0m \u001b[0;34m\u001b[0m\u001b[0m\n\u001b[0;32m----> 7\u001b[0;31m \u001b[0;32mwith\u001b[0m \u001b[0mzipfile\u001b[0m\u001b[0;34m.\u001b[0m\u001b[0mZipFile\u001b[0m\u001b[0;34m(\u001b[0m\u001b[0mzip_path\u001b[0m\u001b[0;34m,\u001b[0m \u001b[0;34m'r'\u001b[0m\u001b[0;34m)\u001b[0m \u001b[0;32mas\u001b[0m \u001b[0mtarget_file\u001b[0m\u001b[0;34m:\u001b[0m\u001b[0;34m\u001b[0m\u001b[0;34m\u001b[0m\u001b[0m\n\u001b[0m\u001b[1;32m      8\u001b[0m     \u001b[0;32mfor\u001b[0m \u001b[0mfile\u001b[0m \u001b[0;32min\u001b[0m \u001b[0mtarget_file\u001b[0m\u001b[0;34m.\u001b[0m\u001b[0mnamelist\u001b[0m\u001b[0;34m(\u001b[0m\u001b[0;34m)\u001b[0m\u001b[0;34m:\u001b[0m\u001b[0;34m\u001b[0m\u001b[0;34m\u001b[0m\u001b[0m\n\u001b[1;32m      9\u001b[0m         \u001b[0mfile_path\u001b[0m \u001b[0;34m=\u001b[0m \u001b[0mos\u001b[0m\u001b[0;34m.\u001b[0m\u001b[0mpath\u001b[0m\u001b[0;34m.\u001b[0m\u001b[0mjoin\u001b[0m\u001b[0;34m(\u001b[0m\u001b[0mre_path\u001b[0m\u001b[0;34m,\u001b[0m \u001b[0mfile\u001b[0m\u001b[0;34m)\u001b[0m\u001b[0;34m\u001b[0m\u001b[0;34m\u001b[0m\u001b[0m\n",
            "\u001b[0;32m/usr/lib/python3.10/zipfile.py\u001b[0m in \u001b[0;36m__init__\u001b[0;34m(self, file, mode, compression, allowZip64, compresslevel, strict_timestamps)\u001b[0m\n\u001b[1;32m   1249\u001b[0m             \u001b[0;32mwhile\u001b[0m \u001b[0;32mTrue\u001b[0m\u001b[0;34m:\u001b[0m\u001b[0;34m\u001b[0m\u001b[0;34m\u001b[0m\u001b[0m\n\u001b[1;32m   1250\u001b[0m                 \u001b[0;32mtry\u001b[0m\u001b[0;34m:\u001b[0m\u001b[0;34m\u001b[0m\u001b[0;34m\u001b[0m\u001b[0m\n\u001b[0;32m-> 1251\u001b[0;31m                     \u001b[0mself\u001b[0m\u001b[0;34m.\u001b[0m\u001b[0mfp\u001b[0m \u001b[0;34m=\u001b[0m \u001b[0mio\u001b[0m\u001b[0;34m.\u001b[0m\u001b[0mopen\u001b[0m\u001b[0;34m(\u001b[0m\u001b[0mfile\u001b[0m\u001b[0;34m,\u001b[0m \u001b[0mfilemode\u001b[0m\u001b[0;34m)\u001b[0m\u001b[0;34m\u001b[0m\u001b[0;34m\u001b[0m\u001b[0m\n\u001b[0m\u001b[1;32m   1252\u001b[0m                 \u001b[0;32mexcept\u001b[0m \u001b[0mOSError\u001b[0m\u001b[0;34m:\u001b[0m\u001b[0;34m\u001b[0m\u001b[0;34m\u001b[0m\u001b[0m\n\u001b[1;32m   1253\u001b[0m                     \u001b[0;32mif\u001b[0m \u001b[0mfilemode\u001b[0m \u001b[0;32min\u001b[0m \u001b[0mmodeDict\u001b[0m\u001b[0;34m:\u001b[0m\u001b[0;34m\u001b[0m\u001b[0;34m\u001b[0m\u001b[0m\n",
            "\u001b[0;31mFileNotFoundError\u001b[0m: [Errno 2] No such file or directory: '/content/drive/MyDrive/Colab Notebooks/car_part_1800.zip'"
          ]
        }
      ]
    },
    {
      "cell_type": "code",
      "source": [
        "# train_data = '/content/car_part/car_part/train'\n",
        "# test_data = '/content/car_part/car_part/test'\n",
        "\n",
        "# input_shape = (224,224)\n",
        "\n",
        "# # 데이터 전처리\n",
        "# train_gen = ImageDataGenerator(rescale=1./255, shear_range=0.2, zoom_range=0.2, horizontal_flip=True)\n",
        "# test_gen = ImageDataGenerator(rescale=1./255)\n",
        "\n",
        "# # 학습 및 테스트 데이터셋 로드\n",
        "# train_dataset = train_gen.flow_from_directory(train_data, target_size=input_shape, batch_size=32, class_mode='categorical')\n",
        "# test_dataset = test_gen.flow_from_directory(test_data, target_size=input_shape, batch_size=32, class_mode='categorical')"
      ],
      "metadata": {
        "colab": {
          "base_uri": "https://localhost:8080/"
        },
        "id": "lFZ4VirirUFU",
        "outputId": "16aad311-230e-4037-9cb2-0e38aaa64b51"
      },
      "execution_count": null,
      "outputs": [
        {
          "output_type": "stream",
          "name": "stdout",
          "text": [
            "Found 2058 images belonging to 12 classes.\n",
            "Found 618 images belonging to 12 classes.\n"
          ]
        }
      ]
    },
    {
      "cell_type": "code",
      "source": [
        "train_data_dir = '/content/car_part/car_part/train'\n",
        "test_data_dir = '/content/car_part/car_part/test'\n",
        "image_size = (224, 224)\n",
        "batch_size = 32\n",
        "\n",
        "train_datagen = tf.keras.preprocessing.image.ImageDataGenerator(rescale=1.0/255.0,\n",
        "                                                                rotation_range=45,\n",
        "                                                                width_shift_range=0.2,\n",
        "                                                                height_shift_range=0.2,\n",
        "                                                                zoom_range=0.2)\n",
        "train_generator = train_datagen.flow_from_directory(\n",
        "    train_data_dir,\n",
        "    target_size=image_size,\n",
        "    batch_size=batch_size,\n",
        "    class_mode='categorical'\n",
        ")\n",
        "\n",
        "test_datagen = tf.keras.preprocessing.image.ImageDataGenerator(rescale=1.0/255.0,\n",
        "                                                                rotation_range=45,\n",
        "                                                                width_shift_range=0.2,\n",
        "                                                                height_shift_range=0.2,\n",
        "                                                                zoom_range=0.2)\n",
        "test_generator = test_datagen.flow_from_directory(\n",
        "    test_data_dir,\n",
        "    target_size=image_size,\n",
        "    batch_size=batch_size,\n",
        "    class_mode='categorical'\n",
        ")"
      ],
      "metadata": {
        "colab": {
          "base_uri": "https://localhost:8080/"
        },
        "id": "diuwDC58tPFc",
        "outputId": "4ad0f27e-2119-4293-a6e5-cddbc2e93a3e"
      },
      "execution_count": null,
      "outputs": [
        {
          "output_type": "stream",
          "name": "stdout",
          "text": [
            "Found 2058 images belonging to 12 classes.\n",
            "Found 618 images belonging to 12 classes.\n"
          ]
        }
      ]
    },
    {
      "cell_type": "code",
      "source": [
        "# 모델 구성\n",
        "model = Sequential()\n",
        "\n",
        "model.add(Conv2D(32, kernel_size=(3,3), activation='relu', input_shape=(input_shape[0], input_shape[1],3)))\n",
        "model.add(MaxPooling2D(pool_size=(2, 2)))\n",
        "model.add(Dropout(0.25))\n",
        "\n",
        "model.add(Conv2D(64, kernel_size=(3,3), activation='relu'))\n",
        "model.add(MaxPooling2D(pool_size=(2, 2)))\n",
        "model.add(Dropout(0.25))\n",
        "\n",
        "model.add(Conv2D(64, kernel_size=(3,3), activation='relu'))\n",
        "\n",
        "model.add(Flatten())\n",
        "\n",
        "model.add(Dense(64, activation='relu'))\n",
        "model.add(Dense(12, activation='softmax'))\n",
        "\n",
        "# 모델 컴파일\n",
        "model.compile(optimizer='adam', loss='categorical_crossentropy', metrics=['accuracy'])\n",
        "\n",
        "# EarlyStopping\n",
        "early_stopping = EarlyStopping(monitor='val_loss', patience=5, restore_best_weights=True)\n",
        "\n",
        "# 모델 학습\n",
        "start_time = datetime.now()\n",
        "\n",
        "result = model.fit(x=train_generator, epochs=20, validation_data=test_generator, callbacks=[early_stopping])\n",
        "\n",
        "end_time = datetime.now()\n",
        "\n",
        "print('걸린시간:', end_time - start_time)\n",
        "\n",
        "# 모델 평가\n",
        "test_loss, test_accuracy = model.evaluate(test_generator)\n",
        "print(f'Test Loss : {test_loss}')\n",
        "print(f'Test Accuracy : {test_accuracy}')"
      ],
      "metadata": {
        "colab": {
          "base_uri": "https://localhost:8080/"
        },
        "id": "XJ0x4VADsPws",
        "outputId": "149baf19-3763-4048-84c5-3c333a367627"
      },
      "execution_count": null,
      "outputs": [
        {
          "output_type": "stream",
          "name": "stdout",
          "text": [
            "Epoch 1/20\n",
            "65/65 [==============================] - 94s 1s/step - loss: 2.7994 - accuracy: 0.1842 - val_loss: 2.4416 - val_accuracy: 0.1812\n",
            "Epoch 2/20\n",
            "65/65 [==============================] - 86s 1s/step - loss: 2.2719 - accuracy: 0.2201 - val_loss: 2.2730 - val_accuracy: 0.2104\n",
            "Epoch 3/20\n",
            "65/65 [==============================] - 86s 1s/step - loss: 2.1015 - accuracy: 0.2877 - val_loss: 2.1055 - val_accuracy: 0.3204\n",
            "Epoch 4/20\n",
            "65/65 [==============================] - 89s 1s/step - loss: 1.9977 - accuracy: 0.3168 - val_loss: 1.9718 - val_accuracy: 0.3706\n",
            "Epoch 5/20\n",
            "65/65 [==============================] - 87s 1s/step - loss: 1.9194 - accuracy: 0.3479 - val_loss: 1.9651 - val_accuracy: 0.3689\n",
            "Epoch 6/20\n",
            "65/65 [==============================] - 87s 1s/step - loss: 1.8092 - accuracy: 0.3912 - val_loss: 1.7760 - val_accuracy: 0.4320\n",
            "Epoch 7/20\n",
            "65/65 [==============================] - 87s 1s/step - loss: 1.6753 - accuracy: 0.4354 - val_loss: 1.7055 - val_accuracy: 0.4466\n",
            "Epoch 8/20\n",
            "65/65 [==============================] - 90s 1s/step - loss: 1.5835 - accuracy: 0.4893 - val_loss: 1.5986 - val_accuracy: 0.4595\n",
            "Epoch 9/20\n",
            "65/65 [==============================] - 88s 1s/step - loss: 1.4635 - accuracy: 0.5131 - val_loss: 1.5262 - val_accuracy: 0.5000\n",
            "Epoch 10/20\n",
            "65/65 [==============================] - 88s 1s/step - loss: 1.4251 - accuracy: 0.5160 - val_loss: 1.4602 - val_accuracy: 0.5210\n",
            "Epoch 11/20\n",
            "65/65 [==============================] - 89s 1s/step - loss: 1.3538 - accuracy: 0.5418 - val_loss: 1.4326 - val_accuracy: 0.5291\n",
            "Epoch 12/20\n",
            "65/65 [==============================] - 88s 1s/step - loss: 1.3359 - accuracy: 0.5564 - val_loss: 1.4218 - val_accuracy: 0.5340\n",
            "Epoch 13/20\n",
            "65/65 [==============================] - 90s 1s/step - loss: 1.2974 - accuracy: 0.5666 - val_loss: 1.4651 - val_accuracy: 0.5194\n",
            "Epoch 14/20\n",
            "65/65 [==============================] - 87s 1s/step - loss: 1.2655 - accuracy: 0.5807 - val_loss: 1.4319 - val_accuracy: 0.5356\n",
            "Epoch 15/20\n",
            "65/65 [==============================] - 89s 1s/step - loss: 1.2142 - accuracy: 0.5962 - val_loss: 1.3976 - val_accuracy: 0.5324\n",
            "Epoch 16/20\n",
            "65/65 [==============================] - 87s 1s/step - loss: 1.1275 - accuracy: 0.6103 - val_loss: 1.3922 - val_accuracy: 0.5615\n",
            "Epoch 17/20\n",
            "65/65 [==============================] - 90s 1s/step - loss: 1.1195 - accuracy: 0.6181 - val_loss: 1.3986 - val_accuracy: 0.5583\n",
            "Epoch 18/20\n",
            "65/65 [==============================] - 86s 1s/step - loss: 1.0836 - accuracy: 0.6404 - val_loss: 1.3644 - val_accuracy: 0.5518\n",
            "Epoch 19/20\n",
            "21/65 [========>.....................] - ETA: 47s - loss: 1.0351 - accuracy: 0.6696"
          ]
        }
      ]
    },
    {
      "cell_type": "markdown",
      "source": [
        "## MobileNet"
      ],
      "metadata": {
        "id": "Zz7AArLYqyvD"
      }
    },
    {
      "cell_type": "code",
      "source": [
        "base_model = MobileNetV2(input_shape=(image_size[0], image_size[1], 3), include_top=False, weights='imagenet')\n",
        "\n",
        "model = Sequential()\n",
        "model.add(base_model)\n",
        "model.add(GlobalAveragePooling2D())\n",
        "model.add(Dense(128, activation='relu'))\n",
        "model.add(Dropout(0.5))\n",
        "model.add(Dense(12, activation='softmax'))\n",
        "\n",
        "model.compile(optimizer=Adam(learning_rate=1e-5), loss='categorical_crossentropy', metrics=['accuracy'])\n",
        "\n",
        "early_stopping = EarlyStopping(monitor='val_loss', patience=5, restore_best_weights=True)\n",
        "\n",
        "start_time = datetime.now()\n",
        "\n",
        "result = model.fit(x=train_generator, epochs=70, validation_data=test_generator, callbacks=[early_stopping])\n",
        "\n",
        "end_time = datetime.now()\n",
        "\n",
        "print('걸린 시간:', end_time - start_time)\n",
        "\n",
        "test_loss, test_accuracy = model.evaluate(test_generator)\n",
        "print(f'Test Loss: {test_loss}')\n",
        "print(f'Test Accuracy: {test_accuracy}')"
      ],
      "metadata": {
        "id": "lhQOO-0-sTfb",
        "colab": {
          "base_uri": "https://localhost:8080/"
        },
        "outputId": "ceb2d087-f894-4aad-c035-169cc3179806"
      },
      "execution_count": null,
      "outputs": [
        {
          "output_type": "stream",
          "name": "stdout",
          "text": [
            "Epoch 1/70\n",
            "65/65 [==============================] - 135s 2s/step - loss: 2.8611 - accuracy: 0.0977 - val_loss: 2.5641 - val_accuracy: 0.1343\n",
            "Epoch 2/70\n",
            "65/65 [==============================] - 98s 2s/step - loss: 2.4993 - accuracy: 0.1812 - val_loss: 2.2913 - val_accuracy: 0.2540\n",
            "Epoch 3/70\n",
            "65/65 [==============================] - 97s 1s/step - loss: 2.2633 - accuracy: 0.2449 - val_loss: 2.0949 - val_accuracy: 0.3301\n",
            "Epoch 4/70\n",
            "65/65 [==============================] - 100s 2s/step - loss: 2.0870 - accuracy: 0.3032 - val_loss: 1.9462 - val_accuracy: 0.3657\n",
            "Epoch 5/70\n",
            "65/65 [==============================] - 98s 2s/step - loss: 1.9514 - accuracy: 0.3528 - val_loss: 1.7921 - val_accuracy: 0.3997\n",
            "Epoch 6/70\n",
            "65/65 [==============================] - 100s 2s/step - loss: 1.8455 - accuracy: 0.3946 - val_loss: 1.6615 - val_accuracy: 0.4482\n",
            "Epoch 7/70\n",
            "65/65 [==============================] - ETA: 0s - loss: 1.6590 - accuracy: 0.4538"
          ]
        }
      ]
    },
    {
      "cell_type": "code",
      "source": [
        "plt.figure(figsize=(8,4))\n",
        "plt.subplot(1,2,1)\n",
        "\n",
        "plt.title('LOSS')\n",
        "plt.xlabel('epochs')\n",
        "plt.ylabel('loss')\n",
        "plt.grid()\n",
        "\n",
        "plt.plot(result.history['loss'], label='train_loss')\n",
        "plt.plot(result.history['val_loss'], label= 'validation_loss')\n",
        "plt.legend(loc='best')\n",
        "\n",
        "plt.subplot(1,2,2)\n",
        "\n",
        "plt.title('ACCURACY')\n",
        "plt.xlabel('epochs')\n",
        "plt.ylabel('accuracy')\n",
        "plt.grid()\n",
        "\n",
        "plt.plot(result.history['accuracy'], label='train_accuracy')\n",
        "plt.plot(result.history['val_accuracy'], label= 'validationi_accuracy')\n",
        "plt.legend(loc='best')\n"
      ],
      "metadata": {
        "id": "SDqx2jgLq2JA",
        "colab": {
          "base_uri": "https://localhost:8080/",
          "height": 428
        },
        "outputId": "78f212e2-b86a-4331-f281-13b3bfab083e"
      },
      "execution_count": null,
      "outputs": [
        {
          "output_type": "execute_result",
          "data": {
            "text/plain": [
              "<matplotlib.legend.Legend at 0x7fa56ef76aa0>"
            ]
          },
          "metadata": {},
          "execution_count": 7
        },
        {
          "output_type": "display_data",
          "data": {
            "text/plain": [
              "<Figure size 800x400 with 2 Axes>"
            ],
            "image/png": "[encoded data removed]"
          },
          "metadata": {}
        }
      ]
    },
    {
      "cell_type": "code",
      "source": [
        "base_model = MobileNetV2(input_shape=(image_size[0], image_size[1], 3), include_top=False, weights='imagenet')\n",
        "\n",
        "model = Sequential()\n",
        "model.add(base_model)\n",
        "model.add(GlobalAveragePooling2D())\n",
        "model.add(Dense(128, activation='relu', kernel_regularizer=regularizers.l2(0.01)))\n",
        "model.add(Dropout(0.5))\n",
        "model.add(Dense(12, activation='softmax'))\n",
        "\n",
        "model.compile(optimizer=Adam(learning_rate=1e-5), loss='categorical_crossentropy', metrics=['accuracy'])\n",
        "\n",
        "early_stopping = EarlyStopping(monitor='val_loss', patience=5, restore_best_weights=True)\n",
        "\n",
        "start_time = datetime.now()\n",
        "\n",
        "result = model.fit(x=train_generator, epochs=70, validation_data=test_generator, callbacks=[early_stopping])\n",
        "\n",
        "end_time = datetime.now()\n",
        "\n",
        "print('걸린 시간:', end_time - start_time)\n",
        "\n",
        "test_loss, test_accuracy = model.evaluate(test_generator)\n",
        "print(f'Test Loss: {test_loss}')\n",
        "print(f'Test Accuracy: {test_accuracy}')"
      ],
      "metadata": {
        "id": "P1ddjdeJ8VSH",
        "colab": {
          "base_uri": "https://localhost:8080/"
        },
        "outputId": "2c07bb7d-5487-4ee5-ee03-3fd5523a22ee"
      },
      "execution_count": null,
      "outputs": [
        {
          "output_type": "stream",
          "name": "stdout",
          "text": [
            "Epoch 1/70\n",
            "65/65 [==============================] - 111s 1s/step - loss: 5.1305 - accuracy: 0.1050 - val_loss: 4.8245 - val_accuracy: 0.1586\n",
            "Epoch 2/70\n",
            "65/65 [==============================] - 69s 1s/step - loss: 4.6924 - accuracy: 0.1987 - val_loss: 4.4891 - val_accuracy: 0.2718\n",
            "Epoch 3/70\n",
            "65/65 [==============================] - 69s 1s/step - loss: 4.3465 - accuracy: 0.3120 - val_loss: 4.2145 - val_accuracy: 0.4272\n",
            "Epoch 4/70\n",
            "65/65 [==============================] - 71s 1s/step - loss: 4.1049 - accuracy: 0.4271 - val_loss: 3.9939 - val_accuracy: 0.5129\n",
            "Epoch 5/70\n",
            "65/65 [==============================] - 70s 1s/step - loss: 3.8792 - accuracy: 0.5073 - val_loss: 3.8178 - val_accuracy: 0.5502\n",
            "Epoch 6/70\n",
            "65/65 [==============================] - 69s 1s/step - loss: 3.7259 - accuracy: 0.5578 - val_loss: 3.6654 - val_accuracy: 0.6003\n",
            "Epoch 7/70\n",
            "65/65 [==============================] - 70s 1s/step - loss: 3.5560 - accuracy: 0.6122 - val_loss: 3.5351 - val_accuracy: 0.6375\n",
            "Epoch 8/70\n",
            "65/65 [==============================] - 71s 1s/step - loss: 3.4123 - accuracy: 0.6467 - val_loss: 3.4288 - val_accuracy: 0.6634\n",
            "Epoch 9/70\n",
            "65/65 [==============================] - 70s 1s/step - loss: 3.3014 - accuracy: 0.6939 - val_loss: 3.3305 - val_accuracy: 0.6974\n",
            "Epoch 10/70\n",
            "65/65 [==============================] - 69s 1s/step - loss: 3.1876 - accuracy: 0.7303 - val_loss: 3.2515 - val_accuracy: 0.7201\n",
            "Epoch 11/70\n",
            "65/65 [==============================] - 73s 1s/step - loss: 3.1063 - accuracy: 0.7444 - val_loss: 3.1769 - val_accuracy: 0.7411\n",
            "Epoch 12/70\n",
            "65/65 [==============================] - 69s 1s/step - loss: 3.0264 - accuracy: 0.7760 - val_loss: 3.1157 - val_accuracy: 0.7524\n",
            "Epoch 13/70\n",
            "65/65 [==============================] - 69s 1s/step - loss: 2.9787 - accuracy: 0.7784 - val_loss: 3.0672 - val_accuracy: 0.7540\n",
            "Epoch 14/70\n",
            "65/65 [==============================] - 73s 1s/step - loss: 2.9001 - accuracy: 0.8115 - val_loss: 3.0161 - val_accuracy: 0.7718\n",
            "Epoch 15/70\n",
            "65/65 [==============================] - 73s 1s/step - loss: 2.8557 - accuracy: 0.8207 - val_loss: 2.9699 - val_accuracy: 0.7913\n",
            "Epoch 16/70\n",
            "65/65 [==============================] - 70s 1s/step - loss: 2.7830 - accuracy: 0.8455 - val_loss: 2.9265 - val_accuracy: 0.8026\n",
            "Epoch 17/70\n",
            "65/65 [==============================] - 71s 1s/step - loss: 2.7368 - accuracy: 0.8586 - val_loss: 2.8927 - val_accuracy: 0.8026\n",
            "Epoch 18/70\n",
            "65/65 [==============================] - 69s 1s/step - loss: 2.7080 - accuracy: 0.8562 - val_loss: 2.8596 - val_accuracy: 0.8123\n",
            "Epoch 19/70\n",
            "65/65 [==============================] - 69s 1s/step - loss: 2.6459 - accuracy: 0.8746 - val_loss: 2.8332 - val_accuracy: 0.8155\n",
            "Epoch 20/70\n",
            "65/65 [==============================] - 69s 1s/step - loss: 2.6418 - accuracy: 0.8732 - val_loss: 2.8018 - val_accuracy: 0.8236\n",
            "Epoch 21/70\n",
            "65/65 [==============================] - 71s 1s/step - loss: 2.5926 - accuracy: 0.8897 - val_loss: 2.7715 - val_accuracy: 0.8285\n",
            "Epoch 22/70\n",
            "65/65 [==============================] - 68s 1s/step - loss: 2.5454 - accuracy: 0.9072 - val_loss: 2.7440 - val_accuracy: 0.8333\n",
            "Epoch 23/70\n",
            "65/65 [==============================] - 72s 1s/step - loss: 2.5359 - accuracy: 0.9052 - val_loss: 2.7162 - val_accuracy: 0.8366\n",
            "Epoch 24/70\n",
            "65/65 [==============================] - 71s 1s/step - loss: 2.4855 - accuracy: 0.9101 - val_loss: 2.6873 - val_accuracy: 0.8382\n",
            "Epoch 25/70\n",
            "65/65 [==============================] - 71s 1s/step - loss: 2.4569 - accuracy: 0.9193 - val_loss: 2.6665 - val_accuracy: 0.8414\n",
            "Epoch 26/70\n",
            "65/65 [==============================] - 69s 1s/step - loss: 2.4400 - accuracy: 0.9237 - val_loss: 2.6557 - val_accuracy: 0.8382\n",
            "Epoch 27/70\n",
            "65/65 [==============================] - 70s 1s/step - loss: 2.4129 - accuracy: 0.9305 - val_loss: 2.6409 - val_accuracy: 0.8414\n",
            "Epoch 28/70\n",
            "65/65 [==============================] - 69s 1s/step - loss: 2.3644 - accuracy: 0.9412 - val_loss: 2.6210 - val_accuracy: 0.8382\n",
            "Epoch 29/70\n",
            "65/65 [==============================] - 69s 1s/step - loss: 2.3719 - accuracy: 0.9363 - val_loss: 2.6051 - val_accuracy: 0.8414\n",
            "Epoch 30/70\n",
            "65/65 [==============================] - 72s 1s/step - loss: 2.3212 - accuracy: 0.9480 - val_loss: 2.5870 - val_accuracy: 0.8463\n",
            "Epoch 31/70\n",
            "65/65 [==============================] - 71s 1s/step - loss: 2.3170 - accuracy: 0.9470 - val_loss: 2.5757 - val_accuracy: 0.8447\n",
            "Epoch 32/70\n",
            "65/65 [==============================] - 68s 1s/step - loss: 2.2852 - accuracy: 0.9558 - val_loss: 2.5649 - val_accuracy: 0.8511\n",
            "Epoch 33/70\n",
            "65/65 [==============================] - 71s 1s/step - loss: 2.2531 - accuracy: 0.9655 - val_loss: 2.5413 - val_accuracy: 0.8528\n",
            "Epoch 34/70\n",
            "65/65 [==============================] - 70s 1s/step - loss: 2.2413 - accuracy: 0.9645 - val_loss: 2.5243 - val_accuracy: 0.8576\n",
            "Epoch 35/70\n",
            "65/65 [==============================] - 68s 1s/step - loss: 2.2244 - accuracy: 0.9616 - val_loss: 2.5113 - val_accuracy: 0.8592\n",
            "Epoch 36/70\n",
            "65/65 [==============================] - 69s 1s/step - loss: 2.2006 - accuracy: 0.9728 - val_loss: 2.5046 - val_accuracy: 0.8528\n",
            "Epoch 37/70\n",
            "65/65 [==============================] - 70s 1s/step - loss: 2.1982 - accuracy: 0.9660 - val_loss: 2.4876 - val_accuracy: 0.8576\n",
            "Epoch 38/70\n",
            "65/65 [==============================] - 69s 1s/step - loss: 2.1812 - accuracy: 0.9723 - val_loss: 2.4744 - val_accuracy: 0.8608\n",
            "Epoch 39/70\n",
            "65/65 [==============================] - 69s 1s/step - loss: 2.1657 - accuracy: 0.9757 - val_loss: 2.4651 - val_accuracy: 0.8560\n",
            "Epoch 40/70\n",
            "65/65 [==============================] - 72s 1s/step - loss: 2.1424 - accuracy: 0.9738 - val_loss: 2.4515 - val_accuracy: 0.8608\n",
            "Epoch 41/70\n",
            "65/65 [==============================] - 69s 1s/step - loss: 2.1340 - accuracy: 0.9742 - val_loss: 2.4433 - val_accuracy: 0.8608\n",
            "Epoch 42/70\n",
            "65/65 [==============================] - 69s 1s/step - loss: 2.1050 - accuracy: 0.9776 - val_loss: 2.4276 - val_accuracy: 0.8592\n",
            "Epoch 43/70\n",
            "65/65 [==============================] - 69s 1s/step - loss: 2.0947 - accuracy: 0.9820 - val_loss: 2.4250 - val_accuracy: 0.8608\n",
            "Epoch 44/70\n",
            "65/65 [==============================] - 71s 1s/step - loss: 2.0765 - accuracy: 0.9825 - val_loss: 2.3997 - val_accuracy: 0.8689\n",
            "Epoch 45/70\n",
            "65/65 [==============================] - 70s 1s/step - loss: 2.0642 - accuracy: 0.9820 - val_loss: 2.3892 - val_accuracy: 0.8657\n",
            "Epoch 46/70\n",
            "65/65 [==============================] - 70s 1s/step - loss: 2.0421 - accuracy: 0.9879 - val_loss: 2.3735 - val_accuracy: 0.8625\n",
            "Epoch 47/70\n",
            "65/65 [==============================] - 71s 1s/step - loss: 2.0336 - accuracy: 0.9854 - val_loss: 2.3587 - val_accuracy: 0.8657\n",
            "Epoch 48/70\n",
            "65/65 [==============================] - 70s 1s/step - loss: 2.0135 - accuracy: 0.9879 - val_loss: 2.3515 - val_accuracy: 0.8641\n",
            "Epoch 49/70\n",
            "65/65 [==============================] - 73s 1s/step - loss: 1.9951 - accuracy: 0.9893 - val_loss: 2.3456 - val_accuracy: 0.8641\n",
            "Epoch 50/70\n",
            "65/65 [==============================] - 71s 1s/step - loss: 1.9815 - accuracy: 0.9917 - val_loss: 2.3355 - val_accuracy: 0.8657\n",
            "Epoch 51/70\n",
            "65/65 [==============================] - 70s 1s/step - loss: 1.9752 - accuracy: 0.9864 - val_loss: 2.3193 - val_accuracy: 0.8657\n",
            "Epoch 52/70\n",
            "65/65 [==============================] - 69s 1s/step - loss: 1.9558 - accuracy: 0.9883 - val_loss: 2.3084 - val_accuracy: 0.8625\n",
            "Epoch 53/70\n",
            "65/65 [==============================] - 70s 1s/step - loss: 1.9390 - accuracy: 0.9908 - val_loss: 2.2965 - val_accuracy: 0.8673\n",
            "Epoch 54/70\n",
            "65/65 [==============================] - 73s 1s/step - loss: 1.9262 - accuracy: 0.9932 - val_loss: 2.2993 - val_accuracy: 0.8657\n",
            "Epoch 55/70\n",
            "65/65 [==============================] - 71s 1s/step - loss: 1.9147 - accuracy: 0.9917 - val_loss: 2.2795 - val_accuracy: 0.8673\n",
            "Epoch 56/70\n",
            "65/65 [==============================] - 75s 1s/step - loss: 1.8904 - accuracy: 0.9942 - val_loss: 2.2639 - val_accuracy: 0.8706\n",
            "Epoch 57/70\n",
            "65/65 [==============================] - 70s 1s/step - loss: 1.8818 - accuracy: 0.9922 - val_loss: 2.2523 - val_accuracy: 0.8689\n",
            "Epoch 58/70\n",
            "65/65 [==============================] - 71s 1s/step - loss: 1.8663 - accuracy: 0.9922 - val_loss: 2.2279 - val_accuracy: 0.8770\n",
            "Epoch 59/70\n",
            "65/65 [==============================] - 70s 1s/step - loss: 1.8487 - accuracy: 0.9908 - val_loss: 2.2108 - val_accuracy: 0.8722\n",
            "Epoch 60/70\n",
            "65/65 [==============================] - 69s 1s/step - loss: 1.8323 - accuracy: 0.9961 - val_loss: 2.1976 - val_accuracy: 0.8738\n",
            "Epoch 61/70\n",
            "65/65 [==============================] - 73s 1s/step - loss: 1.8216 - accuracy: 0.9942 - val_loss: 2.1860 - val_accuracy: 0.8722\n",
            "Epoch 62/70\n",
            "65/65 [==============================] - 69s 1s/step - loss: 1.8105 - accuracy: 0.9917 - val_loss: 2.1757 - val_accuracy: 0.8738\n",
            "Epoch 63/70\n",
            "65/65 [==============================] - 73s 1s/step - loss: 1.7856 - accuracy: 0.9971 - val_loss: 2.1537 - val_accuracy: 0.8738\n",
            "Epoch 64/70\n",
            "65/65 [==============================] - 74s 1s/step - loss: 1.7740 - accuracy: 0.9951 - val_loss: 2.1365 - val_accuracy: 0.8770\n",
            "Epoch 65/70\n",
            "65/65 [==============================] - 70s 1s/step - loss: 1.7635 - accuracy: 0.9947 - val_loss: 2.1234 - val_accuracy: 0.8851\n",
            "Epoch 66/70\n",
            "65/65 [==============================] - 69s 1s/step - loss: 1.7452 - accuracy: 0.9951 - val_loss: 2.1103 - val_accuracy: 0.8803\n",
            "Epoch 67/70\n",
            "65/65 [==============================] - 71s 1s/step - loss: 1.7284 - accuracy: 0.9956 - val_loss: 2.0988 - val_accuracy: 0.8819\n",
            "Epoch 68/70\n",
            "65/65 [==============================] - 71s 1s/step - loss: 1.7234 - accuracy: 0.9932 - val_loss: 2.1081 - val_accuracy: 0.8722\n",
            "Epoch 69/70\n",
            "65/65 [==============================] - 69s 1s/step - loss: 1.6997 - accuracy: 0.9956 - val_loss: 2.0910 - val_accuracy: 0.8738\n",
            "Epoch 70/70\n",
            "65/65 [==============================] - 69s 1s/step - loss: 1.6894 - accuracy: 0.9966 - val_loss: 2.0691 - val_accuracy: 0.8754\n",
            "걸린 시간: 1:26:37.799991\n",
            "20/20 [==============================] - 18s 901ms/step - loss: 2.0691 - accuracy: 0.8754\n",
            "Test Loss: 2.069138288497925\n",
            "Test Accuracy: 0.8754045367240906\n"
          ]
        }
      ]
    },
    {
      "cell_type": "code",
      "source": [],
      "metadata": {
        "id": "ZCbaZqin-WAi"
      },
      "execution_count": null,
      "outputs": []
    }
  ]
}