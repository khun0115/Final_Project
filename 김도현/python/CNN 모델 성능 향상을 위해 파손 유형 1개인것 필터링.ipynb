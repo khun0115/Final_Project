{
 "cells": [
  {
   "cell_type": "code",
   "execution_count": 1,
   "id": "e90e780a",
   "metadata": {},
   "outputs": [],
   "source": [
    "import os\n",
    "from glob import glob\n",
    "import shutil\n",
    "import random\n",
    "from tqdm import tqdm"
   ]
  },
  {
   "cell_type": "code",
   "execution_count": 2,
   "id": "9363774a",
   "metadata": {},
   "outputs": [],
   "source": [
    "scratch_file_name = []  # 빈 리스트 생성\n",
    "\n",
    "with open('/Volumes/NO NAME/acon/scratched_src_list.txt', 'r') as file:\n",
    "    for line in file:\n",
    "        scratch_file_name.append(line.strip())"
   ]
  },
  {
   "cell_type": "code",
   "execution_count": 3,
   "id": "da4ca64d",
   "metadata": {},
   "outputs": [
    {
     "data": {
      "text/plain": [
       "'0245169_sc-1033717'"
      ]
     },
     "execution_count": 3,
     "metadata": {},
     "output_type": "execute_result"
    }
   ],
   "source": [
    "scratch_file_name[0]"
   ]
  },
  {
   "cell_type": "code",
   "execution_count": 4,
   "id": "cc0ff28b",
   "metadata": {},
   "outputs": [],
   "source": [
    "separate_file_name = []  # 빈 리스트 생성\n",
    "\n",
    "with open('D:/Down/separated_src_list.txt', 'r') as file:\n",
    "    for line in file:\n",
    "        separate_file_name.append(line.strip())"
   ]
  },
  {
   "cell_type": "code",
   "execution_count": 5,
   "id": "5c3f9f2c",
   "metadata": {},
   "outputs": [],
   "source": [
    "crush_file_name = []  # 빈 리스트 생성\n",
    "\n",
    "with open('D:/Down/crush_src_list.txt', 'r') as file:\n",
    "    for line in file:\n",
    "        crush_file_name.append(line.strip())"
   ]
  },
  {
   "cell_type": "code",
   "execution_count": 4,
   "id": "87ddc710",
   "metadata": {},
   "outputs": [],
   "source": [
    "breakage_file_name = []  # 빈 리스트 생성\n",
    "\n",
    "with open('/Volumes/NO NAME/acon/breakage_src_list.txt', 'r') as file:\n",
    "    for line in file:\n",
    "        breakage_file_name.append(line.strip())"
   ]
  },
  {
   "cell_type": "code",
   "execution_count": 5,
   "id": "bab6df09",
   "metadata": {},
   "outputs": [],
   "source": [
    "path_1 = '/Users/kimdohyun/Downloads/final_project_data/160. 차량파손 이미지 데이터/01.데이터/1.Training/1.원천데이터/damage'"
   ]
  },
  {
   "cell_type": "markdown",
   "id": "de90f59c",
   "metadata": {},
   "source": [
    "## 교집합을 찾기"
   ]
  },
  {
   "cell_type": "code",
   "execution_count": 6,
   "id": "d7af5730",
   "metadata": {},
   "outputs": [],
   "source": [
    "scratch_image = []\n",
    "\n",
    "for file in scratch_file_name:\n",
    "    scratch_image.append(file + '.jpg')"
   ]
  },
  {
   "cell_type": "code",
   "execution_count": 9,
   "id": "bc72f0f9",
   "metadata": {},
   "outputs": [],
   "source": [
    "separate_image = []\n",
    "\n",
    "for file in separate_file_name:\n",
    "    separate_image.append(file + '.jpg')"
   ]
  },
  {
   "cell_type": "code",
   "execution_count": 10,
   "id": "e863f275",
   "metadata": {},
   "outputs": [],
   "source": [
    "crush_image = []\n",
    "\n",
    "for file in crush_file_name:\n",
    "    crush_image.append(file + '.jpg')"
   ]
  },
  {
   "cell_type": "code",
   "execution_count": 7,
   "id": "4c1e39d9",
   "metadata": {},
   "outputs": [],
   "source": [
    "breakage_image = []\n",
    "\n",
    "for file in breakage_file_name:\n",
    "    breakage_image.append(file + '.jpg')"
   ]
  },
  {
   "cell_type": "code",
   "execution_count": 8,
   "id": "d90d3647",
   "metadata": {},
   "outputs": [],
   "source": [
    "scratch_image_set = set(scratch_image)"
   ]
  },
  {
   "cell_type": "code",
   "execution_count": 13,
   "id": "621ef1d4",
   "metadata": {},
   "outputs": [],
   "source": [
    "separate_image_set = set(separate_image)"
   ]
  },
  {
   "cell_type": "code",
   "execution_count": 14,
   "id": "17b08b5a",
   "metadata": {},
   "outputs": [],
   "source": [
    "crush_image_set = set(crush_image)"
   ]
  },
  {
   "cell_type": "code",
   "execution_count": 9,
   "id": "807dde72",
   "metadata": {},
   "outputs": [],
   "source": [
    "breakage_image_set = set(breakage_image)"
   ]
  },
  {
   "cell_type": "markdown",
   "id": "26e29cac",
   "metadata": {},
   "source": [
    "## copy를 위해 중복되는 파일만 찾기"
   ]
  },
  {
   "cell_type": "code",
   "execution_count": 10,
   "id": "241195ca",
   "metadata": {},
   "outputs": [],
   "source": [
    "car_file = os.listdir(path_1)"
   ]
  },
  {
   "cell_type": "code",
   "execution_count": 11,
   "id": "0dca3528",
   "metadata": {},
   "outputs": [],
   "source": [
    "car_file_set = set(car_file)"
   ]
  },
  {
   "cell_type": "code",
   "execution_count": 12,
   "id": "6397fc8b",
   "metadata": {},
   "outputs": [
    {
     "data": {
      "text/plain": [
       "169214"
      ]
     },
     "execution_count": 12,
     "metadata": {},
     "output_type": "execute_result"
    }
   ],
   "source": [
    "only_scratch = car_file_set & scratch_image_set\n",
    "len(only_scratch)"
   ]
  },
  {
   "cell_type": "code",
   "execution_count": 19,
   "id": "73fb45a5",
   "metadata": {},
   "outputs": [],
   "source": [
    "only_separate= car_file_set & separate_image_set"
   ]
  },
  {
   "cell_type": "code",
   "execution_count": 20,
   "id": "50a5eea4",
   "metadata": {},
   "outputs": [],
   "source": [
    "only_crush = car_file_set & crush_image_set"
   ]
  },
  {
   "cell_type": "code",
   "execution_count": 13,
   "id": "ae6cd734",
   "metadata": {},
   "outputs": [
    {
     "data": {
      "text/plain": [
       "10878"
      ]
     },
     "execution_count": 13,
     "metadata": {},
     "output_type": "execute_result"
    }
   ],
   "source": [
    "only_breakage = car_file_set & breakage_image_set\n",
    "len(only_breakage)"
   ]
  },
  {
   "cell_type": "markdown",
   "id": "598b7f96",
   "metadata": {},
   "source": [
    "## copy"
   ]
  },
  {
   "cell_type": "code",
   "execution_count": 14,
   "id": "7aa16c86",
   "metadata": {},
   "outputs": [],
   "source": [
    "only_scratch_list = list(only_scratch)\n",
    "#only_separate_list = list(only_separate)\n",
    "#only_crush_list = list(only_crush)\n",
    "only_breakage_list = list(only_breakage)\n"
   ]
  },
  {
   "cell_type": "code",
   "execution_count": 15,
   "id": "cb64e91d",
   "metadata": {},
   "outputs": [],
   "source": [
    "#path_1 = 'D:/Down/car/data/Training/feature/TS_damage/damage'\n",
    "scratch_path = '/Users/kimdohyun/Downloads/final_project_data/scratch'\n",
    "#separate_path = 'D:/Down/damage_only/separate'\n",
    "#crush_path = 'D:/Down/damage_only/crush'\n",
    "breakage_path = '/Users/kimdohyun/Downloads/final_project_data/breakeage'"
   ]
  },
  {
   "cell_type": "code",
   "execution_count": 16,
   "id": "e1d2ce91",
   "metadata": {},
   "outputs": [
    {
     "name": "stdout",
     "output_type": "stream",
     "text": [
      "only_scratch_list 169214\n",
      "only_breakage_list 10878\n"
     ]
    }
   ],
   "source": [
    "print('only_scratch_list', len(only_scratch_list))\n",
    "#print('only_separate_list', len(only_separate_list))\n",
    "#print('only_crush_list', len(only_crush_list))\n",
    "print('only_breakage_list', len(only_breakage_list))"
   ]
  },
  {
   "cell_type": "markdown",
   "id": "1903bc37",
   "metadata": {},
   "source": [
    "## scratch(긁힘)"
   ]
  },
  {
   "cell_type": "code",
   "execution_count": 19,
   "id": "10d67f2a",
   "metadata": {
    "scrolled": true
   },
   "outputs": [
    {
     "name": "stderr",
     "output_type": "stream",
     "text": [
      "100%|█████████████████████████████████| 169214/169214 [02:07<00:00, 1323.14it/s]\n"
     ]
    }
   ],
   "source": [
    "for file in tqdm(only_scratch_list):\n",
    "    label_src = os.path.join(path_1, file)\n",
    "    if os.path.isfile(label_src):\n",
    "        label_dst = os.path.join(scratch_path, file)\n",
    "        shutil.copy(label_src, label_dst)"
   ]
  },
  {
   "cell_type": "markdown",
   "id": "d4f48adc",
   "metadata": {},
   "source": [
    "## separate(이격)"
   ]
  },
  {
   "cell_type": "code",
   "execution_count": 18,
   "id": "fe66eb78",
   "metadata": {},
   "outputs": [
    {
     "ename": "NameError",
     "evalue": "name 'only_separate_list' is not defined",
     "output_type": "error",
     "traceback": [
      "\u001b[0;31m---------------------------------------------------------------------------\u001b[0m",
      "\u001b[0;31mNameError\u001b[0m                                 Traceback (most recent call last)",
      "Cell \u001b[0;32mIn[18], line 1\u001b[0m\n\u001b[0;32m----> 1\u001b[0m \u001b[38;5;28;01mfor\u001b[39;00m file \u001b[38;5;129;01min\u001b[39;00m tqdm(\u001b[43monly_separate_list\u001b[49m):\n\u001b[1;32m      2\u001b[0m     label_src \u001b[38;5;241m=\u001b[39m os\u001b[38;5;241m.\u001b[39mpath\u001b[38;5;241m.\u001b[39mjoin(path_1, file)\n\u001b[1;32m      3\u001b[0m     \u001b[38;5;28;01mif\u001b[39;00m os\u001b[38;5;241m.\u001b[39mpath\u001b[38;5;241m.\u001b[39misfile(label_src):\n",
      "\u001b[0;31mNameError\u001b[0m: name 'only_separate_list' is not defined"
     ]
    }
   ],
   "source": [
    "for file in tqdm(only_separate_list):\n",
    "    label_src = os.path.join(path_1, file)\n",
    "    if os.path.isfile(label_src):\n",
    "        label_dst = os.path.join(separate_path, file)\n",
    "        shutil.copy(label_src, label_dst)"
   ]
  },
  {
   "cell_type": "markdown",
   "id": "799c33b5",
   "metadata": {},
   "source": [
    "## crush(찌그러짐)"
   ]
  },
  {
   "cell_type": "code",
   "execution_count": 58,
   "id": "d6a7c8be",
   "metadata": {},
   "outputs": [
    {
     "name": "stderr",
     "output_type": "stream",
     "text": [
      " 45%|██████████████████████████████████▊                                           | 2486/5569 [03:39<02:49, 18.18it/s]"
     ]
    }
   ],
   "source": [
    "for file in tqdm(only_crush_list):\n",
    "    label_src = os.path.join(path_1, file)\n",
    "    if os.path.isfile(label_src):\n",
    "        label_dst = os.path.join(crush_path, file)\n",
    "        shutil.copy(label_src, label_dst)"
   ]
  },
  {
   "cell_type": "markdown",
   "id": "a4bab2ff",
   "metadata": {},
   "source": [
    "## breakage(파손)"
   ]
  },
  {
   "cell_type": "code",
   "execution_count": 17,
   "id": "a495367a",
   "metadata": {},
   "outputs": [
    {
     "name": "stderr",
     "output_type": "stream",
     "text": [
      "100%|███████████████████████████████████| 10878/10878 [00:04<00:00, 2313.06it/s]\n"
     ]
    }
   ],
   "source": [
    "for file in tqdm(only_breakage_list):\n",
    "    label_src = os.path.join(path_1, file)\n",
    "    if os.path.isfile(label_src):\n",
    "        label_dst = os.path.join(breakage_path, file)\n",
    "        shutil.copy(label_src, label_dst)"
   ]
  },
  {
   "cell_type": "markdown",
   "id": "546d70a5",
   "metadata": {},
   "source": [
    "## 집에서 이어서 작업 위해 리스트 파일로 저장"
   ]
  },
  {
   "cell_type": "code",
   "execution_count": null,
   "id": "f284d08c",
   "metadata": {},
   "outputs": [],
   "source": [
    "# 파일로 저장\n",
    "\n",
    "# 파일을 쓰기 모드로 열고 변수 값을 파일에 씁니다\n",
    "with open(\"only_scratch_list.txt\", \"w\") as file:\n",
    "    for item in only_scratch_list:\n",
    "        file.write(item + \"\\n\")\n",
    "\n",
    "with open(\"only_separate_list.txt\", \"w\") as file:\n",
    "    for item in only_separate_list:\n",
    "        file.write(item + \"\\n\")\n",
    "\n",
    "with open(\"only_crush.txt\", \"w\") as file:\n",
    "    for item in only_crush:\n",
    "        file.write(item + \"\\n\")\n",
    "\n",
    "with open(\"only_scratch_list.txt\", \"w\") as file:\n",
    "    for item in only_scratch_list:\n",
    "        file.write(item + \"\\n\")\n"
   ]
  },
  {
   "cell_type": "code",
   "execution_count": 20,
   "id": "fa1f825d",
   "metadata": {},
   "outputs": [
    {
     "data": {
      "text/plain": [
       "['.DS_Store', 'breakeage', 'scratch', 'crush', 'separate']"
      ]
     },
     "execution_count": 20,
     "metadata": {},
     "output_type": "execute_result"
    }
   ],
   "source": [
    "folder_list = os.listdir('/Users/kimdohyun/Downloads/final_project_data/car_damage_type')\n",
    "folder_list"
   ]
  },
  {
   "cell_type": "code",
   "execution_count": 23,
   "id": "8f2b63bb",
   "metadata": {},
   "outputs": [
    {
     "name": "stdout",
     "output_type": "stream",
     "text": [
      "10878\n",
      "169214\n",
      "5569\n",
      "16441\n"
     ]
    }
   ],
   "source": [
    "folder_list = ['breakeage', 'scratch', 'crush', 'separate']\n",
    "for i in folder_list:\n",
    "    a = os.path.join('/Users/kimdohyun/Downloads/final_project_data/car_damage_type', i)\n",
    "    print(len(os.listdir(a)))"
   ]
  },
  {
   "cell_type": "code",
   "execution_count": null,
   "id": "865d6aa6",
   "metadata": {},
   "outputs": [],
   "source": []
  }
 ],
 "metadata": {
  "kernelspec": {
   "display_name": "Python 3 (ipykernel)",
   "language": "python",
   "name": "python3"
  },
  "language_info": {
   "codemirror_mode": {
    "name": "ipython",
    "version": 3
   },
   "file_extension": ".py",
   "mimetype": "text/x-python",
   "name": "python",
   "nbconvert_exporter": "python",
   "pygments_lexer": "ipython3",
   "version": "3.10.10"
  }
 },
 "nbformat": 4,
 "nbformat_minor": 5
}
