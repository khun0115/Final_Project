{
 "cells": [
  {
   "cell_type": "code",
   "execution_count": 6,
   "id": "68d00ef9",
   "metadata": {},
   "outputs": [],
   "source": [
    "# 처음 csv file\n",
    "path = '/Users/kimdohyun/Downloads/TalkFile_part_ko 2.csv.csv'"
   ]
  },
  {
   "cell_type": "code",
   "execution_count": 2,
   "id": "fffd138f",
   "metadata": {},
   "outputs": [],
   "source": [
    "import pandas as pd\n",
    "import os"
   ]
  },
  {
   "cell_type": "code",
   "execution_count": 8,
   "id": "f818fd6b",
   "metadata": {},
   "outputs": [],
   "source": [
    "car_part = pd.read_csv(path) #, encoding='utf-8'"
   ]
  },
  {
   "cell_type": "code",
   "execution_count": 11,
   "id": "f9d77bbe",
   "metadata": {},
   "outputs": [
    {
     "name": "stdout",
     "output_type": "stream",
     "text": [
      "52441 52442\n"
     ]
    }
   ],
   "source": [
    "print(len(car_part.value_counts()), len(car_part))"
   ]
  },
  {
   "cell_type": "code",
   "execution_count": 24,
   "id": "9346accd",
   "metadata": {},
   "outputs": [
    {
     "data": {
      "text/html": [
       "<div>\n",
       "<style scoped>\n",
       "    .dataframe tbody tr th:only-of-type {\n",
       "        vertical-align: middle;\n",
       "    }\n",
       "\n",
       "    .dataframe tbody tr th {\n",
       "        vertical-align: top;\n",
       "    }\n",
       "\n",
       "    .dataframe thead th {\n",
       "        text-align: right;\n",
       "    }\n",
       "</style>\n",
       "<table border=\"1\" class=\"dataframe\">\n",
       "  <thead>\n",
       "    <tr style=\"text-align: right;\">\n",
       "      <th></th>\n",
       "      <th>part</th>\n",
       "    </tr>\n",
       "  </thead>\n",
       "  <tbody>\n",
       "    <tr>\n",
       "      <th>2</th>\n",
       "      <td>헤드램프(좌)</td>\n",
       "    </tr>\n",
       "    <tr>\n",
       "      <th>3</th>\n",
       "      <td>헤드램프(우)</td>\n",
       "    </tr>\n",
       "    <tr>\n",
       "      <th>42</th>\n",
       "      <td>헤드램프(좌)그린수가 50%청구</td>\n",
       "    </tr>\n",
       "    <tr>\n",
       "      <th>43</th>\n",
       "      <td>헤드램프 신품가(좌)2,230,800</td>\n",
       "    </tr>\n",
       "    <tr>\n",
       "      <th>72</th>\n",
       "      <td>헤드램프 그린수가 50%청구</td>\n",
       "    </tr>\n",
       "    <tr>\n",
       "      <th>73</th>\n",
       "      <td>헤드램프 신품가 912,483</td>\n",
       "    </tr>\n",
       "    <tr>\n",
       "      <th>112</th>\n",
       "      <td>헤드램프(좌)그린수가 60%청구</td>\n",
       "    </tr>\n",
       "    <tr>\n",
       "      <th>113</th>\n",
       "      <td>헤드램프(좌)신품가 438,471</td>\n",
       "    </tr>\n",
       "    <tr>\n",
       "      <th>120</th>\n",
       "      <td>해드램프(좌)  신품가 3,276,900</td>\n",
       "    </tr>\n",
       "    <tr>\n",
       "      <th>188</th>\n",
       "      <td>헤드램프(좌) 신품가 380,000</td>\n",
       "    </tr>\n",
       "    <tr>\n",
       "      <th>189</th>\n",
       "      <td>헤드램프(좌) 그린수가40%청구</td>\n",
       "    </tr>\n",
       "    <tr>\n",
       "      <th>221</th>\n",
       "      <td>헤드램프브라켓(좌)</td>\n",
       "    </tr>\n",
       "    <tr>\n",
       "      <th>222</th>\n",
       "      <td>헤드램프브라켓(우)</td>\n",
       "    </tr>\n",
       "  </tbody>\n",
       "</table>\n",
       "</div>"
      ],
      "text/plain": [
       "                       part\n",
       "2                   헤드램프(좌)\n",
       "3                   헤드램프(우)\n",
       "42        헤드램프(좌)그린수가 50%청구\n",
       "43     헤드램프 신품가(좌)2,230,800\n",
       "72          헤드램프 그린수가 50%청구\n",
       "73         헤드램프 신품가 912,483\n",
       "112       헤드램프(좌)그린수가 60%청구\n",
       "113      헤드램프(좌)신품가 438,471\n",
       "120  해드램프(좌)  신품가 3,276,900\n",
       "188     헤드램프(좌) 신품가 380,000\n",
       "189       헤드램프(좌) 그린수가40%청구\n",
       "221              헤드램프브라켓(좌)\n",
       "222              헤드램프브라켓(우)"
      ]
     },
     "execution_count": 24,
     "metadata": {},
     "output_type": "execute_result"
    }
   ],
   "source": [
    "'''\n",
    "포그램프(우) 74\n",
    "'''\n",
    "car_part.iloc[[2, 3, 42, 43, 72, 73, 112, 113, 120, 188, 189, 221, 222]]\n"
   ]
  },
  {
   "cell_type": "code",
   "execution_count": null,
   "id": "01f2d3ef",
   "metadata": {},
   "outputs": [],
   "source": []
  }
 ],
 "metadata": {
  "kernelspec": {
   "display_name": "Python 3 (ipykernel)",
   "language": "python",
   "name": "python3"
  },
  "language_info": {
   "codemirror_mode": {
    "name": "ipython",
    "version": 3
   },
   "file_extension": ".py",
   "mimetype": "text/x-python",
   "name": "python",
   "nbconvert_exporter": "python",
   "pygments_lexer": "ipython3",
   "version": "3.10.10"
  }
 },
 "nbformat": 4,
 "nbformat_minor": 5
}
