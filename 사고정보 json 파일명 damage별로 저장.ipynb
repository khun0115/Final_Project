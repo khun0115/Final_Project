{
 "cells": [
  {
   "cell_type": "code",
   "execution_count": 1,
   "id": "8cfab126",
   "metadata": {},
   "outputs": [],
   "source": [
    "import numpy as np\n",
    "import pandas as pd\n",
    "import matplotlib.pyplot as plt\n",
    "import seaborn as sns\n",
    "import matplotlib.font_manager as fm\n",
    "font_name = fm.FontProperties(fname=\"C:\\Windows\\Fonts\\\\malgun.ttf\").get_name()\n",
    "plt.rc(\"font\", family=font_name)\n",
    "import matplotlib as mlp\n",
    "mlp.rcParams[\"axes.unicode_minus\"] = False\n",
    "\n",
    "from datetime import datetime\n",
    "import cv2\n",
    "import zipfile\n",
    "import shutil\n",
    "import os\n",
    "import glob\n",
    "import json\n",
    "from tqdm.notebook import tqdm"
   ]
  },
  {
   "cell_type": "code",
   "execution_count": 59,
   "id": "0c8ec9eb",
   "metadata": {},
   "outputs": [],
   "source": [
    "Scratched_1 = pd.read_csv(\"Scratched_final_1.csv\")\n",
    "Scratched_2 = pd.read_csv(\"Scratched_final_2.csv\")\n",
    "Scratched_3 = pd.read_csv(\"Scratched_final_3.csv\")\n",
    "Breakaged = pd.read_csv(\"Breakage_final.csv\")\n",
    "Separated = pd.read_csv(\"Separated_final.csv\")\n",
    "Crushed = pd.read_csv(\"Crushed_final.csv\")"
   ]
  },
  {
   "cell_type": "code",
   "execution_count": 18,
   "id": "30d2ef9c",
   "metadata": {},
   "outputs": [
    {
     "data": {
      "text/plain": [
       "'0000004_as-0036229.json'"
      ]
     },
     "execution_count": 18,
     "metadata": {},
     "output_type": "execute_result"
    }
   ],
   "source": [
    "\"{:07d}_{}.json\".format(car_data[\"image_id\"][0], car_data[\"category_id\"][0])"
   ]
  },
  {
   "cell_type": "markdown",
   "id": "071aace6",
   "metadata": {},
   "source": [
    "#### Scratched_json_list"
   ]
  },
  {
   "cell_type": "code",
   "execution_count": 97,
   "id": "a808eb1f",
   "metadata": {},
   "outputs": [],
   "source": [
    "image_id_list = list(Scratched[\"image_id\"])\n",
    "category_id_list = list(Scratched[\"category_id\"])\n",
    "\n",
    "Scratched_json_list = []\n",
    "\n",
    "for i in range(len(image_id_list)):\n",
    "    name = \"{:07d}_{}.json\".format(Scratched[\"image_id\"][i], Scratched[\"category_id\"][i])\n",
    "    Scratched_json_list.append(name)"
   ]
  },
  {
   "cell_type": "code",
   "execution_count": 98,
   "id": "81f480a4",
   "metadata": {},
   "outputs": [],
   "source": [
    "Scratched_json_list = list(set(Scratched_json_list))\n",
    "Scratched_json_list.sort()"
   ]
  },
  {
   "cell_type": "code",
   "execution_count": 99,
   "id": "9ec06728",
   "metadata": {},
   "outputs": [
    {
     "data": {
      "text/plain": [
       "264477"
      ]
     },
     "execution_count": 99,
     "metadata": {},
     "output_type": "execute_result"
    }
   ],
   "source": [
    "len(Scratched_json_list)"
   ]
  },
  {
   "cell_type": "markdown",
   "id": "27c8de89",
   "metadata": {},
   "source": [
    "#### Breakaged_json_list"
   ]
  },
  {
   "cell_type": "code",
   "execution_count": 100,
   "id": "a11d5194",
   "metadata": {},
   "outputs": [],
   "source": [
    "image_id_list = list(Breakaged[\"image_id\"])\n",
    "category_id_list = list(Breakaged[\"category_id\"])\n",
    "\n",
    "Breakaged_json_list = []\n",
    "\n",
    "for i in range(len(image_id_list)):\n",
    "    name = \"{:07d}_{}.json\".format(Breakaged[\"image_id\"][i], Breakaged[\"category_id\"][i])\n",
    "    Breakaged_json_list.append(name)"
   ]
  },
  {
   "cell_type": "code",
   "execution_count": 101,
   "id": "63b07a0e",
   "metadata": {},
   "outputs": [],
   "source": [
    "Breakaged_json_list = list(set(Breakaged_json_list))\n",
    "Breakaged_json_list.sort()"
   ]
  },
  {
   "cell_type": "code",
   "execution_count": 102,
   "id": "71798a1d",
   "metadata": {},
   "outputs": [
    {
     "data": {
      "text/plain": [
       "42792"
      ]
     },
     "execution_count": 102,
     "metadata": {},
     "output_type": "execute_result"
    }
   ],
   "source": [
    "len(Breakaged_json_list)"
   ]
  },
  {
   "cell_type": "markdown",
   "id": "757ea527",
   "metadata": {},
   "source": [
    "#### Separated_json_list"
   ]
  },
  {
   "cell_type": "code",
   "execution_count": 103,
   "id": "77f11449",
   "metadata": {},
   "outputs": [],
   "source": [
    "image_id_list = list(Separated[\"image_id\"])\n",
    "category_id_list = list(Separated[\"category_id\"])\n",
    "\n",
    "Separated_json_list = []\n",
    "\n",
    "for i in range(len(image_id_list)):\n",
    "    name = \"{:07d}_{}.json\".format(Separated[\"image_id\"][i], Separated[\"category_id\"][i])\n",
    "    Separated_json_list.append(name)"
   ]
  },
  {
   "cell_type": "code",
   "execution_count": 104,
   "id": "9cbe1c60",
   "metadata": {},
   "outputs": [],
   "source": [
    "Separated_json_list = list(set(Separated_json_list))\n",
    "Separated_json_list.sort()"
   ]
  },
  {
   "cell_type": "code",
   "execution_count": 105,
   "id": "f80522a3",
   "metadata": {},
   "outputs": [
    {
     "data": {
      "text/plain": [
       "65703"
      ]
     },
     "execution_count": 105,
     "metadata": {},
     "output_type": "execute_result"
    }
   ],
   "source": [
    "len(Separated_json_list)"
   ]
  },
  {
   "cell_type": "markdown",
   "id": "a765dcd3",
   "metadata": {},
   "source": [
    "#### Crushed_json_list"
   ]
  },
  {
   "cell_type": "code",
   "execution_count": 106,
   "id": "b07f680f",
   "metadata": {},
   "outputs": [],
   "source": [
    "image_id_list = list(Crushed[\"image_id\"])\n",
    "category_id_list = list(Crushed[\"category_id\"])\n",
    "\n",
    "Crushed_json_list = []\n",
    "\n",
    "for i in range(len(image_id_list)):\n",
    "    name = \"{:07d}_{}.json\".format(Crushed[\"image_id\"][i], Crushed[\"category_id\"][i])\n",
    "    Crushed_json_list.append(name)"
   ]
  },
  {
   "cell_type": "code",
   "execution_count": 107,
   "id": "14c4cb37",
   "metadata": {},
   "outputs": [],
   "source": [
    "Crushed_json_list = list(set(Crushed_json_list))\n",
    "Crushed_json_list.sort()"
   ]
  },
  {
   "cell_type": "code",
   "execution_count": 108,
   "id": "b8b879d7",
   "metadata": {},
   "outputs": [
    {
     "data": {
      "text/plain": [
       "50997"
      ]
     },
     "execution_count": 108,
     "metadata": {},
     "output_type": "execute_result"
    }
   ],
   "source": [
    "len(Crushed_json_list)"
   ]
  },
  {
   "cell_type": "markdown",
   "id": "92634b66",
   "metadata": {},
   "source": [
    "#### 각 list별로 csv파일로 저장"
   ]
  },
  {
   "cell_type": "code",
   "execution_count": 110,
   "id": "3dccecde",
   "metadata": {},
   "outputs": [],
   "source": [
    "Scratched_json = pd.DataFrame(Scratched_json_list)\n",
    "Scratched_json.rename(columns = {0 : 'file_name'}, inplace = True)\n",
    "\n",
    "Breakaged_json = pd.DataFrame(Breakaged_json_list)\n",
    "Breakaged_json.rename(columns = {0 : 'file_name'}, inplace = True)\n",
    "\n",
    "Separated_json = pd.DataFrame(Separated_json_list)\n",
    "Separated_json.rename(columns = {0 : 'file_name'}, inplace = True)\n",
    "\n",
    "Crushed_json = pd.DataFrame(Crushed_json_list)\n",
    "Crushed_json.rename(columns = {0 : 'file_name'}, inplace = True)"
   ]
  },
  {
   "cell_type": "code",
   "execution_count": 111,
   "id": "a9da880a",
   "metadata": {},
   "outputs": [],
   "source": [
    "Scratched_json.to_csv(\"Scratched_json.csv\", index=False)\n",
    "Breakaged_json.to_csv(\"Breakaged_json.csv\", index=False)\n",
    "Separated_json.to_csv(\"Separated_json.csv\", index=False)\n",
    "Crushed_json.to_csv(\"Crushed_json.csv\", index=False)"
   ]
  }
 ],
 "metadata": {
  "kernelspec": {
   "display_name": "Python 3 (ipykernel)",
   "language": "python",
   "name": "python3"
  },
  "language_info": {
   "codemirror_mode": {
    "name": "ipython",
    "version": 3
   },
   "file_extension": ".py",
   "mimetype": "text/x-python",
   "name": "python",
   "nbconvert_exporter": "python",
   "pygments_lexer": "ipython3",
   "version": "3.9.13"
  }
 },
 "nbformat": 4,
 "nbformat_minor": 5
}
