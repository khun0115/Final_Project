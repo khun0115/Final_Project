{
 "cells": [
  {
   "cell_type": "code",
   "execution_count": null,
   "id": "1edfaa74",
   "metadata": {},
   "outputs": [],
   "source": [
    "import numpy as np\n",
    "import pandas as pd\n",
    "import matplotlib.pyplot as plt\n",
    "import seaborn as sns\n",
    "import os\n",
    "import shutil\n",
    "\n",
    "import tensorflow as tf\n",
    "from keras.layers import Dropout\n",
    "\n",
    "from tensorflow.keras.models import Sequential, load_model, Model\n",
    "from tensorflow.keras.layers import Dense, Flatten, Input, concatenate\n",
    "from tensorflow.keras.layers import Conv2D, MaxPool2D, Dropout, MaxPooling2D\n",
    "from tensorflow.keras.optimizers import SGD, Adam, RMSprop\n",
    "\n",
    "from sklearn.model_selection import train_test_split\n",
    "from sklearn.preprocessing import StandardScaler, MinMaxScaler\n",
    "from sklearn.metrics import accuracy_score\n",
    "from sklearn.preprocessing import LabelEncoder\n",
    "import tensorflow.keras.utils as utils\n",
    "from keras.callbacks import EarlyStopping\n",
    "\n",
    "from datetime import datetime\n",
    "\n",
    "from tensorflow.keras.preprocessing.image import ImageDataGenerator\n",
    "\n",
    "from google.colab import drive\n",
    "import zipfile"
   ]
  },
  {
   "cell_type": "code",
   "execution_count": null,
   "id": "1c82c5b7",
   "metadata": {},
   "outputs": [],
   "source": [
    "from google.colab import drive\n",
    "drive.mount('/content/drive')"
   ]
  },
  {
   "cell_type": "code",
   "execution_count": null,
   "id": "1f5766b5",
   "metadata": {},
   "outputs": [],
   "source": [
    "zip_path =  '/content/drive/MyDrive/FINAL PROJECT/car_damage_type_0703.zip'\n",
    "\n",
    "re_path = '/content/car_damage_type_0703'\n",
    "\n",
    "with zipfile.ZipFile(zip_path, 'r') as target_file:\n",
    "    for file in target_file.namelist():\n",
    "        file_path = os.path.join(re_path, file)\n",
    "        if not os.path.exists(file_path):\n",
    "            target_file.extract(file, re_path)"
   ]
  },
  {
   "cell_type": "code",
   "execution_count": null,
   "id": "74ab6f0f",
   "metadata": {},
   "outputs": [],
   "source": [
    "data_dir = '/content/car_damage_type_0703'"
   ]
  },
  {
   "cell_type": "code",
   "execution_count": null,
   "id": "1aabcaa6",
   "metadata": {},
   "outputs": [],
   "source": [
    "train_data = '/content/car_damage_type_0703/car_damage_type_0703/car_damage_type/train'\n",
    "test_data = '/content/car_damage_type_0703/car_damage_type_0703/car_damage_type/test'\n",
    "\n",
    "input_shape = (64,64)\n",
    "\n",
    "# 데이터 전처리\n",
    "train_gen = ImageDataGenerator(rescale=1./255, shear_range=0.2, zoom_range=0.2, horizontal_flip=True)\n",
    "test_gen = ImageDataGenerator(rescale=1./255)\n",
    "\n",
    "# 학습 및 테스트 데이터셋 로드\n",
    "train_dataset = train_gen.flow_from_directory(train_data, target_size=input_shape, batch_size=32, class_mode='categorical')\n",
    "test_dataset = test_gen.flow_from_directory(test_data, target_size=input_shape, batch_size=32, class_mode='categorical')"
   ]
  },
  {
   "cell_type": "code",
   "execution_count": null,
   "id": "9801cb91",
   "metadata": {},
   "outputs": [],
   "source": [
    "from tensorflow.keras.applications import MobileNet\n",
    "from tensorflow.keras.layers import GlobalAveragePooling2D\n",
    "\n",
    "input_shape = (224,224)\n",
    "\n",
    "base_model = MobileNet(input_shape=(input_shape[0], input_shape[1], 3), include_top=False, weights='imagenet')\n",
    "base_model.trainable = False\n",
    "\n",
    "model = Sequential()\n",
    "model.add(base_model)\n",
    "model.add(GlobalAveragePooling2D())\n",
    "model.add(Dense(64, activation='relu'))\n",
    "model.add(Dropout(0.5))\n",
    "model.add(Dense(train_dataset.num_classes, activation='softmax'))\n",
    "\n",
    "model.compile(optimizer='adam', loss='categorical_crossentropy', metrics=['accuracy'])\n",
    "\n",
    "# result = model.fit(train_dataset, epochs=30, validation_data=test_dataset, batch_size=32)\n",
    "\n",
    "# test_loss, test_accuracy = model.evaluate(test_dataset)\n",
    "# print(f'Test Loss: {test_loss}')\n",
    "# print(f'Test Accuracy: {test_accuracy}')\n",
    "\n",
    "# Early Stopping\n",
    "\n",
    "early_stopping = EarlyStopping(monitor='val_loss', patience=3, restore_best_weights=True)\n",
    "\n",
    "result = model.fit(train_dataset, epochs=20, validation_data=test_dataset, batch_size=32, callbacks=[early_stopping])\n",
    "\n",
    "test_loss, test_accuracy = model.evaluate(test_dataset)\n",
    "\n",
    "print(f'Test Loss: {test_loss}')\n",
    "print(f'Test Accuracy: {test_accuracy}')"
   ]
  },
  {
   "cell_type": "code",
   "execution_count": null,
   "id": "2727bee4",
   "metadata": {},
   "outputs": [],
   "source": [
    "plt.figure(figsize=(8,4))\n",
    "plt.subplot(1,2,1)\n",
    "\n",
    "plt.title('LOSS')\n",
    "plt.xlabel('epochs')\n",
    "plt.ylabel('loss')\n",
    "plt.grid()\n",
    "\n",
    "plt.plot(result.history['loss'], label='train_loss')\n",
    "plt.plot(result.history['val_loss'], label= 'validation_loss')\n",
    "plt.legend(loc='best')\n",
    "\n",
    "plt.subplot(1,2,2)\n",
    "\n",
    "plt.title('ACCURACY')\n",
    "plt.xlabel('epochs')\n",
    "plt.ylabel('accuracy')\n",
    "plt.grid()\n",
    "\n",
    "plt.plot(result.history['accuracy'], label='train_accuracy')\n",
    "plt.plot(result.history['val_accuracy'], label= 'validationi_accuracy')\n",
    "plt.legend(loc='best')"
   ]
  },
  {
   "cell_type": "code",
   "execution_count": null,
   "id": "1cfd5fcb",
   "metadata": {},
   "outputs": [],
   "source": []
  }
 ],
 "metadata": {
  "kernelspec": {
   "display_name": "Python 3 (ipykernel)",
   "language": "python",
   "name": "python3"
  },
  "language_info": {
   "codemirror_mode": {
    "name": "ipython",
    "version": 3
   },
   "file_extension": ".py",
   "mimetype": "text/x-python",
   "name": "python",
   "nbconvert_exporter": "python",
   "pygments_lexer": "ipython3",
   "version": "3.10.9"
  }
 },
 "nbformat": 4,
 "nbformat_minor": 5
}
