{
 "cells": [
  {
   "cell_type": "markdown",
   "id": "43e75eb0",
   "metadata": {},
   "source": [
    "# 견적서 HQ"
   ]
  },
  {
   "cell_type": "code",
   "execution_count": 1,
   "id": "298796b8",
   "metadata": {},
   "outputs": [],
   "source": [
    "import numpy as np\n",
    "import pandas as pd\n",
    "import matplotlib.pyplot as plt\n",
    "import seaborn as sns\n",
    "import matplotlib.font_manager as fm\n",
    "font_name = fm.FontProperties(fname=\"C:\\Windows\\Fonts\\\\malgun.ttf\").get_name()\n",
    "plt.rc(\"font\", family=font_name)\n",
    "import matplotlib as mlp\n",
    "mlp.rcParams[\"axes.unicode_minus\"] = False\n",
    "\n",
    "from datetime import datetime\n",
    "import cv2\n",
    "import zipfile\n",
    "import shutil\n",
    "import os\n",
    "import glob\n",
    "import json\n",
    "from tqdm.notebook import tqdm"
   ]
  },
  {
   "cell_type": "markdown",
   "id": "3d3d15bc",
   "metadata": {},
   "source": [
    "## 1) 견적서 json 가져오기"
   ]
  },
  {
   "cell_type": "code",
   "execution_count": 15,
   "id": "09245b6b",
   "metadata": {},
   "outputs": [
    {
     "name": "stdout",
     "output_type": "stream",
     "text": [
      "125006\n"
     ]
    }
   ],
   "source": [
    "label_list = glob.glob(\"C:\\\\eun01\\\\car_repair\\\\training\\\\as_labeling_data\\\\*\")\n",
    "print(len(label_list))"
   ]
  },
  {
   "cell_type": "code",
   "execution_count": 16,
   "id": "f9506178",
   "metadata": {},
   "outputs": [
    {
     "data": {
      "text/plain": [
       "'as-0000076'"
      ]
     },
     "execution_count": 16,
     "metadata": {},
     "output_type": "execute_result"
    }
   ],
   "source": [
    "label_list[40].split(\"\\\\\")[-1][:-5]"
   ]
  },
  {
   "cell_type": "code",
   "execution_count": 4,
   "id": "05f81092",
   "metadata": {},
   "outputs": [
    {
     "data": {
      "text/plain": [
       "'앞범퍼(스틸형)하단'"
      ]
     },
     "execution_count": 4,
     "metadata": {},
     "output_type": "execute_result"
    }
   ],
   "source": [
    "with open(label_list[0],'rt', encoding='UTF8') as file:\n",
    "    contents=json.loads(file.read())\n",
    "contents[\"수리내역\"][0][\"작업항목 및 부품명\"]"
   ]
  },
  {
   "cell_type": "code",
   "execution_count": 5,
   "id": "8d986f91",
   "metadata": {},
   "outputs": [
    {
     "data": {
      "text/plain": [
       "{'No': '1 U',\n",
       " '작업항목 및 부품명': '앞범퍼(스틸형)하단',\n",
       " '작업': '교환',\n",
       " 'HQ%': 1.24,\n",
       " '부품코드': '',\n",
       " '부품가격': '',\n",
       " '공임': '40,920',\n",
       " '비고': ''}"
      ]
     },
     "execution_count": 5,
     "metadata": {},
     "output_type": "execute_result"
    }
   ],
   "source": [
    "contents[\"수리내역\"][0]"
   ]
  },
  {
   "cell_type": "code",
   "execution_count": 17,
   "id": "f0940e92",
   "metadata": {},
   "outputs": [
    {
     "data": {
      "application/vnd.jupyter.widget-view+json": {
       "model_id": "d2b9a94f1e3f4830b8440673c5ff7c00",
       "version_major": 2,
       "version_minor": 0
      },
      "text/plain": [
       "  0%|          | 0/125006 [00:00<?, ?it/s]"
      ]
     },
     "metadata": {},
     "output_type": "display_data"
    }
   ],
   "source": [
    "category_id=[]\n",
    "part=[]\n",
    "repair=[]\n",
    "HQ=[]\n",
    "\n",
    "for file_name in tqdm(label_list):\n",
    "    with open(file_name,'rt', encoding='UTF8') as file:\n",
    "        contents=json.loads(file.read())\n",
    "    for i in range(len(contents[\"수리내역\"])):\n",
    "        category_id.append(file_name.split(\"\\\\\")[-1][:-5])\n",
    "        part.append(contents[\"수리내역\"][i][\"작업항목 및 부품명\"])\n",
    "        repair.append(contents[\"수리내역\"][i][\"작업\"])\n",
    "        HQ.append(contents[\"수리내역\"][i][\"HQ%\"])\n",
    "\n",
    "data = pd.DataFrame({\"category_id\" : category_id, \"part\" : part, \"repair\" : repair, \"HQ\" : HQ})"
   ]
  },
  {
   "cell_type": "code",
   "execution_count": 18,
   "id": "cd612aa0",
   "metadata": {
    "scrolled": false
   },
   "outputs": [
    {
     "data": {
      "text/html": [
       "<div>\n",
       "<style scoped>\n",
       "    .dataframe tbody tr th:only-of-type {\n",
       "        vertical-align: middle;\n",
       "    }\n",
       "\n",
       "    .dataframe tbody tr th {\n",
       "        vertical-align: top;\n",
       "    }\n",
       "\n",
       "    .dataframe thead th {\n",
       "        text-align: right;\n",
       "    }\n",
       "</style>\n",
       "<table border=\"1\" class=\"dataframe\">\n",
       "  <thead>\n",
       "    <tr style=\"text-align: right;\">\n",
       "      <th></th>\n",
       "      <th>category_id</th>\n",
       "      <th>part</th>\n",
       "      <th>repair</th>\n",
       "      <th>HQ</th>\n",
       "    </tr>\n",
       "  </thead>\n",
       "  <tbody>\n",
       "    <tr>\n",
       "      <th>0</th>\n",
       "      <td>as-0000002</td>\n",
       "      <td>앞범퍼(스틸형)하단</td>\n",
       "      <td>교환</td>\n",
       "      <td>1.24</td>\n",
       "    </tr>\n",
       "    <tr>\n",
       "      <th>1</th>\n",
       "      <td>as-0000002</td>\n",
       "      <td>앞범퍼</td>\n",
       "      <td>교환</td>\n",
       "      <td>3.01</td>\n",
       "    </tr>\n",
       "    <tr>\n",
       "      <th>2</th>\n",
       "      <td>as-0000002</td>\n",
       "      <td>헤드램프(좌)</td>\n",
       "      <td>탈착</td>\n",
       "      <td>0.42</td>\n",
       "    </tr>\n",
       "    <tr>\n",
       "      <th>3</th>\n",
       "      <td>as-0000002</td>\n",
       "      <td>헤드램프(우)</td>\n",
       "      <td>탈착</td>\n",
       "      <td>0.42</td>\n",
       "    </tr>\n",
       "    <tr>\n",
       "      <th>4</th>\n",
       "      <td>as-0000002</td>\n",
       "      <td>앞패널</td>\n",
       "      <td>판금</td>\n",
       "      <td>2.5</td>\n",
       "    </tr>\n",
       "  </tbody>\n",
       "</table>\n",
       "</div>"
      ],
      "text/plain": [
       "  category_id        part repair    HQ\n",
       "0  as-0000002  앞범퍼(스틸형)하단     교환  1.24\n",
       "1  as-0000002         앞범퍼     교환  3.01\n",
       "2  as-0000002     헤드램프(좌)     탈착  0.42\n",
       "3  as-0000002     헤드램프(우)     탈착  0.42\n",
       "4  as-0000002         앞패널     판금   2.5"
      ]
     },
     "execution_count": 18,
     "metadata": {},
     "output_type": "execute_result"
    }
   ],
   "source": [
    "data.head()"
   ]
  },
  {
   "cell_type": "code",
   "execution_count": 20,
   "id": "d8aa5287",
   "metadata": {},
   "outputs": [
    {
     "name": "stdout",
     "output_type": "stream",
     "text": [
      "<class 'pandas.core.frame.DataFrame'>\n",
      "RangeIndex: 1716713 entries, 0 to 1716712\n",
      "Data columns (total 4 columns):\n",
      " #   Column       Dtype \n",
      "---  ------       ----- \n",
      " 0   category_id  object\n",
      " 1   part         object\n",
      " 2   repair       object\n",
      " 3   HQ           object\n",
      "dtypes: object(4)\n",
      "memory usage: 52.4+ MB\n"
     ]
    }
   ],
   "source": [
    "data.info()"
   ]
  },
  {
   "cell_type": "markdown",
   "id": "1f0c453e",
   "metadata": {},
   "source": [
    "#### 외제차 제외"
   ]
  },
  {
   "cell_type": "code",
   "execution_count": 24,
   "id": "f4b72406",
   "metadata": {},
   "outputs": [],
   "source": [
    "kor_index = pd.read_csv(\"kor_car.csv\")\n",
    "kor_index.rename(columns = {\"file_name\" : 'category_id'}, inplace = True)"
   ]
  },
  {
   "cell_type": "code",
   "execution_count": 25,
   "id": "3da5c8d3",
   "metadata": {},
   "outputs": [],
   "source": [
    "data = pd.merge(data, kor_index, how='inner', on='category_id')"
   ]
  },
  {
   "cell_type": "markdown",
   "id": "c7e19d87",
   "metadata": {},
   "source": [
    "## 2) 작업 방법 전처리"
   ]
  },
  {
   "cell_type": "markdown",
   "id": "107dd1c7",
   "metadata": {},
   "source": [
    "    도장 coating -> 도장공임\n",
    "    판금 sheet_metal -> 판금수리\n",
    "    교환 exchange -> 탈착교환\n",
    "    수리 repair -> ?"
   ]
  },
  {
   "cell_type": "code",
   "execution_count": 26,
   "id": "201cb923",
   "metadata": {
    "scrolled": false
   },
   "outputs": [
    {
     "data": {
      "text/plain": [
       "array(['교환', '탈착', '판금', '1/2OH', '도장', '수리', '', '오버홀', '조정', '견인',\n",
       "       '1/4OH', '1/3OH', '견인비', '1/2오버홀', '1/4오버홀', '구난비', '구난', '1/3오버홀',\n",
       "       '불인정', '작업'], dtype=object)"
      ]
     },
     "execution_count": 26,
     "metadata": {},
     "output_type": "execute_result"
    }
   ],
   "source": [
    "data[\"repair\"].unique()"
   ]
  },
  {
   "cell_type": "code",
   "execution_count": 11,
   "id": "9a6731cf",
   "metadata": {
    "scrolled": true
   },
   "outputs": [
    {
     "name": "stdout",
     "output_type": "stream",
     "text": [
      "309889\n",
      "456744\n",
      "460961\n",
      "123644\n",
      "56610\n"
     ]
    }
   ],
   "source": [
    "print(len(data[data[\"repair\"]==\"교환\"])) # exchange -> 탈착교환\n",
    "print(len(data[data[\"repair\"]==\"탈착\"]))\n",
    "\n",
    "print(len(data[data[\"repair\"]==\"도장\"])) # coating -> 도장공임\n",
    "\n",
    "print(len(data[data[\"repair\"]==\"판금\"])) # 판금 sheet_metal -> 판금수리\n",
    "print(len(data[data[\"repair\"]==\"수리\"]))"
   ]
  },
  {
   "cell_type": "code",
   "execution_count": 12,
   "id": "7cc47f78",
   "metadata": {
    "scrolled": false
   },
   "outputs": [
    {
     "name": "stdout",
     "output_type": "stream",
     "text": [
      "21753\n",
      "22723\n",
      "3334\n",
      "10174\n",
      "10\n",
      "8\n",
      "37\n"
     ]
    }
   ],
   "source": [
    "print(len(data[data[\"repair\"]==\"오버홀\"]))\n",
    "print(len(data[data[\"repair\"]==\"1/2OH\"]))\n",
    "print(len(data[data[\"repair\"]==\"1/3OH\"]))\n",
    "print(len(data[data[\"repair\"]==\"1/4OH\"]))\n",
    "print(len(data[data[\"repair\"]==\"1/2오버홀\"]))\n",
    "print(len(data[data[\"repair\"]==\"1/3오버홀\"]))\n",
    "print(len(data[data[\"repair\"]==\"1/4오버홀\"]))"
   ]
  },
  {
   "cell_type": "code",
   "execution_count": 27,
   "id": "8740d8ad",
   "metadata": {},
   "outputs": [],
   "source": [
    "#### 해당 작업 항목 행 삭제 ####\n",
    "data_drop = data.copy()\n",
    "drop_list = [\"\", \"구난\", \"구난비\", \"불인정\", \"차감소계\", \"감가상각\", \"작업\", \"견인\", \"견인비\", \n",
    "             \"1/2OH\", \"오버홀\", \"조정\", \"1/4OH\", \"1/3OH\", \"1/2오버홀\", \"1/4오버홀\", \"1/3오버홀\"]\n",
    "\n",
    "for drop in drop_list:\n",
    "    data_drop = data_drop.drop(data_drop[data_drop[\"repair\"]==drop].index, axis=0)"
   ]
  },
  {
   "cell_type": "code",
   "execution_count": 28,
   "id": "7f16905d",
   "metadata": {},
   "outputs": [],
   "source": [
    "data_drop = data_drop.reset_index()\n",
    "data_drop.drop(\"index\", axis=1, inplace=True)"
   ]
  },
  {
   "cell_type": "code",
   "execution_count": 29,
   "id": "44f25039",
   "metadata": {},
   "outputs": [
    {
     "data": {
      "text/plain": [
       "array(['교환', '탈착', '판금', '도장', '수리'], dtype=object)"
      ]
     },
     "execution_count": 29,
     "metadata": {},
     "output_type": "execute_result"
    }
   ],
   "source": [
    "data_drop[\"repair\"].unique()"
   ]
  },
  {
   "cell_type": "code",
   "execution_count": 32,
   "id": "040a042b",
   "metadata": {
    "scrolled": true
   },
   "outputs": [
    {
     "name": "stdout",
     "output_type": "stream",
     "text": [
      "1675156\n",
      "1407848\n"
     ]
    }
   ],
   "source": [
    "print(len(data))\n",
    "print(len(data_drop))"
   ]
  },
  {
   "cell_type": "code",
   "execution_count": 21,
   "id": "27458d08",
   "metadata": {
    "scrolled": true
   },
   "outputs": [
    {
     "data": {
      "text/plain": [
       "가열건조비                    112622\n",
       "공통시간작업                    78213\n",
       "후론트 범퍼 커버                 55689\n",
       "리어 컴비네이션램프(우)             29964\n",
       "리어 컴비네이션램프(좌)             28266\n",
       "                          ...  \n",
       "좌)사이드스텝발판                     1\n",
       "리어범퍼하단커버교환                    1\n",
       "우)전도어,뒤도어,뒤휀더-폴리싱             1\n",
       "사이드스텝패널(아우터,우)-폴리싱            1\n",
       "프런트도어벨트몰딩(눈썹몰딩)(좌)재사용         1\n",
       "Name: part, Length: 20437, dtype: int64"
      ]
     },
     "execution_count": 21,
     "metadata": {},
     "output_type": "execute_result"
    }
   ],
   "source": [
    "data_drop[\"part\"].value_counts()"
   ]
  },
  {
   "cell_type": "code",
   "execution_count": 20,
   "id": "4ead1fc5",
   "metadata": {
    "scrolled": true
   },
   "outputs": [
    {
     "name": "stdout",
     "output_type": "stream",
     "text": [
      "46493\n",
      "20437\n"
     ]
    }
   ],
   "source": [
    "print(len(list(data[\"part\"].unique())))\n",
    "print(len(list(data_drop[\"part\"].unique())))"
   ]
  },
  {
   "cell_type": "code",
   "execution_count": 33,
   "id": "c47583be",
   "metadata": {
    "scrolled": false
   },
   "outputs": [
    {
     "data": {
      "text/html": [
       "<div>\n",
       "<style scoped>\n",
       "    .dataframe tbody tr th:only-of-type {\n",
       "        vertical-align: middle;\n",
       "    }\n",
       "\n",
       "    .dataframe tbody tr th {\n",
       "        vertical-align: top;\n",
       "    }\n",
       "\n",
       "    .dataframe thead th {\n",
       "        text-align: right;\n",
       "    }\n",
       "</style>\n",
       "<table border=\"1\" class=\"dataframe\">\n",
       "  <thead>\n",
       "    <tr style=\"text-align: right;\">\n",
       "      <th></th>\n",
       "      <th>part</th>\n",
       "    </tr>\n",
       "  </thead>\n",
       "  <tbody>\n",
       "    <tr>\n",
       "      <th>0</th>\n",
       "      <td>후론트 범퍼</td>\n",
       "    </tr>\n",
       "    <tr>\n",
       "      <th>1</th>\n",
       "      <td>헤드램프(우)</td>\n",
       "    </tr>\n",
       "    <tr>\n",
       "      <th>2</th>\n",
       "      <td>후론트 휀다(우)</td>\n",
       "    </tr>\n",
       "    <tr>\n",
       "      <th>3</th>\n",
       "      <td>후론트 도어(우)</td>\n",
       "    </tr>\n",
       "    <tr>\n",
       "      <th>4</th>\n",
       "      <td>슬라이딩 도어(우)</td>\n",
       "    </tr>\n",
       "  </tbody>\n",
       "</table>\n",
       "</div>"
      ],
      "text/plain": [
       "         part\n",
       "0      후론트 범퍼\n",
       "1     헤드램프(우)\n",
       "2   후론트 휀다(우)\n",
       "3   후론트 도어(우)\n",
       "4  슬라이딩 도어(우)"
      ]
     },
     "execution_count": 33,
     "metadata": {},
     "output_type": "execute_result"
    }
   ],
   "source": [
    "part = pd.DataFrame({\"part\":list(data_drop[\"part\"].unique())})\n",
    "part.head()"
   ]
  },
  {
   "cell_type": "code",
   "execution_count": null,
   "id": "915ef3c5",
   "metadata": {},
   "outputs": [],
   "source": [
    "# 작업을 위한 분류 #\n",
    "# \"Bumper\", \"Bonnet\", \"Roof\", \"Head lights\", \"Door\", \"Fender\", \"Rocker panel\", \"Side mirror\", \"Trunk lid\", \"Rear lamp\", \"Wheel\" #\n",
    "part1 = part[:4000]\n",
    "part2 = part[4000:8000]\n",
    "part3 = part[8000:12000]\n",
    "part4 = part[12000:16000]\n",
    "part5 = part[16000:]\n",
    "\n",
    "part1.to_csv(\"part1.csv\", index=False, encoding=\"euc-kr\")\n",
    "part2.to_csv(\"part2.csv\", index=False, encoding=\"euc-kr\")\n",
    "part3.to_csv(\"part3.csv\", index=False, encoding=\"euc-kr\")\n",
    "part4.to_csv(\"part4.csv\", index=False, encoding=\"euc-kr\")\n",
    "part5.to_csv(\"part5.csv\", index=False, encoding=\"euc-kr\")"
   ]
  },
  {
   "cell_type": "markdown",
   "id": "65e52541",
   "metadata": {},
   "source": [
    "## 3) 작업항목 및 부품 전처리"
   ]
  },
  {
   "cell_type": "code",
   "execution_count": 34,
   "id": "6df1ec43",
   "metadata": {},
   "outputs": [],
   "source": [
    "part1 = pd.read_csv(\"part1_part.csv\", encoding=\"euc-kr\")\n",
    "part2 = pd.read_csv(\"part2_part.csv\", encoding=\"euc-kr\")\n",
    "part3 = pd.read_csv(\"part3_part.csv\", encoding=\"euc-kr\")\n",
    "part4 = pd.read_csv(\"part4_part.csv\", encoding=\"euc-kr\")\n",
    "part5 = pd.read_csv(\"part5_part.csv\", encoding=\"euc-kr\")"
   ]
  },
  {
   "cell_type": "code",
   "execution_count": 35,
   "id": "1f6dd997",
   "metadata": {},
   "outputs": [],
   "source": [
    "part2 = part2[[\"part\", \"Unnamed: 1\"]]\n",
    "part3.rename(columns = {\"part.1\":\"Unnamed: 1\"}, inplace = True)"
   ]
  },
  {
   "cell_type": "code",
   "execution_count": 36,
   "id": "eb5f4d52",
   "metadata": {},
   "outputs": [
    {
     "name": "stdout",
     "output_type": "stream",
     "text": [
      "1042\n",
      "940\n",
      "517\n",
      "1131\n",
      "1631\n"
     ]
    }
   ],
   "source": [
    "print(len(part1))\n",
    "print(len(part2))\n",
    "print(len(part3))\n",
    "print(len(part4))\n",
    "print(len(part5))"
   ]
  },
  {
   "cell_type": "code",
   "execution_count": 37,
   "id": "a05fde91",
   "metadata": {
    "scrolled": true
   },
   "outputs": [
    {
     "data": {
      "text/html": [
       "<div>\n",
       "<style scoped>\n",
       "    .dataframe tbody tr th:only-of-type {\n",
       "        vertical-align: middle;\n",
       "    }\n",
       "\n",
       "    .dataframe tbody tr th {\n",
       "        vertical-align: top;\n",
       "    }\n",
       "\n",
       "    .dataframe thead th {\n",
       "        text-align: right;\n",
       "    }\n",
       "</style>\n",
       "<table border=\"1\" class=\"dataframe\">\n",
       "  <thead>\n",
       "    <tr style=\"text-align: right;\">\n",
       "      <th></th>\n",
       "      <th>part</th>\n",
       "      <th>Unnamed: 1</th>\n",
       "    </tr>\n",
       "  </thead>\n",
       "  <tbody>\n",
       "    <tr>\n",
       "      <th>0</th>\n",
       "      <td>후론트 범퍼</td>\n",
       "      <td>Bumper</td>\n",
       "    </tr>\n",
       "    <tr>\n",
       "      <th>1</th>\n",
       "      <td>헤드램프(우)</td>\n",
       "      <td>Head lights</td>\n",
       "    </tr>\n",
       "    <tr>\n",
       "      <th>2</th>\n",
       "      <td>후론트 휀다(우)</td>\n",
       "      <td>Fender</td>\n",
       "    </tr>\n",
       "    <tr>\n",
       "      <th>3</th>\n",
       "      <td>후론트 도어(우)</td>\n",
       "      <td>Door</td>\n",
       "    </tr>\n",
       "    <tr>\n",
       "      <th>4</th>\n",
       "      <td>슬라이딩 도어(우)</td>\n",
       "      <td>Door</td>\n",
       "    </tr>\n",
       "  </tbody>\n",
       "</table>\n",
       "</div>"
      ],
      "text/plain": [
       "         part   Unnamed: 1\n",
       "0      후론트 범퍼       Bumper\n",
       "1     헤드램프(우)  Head lights\n",
       "2   후론트 휀다(우)       Fender\n",
       "3   후론트 도어(우)         Door\n",
       "4  슬라이딩 도어(우)         Door"
      ]
     },
     "execution_count": 37,
     "metadata": {},
     "output_type": "execute_result"
    }
   ],
   "source": [
    "part_cc = pd.concat([part1, part2, part3, part4, part5], axis=0, ignore_index=True)\n",
    "part_cc.head()"
   ]
  },
  {
   "cell_type": "code",
   "execution_count": 38,
   "id": "742a897d",
   "metadata": {},
   "outputs": [
    {
     "data": {
      "text/html": [
       "<div>\n",
       "<style scoped>\n",
       "    .dataframe tbody tr th:only-of-type {\n",
       "        vertical-align: middle;\n",
       "    }\n",
       "\n",
       "    .dataframe tbody tr th {\n",
       "        vertical-align: top;\n",
       "    }\n",
       "\n",
       "    .dataframe thead th {\n",
       "        text-align: right;\n",
       "    }\n",
       "</style>\n",
       "<table border=\"1\" class=\"dataframe\">\n",
       "  <thead>\n",
       "    <tr style=\"text-align: right;\">\n",
       "      <th></th>\n",
       "      <th>category_id</th>\n",
       "      <th>part</th>\n",
       "      <th>repair</th>\n",
       "      <th>HQ</th>\n",
       "      <th>Unnamed: 1</th>\n",
       "    </tr>\n",
       "  </thead>\n",
       "  <tbody>\n",
       "    <tr>\n",
       "      <th>0</th>\n",
       "      <td>as-0000025</td>\n",
       "      <td>후론트 범퍼</td>\n",
       "      <td>교환</td>\n",
       "      <td>1.79</td>\n",
       "      <td>Bumper</td>\n",
       "    </tr>\n",
       "    <tr>\n",
       "      <th>1</th>\n",
       "      <td>as-0000596</td>\n",
       "      <td>후론트 범퍼</td>\n",
       "      <td>교환</td>\n",
       "      <td>2.45</td>\n",
       "      <td>Bumper</td>\n",
       "    </tr>\n",
       "    <tr>\n",
       "      <th>2</th>\n",
       "      <td>as-0001501</td>\n",
       "      <td>후론트 범퍼</td>\n",
       "      <td>탈착</td>\n",
       "      <td>1.5</td>\n",
       "      <td>Bumper</td>\n",
       "    </tr>\n",
       "    <tr>\n",
       "      <th>3</th>\n",
       "      <td>as-0001551</td>\n",
       "      <td>후론트 범퍼</td>\n",
       "      <td>탈착</td>\n",
       "      <td>0.81</td>\n",
       "      <td>Bumper</td>\n",
       "    </tr>\n",
       "    <tr>\n",
       "      <th>4</th>\n",
       "      <td>as-0001576</td>\n",
       "      <td>후론트 범퍼</td>\n",
       "      <td>탈착</td>\n",
       "      <td>0.81</td>\n",
       "      <td>Bumper</td>\n",
       "    </tr>\n",
       "  </tbody>\n",
       "</table>\n",
       "</div>"
      ],
      "text/plain": [
       "  category_id    part repair    HQ Unnamed: 1\n",
       "0  as-0000025  후론트 범퍼     교환  1.79     Bumper\n",
       "1  as-0000596  후론트 범퍼     교환  2.45     Bumper\n",
       "2  as-0001501  후론트 범퍼     탈착   1.5     Bumper\n",
       "3  as-0001551  후론트 범퍼     탈착  0.81     Bumper\n",
       "4  as-0001576  후론트 범퍼     탈착  0.81     Bumper"
      ]
     },
     "execution_count": 38,
     "metadata": {},
     "output_type": "execute_result"
    }
   ],
   "source": [
    "HQ_data = pd.merge(data_drop, part_cc, how='inner', on=\"part\")\n",
    "HQ_data.head()"
   ]
  },
  {
   "cell_type": "code",
   "execution_count": 39,
   "id": "8ed1fdf4",
   "metadata": {},
   "outputs": [
    {
     "data": {
      "text/html": [
       "<div>\n",
       "<style scoped>\n",
       "    .dataframe tbody tr th:only-of-type {\n",
       "        vertical-align: middle;\n",
       "    }\n",
       "\n",
       "    .dataframe tbody tr th {\n",
       "        vertical-align: top;\n",
       "    }\n",
       "\n",
       "    .dataframe thead th {\n",
       "        text-align: right;\n",
       "    }\n",
       "</style>\n",
       "<table border=\"1\" class=\"dataframe\">\n",
       "  <thead>\n",
       "    <tr style=\"text-align: right;\">\n",
       "      <th></th>\n",
       "      <th>category_id</th>\n",
       "      <th>part</th>\n",
       "      <th>repair</th>\n",
       "      <th>HQ</th>\n",
       "    </tr>\n",
       "  </thead>\n",
       "  <tbody>\n",
       "    <tr>\n",
       "      <th>0</th>\n",
       "      <td>as-0000025</td>\n",
       "      <td>Bumper</td>\n",
       "      <td>교환</td>\n",
       "      <td>1.79</td>\n",
       "    </tr>\n",
       "    <tr>\n",
       "      <th>1</th>\n",
       "      <td>as-0000596</td>\n",
       "      <td>Bumper</td>\n",
       "      <td>교환</td>\n",
       "      <td>2.45</td>\n",
       "    </tr>\n",
       "    <tr>\n",
       "      <th>2</th>\n",
       "      <td>as-0001501</td>\n",
       "      <td>Bumper</td>\n",
       "      <td>탈착</td>\n",
       "      <td>1.5</td>\n",
       "    </tr>\n",
       "    <tr>\n",
       "      <th>3</th>\n",
       "      <td>as-0001551</td>\n",
       "      <td>Bumper</td>\n",
       "      <td>탈착</td>\n",
       "      <td>0.81</td>\n",
       "    </tr>\n",
       "    <tr>\n",
       "      <th>4</th>\n",
       "      <td>as-0001576</td>\n",
       "      <td>Bumper</td>\n",
       "      <td>탈착</td>\n",
       "      <td>0.81</td>\n",
       "    </tr>\n",
       "  </tbody>\n",
       "</table>\n",
       "</div>"
      ],
      "text/plain": [
       "  category_id    part repair    HQ\n",
       "0  as-0000025  Bumper     교환  1.79\n",
       "1  as-0000596  Bumper     교환  2.45\n",
       "2  as-0001501  Bumper     탈착   1.5\n",
       "3  as-0001551  Bumper     탈착  0.81\n",
       "4  as-0001576  Bumper     탈착  0.81"
      ]
     },
     "execution_count": 39,
     "metadata": {},
     "output_type": "execute_result"
    }
   ],
   "source": [
    "HQ_data = HQ_data[[\"category_id\", \"Unnamed: 1\", \"repair\", \"HQ\"]]\n",
    "HQ_data.rename(columns = {\"Unnamed: 1\" : \"part\"}, inplace = True)\n",
    "HQ_data.head()"
   ]
  },
  {
   "cell_type": "code",
   "execution_count": 41,
   "id": "3fbaf293",
   "metadata": {},
   "outputs": [],
   "source": [
    "# 작업 방식 이름 변경 #\n",
    "idx = HQ_data[HQ_data[\"repair\"]==\"교환\"].index\n",
    "HQ_data[\"repair\"][idx] = \"exchange\"\n",
    "idx = HQ_data[HQ_data[\"repair\"]==\"탈착\"].index\n",
    "HQ_data[\"repair\"][idx] = \"exchange\"\n",
    "\n",
    "idx = HQ_data[HQ_data[\"repair\"]==\"도장\"].index\n",
    "HQ_data[\"repair\"][idx] = \"coating\"\n",
    "\n",
    "idx = HQ_data[HQ_data[\"repair\"]==\"판금\"].index\n",
    "HQ_data[\"repair\"][idx] = \"sheet_metal\"\n",
    "idx = HQ_data[HQ_data[\"repair\"]==\"수리\"].index\n",
    "HQ_data[\"repair\"][idx] = \"sheet_metal\""
   ]
  },
  {
   "cell_type": "code",
   "execution_count": 43,
   "id": "ad5d4049",
   "metadata": {},
   "outputs": [
    {
     "data": {
      "text/plain": [
       "array(['exchange', 'sheet_metal', 'coating'], dtype=object)"
      ]
     },
     "execution_count": 43,
     "metadata": {},
     "output_type": "execute_result"
    }
   ],
   "source": [
    "HQ_data[\"repair\"].unique()"
   ]
  },
  {
   "cell_type": "code",
   "execution_count": 44,
   "id": "47771ddb",
   "metadata": {},
   "outputs": [],
   "source": [
    "# 부품명 통일 #\n",
    "idx = HQ_data[HQ_data[\"part\"]==\"door\"].index\n",
    "HQ_data[\"part\"][idx] = \"Door\""
   ]
  },
  {
   "cell_type": "code",
   "execution_count": 45,
   "id": "7a424f42",
   "metadata": {},
   "outputs": [
    {
     "data": {
      "text/plain": [
       "array(['Bumper', 'Head lights', 'Fender', 'Door', 'Wheel', 'Rocker panel',\n",
       "       'Rear lamp', 'Side mirror', 'Trunk lid', 'Bonnet', 'Roof'],\n",
       "      dtype=object)"
      ]
     },
     "execution_count": 45,
     "metadata": {},
     "output_type": "execute_result"
    }
   ],
   "source": [
    "HQ_data[\"part\"].unique()"
   ]
  },
  {
   "cell_type": "markdown",
   "id": "178922e2",
   "metadata": {},
   "source": [
    "## 4) 학습시 필요한 항목 추가"
   ]
  },
  {
   "cell_type": "code",
   "execution_count": 47,
   "id": "fedca741",
   "metadata": {},
   "outputs": [],
   "source": [
    "car_repair1 = pd.read_csv(\"car_repair1.csv\")\n",
    "car_repair2 = pd.read_csv(\"car_repair2.csv\")\n",
    "car_repair3 = pd.read_csv(\"car_repair3.csv\")"
   ]
  },
  {
   "cell_type": "code",
   "execution_count": 48,
   "id": "2f86ea08",
   "metadata": {},
   "outputs": [
    {
     "data": {
      "text/html": [
       "<div>\n",
       "<style scoped>\n",
       "    .dataframe tbody tr th:only-of-type {\n",
       "        vertical-align: middle;\n",
       "    }\n",
       "\n",
       "    .dataframe tbody tr th {\n",
       "        vertical-align: top;\n",
       "    }\n",
       "\n",
       "    .dataframe thead th {\n",
       "        text-align: right;\n",
       "    }\n",
       "</style>\n",
       "<table border=\"1\" class=\"dataframe\">\n",
       "  <thead>\n",
       "    <tr style=\"text-align: right;\">\n",
       "      <th></th>\n",
       "      <th>image_id</th>\n",
       "      <th>category_id</th>\n",
       "      <th>segmentation</th>\n",
       "      <th>area</th>\n",
       "      <th>bbox</th>\n",
       "      <th>damage</th>\n",
       "      <th>year</th>\n",
       "      <th>color</th>\n",
       "      <th>repair</th>\n",
       "      <th>supercategory_name</th>\n",
       "    </tr>\n",
       "  </thead>\n",
       "  <tbody>\n",
       "    <tr>\n",
       "      <th>0</th>\n",
       "      <td>2</td>\n",
       "      <td>as-0036229</td>\n",
       "      <td>[[[[438, 504], [440, 443], [436, 419], [439, 4...</td>\n",
       "      <td>14977.0</td>\n",
       "      <td>[336, 159, 198, 345]</td>\n",
       "      <td>Breakage</td>\n",
       "      <td>2020</td>\n",
       "      <td>Black</td>\n",
       "      <td>['Rear bumper:coating,exchange']</td>\n",
       "      <td>Full-size car</td>\n",
       "    </tr>\n",
       "    <tr>\n",
       "      <th>1</th>\n",
       "      <td>3</td>\n",
       "      <td>as-0036229</td>\n",
       "      <td>[[[[469, 497], [448, 479], [458, 437], [461, 4...</td>\n",
       "      <td>7186.5</td>\n",
       "      <td>[378, 209, 154, 288]</td>\n",
       "      <td>Breakage</td>\n",
       "      <td>2020</td>\n",
       "      <td>Black</td>\n",
       "      <td>['Rear bumper:coating,exchange']</td>\n",
       "      <td>Full-size car</td>\n",
       "    </tr>\n",
       "    <tr>\n",
       "      <th>2</th>\n",
       "      <td>4</td>\n",
       "      <td>as-0036229</td>\n",
       "      <td>[[[[73, 596], [69, 588], [67, 582], [65, 575],...</td>\n",
       "      <td>749.5</td>\n",
       "      <td>[53, 543, 31, 53]</td>\n",
       "      <td>Breakage</td>\n",
       "      <td>2020</td>\n",
       "      <td>Black</td>\n",
       "      <td>['Rear bumper:coating,exchange']</td>\n",
       "      <td>Full-size car</td>\n",
       "    </tr>\n",
       "    <tr>\n",
       "      <th>3</th>\n",
       "      <td>4</td>\n",
       "      <td>as-0036229</td>\n",
       "      <td>[[[[107, 371], [108, 362], [445, 361], [795, 3...</td>\n",
       "      <td>13872.5</td>\n",
       "      <td>[107, 356, 688, 29]</td>\n",
       "      <td>Scratched</td>\n",
       "      <td>2020</td>\n",
       "      <td>Black</td>\n",
       "      <td>['Rear bumper:coating,exchange']</td>\n",
       "      <td>Full-size car</td>\n",
       "    </tr>\n",
       "    <tr>\n",
       "      <th>4</th>\n",
       "      <td>5</td>\n",
       "      <td>as-0036229</td>\n",
       "      <td>[[[[77, 390], [87, 375], [452, 351], [560, 356...</td>\n",
       "      <td>22816.0</td>\n",
       "      <td>[77, 351, 690, 52]</td>\n",
       "      <td>Scratched</td>\n",
       "      <td>2020</td>\n",
       "      <td>Black</td>\n",
       "      <td>['Rear bumper:coating,exchange']</td>\n",
       "      <td>Full-size car</td>\n",
       "    </tr>\n",
       "  </tbody>\n",
       "</table>\n",
       "</div>"
      ],
      "text/plain": [
       "   image_id category_id                                       segmentation  \\\n",
       "0         2  as-0036229  [[[[438, 504], [440, 443], [436, 419], [439, 4...   \n",
       "1         3  as-0036229  [[[[469, 497], [448, 479], [458, 437], [461, 4...   \n",
       "2         4  as-0036229  [[[[73, 596], [69, 588], [67, 582], [65, 575],...   \n",
       "3         4  as-0036229  [[[[107, 371], [108, 362], [445, 361], [795, 3...   \n",
       "4         5  as-0036229  [[[[77, 390], [87, 375], [452, 351], [560, 356...   \n",
       "\n",
       "      area                  bbox     damage  year  color  \\\n",
       "0  14977.0  [336, 159, 198, 345]   Breakage  2020  Black   \n",
       "1   7186.5  [378, 209, 154, 288]   Breakage  2020  Black   \n",
       "2    749.5     [53, 543, 31, 53]   Breakage  2020  Black   \n",
       "3  13872.5   [107, 356, 688, 29]  Scratched  2020  Black   \n",
       "4  22816.0    [77, 351, 690, 52]  Scratched  2020  Black   \n",
       "\n",
       "                             repair supercategory_name  \n",
       "0  ['Rear bumper:coating,exchange']      Full-size car  \n",
       "1  ['Rear bumper:coating,exchange']      Full-size car  \n",
       "2  ['Rear bumper:coating,exchange']      Full-size car  \n",
       "3  ['Rear bumper:coating,exchange']      Full-size car  \n",
       "4  ['Rear bumper:coating,exchange']      Full-size car  "
      ]
     },
     "execution_count": 48,
     "metadata": {},
     "output_type": "execute_result"
    }
   ],
   "source": [
    "all_data = pd.concat([car_repair1, car_repair2, car_repair3], ignore_index=True)\n",
    "all_data.sort_values(\"category_id\")\n",
    "all_data.head()"
   ]
  },
  {
   "cell_type": "code",
   "execution_count": 49,
   "id": "172f0a54",
   "metadata": {},
   "outputs": [
    {
     "data": {
      "text/html": [
       "<div>\n",
       "<style scoped>\n",
       "    .dataframe tbody tr th:only-of-type {\n",
       "        vertical-align: middle;\n",
       "    }\n",
       "\n",
       "    .dataframe tbody tr th {\n",
       "        vertical-align: top;\n",
       "    }\n",
       "\n",
       "    .dataframe thead th {\n",
       "        text-align: right;\n",
       "    }\n",
       "</style>\n",
       "<table border=\"1\" class=\"dataframe\">\n",
       "  <thead>\n",
       "    <tr style=\"text-align: right;\">\n",
       "      <th></th>\n",
       "      <th>category_id</th>\n",
       "      <th>damage</th>\n",
       "      <th>supercategory_name</th>\n",
       "    </tr>\n",
       "  </thead>\n",
       "  <tbody>\n",
       "    <tr>\n",
       "      <th>0</th>\n",
       "      <td>as-0036229</td>\n",
       "      <td>Breakage</td>\n",
       "      <td>Full-size car</td>\n",
       "    </tr>\n",
       "    <tr>\n",
       "      <th>1</th>\n",
       "      <td>as-0036229</td>\n",
       "      <td>Breakage</td>\n",
       "      <td>Full-size car</td>\n",
       "    </tr>\n",
       "    <tr>\n",
       "      <th>2</th>\n",
       "      <td>as-0036229</td>\n",
       "      <td>Breakage</td>\n",
       "      <td>Full-size car</td>\n",
       "    </tr>\n",
       "    <tr>\n",
       "      <th>3</th>\n",
       "      <td>as-0036229</td>\n",
       "      <td>Scratched</td>\n",
       "      <td>Full-size car</td>\n",
       "    </tr>\n",
       "    <tr>\n",
       "      <th>4</th>\n",
       "      <td>as-0036229</td>\n",
       "      <td>Scratched</td>\n",
       "      <td>Full-size car</td>\n",
       "    </tr>\n",
       "  </tbody>\n",
       "</table>\n",
       "</div>"
      ],
      "text/plain": [
       "  category_id     damage supercategory_name\n",
       "0  as-0036229   Breakage      Full-size car\n",
       "1  as-0036229   Breakage      Full-size car\n",
       "2  as-0036229   Breakage      Full-size car\n",
       "3  as-0036229  Scratched      Full-size car\n",
       "4  as-0036229  Scratched      Full-size car"
      ]
     },
     "execution_count": 49,
     "metadata": {},
     "output_type": "execute_result"
    }
   ],
   "source": [
    "# 외제차 분류 #\n",
    "merge_car = pd.merge(all_data[[\"category_id\", \"damage\", \"supercategory_name\"]], kor_index, how='inner',on='category_id')\n",
    "merge_car.head()"
   ]
  },
  {
   "cell_type": "code",
   "execution_count": 50,
   "id": "da9eb104",
   "metadata": {},
   "outputs": [
    {
     "data": {
      "text/html": [
       "<div>\n",
       "<style scoped>\n",
       "    .dataframe tbody tr th:only-of-type {\n",
       "        vertical-align: middle;\n",
       "    }\n",
       "\n",
       "    .dataframe tbody tr th {\n",
       "        vertical-align: top;\n",
       "    }\n",
       "\n",
       "    .dataframe thead th {\n",
       "        text-align: right;\n",
       "    }\n",
       "</style>\n",
       "<table border=\"1\" class=\"dataframe\">\n",
       "  <thead>\n",
       "    <tr style=\"text-align: right;\">\n",
       "      <th></th>\n",
       "      <th>category_id</th>\n",
       "      <th>damage</th>\n",
       "      <th>supercategory_name</th>\n",
       "    </tr>\n",
       "  </thead>\n",
       "  <tbody>\n",
       "    <tr>\n",
       "      <th>0</th>\n",
       "      <td>as-0000025</td>\n",
       "      <td>Crushed</td>\n",
       "      <td>Full-size car</td>\n",
       "    </tr>\n",
       "    <tr>\n",
       "      <th>1</th>\n",
       "      <td>as-0000025</td>\n",
       "      <td>Separated</td>\n",
       "      <td>Full-size car</td>\n",
       "    </tr>\n",
       "    <tr>\n",
       "      <th>2</th>\n",
       "      <td>as-0000025</td>\n",
       "      <td>Scratched</td>\n",
       "      <td>Full-size car</td>\n",
       "    </tr>\n",
       "    <tr>\n",
       "      <th>3</th>\n",
       "      <td>as-0000025</td>\n",
       "      <td>Crushed</td>\n",
       "      <td>Full-size car</td>\n",
       "    </tr>\n",
       "    <tr>\n",
       "      <th>4</th>\n",
       "      <td>as-0000025</td>\n",
       "      <td>Scratched</td>\n",
       "      <td>Full-size car</td>\n",
       "    </tr>\n",
       "  </tbody>\n",
       "</table>\n",
       "</div>"
      ],
      "text/plain": [
       "  category_id     damage supercategory_name\n",
       "0  as-0000025    Crushed      Full-size car\n",
       "1  as-0000025  Separated      Full-size car\n",
       "2  as-0000025  Scratched      Full-size car\n",
       "3  as-0000025    Crushed      Full-size car\n",
       "4  as-0000025  Scratched      Full-size car"
      ]
     },
     "execution_count": 50,
     "metadata": {},
     "output_type": "execute_result"
    }
   ],
   "source": [
    "# null값 처리 #\n",
    "null_list = merge_car[merge_car[\"damage\"].isnull()].index\n",
    "merge_car = merge_car.drop(null_list, axis=0)\n",
    "merge_car.sort_values(\"category_id\", inplace=True, ignore_index=True)\n",
    "merge_car.head()"
   ]
  },
  {
   "cell_type": "code",
   "execution_count": 51,
   "id": "4e62f1ab",
   "metadata": {
    "scrolled": true
   },
   "outputs": [
    {
     "data": {
      "text/plain": [
       "array(['Crushed', 'Separated', 'Scratched', 'Breakage'], dtype=object)"
      ]
     },
     "execution_count": 51,
     "metadata": {},
     "output_type": "execute_result"
    }
   ],
   "source": [
    "merge_car[\"damage\"].unique()"
   ]
  },
  {
   "cell_type": "code",
   "execution_count": 52,
   "id": "d591ba5b",
   "metadata": {},
   "outputs": [],
   "source": [
    "# 경형을 소형으로 합체 #\n",
    "idx = merge_car[merge_car[\"supercategory_name\"]==\"CityCar\"].index\n",
    "merge_car[\"supercategory_name\"][idx] = \"Compact car\""
   ]
  },
  {
   "cell_type": "code",
   "execution_count": 53,
   "id": "85a3b1cf",
   "metadata": {
    "scrolled": true
   },
   "outputs": [
    {
     "data": {
      "text/html": [
       "<div>\n",
       "<style scoped>\n",
       "    .dataframe tbody tr th:only-of-type {\n",
       "        vertical-align: middle;\n",
       "    }\n",
       "\n",
       "    .dataframe tbody tr th {\n",
       "        vertical-align: top;\n",
       "    }\n",
       "\n",
       "    .dataframe thead th {\n",
       "        text-align: right;\n",
       "    }\n",
       "</style>\n",
       "<table border=\"1\" class=\"dataframe\">\n",
       "  <thead>\n",
       "    <tr style=\"text-align: right;\">\n",
       "      <th></th>\n",
       "      <th>category_id</th>\n",
       "      <th>part</th>\n",
       "      <th>repair</th>\n",
       "      <th>HQ</th>\n",
       "      <th>damage</th>\n",
       "      <th>supercategory_name</th>\n",
       "    </tr>\n",
       "  </thead>\n",
       "  <tbody>\n",
       "    <tr>\n",
       "      <th>0</th>\n",
       "      <td>as-0000025</td>\n",
       "      <td>Bumper</td>\n",
       "      <td>exchange</td>\n",
       "      <td>1.79</td>\n",
       "      <td>Crushed</td>\n",
       "      <td>Full-size car</td>\n",
       "    </tr>\n",
       "    <tr>\n",
       "      <th>1</th>\n",
       "      <td>as-0000025</td>\n",
       "      <td>Bumper</td>\n",
       "      <td>exchange</td>\n",
       "      <td>1.79</td>\n",
       "      <td>Separated</td>\n",
       "      <td>Full-size car</td>\n",
       "    </tr>\n",
       "    <tr>\n",
       "      <th>2</th>\n",
       "      <td>as-0000025</td>\n",
       "      <td>Bumper</td>\n",
       "      <td>exchange</td>\n",
       "      <td>1.79</td>\n",
       "      <td>Scratched</td>\n",
       "      <td>Full-size car</td>\n",
       "    </tr>\n",
       "    <tr>\n",
       "      <th>3</th>\n",
       "      <td>as-0000025</td>\n",
       "      <td>Bumper</td>\n",
       "      <td>exchange</td>\n",
       "      <td>1.79</td>\n",
       "      <td>Crushed</td>\n",
       "      <td>Full-size car</td>\n",
       "    </tr>\n",
       "    <tr>\n",
       "      <th>4</th>\n",
       "      <td>as-0000025</td>\n",
       "      <td>Bumper</td>\n",
       "      <td>exchange</td>\n",
       "      <td>1.79</td>\n",
       "      <td>Scratched</td>\n",
       "      <td>Full-size car</td>\n",
       "    </tr>\n",
       "  </tbody>\n",
       "</table>\n",
       "</div>"
      ],
      "text/plain": [
       "  category_id    part    repair    HQ     damage supercategory_name\n",
       "0  as-0000025  Bumper  exchange  1.79    Crushed      Full-size car\n",
       "1  as-0000025  Bumper  exchange  1.79  Separated      Full-size car\n",
       "2  as-0000025  Bumper  exchange  1.79  Scratched      Full-size car\n",
       "3  as-0000025  Bumper  exchange  1.79    Crushed      Full-size car\n",
       "4  as-0000025  Bumper  exchange  1.79  Scratched      Full-size car"
      ]
     },
     "execution_count": 53,
     "metadata": {},
     "output_type": "execute_result"
    }
   ],
   "source": [
    "# HQ와 사고유형 합체 #\n",
    "merge_data = pd.merge(HQ_data, merge_car, how='inner',on='category_id')\n",
    "merge_data.head()"
   ]
  },
  {
   "cell_type": "code",
   "execution_count": 54,
   "id": "d2ed7e67",
   "metadata": {
    "scrolled": true
   },
   "outputs": [],
   "source": [
    "merge_data = merge_data[[\"category_id\", \"part\", \"damage\", \"supercategory_name\", \"repair\", \"HQ\"]]"
   ]
  },
  {
   "cell_type": "code",
   "execution_count": 55,
   "id": "13396b18",
   "metadata": {},
   "outputs": [
    {
     "data": {
      "text/html": [
       "<div>\n",
       "<style scoped>\n",
       "    .dataframe tbody tr th:only-of-type {\n",
       "        vertical-align: middle;\n",
       "    }\n",
       "\n",
       "    .dataframe tbody tr th {\n",
       "        vertical-align: top;\n",
       "    }\n",
       "\n",
       "    .dataframe thead th {\n",
       "        text-align: right;\n",
       "    }\n",
       "</style>\n",
       "<table border=\"1\" class=\"dataframe\">\n",
       "  <thead>\n",
       "    <tr style=\"text-align: right;\">\n",
       "      <th></th>\n",
       "      <th>category_id</th>\n",
       "      <th>part</th>\n",
       "      <th>damage</th>\n",
       "      <th>supercategory_name</th>\n",
       "      <th>repair</th>\n",
       "      <th>HQ</th>\n",
       "    </tr>\n",
       "  </thead>\n",
       "  <tbody>\n",
       "    <tr>\n",
       "      <th>0</th>\n",
       "      <td>as-0000025</td>\n",
       "      <td>Bumper</td>\n",
       "      <td>Crushed</td>\n",
       "      <td>Full-size car</td>\n",
       "      <td>exchange</td>\n",
       "      <td>1.79</td>\n",
       "    </tr>\n",
       "    <tr>\n",
       "      <th>1</th>\n",
       "      <td>as-0000025</td>\n",
       "      <td>Bumper</td>\n",
       "      <td>Separated</td>\n",
       "      <td>Full-size car</td>\n",
       "      <td>exchange</td>\n",
       "      <td>1.79</td>\n",
       "    </tr>\n",
       "    <tr>\n",
       "      <th>2</th>\n",
       "      <td>as-0000025</td>\n",
       "      <td>Bumper</td>\n",
       "      <td>Scratched</td>\n",
       "      <td>Full-size car</td>\n",
       "      <td>exchange</td>\n",
       "      <td>1.79</td>\n",
       "    </tr>\n",
       "    <tr>\n",
       "      <th>3</th>\n",
       "      <td>as-0000025</td>\n",
       "      <td>Head lights</td>\n",
       "      <td>Crushed</td>\n",
       "      <td>Full-size car</td>\n",
       "      <td>exchange</td>\n",
       "      <td>0.44</td>\n",
       "    </tr>\n",
       "    <tr>\n",
       "      <th>4</th>\n",
       "      <td>as-0000025</td>\n",
       "      <td>Head lights</td>\n",
       "      <td>Separated</td>\n",
       "      <td>Full-size car</td>\n",
       "      <td>exchange</td>\n",
       "      <td>0.44</td>\n",
       "    </tr>\n",
       "  </tbody>\n",
       "</table>\n",
       "</div>"
      ],
      "text/plain": [
       "  category_id         part     damage supercategory_name    repair    HQ\n",
       "0  as-0000025       Bumper    Crushed      Full-size car  exchange  1.79\n",
       "1  as-0000025       Bumper  Separated      Full-size car  exchange  1.79\n",
       "2  as-0000025       Bumper  Scratched      Full-size car  exchange  1.79\n",
       "3  as-0000025  Head lights    Crushed      Full-size car  exchange  0.44\n",
       "4  as-0000025  Head lights  Separated      Full-size car  exchange  0.44"
      ]
     },
     "execution_count": 55,
     "metadata": {},
     "output_type": "execute_result"
    }
   ],
   "source": [
    "# 중복 없애주기 #\n",
    "m_data = merge_data.drop_duplicates(keep = 'first', ignore_index=True)\n",
    "m_data.head()"
   ]
  },
  {
   "cell_type": "code",
   "execution_count": 57,
   "id": "dcb114f4",
   "metadata": {},
   "outputs": [
    {
     "name": "stdout",
     "output_type": "stream",
     "text": [
      "647233\n",
      "1257229\n"
     ]
    }
   ],
   "source": [
    "print(len(HQ_data))\n",
    "print(len(m_data))"
   ]
  },
  {
   "cell_type": "code",
   "execution_count": 58,
   "id": "ffd2d5cf",
   "metadata": {},
   "outputs": [
    {
     "name": "stderr",
     "output_type": "stream",
     "text": [
      "C:\\Users\\acorn\\AppData\\Local\\Temp\\ipykernel_3240\\4233201871.py:3: SettingWithCopyWarning: \n",
      "A value is trying to be set on a copy of a slice from a DataFrame\n",
      "\n",
      "See the caveats in the documentation: https://pandas.pydata.org/pandas-docs/stable/user_guide/indexing.html#returning-a-view-versus-a-copy\n",
      "  exchange.sort_values(\"category_id\", inplace=True, ignore_index=True)\n",
      "C:\\Users\\acorn\\AppData\\Local\\Temp\\ipykernel_3240\\4233201871.py:6: SettingWithCopyWarning: \n",
      "A value is trying to be set on a copy of a slice from a DataFrame\n",
      "\n",
      "See the caveats in the documentation: https://pandas.pydata.org/pandas-docs/stable/user_guide/indexing.html#returning-a-view-versus-a-copy\n",
      "  coating.sort_values(\"category_id\", inplace=True, ignore_index=True)\n"
     ]
    },
    {
     "name": "stdout",
     "output_type": "stream",
     "text": [
      "545267\n",
      "474761\n",
      "237201\n"
     ]
    },
    {
     "name": "stderr",
     "output_type": "stream",
     "text": [
      "C:\\Users\\acorn\\AppData\\Local\\Temp\\ipykernel_3240\\4233201871.py:9: SettingWithCopyWarning: \n",
      "A value is trying to be set on a copy of a slice from a DataFrame\n",
      "\n",
      "See the caveats in the documentation: https://pandas.pydata.org/pandas-docs/stable/user_guide/indexing.html#returning-a-view-versus-a-copy\n",
      "  sheet_metal.sort_values(\"category_id\", inplace=True, ignore_index=True)\n"
     ]
    }
   ],
   "source": [
    "# 작업 항목별로 분류 #\n",
    "exchange = m_data[m_data[\"repair\"]==\"exchange\"]\n",
    "exchange.sort_values(\"category_id\", inplace=True, ignore_index=True)\n",
    "\n",
    "coating = m_data[m_data[\"repair\"]==\"coating\"]\n",
    "coating.sort_values(\"category_id\", inplace=True, ignore_index=True)\n",
    "\n",
    "sheet_metal = m_data[m_data[\"repair\"]==\"sheet_metal\"]\n",
    "sheet_metal.sort_values(\"category_id\", inplace=True, ignore_index=True)\n",
    "\n",
    "print(len(exchange))\n",
    "print(len(coating))\n",
    "print(len(sheet_metal))"
   ]
  },
  {
   "cell_type": "code",
   "execution_count": 66,
   "id": "ee84ea1c",
   "metadata": {},
   "outputs": [],
   "source": [
    "exchange.to_csv(\"HQ_exchange.csv\", index=False)\n",
    "coating.to_csv(\"HQ_coating.csv\", index=False)\n",
    "sheet_metal.to_csv(\"HQ_sheet_metal.csv\", index=False)"
   ]
  }
 ],
 "metadata": {
  "kernelspec": {
   "display_name": "Python 3 (ipykernel)",
   "language": "python",
   "name": "python3"
  },
  "language_info": {
   "codemirror_mode": {
    "name": "ipython",
    "version": 3
   },
   "file_extension": ".py",
   "mimetype": "text/x-python",
   "name": "python",
   "nbconvert_exporter": "python",
   "pygments_lexer": "ipython3",
   "version": "3.9.13"
  }
 },
 "nbformat": 4,
 "nbformat_minor": 5
}
