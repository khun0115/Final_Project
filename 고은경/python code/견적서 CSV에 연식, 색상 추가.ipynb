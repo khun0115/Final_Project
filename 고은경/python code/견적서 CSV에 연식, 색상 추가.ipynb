{
 "cells": [
  {
   "cell_type": "code",
   "execution_count": 1,
   "id": "f73ca9b8",
   "metadata": {},
   "outputs": [],
   "source": [
    "import numpy as np\n",
    "import pandas as pd\n",
    "import matplotlib.pyplot as plt\n",
    "import seaborn as sns\n",
    "import matplotlib.font_manager as fm\n",
    "font_name = fm.FontProperties(fname=\"C:\\Windows\\Fonts\\\\malgun.ttf\").get_name()\n",
    "plt.rc(\"font\", family=font_name)\n",
    "import matplotlib as mlp\n",
    "mlp.rcParams[\"axes.unicode_minus\"] = False\n",
    "\n",
    "from datetime import datetime\n",
    "import cv2\n",
    "import zipfile\n",
    "import shutil\n",
    "import os\n",
    "import glob\n",
    "import json\n",
    "from tqdm.notebook import tqdm"
   ]
  },
  {
   "cell_type": "markdown",
   "id": "5423bf1a",
   "metadata": {},
   "source": [
    "# 견적서 CSV에 연식, 색상 추가"
   ]
  },
  {
   "cell_type": "markdown",
   "id": "46cf6519",
   "metadata": {},
   "source": [
    "### 1) 사고 유형 json 가져오기"
   ]
  },
  {
   "cell_type": "code",
   "execution_count": 56,
   "id": "9a26c589",
   "metadata": {},
   "outputs": [],
   "source": [
    "car_repair1 = pd.read_csv(\"car_repair1.csv\")\n",
    "car_repair2 = pd.read_csv(\"car_repair2.csv\")\n",
    "car_repair3 = pd.read_csv(\"car_repair3.csv\")"
   ]
  },
  {
   "cell_type": "code",
   "execution_count": 57,
   "id": "f8ab1ffc",
   "metadata": {
    "scrolled": true
   },
   "outputs": [
    {
     "name": "stdout",
     "output_type": "stream",
     "text": [
      "600000\n",
      "637503\n",
      "562713\n"
     ]
    }
   ],
   "source": [
    "print(len(car_repair1))\n",
    "print(len(car_repair2))\n",
    "print(len(car_repair3))"
   ]
  },
  {
   "cell_type": "code",
   "execution_count": 58,
   "id": "7cbcb9fc",
   "metadata": {},
   "outputs": [
    {
     "data": {
      "text/html": [
       "<div>\n",
       "<style scoped>\n",
       "    .dataframe tbody tr th:only-of-type {\n",
       "        vertical-align: middle;\n",
       "    }\n",
       "\n",
       "    .dataframe tbody tr th {\n",
       "        vertical-align: top;\n",
       "    }\n",
       "\n",
       "    .dataframe thead th {\n",
       "        text-align: right;\n",
       "    }\n",
       "</style>\n",
       "<table border=\"1\" class=\"dataframe\">\n",
       "  <thead>\n",
       "    <tr style=\"text-align: right;\">\n",
       "      <th></th>\n",
       "      <th>image_id</th>\n",
       "      <th>category_id</th>\n",
       "      <th>segmentation</th>\n",
       "      <th>area</th>\n",
       "      <th>bbox</th>\n",
       "      <th>damage</th>\n",
       "      <th>year</th>\n",
       "      <th>color</th>\n",
       "      <th>repair</th>\n",
       "      <th>supercategory_name</th>\n",
       "    </tr>\n",
       "  </thead>\n",
       "  <tbody>\n",
       "    <tr>\n",
       "      <th>0</th>\n",
       "      <td>2</td>\n",
       "      <td>as-0036229</td>\n",
       "      <td>[[[[438, 504], [440, 443], [436, 419], [439, 4...</td>\n",
       "      <td>14977.0</td>\n",
       "      <td>[336, 159, 198, 345]</td>\n",
       "      <td>Breakage</td>\n",
       "      <td>2020</td>\n",
       "      <td>Black</td>\n",
       "      <td>['Rear bumper:coating,exchange']</td>\n",
       "      <td>Full-size car</td>\n",
       "    </tr>\n",
       "    <tr>\n",
       "      <th>1</th>\n",
       "      <td>3</td>\n",
       "      <td>as-0036229</td>\n",
       "      <td>[[[[469, 497], [448, 479], [458, 437], [461, 4...</td>\n",
       "      <td>7186.5</td>\n",
       "      <td>[378, 209, 154, 288]</td>\n",
       "      <td>Breakage</td>\n",
       "      <td>2020</td>\n",
       "      <td>Black</td>\n",
       "      <td>['Rear bumper:coating,exchange']</td>\n",
       "      <td>Full-size car</td>\n",
       "    </tr>\n",
       "    <tr>\n",
       "      <th>2</th>\n",
       "      <td>4</td>\n",
       "      <td>as-0036229</td>\n",
       "      <td>[[[[73, 596], [69, 588], [67, 582], [65, 575],...</td>\n",
       "      <td>749.5</td>\n",
       "      <td>[53, 543, 31, 53]</td>\n",
       "      <td>Breakage</td>\n",
       "      <td>2020</td>\n",
       "      <td>Black</td>\n",
       "      <td>['Rear bumper:coating,exchange']</td>\n",
       "      <td>Full-size car</td>\n",
       "    </tr>\n",
       "    <tr>\n",
       "      <th>3</th>\n",
       "      <td>4</td>\n",
       "      <td>as-0036229</td>\n",
       "      <td>[[[[107, 371], [108, 362], [445, 361], [795, 3...</td>\n",
       "      <td>13872.5</td>\n",
       "      <td>[107, 356, 688, 29]</td>\n",
       "      <td>Scratched</td>\n",
       "      <td>2020</td>\n",
       "      <td>Black</td>\n",
       "      <td>['Rear bumper:coating,exchange']</td>\n",
       "      <td>Full-size car</td>\n",
       "    </tr>\n",
       "    <tr>\n",
       "      <th>4</th>\n",
       "      <td>5</td>\n",
       "      <td>as-0036229</td>\n",
       "      <td>[[[[77, 390], [87, 375], [452, 351], [560, 356...</td>\n",
       "      <td>22816.0</td>\n",
       "      <td>[77, 351, 690, 52]</td>\n",
       "      <td>Scratched</td>\n",
       "      <td>2020</td>\n",
       "      <td>Black</td>\n",
       "      <td>['Rear bumper:coating,exchange']</td>\n",
       "      <td>Full-size car</td>\n",
       "    </tr>\n",
       "  </tbody>\n",
       "</table>\n",
       "</div>"
      ],
      "text/plain": [
       "   image_id category_id                                       segmentation  \\\n",
       "0         2  as-0036229  [[[[438, 504], [440, 443], [436, 419], [439, 4...   \n",
       "1         3  as-0036229  [[[[469, 497], [448, 479], [458, 437], [461, 4...   \n",
       "2         4  as-0036229  [[[[73, 596], [69, 588], [67, 582], [65, 575],...   \n",
       "3         4  as-0036229  [[[[107, 371], [108, 362], [445, 361], [795, 3...   \n",
       "4         5  as-0036229  [[[[77, 390], [87, 375], [452, 351], [560, 356...   \n",
       "\n",
       "      area                  bbox     damage  year  color  \\\n",
       "0  14977.0  [336, 159, 198, 345]   Breakage  2020  Black   \n",
       "1   7186.5  [378, 209, 154, 288]   Breakage  2020  Black   \n",
       "2    749.5     [53, 543, 31, 53]   Breakage  2020  Black   \n",
       "3  13872.5   [107, 356, 688, 29]  Scratched  2020  Black   \n",
       "4  22816.0    [77, 351, 690, 52]  Scratched  2020  Black   \n",
       "\n",
       "                             repair supercategory_name  \n",
       "0  ['Rear bumper:coating,exchange']      Full-size car  \n",
       "1  ['Rear bumper:coating,exchange']      Full-size car  \n",
       "2  ['Rear bumper:coating,exchange']      Full-size car  \n",
       "3  ['Rear bumper:coating,exchange']      Full-size car  \n",
       "4  ['Rear bumper:coating,exchange']      Full-size car  "
      ]
     },
     "execution_count": 58,
     "metadata": {},
     "output_type": "execute_result"
    }
   ],
   "source": [
    "all_data = pd.concat([car_repair1, car_repair2, car_repair3], ignore_index=True)\n",
    "all_data.sort_values(\"category_id\")\n",
    "all_data.head()"
   ]
  },
  {
   "cell_type": "code",
   "execution_count": 59,
   "id": "f5da11ec",
   "metadata": {},
   "outputs": [
    {
     "data": {
      "text/plain": [
       "1800216"
      ]
     },
     "execution_count": 59,
     "metadata": {},
     "output_type": "execute_result"
    }
   ],
   "source": [
    "len(all_data)"
   ]
  },
  {
   "cell_type": "markdown",
   "id": "df11117c",
   "metadata": {},
   "source": [
    "### 2) 외제차 제외하기"
   ]
  },
  {
   "cell_type": "code",
   "execution_count": 60,
   "id": "d32863c9",
   "metadata": {},
   "outputs": [],
   "source": [
    "kor_index = pd.read_csv(\"kor_car.csv\")\n",
    "kor_index.rename(columns = {\"file_name\" : 'category_id'}, inplace = True)"
   ]
  },
  {
   "cell_type": "code",
   "execution_count": 61,
   "id": "d1c9fd8b",
   "metadata": {},
   "outputs": [],
   "source": [
    "merge_car = pd.merge(all_data, kor_index, how='inner',on='category_id')"
   ]
  },
  {
   "cell_type": "code",
   "execution_count": 62,
   "id": "fafae8c8",
   "metadata": {},
   "outputs": [
    {
     "data": {
      "text/plain": [
       "1393019"
      ]
     },
     "execution_count": 62,
     "metadata": {},
     "output_type": "execute_result"
    }
   ],
   "source": [
    "len(merge_car)"
   ]
  },
  {
   "cell_type": "markdown",
   "id": "5398aa0f",
   "metadata": {},
   "source": [
    "### 3) 필요한 컬럼만 추출"
   ]
  },
  {
   "cell_type": "code",
   "execution_count": 63,
   "id": "e732ee96",
   "metadata": {},
   "outputs": [
    {
     "data": {
      "text/html": [
       "<div>\n",
       "<style scoped>\n",
       "    .dataframe tbody tr th:only-of-type {\n",
       "        vertical-align: middle;\n",
       "    }\n",
       "\n",
       "    .dataframe tbody tr th {\n",
       "        vertical-align: top;\n",
       "    }\n",
       "\n",
       "    .dataframe thead th {\n",
       "        text-align: right;\n",
       "    }\n",
       "</style>\n",
       "<table border=\"1\" class=\"dataframe\">\n",
       "  <thead>\n",
       "    <tr style=\"text-align: right;\">\n",
       "      <th></th>\n",
       "      <th>category_id</th>\n",
       "      <th>year</th>\n",
       "      <th>color</th>\n",
       "    </tr>\n",
       "  </thead>\n",
       "  <tbody>\n",
       "    <tr>\n",
       "      <th>0</th>\n",
       "      <td>as-0036229</td>\n",
       "      <td>2020</td>\n",
       "      <td>Black</td>\n",
       "    </tr>\n",
       "    <tr>\n",
       "      <th>1</th>\n",
       "      <td>as-0036229</td>\n",
       "      <td>2020</td>\n",
       "      <td>Black</td>\n",
       "    </tr>\n",
       "    <tr>\n",
       "      <th>2</th>\n",
       "      <td>as-0036229</td>\n",
       "      <td>2020</td>\n",
       "      <td>Black</td>\n",
       "    </tr>\n",
       "    <tr>\n",
       "      <th>3</th>\n",
       "      <td>as-0036229</td>\n",
       "      <td>2020</td>\n",
       "      <td>Black</td>\n",
       "    </tr>\n",
       "    <tr>\n",
       "      <th>4</th>\n",
       "      <td>as-0036229</td>\n",
       "      <td>2020</td>\n",
       "      <td>Black</td>\n",
       "    </tr>\n",
       "  </tbody>\n",
       "</table>\n",
       "</div>"
      ],
      "text/plain": [
       "  category_id  year  color\n",
       "0  as-0036229  2020  Black\n",
       "1  as-0036229  2020  Black\n",
       "2  as-0036229  2020  Black\n",
       "3  as-0036229  2020  Black\n",
       "4  as-0036229  2020  Black"
      ]
     },
     "execution_count": 63,
     "metadata": {},
     "output_type": "execute_result"
    }
   ],
   "source": [
    "merge_car = merge_car[[\"category_id\", \"year\", \"color\"]]\n",
    "merge_car.head()"
   ]
  },
  {
   "cell_type": "code",
   "execution_count": 66,
   "id": "e4030df3",
   "metadata": {},
   "outputs": [
    {
     "data": {
      "text/plain": [
       "White        930292\n",
       "Black        237200\n",
       "Gray tone    106640\n",
       "Others        54273\n",
       "Blue tone     44285\n",
       "Red tone      20329\n",
       "Name: color, dtype: int64"
      ]
     },
     "execution_count": 66,
     "metadata": {},
     "output_type": "execute_result"
    }
   ],
   "source": [
    "merge_car[\"color\"].value_counts()"
   ]
  },
  {
   "cell_type": "markdown",
   "id": "24fbe5d9",
   "metadata": {},
   "source": [
    "### 4) 중복된 행 제거"
   ]
  },
  {
   "cell_type": "code",
   "execution_count": 68,
   "id": "cac9a6ba",
   "metadata": {},
   "outputs": [],
   "source": [
    "car_data = merge_car.drop_duplicates(keep = 'first', ignore_index=True)"
   ]
  },
  {
   "cell_type": "code",
   "execution_count": 67,
   "id": "1e1439b4",
   "metadata": {
    "scrolled": false
   },
   "outputs": [
    {
     "data": {
      "text/html": [
       "<div>\n",
       "<style scoped>\n",
       "    .dataframe tbody tr th:only-of-type {\n",
       "        vertical-align: middle;\n",
       "    }\n",
       "\n",
       "    .dataframe tbody tr th {\n",
       "        vertical-align: top;\n",
       "    }\n",
       "\n",
       "    .dataframe thead th {\n",
       "        text-align: right;\n",
       "    }\n",
       "</style>\n",
       "<table border=\"1\" class=\"dataframe\">\n",
       "  <thead>\n",
       "    <tr style=\"text-align: right;\">\n",
       "      <th></th>\n",
       "      <th>category_id</th>\n",
       "      <th>year</th>\n",
       "      <th>color</th>\n",
       "    </tr>\n",
       "  </thead>\n",
       "  <tbody>\n",
       "    <tr>\n",
       "      <th>971883</th>\n",
       "      <td>as-0000025</td>\n",
       "      <td>2016</td>\n",
       "      <td>White</td>\n",
       "    </tr>\n",
       "    <tr>\n",
       "      <th>971884</th>\n",
       "      <td>as-0000025</td>\n",
       "      <td>2016</td>\n",
       "      <td>White</td>\n",
       "    </tr>\n",
       "    <tr>\n",
       "      <th>971885</th>\n",
       "      <td>as-0000025</td>\n",
       "      <td>2016</td>\n",
       "      <td>White</td>\n",
       "    </tr>\n",
       "    <tr>\n",
       "      <th>971886</th>\n",
       "      <td>as-0000025</td>\n",
       "      <td>2016</td>\n",
       "      <td>White</td>\n",
       "    </tr>\n",
       "    <tr>\n",
       "      <th>971887</th>\n",
       "      <td>as-0000025</td>\n",
       "      <td>2016</td>\n",
       "      <td>White</td>\n",
       "    </tr>\n",
       "    <tr>\n",
       "      <th>971888</th>\n",
       "      <td>as-0000025</td>\n",
       "      <td>2016</td>\n",
       "      <td>White</td>\n",
       "    </tr>\n",
       "    <tr>\n",
       "      <th>971889</th>\n",
       "      <td>as-0000025</td>\n",
       "      <td>2016</td>\n",
       "      <td>White</td>\n",
       "    </tr>\n",
       "    <tr>\n",
       "      <th>971890</th>\n",
       "      <td>as-0000025</td>\n",
       "      <td>2016</td>\n",
       "      <td>White</td>\n",
       "    </tr>\n",
       "    <tr>\n",
       "      <th>971891</th>\n",
       "      <td>as-0000025</td>\n",
       "      <td>2016</td>\n",
       "      <td>White</td>\n",
       "    </tr>\n",
       "    <tr>\n",
       "      <th>971892</th>\n",
       "      <td>as-0000025</td>\n",
       "      <td>2016</td>\n",
       "      <td>White</td>\n",
       "    </tr>\n",
       "    <tr>\n",
       "      <th>971893</th>\n",
       "      <td>as-0000025</td>\n",
       "      <td>2016</td>\n",
       "      <td>White</td>\n",
       "    </tr>\n",
       "    <tr>\n",
       "      <th>971894</th>\n",
       "      <td>as-0000025</td>\n",
       "      <td>2016</td>\n",
       "      <td>White</td>\n",
       "    </tr>\n",
       "    <tr>\n",
       "      <th>971895</th>\n",
       "      <td>as-0000025</td>\n",
       "      <td>2016</td>\n",
       "      <td>White</td>\n",
       "    </tr>\n",
       "    <tr>\n",
       "      <th>971896</th>\n",
       "      <td>as-0000025</td>\n",
       "      <td>2016</td>\n",
       "      <td>White</td>\n",
       "    </tr>\n",
       "  </tbody>\n",
       "</table>\n",
       "</div>"
      ],
      "text/plain": [
       "       category_id  year  color\n",
       "971883  as-0000025  2016  White\n",
       "971884  as-0000025  2016  White\n",
       "971885  as-0000025  2016  White\n",
       "971886  as-0000025  2016  White\n",
       "971887  as-0000025  2016  White\n",
       "971888  as-0000025  2016  White\n",
       "971889  as-0000025  2016  White\n",
       "971890  as-0000025  2016  White\n",
       "971891  as-0000025  2016  White\n",
       "971892  as-0000025  2016  White\n",
       "971893  as-0000025  2016  White\n",
       "971894  as-0000025  2016  White\n",
       "971895  as-0000025  2016  White\n",
       "971896  as-0000025  2016  White"
      ]
     },
     "execution_count": 67,
     "metadata": {},
     "output_type": "execute_result"
    }
   ],
   "source": [
    "#### Before ####\n",
    "merge_car[merge_car[\"category_id\"]==\"as-0000025\"]"
   ]
  },
  {
   "cell_type": "code",
   "execution_count": 69,
   "id": "6787d826",
   "metadata": {
    "scrolled": true
   },
   "outputs": [
    {
     "data": {
      "text/html": [
       "<div>\n",
       "<style scoped>\n",
       "    .dataframe tbody tr th:only-of-type {\n",
       "        vertical-align: middle;\n",
       "    }\n",
       "\n",
       "    .dataframe tbody tr th {\n",
       "        vertical-align: top;\n",
       "    }\n",
       "\n",
       "    .dataframe thead th {\n",
       "        text-align: right;\n",
       "    }\n",
       "</style>\n",
       "<table border=\"1\" class=\"dataframe\">\n",
       "  <thead>\n",
       "    <tr style=\"text-align: right;\">\n",
       "      <th></th>\n",
       "      <th>category_id</th>\n",
       "      <th>year</th>\n",
       "      <th>color</th>\n",
       "    </tr>\n",
       "  </thead>\n",
       "  <tbody>\n",
       "    <tr>\n",
       "      <th>72241</th>\n",
       "      <td>as-0000025</td>\n",
       "      <td>2016</td>\n",
       "      <td>White</td>\n",
       "    </tr>\n",
       "  </tbody>\n",
       "</table>\n",
       "</div>"
      ],
      "text/plain": [
       "      category_id  year  color\n",
       "72241  as-0000025  2016  White"
      ]
     },
     "execution_count": 69,
     "metadata": {},
     "output_type": "execute_result"
    }
   ],
   "source": [
    "#### After ####\n",
    "car_data[car_data[\"category_id\"]==\"as-0000025\"]"
   ]
  },
  {
   "cell_type": "markdown",
   "id": "ccaa755f",
   "metadata": {},
   "source": [
    "### 5) 견적서에 사고 정보에서 color, year 추가"
   ]
  },
  {
   "cell_type": "code",
   "execution_count": 4,
   "id": "c2b6fbb6",
   "metadata": {},
   "outputs": [
    {
     "data": {
      "text/html": [
       "<div>\n",
       "<style scoped>\n",
       "    .dataframe tbody tr th:only-of-type {\n",
       "        vertical-align: middle;\n",
       "    }\n",
       "\n",
       "    .dataframe tbody tr th {\n",
       "        vertical-align: top;\n",
       "    }\n",
       "\n",
       "    .dataframe thead th {\n",
       "        text-align: right;\n",
       "    }\n",
       "</style>\n",
       "<table border=\"1\" class=\"dataframe\">\n",
       "  <thead>\n",
       "    <tr style=\"text-align: right;\">\n",
       "      <th></th>\n",
       "      <th>category_id</th>\n",
       "      <th>coating</th>\n",
       "      <th>sheet_metal</th>\n",
       "      <th>exchange</th>\n",
       "      <th>total</th>\n",
       "    </tr>\n",
       "  </thead>\n",
       "  <tbody>\n",
       "    <tr>\n",
       "      <th>0</th>\n",
       "      <td>as-0000025</td>\n",
       "      <td>488500</td>\n",
       "      <td>175000</td>\n",
       "      <td>145750</td>\n",
       "      <td>1121128</td>\n",
       "    </tr>\n",
       "    <tr>\n",
       "      <th>1</th>\n",
       "      <td>as-0000025</td>\n",
       "      <td>488500</td>\n",
       "      <td>175000</td>\n",
       "      <td>145750</td>\n",
       "      <td>1121128</td>\n",
       "    </tr>\n",
       "    <tr>\n",
       "      <th>2</th>\n",
       "      <td>as-0000025</td>\n",
       "      <td>488500</td>\n",
       "      <td>175000</td>\n",
       "      <td>145750</td>\n",
       "      <td>1121128</td>\n",
       "    </tr>\n",
       "    <tr>\n",
       "      <th>3</th>\n",
       "      <td>as-0000027</td>\n",
       "      <td>496500</td>\n",
       "      <td>262500</td>\n",
       "      <td>267750</td>\n",
       "      <td>1293228</td>\n",
       "    </tr>\n",
       "    <tr>\n",
       "      <th>4</th>\n",
       "      <td>as-0000027</td>\n",
       "      <td>496500</td>\n",
       "      <td>262500</td>\n",
       "      <td>267750</td>\n",
       "      <td>1293228</td>\n",
       "    </tr>\n",
       "  </tbody>\n",
       "</table>\n",
       "</div>"
      ],
      "text/plain": [
       "  category_id  coating  sheet_metal  exchange    total\n",
       "0  as-0000025   488500       175000    145750  1121128\n",
       "1  as-0000025   488500       175000    145750  1121128\n",
       "2  as-0000025   488500       175000    145750  1121128\n",
       "3  as-0000027   496500       262500    267750  1293228\n",
       "4  as-0000027   496500       262500    267750  1293228"
      ]
     },
     "execution_count": 4,
     "metadata": {},
     "output_type": "execute_result"
    }
   ],
   "source": [
    "repair_price = pd.read_csv(\"data/repair_price.csv\")\n",
    "repair_price = repair_price[[\"category_id\", \"coating\", \"sheet_metal\", \"exchange\", \"total\"]]\n",
    "repair_price.head()"
   ]
  },
  {
   "cell_type": "code",
   "execution_count": 75,
   "id": "e7681390",
   "metadata": {},
   "outputs": [],
   "source": [
    "data = pd.merge(repair_price, car_data, how='inner',on='category_id')"
   ]
  },
  {
   "cell_type": "code",
   "execution_count": 77,
   "id": "1408e705",
   "metadata": {},
   "outputs": [],
   "source": [
    "data = data.drop_duplicates(keep = 'first', ignore_index=True)"
   ]
  },
  {
   "cell_type": "code",
   "execution_count": 78,
   "id": "d6c80cbb",
   "metadata": {},
   "outputs": [],
   "source": [
    "data.to_csv(\"color_year_data.csv\", index=False)"
   ]
  }
 ],
 "metadata": {
  "kernelspec": {
   "display_name": "Python 3 (ipykernel)",
   "language": "python",
   "name": "python3"
  },
  "language_info": {
   "codemirror_mode": {
    "name": "ipython",
    "version": 3
   },
   "file_extension": ".py",
   "mimetype": "text/x-python",
   "name": "python",
   "nbconvert_exporter": "python",
   "pygments_lexer": "ipython3",
   "version": "3.9.13"
  }
 },
 "nbformat": 4,
 "nbformat_minor": 5
}
