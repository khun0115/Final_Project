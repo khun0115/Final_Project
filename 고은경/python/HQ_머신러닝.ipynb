{
 "cells": [
  {
   "cell_type": "code",
   "execution_count": 33,
   "id": "1d3fae6a",
   "metadata": {},
   "outputs": [],
   "source": [
    "import numpy as np\n",
    "import pandas as pd\n",
    "import matplotlib.pyplot as plt\n",
    "import seaborn as sns\n",
    "\n",
    "import matplotlib.font_manager as fm\n",
    "import matplotlib as mlp\n",
    "mlp.rcParams[\"axes.unicode_minus\"] = False\n",
    "\n",
    "from sklearn.ensemble import RandomForestClassifier      # 앙상블\n",
    "\n",
    "from sklearn.model_selection import train_test_split     # 훈련용과 테스트용으로 데이터 분할\n",
    "\n",
    "from sklearn.metrics import classification_report, roc_curve\n",
    "from sklearn.metrics import confusion_matrix, accuracy_score, precision_score, recall_score\n",
    "from sklearn.metrics import f1_score, roc_auc_score\n",
    "\n",
    "import xgboost as xgb ## XGBoost 불러오기\n",
    "from xgboost import plot_importance ## Feature Importance를 불러오기 위함\n",
    "\n",
    "import joblib\n",
    "\n",
    "import warnings\n",
    "warnings.filterwarnings('ignore')"
   ]
  },
  {
   "cell_type": "markdown",
   "id": "34b9343b",
   "metadata": {},
   "source": [
    "# data load"
   ]
  },
  {
   "cell_type": "code",
   "execution_count": 2,
   "id": "19facdc6",
   "metadata": {},
   "outputs": [],
   "source": [
    "coating = pd.read_csv(\"data/HQ_coating.csv\")\n",
    "sheet_metal = pd.read_csv(\"data/HQ_sheet_metal.csv\")\n",
    "exchange = pd.read_csv(\"data/HQ_exchange.csv\")"
   ]
  },
  {
   "cell_type": "code",
   "execution_count": 17,
   "id": "7cb68521",
   "metadata": {},
   "outputs": [],
   "source": [
    "coating = coating[coating[\"HQ\"]<=4]\n",
    "sheet_metal = sheet_metal[sheet_metal[\"HQ\"]<=4]\n",
    "exchange = exchange[exchange[\"HQ\"]<=4]"
   ]
  },
  {
   "cell_type": "markdown",
   "id": "84254ffc",
   "metadata": {},
   "source": [
    "### 오차 행렬 함수 정의"
   ]
  },
  {
   "cell_type": "code",
   "execution_count": 4,
   "id": "2f359e15",
   "metadata": {},
   "outputs": [],
   "source": [
    "def get_clf_eval(y_test, y_pred):\n",
    "    confusion = confusion_matrix(y_test, y_pred)\n",
    "    accuracy = accuracy_score(y_test, y_pred)\n",
    "    precision = precision_score(y_test, y_pred, average='macro')\n",
    "    recall = recall_score(y_test, y_pred, average='macro')\n",
    "    F1 = f1_score(y_test, y_pred, average='macro')\n",
    "    print('오차행렬:\\n', confusion)\n",
    "    print('\\n정확도: {:.4f}'.format(accuracy))\n",
    "    print('정밀도: {:.4f}'.format(precision))\n",
    "    print('재현율: {:.4f}'.format(recall))\n",
    "    print('F1: {:.4f}'.format(F1))"
   ]
  },
  {
   "cell_type": "markdown",
   "id": "bf8acd59",
   "metadata": {},
   "source": [
    "# Coating"
   ]
  },
  {
   "cell_type": "code",
   "execution_count": 18,
   "id": "c54723ac",
   "metadata": {},
   "outputs": [
    {
     "name": "stdout",
     "output_type": "stream",
     "text": [
      "327679 140435 327679 140435\n"
     ]
    }
   ],
   "source": [
    "X = coating[[\"part\", \"damage\", \"supercategory_name\"]]\n",
    "y = coating[[\"HQ\"]]\n",
    "\n",
    "X_dummy = pd.get_dummies(X)\n",
    "X_dummy.columns = ['Bonnet', 'Bumper', 'Door', 'Fender', 'Head lights', \n",
    "                   'Rear lamp', 'Rocker panel', 'Roof', 'Side mirror', \n",
    "                   'Trunk lid', 'Breakage', 'Crushed', 'Scratched', \n",
    "                   'Separated', 'City car', 'Compact car','Full-size car', \n",
    "                   'Mid-size car','SUV', 'VAN']\n",
    "X_dummy.head()\n",
    "\n",
    "X_train, X_test, y_train, y_test = train_test_split(X_dummy, y, test_size=.3, random_state=42, stratify=y)\n",
    "print(len(X_train), len(X_test), len(y_train), len(y_test))"
   ]
  },
  {
   "cell_type": "markdown",
   "id": "ca6ddc4a",
   "metadata": {},
   "source": [
    "### RandomForestClassifier"
   ]
  },
  {
   "cell_type": "code",
   "execution_count": 35,
   "id": "803c528f",
   "metadata": {},
   "outputs": [
    {
     "name": "stdout",
     "output_type": "stream",
     "text": [
      "훈련용   : 0.5538591121188724\n",
      "테스트용 : 0.5528180296934525\n",
      "오차행렬:\n",
      " [[ 1773  4297   223     1]\n",
      " [  185 42762  8835   885]\n",
      " [    5 23938 17575  9233]\n",
      " [    0  6843  8355 15525]]\n",
      "\n",
      "정확도: 0.5528\n",
      "정밀도: 0.6401\n",
      "재현율: 0.4863\n",
      "F1: 0.5114\n"
     ]
    }
   ],
   "source": [
    "r_forest = RandomForestClassifier(max_depth=9, n_estimators=13, \n",
    "                                  min_samples_leaf=1).fit(X_train, y_train)\n",
    "\n",
    "print(\"훈련용   :\", r_forest.score(X_train, y_train))\n",
    "print(\"테스트용 :\", r_forest.score(X_test, y_test))\n",
    "\n",
    "preds = r_forest.predict(X_test)\n",
    "get_clf_eval(y_test, preds)"
   ]
  },
  {
   "cell_type": "code",
   "execution_count": 36,
   "id": "bcd54782",
   "metadata": {},
   "outputs": [
    {
     "name": "stdout",
     "output_type": "stream",
     "text": [
      "정확도: 0.554\n"
     ]
    }
   ],
   "source": [
    "# model save\n",
    "\n",
    "joblib.dump(r_forest, 'HQ_coating_r_forest.h5')\n",
    "\n",
    "loaded_model = joblib.load('HQ_coating_r_forest.h5')\n",
    "\n",
    "score = loaded_model.score(X_dummy, y)\n",
    "print('정확도: {score:.3f}'.format(score=score)) "
   ]
  },
  {
   "cell_type": "markdown",
   "id": "f5ff9320",
   "metadata": {},
   "source": [
    "### XGBoost"
   ]
  },
  {
   "cell_type": "code",
   "execution_count": 21,
   "id": "fde01ef6",
   "metadata": {
    "collapsed": true
   },
   "outputs": [
    {
     "name": "stdout",
     "output_type": "stream",
     "text": [
      "[0]\ttrain-mlogloss:1.94111\teval-mlogloss:1.94142\n",
      "[1]\ttrain-mlogloss:1.73085\teval-mlogloss:1.73136\n",
      "[2]\ttrain-mlogloss:1.58240\teval-mlogloss:1.58309\n",
      "[3]\ttrain-mlogloss:1.47043\teval-mlogloss:1.47127\n",
      "[4]\ttrain-mlogloss:1.38285\teval-mlogloss:1.38385\n",
      "[5]\ttrain-mlogloss:1.31268\teval-mlogloss:1.31380\n",
      "[6]\ttrain-mlogloss:1.25561\teval-mlogloss:1.25682\n",
      "[7]\ttrain-mlogloss:1.20833\teval-mlogloss:1.20962\n",
      "[8]\ttrain-mlogloss:1.16940\teval-mlogloss:1.17076\n",
      "[9]\ttrain-mlogloss:1.13684\teval-mlogloss:1.13827\n",
      "[10]\ttrain-mlogloss:1.10926\teval-mlogloss:1.11076\n",
      "[11]\ttrain-mlogloss:1.08522\teval-mlogloss:1.08679\n",
      "[12]\ttrain-mlogloss:1.06459\teval-mlogloss:1.06622\n",
      "[13]\ttrain-mlogloss:1.04680\teval-mlogloss:1.04849\n",
      "[14]\ttrain-mlogloss:1.03139\teval-mlogloss:1.03312\n",
      "[15]\ttrain-mlogloss:1.01797\teval-mlogloss:1.01975\n",
      "[16]\ttrain-mlogloss:1.00625\teval-mlogloss:1.00808\n",
      "[17]\ttrain-mlogloss:0.99598\teval-mlogloss:0.99785\n",
      "[18]\ttrain-mlogloss:0.98699\teval-mlogloss:0.98890\n",
      "[19]\ttrain-mlogloss:0.97906\teval-mlogloss:0.98101\n",
      "[20]\ttrain-mlogloss:0.97205\teval-mlogloss:0.97403\n",
      "[21]\ttrain-mlogloss:0.96594\teval-mlogloss:0.96795\n",
      "[22]\ttrain-mlogloss:0.96052\teval-mlogloss:0.96256\n",
      "[23]\ttrain-mlogloss:0.95553\teval-mlogloss:0.95760\n",
      "[24]\ttrain-mlogloss:0.95113\teval-mlogloss:0.95323\n",
      "[25]\ttrain-mlogloss:0.94729\teval-mlogloss:0.94941\n",
      "[26]\ttrain-mlogloss:0.94372\teval-mlogloss:0.94588\n",
      "[27]\ttrain-mlogloss:0.94058\teval-mlogloss:0.94276\n",
      "[28]\ttrain-mlogloss:0.93783\teval-mlogloss:0.94003\n",
      "[29]\ttrain-mlogloss:0.93529\teval-mlogloss:0.93752\n",
      "[30]\ttrain-mlogloss:0.93307\teval-mlogloss:0.93532\n",
      "[31]\ttrain-mlogloss:0.93102\teval-mlogloss:0.93328\n",
      "[32]\ttrain-mlogloss:0.92923\teval-mlogloss:0.93152\n",
      "[33]\ttrain-mlogloss:0.92759\teval-mlogloss:0.92990\n",
      "[34]\ttrain-mlogloss:0.92611\teval-mlogloss:0.92843\n",
      "[35]\ttrain-mlogloss:0.92480\teval-mlogloss:0.92713\n",
      "[36]\ttrain-mlogloss:0.92357\teval-mlogloss:0.92592\n",
      "[37]\ttrain-mlogloss:0.92244\teval-mlogloss:0.92481\n",
      "[38]\ttrain-mlogloss:0.92148\teval-mlogloss:0.92386\n",
      "[39]\ttrain-mlogloss:0.92063\teval-mlogloss:0.92301\n",
      "[40]\ttrain-mlogloss:0.91979\teval-mlogloss:0.92219\n",
      "[41]\ttrain-mlogloss:0.91904\teval-mlogloss:0.92145\n",
      "[42]\ttrain-mlogloss:0.91836\teval-mlogloss:0.92078\n",
      "[43]\ttrain-mlogloss:0.91775\teval-mlogloss:0.92018\n",
      "[44]\ttrain-mlogloss:0.91724\teval-mlogloss:0.91968\n",
      "[45]\ttrain-mlogloss:0.91678\teval-mlogloss:0.91922\n",
      "[46]\ttrain-mlogloss:0.91636\teval-mlogloss:0.91881\n",
      "[47]\ttrain-mlogloss:0.91598\teval-mlogloss:0.91844\n",
      "[48]\ttrain-mlogloss:0.91564\teval-mlogloss:0.91811\n",
      "[49]\ttrain-mlogloss:0.91533\teval-mlogloss:0.91781\n",
      "[50]\ttrain-mlogloss:0.91506\teval-mlogloss:0.91753\n",
      "[51]\ttrain-mlogloss:0.91480\teval-mlogloss:0.91729\n",
      "[52]\ttrain-mlogloss:0.91458\teval-mlogloss:0.91707\n",
      "[53]\ttrain-mlogloss:0.91437\teval-mlogloss:0.91686\n",
      "[54]\ttrain-mlogloss:0.91414\teval-mlogloss:0.91664\n",
      "[55]\ttrain-mlogloss:0.91394\teval-mlogloss:0.91644\n",
      "[56]\ttrain-mlogloss:0.91376\teval-mlogloss:0.91627\n",
      "[57]\ttrain-mlogloss:0.91360\teval-mlogloss:0.91611\n",
      "[58]\ttrain-mlogloss:0.91345\teval-mlogloss:0.91596\n",
      "[59]\ttrain-mlogloss:0.91332\teval-mlogloss:0.91584\n",
      "[60]\ttrain-mlogloss:0.91322\teval-mlogloss:0.91574\n",
      "[61]\ttrain-mlogloss:0.91310\teval-mlogloss:0.91563\n",
      "[62]\ttrain-mlogloss:0.91300\teval-mlogloss:0.91553\n",
      "[63]\ttrain-mlogloss:0.91291\teval-mlogloss:0.91544\n",
      "[64]\ttrain-mlogloss:0.91283\teval-mlogloss:0.91536\n",
      "[65]\ttrain-mlogloss:0.91275\teval-mlogloss:0.91528\n",
      "[66]\ttrain-mlogloss:0.91269\teval-mlogloss:0.91522\n",
      "[67]\ttrain-mlogloss:0.91262\teval-mlogloss:0.91516\n",
      "[68]\ttrain-mlogloss:0.91258\teval-mlogloss:0.91512\n",
      "[69]\ttrain-mlogloss:0.91253\teval-mlogloss:0.91507\n",
      "[70]\ttrain-mlogloss:0.91248\teval-mlogloss:0.91503\n",
      "[71]\ttrain-mlogloss:0.91244\teval-mlogloss:0.91499\n",
      "[72]\ttrain-mlogloss:0.91240\teval-mlogloss:0.91496\n",
      "[73]\ttrain-mlogloss:0.91237\teval-mlogloss:0.91493\n",
      "[74]\ttrain-mlogloss:0.91234\teval-mlogloss:0.91490\n",
      "[75]\ttrain-mlogloss:0.91231\teval-mlogloss:0.91487\n",
      "[76]\ttrain-mlogloss:0.91228\teval-mlogloss:0.91485\n",
      "[77]\ttrain-mlogloss:0.91226\teval-mlogloss:0.91483\n",
      "[78]\ttrain-mlogloss:0.91224\teval-mlogloss:0.91481\n",
      "[79]\ttrain-mlogloss:0.91222\teval-mlogloss:0.91480\n",
      "[80]\ttrain-mlogloss:0.91220\teval-mlogloss:0.91478\n",
      "[81]\ttrain-mlogloss:0.91219\teval-mlogloss:0.91477\n",
      "[82]\ttrain-mlogloss:0.91217\teval-mlogloss:0.91475\n",
      "[83]\ttrain-mlogloss:0.91216\teval-mlogloss:0.91474\n",
      "[84]\ttrain-mlogloss:0.91215\teval-mlogloss:0.91473\n",
      "[85]\ttrain-mlogloss:0.91214\teval-mlogloss:0.91472\n",
      "[86]\ttrain-mlogloss:0.91213\teval-mlogloss:0.91471\n",
      "[87]\ttrain-mlogloss:0.91212\teval-mlogloss:0.91471\n",
      "[88]\ttrain-mlogloss:0.91211\teval-mlogloss:0.91470\n",
      "[89]\ttrain-mlogloss:0.91211\teval-mlogloss:0.91470\n",
      "[90]\ttrain-mlogloss:0.91210\teval-mlogloss:0.91469\n",
      "[91]\ttrain-mlogloss:0.91209\teval-mlogloss:0.91469\n",
      "[92]\ttrain-mlogloss:0.91209\teval-mlogloss:0.91469\n",
      "[93]\ttrain-mlogloss:0.91209\teval-mlogloss:0.91468\n",
      "[94]\ttrain-mlogloss:0.91208\teval-mlogloss:0.91468\n",
      "[95]\ttrain-mlogloss:0.91208\teval-mlogloss:0.91468\n",
      "[96]\ttrain-mlogloss:0.91208\teval-mlogloss:0.91468\n",
      "[97]\ttrain-mlogloss:0.91207\teval-mlogloss:0.91468\n",
      "[98]\ttrain-mlogloss:0.91207\teval-mlogloss:0.91468\n",
      "[99]\ttrain-mlogloss:0.91207\teval-mlogloss:0.91468\n"
     ]
    }
   ],
   "source": [
    "# XGBoost를 사용하기 위해 DMatrix 형태로 변환\n",
    "# 넘파이 형태의 학습 데이터 세트와 테스트 데이터를 DMatrix로 변환하는 예제\n",
    "dtrain = xgb.DMatrix(data=X_train, label = y_train)\n",
    "dtest = xgb.DMatrix(data=X_test, label=y_test)\n",
    "\n",
    "# XGBoost 모델 파라미터 설정\n",
    "params = {\n",
    "    'objective': 'multi:softmax',  # 다중 클래스 분류 문제 설정\n",
    "    'num_class': 10,  # 클래스의 개수 설정\n",
    "    'max_depth': 9,  # 트리의 깊이 설정\n",
    "    'eta': 0.2,  # 학습률 설정\n",
    "    'eval_metric': 'mlogloss'  # 평가 메트릭 설정\n",
    "}\n",
    "\n",
    "# XGBoost 모델 학습\n",
    "num_rounds = 100  # 학습 라운드 수 설정\n",
    "\n",
    "# train 데이터 세트는 'train', evaluation(test) 데이터 세트는 'eval' 로 명기\n",
    "wlist = [(dtrain, 'train'), (dtest,'eval')]\n",
    "# 하이퍼 파라미터와 early stopping 파라미터를 train() 함수의 파라미터로 전달\n",
    "xgb_model = xgb.train(params = params, dtrain=dtrain, num_boost_round=num_rounds, evals=wlist)"
   ]
  },
  {
   "cell_type": "code",
   "execution_count": 22,
   "id": "8a039df9",
   "metadata": {},
   "outputs": [
    {
     "name": "stdout",
     "output_type": "stream",
     "text": [
      "오차행렬:\n",
      " [[ 1817  4254   222     1]\n",
      " [  255 42692  8079  1641]\n",
      " [   23 23920 16703 10105]\n",
      " [    0  6842  7336 16545]]\n",
      "\n",
      "정확도: 0.5537\n",
      "정밀도: 0.6295\n",
      "재현율: 0.4917\n",
      "F1: 0.5127\n"
     ]
    }
   ],
   "source": [
    "preds = xgb_model.predict(dtest)\n",
    "get_clf_eval(y_test, preds)"
   ]
  },
  {
   "cell_type": "code",
   "execution_count": 30,
   "id": "178f4f0a",
   "metadata": {},
   "outputs": [],
   "source": [
    "# model save\n",
    "\n",
    "joblib.dump(xgb_model, 'HQ_coating_xgb_model.h5')\n",
    "\n",
    "loaded_model = joblib.load('HQ_coating_xgb_model.h5')"
   ]
  },
  {
   "cell_type": "code",
   "execution_count": 31,
   "id": "75968a3b",
   "metadata": {
    "collapsed": true
   },
   "outputs": [
    {
     "ename": "KeyError",
     "evalue": "0",
     "output_type": "error",
     "traceback": [
      "\u001b[1;31m---------------------------------------------------------------------------\u001b[0m",
      "\u001b[1;31mKeyError\u001b[0m                                  Traceback (most recent call last)",
      "\u001b[1;32m~\\anaconda3\\lib\\site-packages\\pandas\\core\\indexes\\base.py\u001b[0m in \u001b[0;36mget_loc\u001b[1;34m(self, key, method, tolerance)\u001b[0m\n\u001b[0;32m   3628\u001b[0m             \u001b[1;32mtry\u001b[0m\u001b[1;33m:\u001b[0m\u001b[1;33m\u001b[0m\u001b[1;33m\u001b[0m\u001b[0m\n\u001b[1;32m-> 3629\u001b[1;33m                 \u001b[1;32mreturn\u001b[0m \u001b[0mself\u001b[0m\u001b[1;33m.\u001b[0m\u001b[0m_engine\u001b[0m\u001b[1;33m.\u001b[0m\u001b[0mget_loc\u001b[0m\u001b[1;33m(\u001b[0m\u001b[0mcasted_key\u001b[0m\u001b[1;33m)\u001b[0m\u001b[1;33m\u001b[0m\u001b[1;33m\u001b[0m\u001b[0m\n\u001b[0m\u001b[0;32m   3630\u001b[0m             \u001b[1;32mexcept\u001b[0m \u001b[0mKeyError\u001b[0m \u001b[1;32mas\u001b[0m \u001b[0merr\u001b[0m\u001b[1;33m:\u001b[0m\u001b[1;33m\u001b[0m\u001b[1;33m\u001b[0m\u001b[0m\n",
      "\u001b[1;32m~\\anaconda3\\lib\\site-packages\\pandas\\_libs\\index.pyx\u001b[0m in \u001b[0;36mpandas._libs.index.IndexEngine.get_loc\u001b[1;34m()\u001b[0m\n",
      "\u001b[1;32m~\\anaconda3\\lib\\site-packages\\pandas\\_libs\\index.pyx\u001b[0m in \u001b[0;36mpandas._libs.index.IndexEngine.get_loc\u001b[1;34m()\u001b[0m\n",
      "\u001b[1;32mpandas\\_libs\\hashtable_class_helper.pxi\u001b[0m in \u001b[0;36mpandas._libs.hashtable.PyObjectHashTable.get_item\u001b[1;34m()\u001b[0m\n",
      "\u001b[1;32mpandas\\_libs\\hashtable_class_helper.pxi\u001b[0m in \u001b[0;36mpandas._libs.hashtable.PyObjectHashTable.get_item\u001b[1;34m()\u001b[0m\n",
      "\u001b[1;31mKeyError\u001b[0m: 0",
      "\nThe above exception was the direct cause of the following exception:\n",
      "\u001b[1;31mKeyError\u001b[0m                                  Traceback (most recent call last)",
      "\u001b[1;32m~\\AppData\\Local\\Temp\\ipykernel_7092\\3298629072.py\u001b[0m in \u001b[0;36m<module>\u001b[1;34m\u001b[0m\n\u001b[1;32m----> 1\u001b[1;33m \u001b[0mdtest\u001b[0m \u001b[1;33m=\u001b[0m \u001b[0mxgb\u001b[0m\u001b[1;33m.\u001b[0m\u001b[0mDMatrix\u001b[0m\u001b[1;33m(\u001b[0m\u001b[0mdata\u001b[0m\u001b[1;33m=\u001b[0m\u001b[0mX_test\u001b[0m\u001b[1;33m[\u001b[0m\u001b[1;36m0\u001b[0m\u001b[1;33m]\u001b[0m\u001b[1;33m)\u001b[0m\u001b[1;33m\u001b[0m\u001b[1;33m\u001b[0m\u001b[0m\n\u001b[0m\u001b[0;32m      2\u001b[0m \u001b[1;33m\u001b[0m\u001b[0m\n\u001b[0;32m      3\u001b[0m \u001b[0mloaded_model\u001b[0m\u001b[1;33m.\u001b[0m\u001b[0mpredict\u001b[0m\u001b[1;33m(\u001b[0m\u001b[0mdtest\u001b[0m\u001b[1;33m)\u001b[0m\u001b[1;33m\u001b[0m\u001b[1;33m\u001b[0m\u001b[0m\n",
      "\u001b[1;32m~\\anaconda3\\lib\\site-packages\\pandas\\core\\frame.py\u001b[0m in \u001b[0;36m__getitem__\u001b[1;34m(self, key)\u001b[0m\n\u001b[0;32m   3503\u001b[0m             \u001b[1;32mif\u001b[0m \u001b[0mself\u001b[0m\u001b[1;33m.\u001b[0m\u001b[0mcolumns\u001b[0m\u001b[1;33m.\u001b[0m\u001b[0mnlevels\u001b[0m \u001b[1;33m>\u001b[0m \u001b[1;36m1\u001b[0m\u001b[1;33m:\u001b[0m\u001b[1;33m\u001b[0m\u001b[1;33m\u001b[0m\u001b[0m\n\u001b[0;32m   3504\u001b[0m                 \u001b[1;32mreturn\u001b[0m \u001b[0mself\u001b[0m\u001b[1;33m.\u001b[0m\u001b[0m_getitem_multilevel\u001b[0m\u001b[1;33m(\u001b[0m\u001b[0mkey\u001b[0m\u001b[1;33m)\u001b[0m\u001b[1;33m\u001b[0m\u001b[1;33m\u001b[0m\u001b[0m\n\u001b[1;32m-> 3505\u001b[1;33m             \u001b[0mindexer\u001b[0m \u001b[1;33m=\u001b[0m \u001b[0mself\u001b[0m\u001b[1;33m.\u001b[0m\u001b[0mcolumns\u001b[0m\u001b[1;33m.\u001b[0m\u001b[0mget_loc\u001b[0m\u001b[1;33m(\u001b[0m\u001b[0mkey\u001b[0m\u001b[1;33m)\u001b[0m\u001b[1;33m\u001b[0m\u001b[1;33m\u001b[0m\u001b[0m\n\u001b[0m\u001b[0;32m   3506\u001b[0m             \u001b[1;32mif\u001b[0m \u001b[0mis_integer\u001b[0m\u001b[1;33m(\u001b[0m\u001b[0mindexer\u001b[0m\u001b[1;33m)\u001b[0m\u001b[1;33m:\u001b[0m\u001b[1;33m\u001b[0m\u001b[1;33m\u001b[0m\u001b[0m\n\u001b[0;32m   3507\u001b[0m                 \u001b[0mindexer\u001b[0m \u001b[1;33m=\u001b[0m \u001b[1;33m[\u001b[0m\u001b[0mindexer\u001b[0m\u001b[1;33m]\u001b[0m\u001b[1;33m\u001b[0m\u001b[1;33m\u001b[0m\u001b[0m\n",
      "\u001b[1;32m~\\anaconda3\\lib\\site-packages\\pandas\\core\\indexes\\base.py\u001b[0m in \u001b[0;36mget_loc\u001b[1;34m(self, key, method, tolerance)\u001b[0m\n\u001b[0;32m   3629\u001b[0m                 \u001b[1;32mreturn\u001b[0m \u001b[0mself\u001b[0m\u001b[1;33m.\u001b[0m\u001b[0m_engine\u001b[0m\u001b[1;33m.\u001b[0m\u001b[0mget_loc\u001b[0m\u001b[1;33m(\u001b[0m\u001b[0mcasted_key\u001b[0m\u001b[1;33m)\u001b[0m\u001b[1;33m\u001b[0m\u001b[1;33m\u001b[0m\u001b[0m\n\u001b[0;32m   3630\u001b[0m             \u001b[1;32mexcept\u001b[0m \u001b[0mKeyError\u001b[0m \u001b[1;32mas\u001b[0m \u001b[0merr\u001b[0m\u001b[1;33m:\u001b[0m\u001b[1;33m\u001b[0m\u001b[1;33m\u001b[0m\u001b[0m\n\u001b[1;32m-> 3631\u001b[1;33m                 \u001b[1;32mraise\u001b[0m \u001b[0mKeyError\u001b[0m\u001b[1;33m(\u001b[0m\u001b[0mkey\u001b[0m\u001b[1;33m)\u001b[0m \u001b[1;32mfrom\u001b[0m \u001b[0merr\u001b[0m\u001b[1;33m\u001b[0m\u001b[1;33m\u001b[0m\u001b[0m\n\u001b[0m\u001b[0;32m   3632\u001b[0m             \u001b[1;32mexcept\u001b[0m \u001b[0mTypeError\u001b[0m\u001b[1;33m:\u001b[0m\u001b[1;33m\u001b[0m\u001b[1;33m\u001b[0m\u001b[0m\n\u001b[0;32m   3633\u001b[0m                 \u001b[1;31m# If we have a listlike key, _check_indexing_error will raise\u001b[0m\u001b[1;33m\u001b[0m\u001b[1;33m\u001b[0m\u001b[0m\n",
      "\u001b[1;31mKeyError\u001b[0m: 0"
     ]
    }
   ],
   "source": [
    "dtest = xgb.DMatrix(data=X_test[0])\n",
    "\n",
    "loaded_model.predict(dtest)"
   ]
  },
  {
   "cell_type": "code",
   "execution_count": 10,
   "id": "4e1a134f",
   "metadata": {
    "collapsed": true
   },
   "outputs": [
    {
     "data": {
      "text/plain": [
       "<AxesSubplot:title={'center':'Feature importance'}, xlabel='F score', ylabel='Features'>"
      ]
     },
     "execution_count": 10,
     "metadata": {},
     "output_type": "execute_result"
    },
    {
     "data": {
      "image/png": "[encoded data removed]",
      "text/plain": [
       "<Figure size 1000x1200 with 1 Axes>"
      ]
     },
     "metadata": {},
     "output_type": "display_data"
    }
   ],
   "source": [
    "%matplotlib inline\n",
    "\n",
    "fig, ax = plt.subplots(figsize=(10, 12))\n",
    "plot_importance(xgb_model, ax=ax)"
   ]
  },
  {
   "cell_type": "markdown",
   "id": "39da7868",
   "metadata": {},
   "source": [
    "# Sheet_metal"
   ]
  },
  {
   "cell_type": "code",
   "execution_count": 37,
   "id": "cf7b2948",
   "metadata": {},
   "outputs": [
    {
     "name": "stdout",
     "output_type": "stream",
     "text": [
      "169338 72574 169338 72574\n"
     ]
    }
   ],
   "source": [
    "X = sheet_metal[[\"part\", \"damage\", \"supercategory_name\"]]\n",
    "y = sheet_metal[[\"HQ\"]]\n",
    "\n",
    "X_dummy = pd.get_dummies(X)\n",
    "X_dummy.columns = ['Bonnet', 'Bumper', 'Door', 'Fender', 'Head lights', \n",
    "                   'Rear lamp', 'Rocker panel', 'Roof', 'Side mirror', \n",
    "                   'Trunk lid', 'Wheel', 'Breakage', 'Crushed', 'Scratched', \n",
    "                   'Separated', 'City car', 'Compact car','Full-size car', \n",
    "                   'Mid-size car','SUV', 'VAN']\n",
    "X_dummy.head()\n",
    "\n",
    "X_train, X_test, y_train, y_test = train_test_split(X_dummy, y, test_size=.3, random_state=42, stratify=y)\n",
    "print(len(X_train), len(X_test), len(y_train), len(y_test))"
   ]
  },
  {
   "cell_type": "code",
   "execution_count": 38,
   "id": "66c938dc",
   "metadata": {},
   "outputs": [
    {
     "name": "stdout",
     "output_type": "stream",
     "text": [
      "훈련용   : 0.48024660737696206\n",
      "테스트용 : 0.4770992366412214\n",
      "오차행렬:\n",
      " [[    0     4    13     0     0]\n",
      " [    0 13509 17350     0     0]\n",
      " [    0  7399 21116     0     0]\n",
      " [    0   769  9747     0     0]\n",
      " [    0   136  2531     0     0]]\n",
      "\n",
      "정확도: 0.4771\n",
      "정밀도: 0.2070\n",
      "재현율: 0.2357\n",
      "F1: 0.2091\n"
     ]
    }
   ],
   "source": [
    "r_forest = RandomForestClassifier(max_depth=5).fit(X_train, y_train)\n",
    "\n",
    "print(\"훈련용   :\", r_forest.score(X_train, y_train))\n",
    "print(\"테스트용 :\", r_forest.score(X_test, y_test))\n",
    "\n",
    "preds = r_forest.predict(X_test)\n",
    "get_clf_eval(y_test, preds)"
   ]
  },
  {
   "cell_type": "code",
   "execution_count": 39,
   "id": "76729572",
   "metadata": {},
   "outputs": [
    {
     "name": "stdout",
     "output_type": "stream",
     "text": [
      "정확도: 0.479\n"
     ]
    }
   ],
   "source": [
    "# model save\n",
    "\n",
    "joblib.dump(r_forest, 'HQ_sheet_metal_r_forest.h5')\n",
    "\n",
    "loaded_model = joblib.load('HQ_sheet_metal_r_forest.h5')\n",
    "\n",
    "score = loaded_model.score(X_dummy, y)\n",
    "print('정확도: {score:.3f}'.format(score=score)) "
   ]
  },
  {
   "cell_type": "markdown",
   "id": "a5fcfde8",
   "metadata": {},
   "source": [
    "### XGBoost"
   ]
  },
  {
   "cell_type": "code",
   "execution_count": 13,
   "id": "f4b9a758",
   "metadata": {
    "collapsed": true
   },
   "outputs": [
    {
     "name": "stdout",
     "output_type": "stream",
     "text": [
      "[0]\ttrain-mlogloss:2.14624\teval-mlogloss:2.14679\n",
      "[1]\ttrain-mlogloss:2.02392\teval-mlogloss:2.02487\n",
      "[2]\ttrain-mlogloss:1.92360\teval-mlogloss:1.92482\n",
      "[3]\ttrain-mlogloss:1.83904\teval-mlogloss:1.84047\n",
      "[4]\ttrain-mlogloss:1.76652\teval-mlogloss:1.76813\n",
      "[5]\ttrain-mlogloss:1.70349\teval-mlogloss:1.70527\n",
      "[6]\ttrain-mlogloss:1.64816\teval-mlogloss:1.65011\n",
      "[7]\ttrain-mlogloss:1.59923\teval-mlogloss:1.60132\n",
      "[8]\ttrain-mlogloss:1.55566\teval-mlogloss:1.55787\n",
      "[9]\ttrain-mlogloss:1.51669\teval-mlogloss:1.51900\n",
      "[10]\ttrain-mlogloss:1.48163\teval-mlogloss:1.48405\n",
      "[11]\ttrain-mlogloss:1.45000\teval-mlogloss:1.45250\n",
      "[12]\ttrain-mlogloss:1.42135\teval-mlogloss:1.42394\n",
      "[13]\ttrain-mlogloss:1.39531\teval-mlogloss:1.39799\n",
      "[14]\ttrain-mlogloss:1.37160\teval-mlogloss:1.37435\n",
      "[15]\ttrain-mlogloss:1.34995\teval-mlogloss:1.35277\n",
      "[16]\ttrain-mlogloss:1.33014\teval-mlogloss:1.33301\n",
      "[17]\ttrain-mlogloss:1.31196\teval-mlogloss:1.31490\n",
      "[18]\ttrain-mlogloss:1.29524\teval-mlogloss:1.29825\n",
      "[19]\ttrain-mlogloss:1.27986\teval-mlogloss:1.28291\n",
      "[20]\ttrain-mlogloss:1.26567\teval-mlogloss:1.26878\n",
      "[21]\ttrain-mlogloss:1.25257\teval-mlogloss:1.25573\n",
      "[22]\ttrain-mlogloss:1.24044\teval-mlogloss:1.24365\n",
      "[23]\ttrain-mlogloss:1.22921\teval-mlogloss:1.23245\n",
      "[24]\ttrain-mlogloss:1.21877\teval-mlogloss:1.22206\n",
      "[25]\ttrain-mlogloss:1.20908\teval-mlogloss:1.21241\n",
      "[26]\ttrain-mlogloss:1.20007\teval-mlogloss:1.20343\n",
      "[27]\ttrain-mlogloss:1.19167\teval-mlogloss:1.19506\n",
      "[28]\ttrain-mlogloss:1.18383\teval-mlogloss:1.18726\n",
      "[29]\ttrain-mlogloss:1.17652\teval-mlogloss:1.17999\n",
      "[30]\ttrain-mlogloss:1.16970\teval-mlogloss:1.17320\n",
      "[31]\ttrain-mlogloss:1.16331\teval-mlogloss:1.16684\n",
      "[32]\ttrain-mlogloss:1.15734\teval-mlogloss:1.16089\n",
      "[33]\ttrain-mlogloss:1.15174\teval-mlogloss:1.15532\n",
      "[34]\ttrain-mlogloss:1.14649\teval-mlogloss:1.15010\n",
      "[35]\ttrain-mlogloss:1.14157\teval-mlogloss:1.14521\n",
      "[36]\ttrain-mlogloss:1.13695\teval-mlogloss:1.14061\n",
      "[37]\ttrain-mlogloss:1.13261\teval-mlogloss:1.13629\n",
      "[38]\ttrain-mlogloss:1.12853\teval-mlogloss:1.13224\n",
      "[39]\ttrain-mlogloss:1.12469\teval-mlogloss:1.12842\n",
      "[40]\ttrain-mlogloss:1.12107\teval-mlogloss:1.12483\n",
      "[41]\ttrain-mlogloss:1.11767\teval-mlogloss:1.12146\n",
      "[42]\ttrain-mlogloss:1.11446\teval-mlogloss:1.11828\n",
      "[43]\ttrain-mlogloss:1.11144\teval-mlogloss:1.11528\n",
      "[44]\ttrain-mlogloss:1.10859\teval-mlogloss:1.11245\n",
      "[45]\ttrain-mlogloss:1.10590\teval-mlogloss:1.10979\n",
      "[46]\ttrain-mlogloss:1.10337\teval-mlogloss:1.10727\n",
      "[47]\ttrain-mlogloss:1.10097\teval-mlogloss:1.10490\n",
      "[48]\ttrain-mlogloss:1.09871\teval-mlogloss:1.10266\n",
      "[49]\ttrain-mlogloss:1.09657\teval-mlogloss:1.10054\n",
      "[50]\ttrain-mlogloss:1.09456\teval-mlogloss:1.09854\n",
      "[51]\ttrain-mlogloss:1.09265\teval-mlogloss:1.09665\n",
      "[52]\ttrain-mlogloss:1.09084\teval-mlogloss:1.09486\n",
      "[53]\ttrain-mlogloss:1.08913\teval-mlogloss:1.09317\n",
      "[54]\ttrain-mlogloss:1.08751\teval-mlogloss:1.09157\n",
      "[55]\ttrain-mlogloss:1.08598\teval-mlogloss:1.09006\n",
      "[56]\ttrain-mlogloss:1.08453\teval-mlogloss:1.08862\n",
      "[57]\ttrain-mlogloss:1.08315\teval-mlogloss:1.08727\n",
      "[58]\ttrain-mlogloss:1.08185\teval-mlogloss:1.08598\n",
      "[59]\ttrain-mlogloss:1.08062\teval-mlogloss:1.08477\n",
      "[60]\ttrain-mlogloss:1.07946\teval-mlogloss:1.08362\n",
      "[61]\ttrain-mlogloss:1.07835\teval-mlogloss:1.08254\n",
      "[62]\ttrain-mlogloss:1.07730\teval-mlogloss:1.08151\n",
      "[63]\ttrain-mlogloss:1.07631\teval-mlogloss:1.08053\n",
      "[64]\ttrain-mlogloss:1.07537\teval-mlogloss:1.07960\n",
      "[65]\ttrain-mlogloss:1.07447\teval-mlogloss:1.07873\n",
      "[66]\ttrain-mlogloss:1.07363\teval-mlogloss:1.07789\n",
      "[67]\ttrain-mlogloss:1.07282\teval-mlogloss:1.07710\n",
      "[68]\ttrain-mlogloss:1.07206\teval-mlogloss:1.07635\n",
      "[69]\ttrain-mlogloss:1.07134\teval-mlogloss:1.07564\n",
      "[70]\ttrain-mlogloss:1.07065\teval-mlogloss:1.07497\n",
      "[71]\ttrain-mlogloss:1.07000\teval-mlogloss:1.07433\n",
      "[72]\ttrain-mlogloss:1.06938\teval-mlogloss:1.07372\n",
      "[73]\ttrain-mlogloss:1.06880\teval-mlogloss:1.07315\n",
      "[74]\ttrain-mlogloss:1.06824\teval-mlogloss:1.07260\n",
      "[75]\ttrain-mlogloss:1.06771\teval-mlogloss:1.07209\n",
      "[76]\ttrain-mlogloss:1.06721\teval-mlogloss:1.07159\n",
      "[77]\ttrain-mlogloss:1.06674\teval-mlogloss:1.07113\n",
      "[78]\ttrain-mlogloss:1.06629\teval-mlogloss:1.07069\n",
      "[79]\ttrain-mlogloss:1.06586\teval-mlogloss:1.07027\n",
      "[80]\ttrain-mlogloss:1.06545\teval-mlogloss:1.06987\n",
      "[81]\ttrain-mlogloss:1.06507\teval-mlogloss:1.06949\n",
      "[82]\ttrain-mlogloss:1.06470\teval-mlogloss:1.06914\n",
      "[83]\ttrain-mlogloss:1.06435\teval-mlogloss:1.06880\n",
      "[84]\ttrain-mlogloss:1.06402\teval-mlogloss:1.06848\n",
      "[85]\ttrain-mlogloss:1.06370\teval-mlogloss:1.06817\n",
      "[86]\ttrain-mlogloss:1.06341\teval-mlogloss:1.06789\n",
      "[87]\ttrain-mlogloss:1.06312\teval-mlogloss:1.06762\n",
      "[88]\ttrain-mlogloss:1.06285\teval-mlogloss:1.06736\n",
      "[89]\ttrain-mlogloss:1.06260\teval-mlogloss:1.06711\n",
      "[90]\ttrain-mlogloss:1.06235\teval-mlogloss:1.06688\n",
      "[91]\ttrain-mlogloss:1.06212\teval-mlogloss:1.06666\n",
      "[92]\ttrain-mlogloss:1.06190\teval-mlogloss:1.06645\n",
      "[93]\ttrain-mlogloss:1.06169\teval-mlogloss:1.06626\n",
      "[94]\ttrain-mlogloss:1.06149\teval-mlogloss:1.06607\n",
      "[95]\ttrain-mlogloss:1.06131\teval-mlogloss:1.06589\n",
      "[96]\ttrain-mlogloss:1.06113\teval-mlogloss:1.06572\n",
      "[97]\ttrain-mlogloss:1.06095\teval-mlogloss:1.06556\n",
      "[98]\ttrain-mlogloss:1.06079\teval-mlogloss:1.06542\n",
      "[99]\ttrain-mlogloss:1.06064\teval-mlogloss:1.06527\n"
     ]
    }
   ],
   "source": [
    "dtrain = xgb.DMatrix(data=X_train, label = y_train)\n",
    "dtest = xgb.DMatrix(data=X_test, label=y_test)\n",
    "\n",
    "params = {\n",
    "    'objective': 'multi:softmax',  # 다중 클래스 분류 문제 설정\n",
    "    'num_class': 10,  # 클래스의 개수 설정\n",
    "    'max_depth': 9,  # 트리의 깊이 설정\n",
    "    'eta': 0.1,  # 학습률 설정\n",
    "    'eval_metric': 'mlogloss'  # 평가 메트릭 설정\n",
    "}\n",
    "\n",
    "num_rounds = 100  # 학습 라운드 수 설정\n",
    "wlist = [(dtrain, 'train'), (dtest,'eval')]\n",
    "\n",
    "xgb_model = xgb.train(params = params, dtrain=dtrain, num_boost_round=num_rounds, evals=wlist)"
   ]
  },
  {
   "cell_type": "code",
   "execution_count": 14,
   "id": "65366237",
   "metadata": {},
   "outputs": [
    {
     "name": "stdout",
     "output_type": "stream",
     "text": [
      "오차행렬:\n",
      " [[    0     7    10     0     0]\n",
      " [    0 15302 15542    15     0]\n",
      " [    0  9158 19323    30     4]\n",
      " [    0  1367  9112    34     3]\n",
      " [    0   309  2348    10     0]]\n",
      "\n",
      "정확도: 0.4776\n",
      "정밀도: 0.2769\n",
      "재현율: 0.2353\n",
      "F1: 0.2119\n"
     ]
    }
   ],
   "source": [
    "preds = xgb_model.predict(dtest)\n",
    "get_clf_eval(y_test, preds)"
   ]
  },
  {
   "cell_type": "code",
   "execution_count": 18,
   "id": "b8584ed1",
   "metadata": {},
   "outputs": [
    {
     "name": "stdout",
     "output_type": "stream",
     "text": [
      "정확도: 0.823\n"
     ]
    }
   ],
   "source": [
    "# model save\n",
    "\n",
    "joblib.dump(r_forest, 'HQ_sheet_metal_xgb_model.h5')\n",
    "\n",
    "loaded_model = joblib.load('HQ_sheet_metal_xgb_model.h5')\n",
    "\n",
    "score = loaded_model.score(X_dummy, y)\n",
    "print('정확도: {score:.3f}'.format(score=score)) "
   ]
  },
  {
   "cell_type": "code",
   "execution_count": 19,
   "id": "32eee2b2",
   "metadata": {},
   "outputs": [
    {
     "data": {
      "text/plain": [
       "<AxesSubplot:title={'center':'Feature importance'}, xlabel='F score', ylabel='Features'>"
      ]
     },
     "execution_count": 19,
     "metadata": {},
     "output_type": "execute_result"
    },
    {
     "data": {
      "image/png": "[encoded data removed]",
      "text/plain": [
       "<Figure size 1000x1200 with 1 Axes>"
      ]
     },
     "metadata": {},
     "output_type": "display_data"
    }
   ],
   "source": [
    "%matplotlib inline\n",
    "\n",
    "fig, ax = plt.subplots(figsize=(10, 12))\n",
    "plot_importance(xgb_model, ax=ax)"
   ]
  },
  {
   "cell_type": "markdown",
   "id": "7e697790",
   "metadata": {},
   "source": [
    "# Exchange"
   ]
  },
  {
   "cell_type": "code",
   "execution_count": 40,
   "id": "1e14b00f",
   "metadata": {},
   "outputs": [
    {
     "name": "stdout",
     "output_type": "stream",
     "text": [
      "347986 149137 347986 149137\n"
     ]
    }
   ],
   "source": [
    "X = exchange[[\"part\", \"damage\", \"supercategory_name\"]]\n",
    "y = exchange[[\"HQ\"]]\n",
    "\n",
    "X_dummy = pd.get_dummies(X)\n",
    "X_dummy.columns = ['Bonnet', 'Bumper', 'Door', 'Fender', 'Head lights', \n",
    "                   'Rear lamp', 'Rocker panel', 'Roof', 'Side mirror', \n",
    "                   'Trunk lid', 'Wheel', 'Breakage', 'Crushed', 'Scratched', \n",
    "                   'Separated', 'City car', 'Compact car','Full-size car', \n",
    "                   'Mid-size car','SUV', 'VAN']\n",
    "X_dummy.head()\n",
    "\n",
    "X_train, X_test, y_train, y_test = train_test_split(X_dummy, y, test_size=.3, random_state=42, stratify=y)\n",
    "print(len(X_train), len(X_test), len(y_train), len(y_test))"
   ]
  },
  {
   "cell_type": "markdown",
   "id": "93675081",
   "metadata": {},
   "source": [
    "### RandomForestClassifier"
   ]
  },
  {
   "cell_type": "code",
   "execution_count": 21,
   "id": "49dd6dc0",
   "metadata": {},
   "outputs": [
    {
     "name": "stdout",
     "output_type": "stream",
     "text": [
      "훈련용   : 0.8206680728535056\n",
      "테스트용 : 0.8206816551224713\n",
      "오차행렬:\n",
      " [[113121   2546   2813      0]\n",
      " [ 10530   4051   2433      0]\n",
      " [  6195   1376   5222      0]\n",
      " [    76      1    773      0]]\n",
      "\n",
      "정확도: 0.8207\n",
      "정밀도: 0.4608\n",
      "재현율: 0.4003\n",
      "F1: 0.4174\n"
     ]
    }
   ],
   "source": [
    "r_forest = RandomForestClassifier(max_depth=9).fit(X_train, y_train)\n",
    "\n",
    "print(\"훈련용   :\", r_forest.score(X_train, y_train))\n",
    "print(\"테스트용 :\", r_forest.score(X_test, y_test))\n",
    "\n",
    "preds = r_forest.predict(X_test)\n",
    "get_clf_eval(y_test, preds)"
   ]
  },
  {
   "cell_type": "code",
   "execution_count": null,
   "id": "65c05df2",
   "metadata": {},
   "outputs": [],
   "source": [
    "# model save\n",
    "\n",
    "joblib.dump(r_forest, 'HQ_exchange_r_forest.h5')\n",
    "\n",
    "loaded_model = joblib.load('HQ_exchange_r_forest.h5')\n",
    "\n",
    "score = loaded_model.score(X_dummy, y)\n",
    "print('정확도: {score:.3f}'.format(score=score)) "
   ]
  },
  {
   "cell_type": "markdown",
   "id": "d55d2796",
   "metadata": {},
   "source": [
    "### XGBoost"
   ]
  },
  {
   "cell_type": "code",
   "execution_count": 22,
   "id": "425d8291",
   "metadata": {},
   "outputs": [
    {
     "name": "stdout",
     "output_type": "stream",
     "text": [
      "[0]\ttrain-mlogloss:1.93107\teval-mlogloss:1.93110\n",
      "[1]\ttrain-mlogloss:1.69487\teval-mlogloss:1.69494\n",
      "[2]\ttrain-mlogloss:1.51843\teval-mlogloss:1.51852\n",
      "[3]\ttrain-mlogloss:1.37775\teval-mlogloss:1.37788\n",
      "[4]\ttrain-mlogloss:1.26148\teval-mlogloss:1.26162\n",
      "[5]\ttrain-mlogloss:1.16313\teval-mlogloss:1.16329\n",
      "[6]\ttrain-mlogloss:1.07864\teval-mlogloss:1.07881\n",
      "[7]\ttrain-mlogloss:1.00520\teval-mlogloss:1.00539\n",
      "[8]\ttrain-mlogloss:0.94083\teval-mlogloss:0.94102\n",
      "[9]\ttrain-mlogloss:0.88403\teval-mlogloss:0.88423\n",
      "[10]\ttrain-mlogloss:0.83365\teval-mlogloss:0.83386\n",
      "[11]\ttrain-mlogloss:0.78877\teval-mlogloss:0.78899\n",
      "[12]\ttrain-mlogloss:0.74865\teval-mlogloss:0.74888\n",
      "[13]\ttrain-mlogloss:0.71269\teval-mlogloss:0.71293\n",
      "[14]\ttrain-mlogloss:0.68038\teval-mlogloss:0.68062\n",
      "[15]\ttrain-mlogloss:0.65128\teval-mlogloss:0.65153\n",
      "[16]\ttrain-mlogloss:0.62504\teval-mlogloss:0.62529\n",
      "[17]\ttrain-mlogloss:0.60132\teval-mlogloss:0.60157\n",
      "[18]\ttrain-mlogloss:0.57987\teval-mlogloss:0.58012\n",
      "[19]\ttrain-mlogloss:0.56043\teval-mlogloss:0.56069\n",
      "[20]\ttrain-mlogloss:0.54280\teval-mlogloss:0.54306\n",
      "[21]\ttrain-mlogloss:0.52679\teval-mlogloss:0.52706\n",
      "[22]\ttrain-mlogloss:0.51225\teval-mlogloss:0.51251\n",
      "[23]\ttrain-mlogloss:0.49901\teval-mlogloss:0.49928\n",
      "[24]\ttrain-mlogloss:0.48697\teval-mlogloss:0.48724\n",
      "[25]\ttrain-mlogloss:0.47599\teval-mlogloss:0.47626\n",
      "[26]\ttrain-mlogloss:0.46598\teval-mlogloss:0.46625\n",
      "[27]\ttrain-mlogloss:0.45684\teval-mlogloss:0.45712\n",
      "[28]\ttrain-mlogloss:0.44850\teval-mlogloss:0.44878\n",
      "[29]\ttrain-mlogloss:0.44087\teval-mlogloss:0.44115\n",
      "[30]\ttrain-mlogloss:0.43391\teval-mlogloss:0.43419\n",
      "[31]\ttrain-mlogloss:0.42753\teval-mlogloss:0.42781\n",
      "[32]\ttrain-mlogloss:0.42169\teval-mlogloss:0.42197\n",
      "[33]\ttrain-mlogloss:0.41633\teval-mlogloss:0.41660\n",
      "[34]\ttrain-mlogloss:0.41141\teval-mlogloss:0.41168\n",
      "[35]\ttrain-mlogloss:0.40690\teval-mlogloss:0.40717\n",
      "[36]\ttrain-mlogloss:0.40275\teval-mlogloss:0.40302\n",
      "[37]\ttrain-mlogloss:0.39893\teval-mlogloss:0.39921\n",
      "[38]\ttrain-mlogloss:0.39543\teval-mlogloss:0.39570\n",
      "[39]\ttrain-mlogloss:0.39220\teval-mlogloss:0.39247\n",
      "[40]\ttrain-mlogloss:0.38923\teval-mlogloss:0.38950\n",
      "[41]\ttrain-mlogloss:0.38648\teval-mlogloss:0.38676\n",
      "[42]\ttrain-mlogloss:0.38396\teval-mlogloss:0.38424\n",
      "[43]\ttrain-mlogloss:0.38162\teval-mlogloss:0.38190\n",
      "[44]\ttrain-mlogloss:0.37946\teval-mlogloss:0.37975\n",
      "[45]\ttrain-mlogloss:0.37747\teval-mlogloss:0.37776\n",
      "[46]\ttrain-mlogloss:0.37562\teval-mlogloss:0.37591\n",
      "[47]\ttrain-mlogloss:0.37392\teval-mlogloss:0.37421\n",
      "[48]\ttrain-mlogloss:0.37233\teval-mlogloss:0.37263\n",
      "[49]\ttrain-mlogloss:0.37086\teval-mlogloss:0.37116\n",
      "[50]\ttrain-mlogloss:0.36950\teval-mlogloss:0.36980\n",
      "[51]\ttrain-mlogloss:0.36823\teval-mlogloss:0.36854\n",
      "[52]\ttrain-mlogloss:0.36706\teval-mlogloss:0.36736\n",
      "[53]\ttrain-mlogloss:0.36596\teval-mlogloss:0.36627\n",
      "[54]\ttrain-mlogloss:0.36495\teval-mlogloss:0.36526\n",
      "[55]\ttrain-mlogloss:0.36401\teval-mlogloss:0.36432\n",
      "[56]\ttrain-mlogloss:0.36313\teval-mlogloss:0.36344\n",
      "[57]\ttrain-mlogloss:0.36231\teval-mlogloss:0.36262\n",
      "[58]\ttrain-mlogloss:0.36154\teval-mlogloss:0.36186\n",
      "[59]\ttrain-mlogloss:0.36082\teval-mlogloss:0.36114\n",
      "[60]\ttrain-mlogloss:0.36016\teval-mlogloss:0.36048\n",
      "[61]\ttrain-mlogloss:0.35953\teval-mlogloss:0.35985\n",
      "[62]\ttrain-mlogloss:0.35894\teval-mlogloss:0.35927\n",
      "[63]\ttrain-mlogloss:0.35840\teval-mlogloss:0.35872\n",
      "[64]\ttrain-mlogloss:0.35788\teval-mlogloss:0.35821\n",
      "[65]\ttrain-mlogloss:0.35740\teval-mlogloss:0.35773\n",
      "[66]\ttrain-mlogloss:0.35695\teval-mlogloss:0.35729\n",
      "[67]\ttrain-mlogloss:0.35653\teval-mlogloss:0.35686\n",
      "[68]\ttrain-mlogloss:0.35613\teval-mlogloss:0.35647\n",
      "[69]\ttrain-mlogloss:0.35576\teval-mlogloss:0.35610\n",
      "[70]\ttrain-mlogloss:0.35541\teval-mlogloss:0.35575\n",
      "[71]\ttrain-mlogloss:0.35508\teval-mlogloss:0.35543\n",
      "[72]\ttrain-mlogloss:0.35477\teval-mlogloss:0.35512\n",
      "[73]\ttrain-mlogloss:0.35448\teval-mlogloss:0.35483\n",
      "[74]\ttrain-mlogloss:0.35421\teval-mlogloss:0.35456\n",
      "[75]\ttrain-mlogloss:0.35395\teval-mlogloss:0.35430\n",
      "[76]\ttrain-mlogloss:0.35370\teval-mlogloss:0.35406\n",
      "[77]\ttrain-mlogloss:0.35347\teval-mlogloss:0.35383\n",
      "[78]\ttrain-mlogloss:0.35326\teval-mlogloss:0.35362\n",
      "[79]\ttrain-mlogloss:0.35305\teval-mlogloss:0.35342\n",
      "[80]\ttrain-mlogloss:0.35286\teval-mlogloss:0.35323\n",
      "[81]\ttrain-mlogloss:0.35268\teval-mlogloss:0.35305\n",
      "[82]\ttrain-mlogloss:0.35251\teval-mlogloss:0.35288\n",
      "[83]\ttrain-mlogloss:0.35234\teval-mlogloss:0.35272\n",
      "[84]\ttrain-mlogloss:0.35219\teval-mlogloss:0.35256\n",
      "[85]\ttrain-mlogloss:0.35204\teval-mlogloss:0.35242\n",
      "[86]\ttrain-mlogloss:0.35191\teval-mlogloss:0.35229\n",
      "[87]\ttrain-mlogloss:0.35178\teval-mlogloss:0.35216\n",
      "[88]\ttrain-mlogloss:0.35165\teval-mlogloss:0.35204\n",
      "[89]\ttrain-mlogloss:0.35154\teval-mlogloss:0.35192\n",
      "[90]\ttrain-mlogloss:0.35143\teval-mlogloss:0.35182\n",
      "[91]\ttrain-mlogloss:0.35132\teval-mlogloss:0.35171\n",
      "[92]\ttrain-mlogloss:0.35122\teval-mlogloss:0.35162\n",
      "[93]\ttrain-mlogloss:0.35113\teval-mlogloss:0.35152\n",
      "[94]\ttrain-mlogloss:0.35104\teval-mlogloss:0.35144\n",
      "[95]\ttrain-mlogloss:0.35096\teval-mlogloss:0.35136\n",
      "[96]\ttrain-mlogloss:0.35088\teval-mlogloss:0.35128\n",
      "[97]\ttrain-mlogloss:0.35080\teval-mlogloss:0.35120\n",
      "[98]\ttrain-mlogloss:0.35073\teval-mlogloss:0.35113\n",
      "[99]\ttrain-mlogloss:0.35066\teval-mlogloss:0.35107\n"
     ]
    }
   ],
   "source": [
    "dtrain = xgb.DMatrix(data=X_train, label = y_train)\n",
    "dtest = xgb.DMatrix(data=X_test, label=y_test)\n",
    "\n",
    "params = {\n",
    "    'objective': 'multi:softmax',  # 다중 클래스 분류 문제 설정\n",
    "    'num_class': 10,  # 클래스의 개수 설정\n",
    "    'max_depth': 9,  # 트리의 깊이 설정\n",
    "    'eta': 0.1,  # 학습률 설정\n",
    "    'eval_metric': 'mlogloss'  # 평가 메트릭 설정\n",
    "}\n",
    "\n",
    "num_rounds = 100  # 학습 라운드 수 설정\n",
    "wlist = [(dtrain, 'train'), (dtest,'eval')]\n",
    "\n",
    "xgb_model = xgb.train(params = params, dtrain=dtrain, num_boost_round=num_rounds, evals=wlist)"
   ]
  },
  {
   "cell_type": "code",
   "execution_count": 23,
   "id": "bab3c3f8",
   "metadata": {},
   "outputs": [
    {
     "name": "stdout",
     "output_type": "stream",
     "text": [
      "오차행렬:\n",
      " [[110833   3820   3810     17]\n",
      " [  8184   5477   3326     27]\n",
      " [  5030   1330   6406     27]\n",
      " [     8      1    773     68]]\n",
      "\n",
      "정확도: 0.8233\n",
      "정밀도: 0.5864\n",
      "재현율: 0.4595\n",
      "F1: 0.4801\n"
     ]
    }
   ],
   "source": [
    "preds = xgb_model.predict(dtest)\n",
    "get_clf_eval(y_test, preds)"
   ]
  },
  {
   "cell_type": "code",
   "execution_count": null,
   "id": "be8a2dd9",
   "metadata": {},
   "outputs": [],
   "source": [
    "# model save\n",
    "\n",
    "joblib.dump(r_forest, 'HQ_exchange_xgb_model.h5')\n",
    "\n",
    "loaded_model = joblib.load('HQ_exchange_xgb_model.h5')\n",
    "\n",
    "score = loaded_model.score(X_dummy, y)\n",
    "print('정확도: {score:.3f}'.format(score=score)) "
   ]
  },
  {
   "cell_type": "code",
   "execution_count": null,
   "id": "cb456251",
   "metadata": {},
   "outputs": [],
   "source": [
    "%matplotlib inline\n",
    "\n",
    "fig, ax = plt.subplots(figsize=(10, 12))\n",
    "plot_importance(xgb_model, ax=ax)"
   ]
  }
 ],
 "metadata": {
  "kernelspec": {
   "display_name": "Python 3 (ipykernel)",
   "language": "python",
   "name": "python3"
  },
  "language_info": {
   "codemirror_mode": {
    "name": "ipython",
    "version": 3
   },
   "file_extension": ".py",
   "mimetype": "text/x-python",
   "name": "python",
   "nbconvert_exporter": "python",
   "pygments_lexer": "ipython3",
   "version": "3.9.13"
  }
 },
 "nbformat": 4,
 "nbformat_minor": 5
}
